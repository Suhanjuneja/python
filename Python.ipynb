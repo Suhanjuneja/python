{
  "cells": [
    {
      "cell_type": "markdown",
      "metadata": {
        "id": "view-in-github",
        "colab_type": "text"
      },
      "source": [
        "<a href=\"https://colab.research.google.com/github/Suhanjuneja/python/blob/main/Python.ipynb\" target=\"_parent\"><img src=\"https://colab.research.google.com/assets/colab-badge.svg\" alt=\"Open In Colab\"/></a>"
      ]
    },
    {
      "cell_type": "markdown",
      "metadata": {
        "id": "j-sBblfEgbMX"
      },
      "source": [
        "<!DOCTYPE html>\n",
        "\n",
        "> Add blockquote\n",
        "\n",
        "\n",
        "<html>\n",
        "<body>\n",
        "<div align=\"center\">\n",
        "<h2>Prepared by Suhan juneja</h2>\n",
        "    \n",
        "<h1>Python Tutorial</h1>\n",
        "</div>\n",
        "</body>\n",
        "</html>"
      ]
    },
    {
      "cell_type": "code",
      "execution_count": 8,
      "metadata": {
        "id": "PgS6iPlMgbMb"
      },
      "outputs": [],
      "source": [
        "import sys\n",
        "import keyword\n",
        "import operator\n",
        "from datetime import datetime\n",
        "import os"
      ]
    },
    {
      "cell_type": "markdown",
      "metadata": {
        "id": "lFkF8Ml6gbMf"
      },
      "source": [
        "## Keywords"
      ]
    },
    {
      "cell_type": "markdown",
      "metadata": {
        "id": "JoXLe1MBgbMg"
      },
      "source": [
        "Keywords are the reserved words in Python and can't be used as an identifier"
      ]
    },
    {
      "cell_type": "code",
      "execution_count": 9,
      "metadata": {
        "colab": {
          "base_uri": "https://localhost:8080/"
        },
        "id": "QQBVEOm2gbMi",
        "outputId": "10779e69-149a-4b70-f33b-d4043c258b29"
      },
      "outputs": [
        {
          "output_type": "stream",
          "name": "stdout",
          "text": [
            "['False', 'None', 'True', 'and', 'as', 'assert', 'async', 'await', 'break', 'class', 'continue', 'def', 'del', 'elif', 'else', 'except', 'finally', 'for', 'from', 'global', 'if', 'import', 'in', 'is', 'lambda', 'nonlocal', 'not', 'or', 'pass', 'raise', 'return', 'try', 'while', 'with', 'yield']\n"
          ]
        }
      ],
      "source": [
        "print(keyword.kwlist) # List all Python Keywords"
      ]
    },
    {
      "cell_type": "code",
      "execution_count": 10,
      "metadata": {
        "colab": {
          "base_uri": "https://localhost:8080/"
        },
        "id": "PNxU-2W-gbMk",
        "outputId": "87ea8786-4881-47b6-9043-bf235a09618a"
      },
      "outputs": [
        {
          "output_type": "execute_result",
          "data": {
            "text/plain": [
              "35"
            ]
          },
          "metadata": {},
          "execution_count": 10
        }
      ],
      "source": [
        "len(keyword.kwlist) # Python contains 35 keywords"
      ]
    },
    {
      "cell_type": "markdown",
      "metadata": {
        "id": "-l968nBHgbMl"
      },
      "source": [
        "## Identifiers"
      ]
    },
    {
      "cell_type": "markdown",
      "metadata": {
        "id": "N1ct1jlzgbMn"
      },
      "source": [
        "An identifier is a name given to entities like class, functions, variables, etc. It helps to differentiate one entity from another."
      ]
    },
    {
      "cell_type": "code",
      "execution_count": 11,
      "metadata": {
        "id": "jaFKuJibgbMo",
        "outputId": "0b6e198b-5f3c-4198-c735-f568c25a7031",
        "colab": {
          "base_uri": "https://localhost:8080/",
          "height": 110
        }
      },
      "outputs": [
        {
          "output_type": "error",
          "ename": "SyntaxError",
          "evalue": "invalid decimal literal (<ipython-input-11-e48c1c8cefcf>, line 1)",
          "traceback": [
            "\u001b[0;36m  File \u001b[0;32m\"<ipython-input-11-e48c1c8cefcf>\"\u001b[0;36m, line \u001b[0;32m1\u001b[0m\n\u001b[0;31m    1var = 10 # Identifier can't start with a digit\u001b[0m\n\u001b[0m    ^\u001b[0m\n\u001b[0;31mSyntaxError\u001b[0m\u001b[0;31m:\u001b[0m invalid decimal literal\n"
          ]
        }
      ],
      "source": [
        "1var = 10 # Identifier can't start with a digit"
      ]
    },
    {
      "cell_type": "code",
      "execution_count": 12,
      "metadata": {
        "id": "9MUnhPp7gbMq",
        "outputId": "1268745a-4ed2-4460-aaa8-78f92f4a549e",
        "colab": {
          "base_uri": "https://localhost:8080/",
          "height": 110
        }
      },
      "outputs": [
        {
          "output_type": "error",
          "ename": "SyntaxError",
          "evalue": "invalid syntax (<ipython-input-12-7251d6d88b33>, line 1)",
          "traceback": [
            "\u001b[0;36m  File \u001b[0;32m\"<ipython-input-12-7251d6d88b33>\"\u001b[0;36m, line \u001b[0;32m1\u001b[0m\n\u001b[0;31m    val2@ = 35 # Identifier can't use special symbols\u001b[0m\n\u001b[0m          ^\u001b[0m\n\u001b[0;31mSyntaxError\u001b[0m\u001b[0;31m:\u001b[0m invalid syntax\n"
          ]
        }
      ],
      "source": [
        "val2@ = 35 # Identifier can't use special symbols"
      ]
    },
    {
      "cell_type": "code",
      "execution_count": 13,
      "metadata": {
        "id": "zuuDvFlZgbMs",
        "outputId": "f61e9268-7490-4c76-bf40-b3224cecb9fa",
        "colab": {
          "base_uri": "https://localhost:8080/",
          "height": 110
        }
      },
      "outputs": [
        {
          "output_type": "error",
          "ename": "SyntaxError",
          "evalue": "invalid syntax (<ipython-input-13-f7061d4fc9ba>, line 1)",
          "traceback": [
            "\u001b[0;36m  File \u001b[0;32m\"<ipython-input-13-f7061d4fc9ba>\"\u001b[0;36m, line \u001b[0;32m1\u001b[0m\n\u001b[0;31m    import = 125 # Keywords can't be used as identifiers\u001b[0m\n\u001b[0m           ^\u001b[0m\n\u001b[0;31mSyntaxError\u001b[0m\u001b[0;31m:\u001b[0m invalid syntax\n"
          ]
        }
      ],
      "source": [
        "import = 125 # Keywords can't be used as identifiers"
      ]
    },
    {
      "cell_type": "code",
      "execution_count": 14,
      "metadata": {
        "id": "uGeQDjVygbMt"
      },
      "outputs": [],
      "source": [
        "\"\"\"\n",
        "Correct way of defining an identifier\n",
        "(Identifiers can be a combination of letters in lowercase (a to z) or uppercase (A to Z) or digits (0 to 9) or an underscore)\n",
        "\"\"\"\n",
        "\n",
        "val2 = 10"
      ]
    },
    {
      "cell_type": "code",
      "execution_count": 15,
      "metadata": {
        "id": "AILWLEoRgbMu"
      },
      "outputs": [],
      "source": [
        "val_ = 99"
      ]
    },
    {
      "cell_type": "markdown",
      "metadata": {
        "id": "hRAaZFtjgbMv"
      },
      "source": [
        "# Comments in Python"
      ]
    },
    {
      "cell_type": "markdown",
      "metadata": {
        "id": "Tzbug5CfgbMv"
      },
      "source": [
        "Comments can be used to explain the code for more readabilty."
      ]
    },
    {
      "cell_type": "code",
      "execution_count": 16,
      "metadata": {
        "id": "BQBBTeOzgbMw"
      },
      "outputs": [],
      "source": [
        "# Single line comment\n",
        "val1  = 11"
      ]
    },
    {
      "cell_type": "code",
      "execution_count": 17,
      "metadata": {
        "id": "49bpOA7hgbMx"
      },
      "outputs": [],
      "source": [
        "# Multiple\n",
        "# line\n",
        "# comment\n",
        "val1  = 10"
      ]
    },
    {
      "cell_type": "code",
      "execution_count": 18,
      "metadata": {
        "id": "LW61yJghgbMx"
      },
      "outputs": [],
      "source": [
        "'''\n",
        "Multiple\n",
        "line\n",
        "comment\n",
        "'''\n",
        "val1  = 10"
      ]
    },
    {
      "cell_type": "code",
      "execution_count": 19,
      "metadata": {
        "id": "cdwP1EoqgbMy"
      },
      "outputs": [],
      "source": [
        "\"\"\"\n",
        "Multiple\n",
        "line\n",
        "comment\n",
        "\"\"\"\n",
        "val1  = 10"
      ]
    },
    {
      "cell_type": "markdown",
      "metadata": {
        "id": "aZADNhuSgbMz"
      },
      "source": [
        "## Statements"
      ]
    },
    {
      "cell_type": "markdown",
      "metadata": {
        "id": "a-I_8QffgbMz"
      },
      "source": [
        "Instructions that a Python interpreter can execute."
      ]
    },
    {
      "cell_type": "code",
      "execution_count": 20,
      "metadata": {
        "id": "Be13BsxNgbM0",
        "outputId": "96bbb60c-6252-493e-8cb8-03b2cc9dfa4a",
        "colab": {
          "base_uri": "https://localhost:8080/"
        }
      },
      "outputs": [
        {
          "output_type": "execute_result",
          "data": {
            "text/plain": [
              "30"
            ]
          },
          "metadata": {},
          "execution_count": 20
        }
      ],
      "source": [
        "# Single line statement\n",
        "p1 = 10 + 20\n",
        "p1"
      ]
    },
    {
      "cell_type": "code",
      "execution_count": 21,
      "metadata": {
        "id": "gzkUqJ4UgbM1",
        "outputId": "bdf58ba0-2485-4e90-bc1e-948760b46dc7",
        "colab": {
          "base_uri": "https://localhost:8080/"
        }
      },
      "outputs": [
        {
          "output_type": "execute_result",
          "data": {
            "text/plain": [
              "['a', 'b', 'c', 'd']"
            ]
          },
          "metadata": {},
          "execution_count": 21
        }
      ],
      "source": [
        "# Single line statement\n",
        "p2 = ['a' , 'b' , 'c' , 'd']\n",
        "p2"
      ]
    },
    {
      "cell_type": "code",
      "execution_count": 22,
      "metadata": {
        "id": "J8_XVVipgbM1",
        "outputId": "f9562d17-7d7e-4242-c3b3-b32688798e0c",
        "colab": {
          "base_uri": "https://localhost:8080/"
        }
      },
      "outputs": [
        {
          "output_type": "execute_result",
          "data": {
            "text/plain": [
              "290"
            ]
          },
          "metadata": {},
          "execution_count": 22
        }
      ],
      "source": [
        "# Multiple line statement\n",
        "p1 = 20 + 30 \\\n",
        "     + 40 + 50 +\\\n",
        "     + 70 + 80\n",
        "p1"
      ]
    },
    {
      "cell_type": "code",
      "execution_count": 23,
      "metadata": {
        "id": "B3j8MngOgbM2",
        "outputId": "c9b1c4f0-94b4-4d7b-ffcf-96bbfe95a0c8",
        "colab": {
          "base_uri": "https://localhost:8080/"
        }
      },
      "outputs": [
        {
          "output_type": "execute_result",
          "data": {
            "text/plain": [
              "['a', 'b', 'c', 'd']"
            ]
          },
          "metadata": {},
          "execution_count": 23
        }
      ],
      "source": [
        "# Multiple line statement\n",
        "p2 = ['a' ,\n",
        "      'b' ,\n",
        "      'c' ,\n",
        "      'd'\n",
        "     ]\n",
        "p2"
      ]
    },
    {
      "cell_type": "markdown",
      "metadata": {
        "id": "22zFWGSegbM3"
      },
      "source": [
        "## Indentation"
      ]
    },
    {
      "cell_type": "markdown",
      "metadata": {
        "id": "CRN0VvnNgbM3"
      },
      "source": [
        "Indentation refers to the spaces at the beginning of a code line. It is very important as Python uses indentation to indicate a block of code.If the indentation is not correct we will endup with <b>IndentationError</b> error."
      ]
    },
    {
      "cell_type": "code",
      "execution_count": 24,
      "metadata": {
        "id": "VxDPA-IpgbM4",
        "outputId": "bc01310e-71ad-42fc-8326-d0fc23442bdf",
        "colab": {
          "base_uri": "https://localhost:8080/"
        }
      },
      "outputs": [
        {
          "output_type": "stream",
          "name": "stdout",
          "text": [
            "P is equal to 10\n"
          ]
        }
      ],
      "source": [
        "p = 10\n",
        "if p == 10:\n",
        "    print ('P is equal to 10') # correct indentation"
      ]
    },
    {
      "cell_type": "code",
      "execution_count": 27,
      "metadata": {
        "id": "JsR8VUphgbM4",
        "outputId": "7ca53b4b-db90-47d3-d98b-f02711b672dd",
        "colab": {
          "base_uri": "https://localhost:8080/",
          "height": 110
        }
      },
      "outputs": [
        {
          "output_type": "error",
          "ename": "IndentationError",
          "evalue": "expected an indented block after 'if' statement on line 3 (<ipython-input-27-46f06de8bc08>, line 4)",
          "traceback": [
            "\u001b[0;36m  File \u001b[0;32m\"<ipython-input-27-46f06de8bc08>\"\u001b[0;36m, line \u001b[0;32m4\u001b[0m\n\u001b[0;31m    print ('P is equal to 10')\u001b[0m\n\u001b[0m    ^\u001b[0m\n\u001b[0;31mIndentationError\u001b[0m\u001b[0;31m:\u001b[0m expected an indented block after 'if' statement on line 3\n"
          ]
        }
      ],
      "source": [
        "# if indentation is skipped we will encounter \"IndentationError: expected an indented block\"\n",
        "p = 10\n",
        "if p == 10:\n",
        "print ('P is equal to 10')"
      ]
    },
    {
      "cell_type": "code",
      "execution_count": 28,
      "metadata": {
        "id": "V3Qz-WccgbM5",
        "outputId": "7f137e54-488b-4578-f084-88a980dff2ef",
        "colab": {
          "base_uri": "https://localhost:8080/"
        }
      },
      "outputs": [
        {
          "output_type": "stream",
          "name": "stdout",
          "text": [
            "0\n",
            "1\n",
            "2\n",
            "3\n",
            "4\n"
          ]
        }
      ],
      "source": [
        "for i in range(0,5):\n",
        "    print(i)               # correct indentation"
      ]
    },
    {
      "cell_type": "code",
      "execution_count": 31,
      "metadata": {
        "id": "wYEkXbh9gbM6",
        "outputId": "1c2dae6d-a820-448b-ff0a-dd492e22c2d6",
        "colab": {
          "base_uri": "https://localhost:8080/",
          "height": 110
        }
      },
      "outputs": [
        {
          "output_type": "error",
          "ename": "IndentationError",
          "evalue": "expected an indented block after 'for' statement on line 2 (<ipython-input-31-ccea5fe20089>, line 3)",
          "traceback": [
            "\u001b[0;36m  File \u001b[0;32m\"<ipython-input-31-ccea5fe20089>\"\u001b[0;36m, line \u001b[0;32m3\u001b[0m\n\u001b[0;31m    print(i)\u001b[0m\n\u001b[0m    ^\u001b[0m\n\u001b[0;31mIndentationError\u001b[0m\u001b[0;31m:\u001b[0m expected an indented block after 'for' statement on line 2\n"
          ]
        }
      ],
      "source": [
        "# if indentation is skipped we will encounter \"IndentationError: expected an indented block\"\n",
        "for i in range(0,5):\n",
        "print(i)"
      ]
    },
    {
      "cell_type": "code",
      "execution_count": 32,
      "metadata": {
        "id": "AY5bXAfwgbM6",
        "outputId": "19ca21f1-8893-4e6a-ccdc-c26683e58254",
        "colab": {
          "base_uri": "https://localhost:8080/"
        }
      },
      "outputs": [
        {
          "output_type": "stream",
          "name": "stdout",
          "text": [
            "0\n",
            "1\n",
            "2\n",
            "3\n",
            "4\n"
          ]
        }
      ],
      "source": [
        "for i in range(0,5): print(i)  # correct indentation but less readable"
      ]
    },
    {
      "cell_type": "code",
      "execution_count": 33,
      "metadata": {
        "id": "77TRmDHqgbM7",
        "outputId": "b712dfcd-94ef-4faf-e758-a903751d824d",
        "colab": {
          "base_uri": "https://localhost:8080/"
        }
      },
      "outputs": [
        {
          "output_type": "stream",
          "name": "stdout",
          "text": [
            "0\n",
            "1\n",
            "2\n",
            "3\n",
            "4\n",
            "20\n"
          ]
        }
      ],
      "source": [
        "j=20\n",
        "for i in range(0,5):\n",
        "    print(i) # inside the for loop\n",
        "print(j) # outside the for loop"
      ]
    },
    {
      "cell_type": "markdown",
      "metadata": {
        "id": "wFKFBXcLgbM7"
      },
      "source": [
        "## Docstrings"
      ]
    },
    {
      "cell_type": "markdown",
      "metadata": {
        "id": "p0IDBnbkgbM8"
      },
      "source": [
        "1) Docstrings provide a convenient way of associating documentation with functions, classes, methods or modules.\n",
        "\n",
        "2) They appear right after the definition of a function, method, class, or module."
      ]
    },
    {
      "cell_type": "code",
      "execution_count": 34,
      "metadata": {
        "id": "DSL13ugVgbM8"
      },
      "outputs": [],
      "source": [
        "def square(num):\n",
        "    '''Square Function :- This function will return the square of a number'''\n",
        "    return num**2"
      ]
    },
    {
      "cell_type": "code",
      "execution_count": null,
      "metadata": {
        "id": "KQsWPn4kgbM8",
        "outputId": "9fe6b8e5-1929-4ace-ae6d-f9cf909169c1"
      },
      "outputs": [
        {
          "data": {
            "text/plain": [
              "4"
            ]
          },
          "execution_count": 51,
          "metadata": {},
          "output_type": "execute_result"
        }
      ],
      "source": [
        "square(2)"
      ]
    },
    {
      "cell_type": "code",
      "execution_count": 35,
      "metadata": {
        "id": "549tq5EWgbM9",
        "outputId": "e1ff4aea-7276-4362-b680-008ce5b61e42",
        "colab": {
          "base_uri": "https://localhost:8080/",
          "height": 36
        }
      },
      "outputs": [
        {
          "output_type": "execute_result",
          "data": {
            "text/plain": [
              "'Square Function :- This function will return the square of a number'"
            ],
            "application/vnd.google.colaboratory.intrinsic+json": {
              "type": "string"
            }
          },
          "metadata": {},
          "execution_count": 35
        }
      ],
      "source": [
        "square.__doc__  # We can access the Docstring using __doc__ method"
      ]
    },
    {
      "cell_type": "code",
      "execution_count": 37,
      "metadata": {
        "id": "3wEeWBm5gbM-"
      },
      "outputs": [],
      "source": [
        "def evenodd(num):\n",
        "    '''evenodd Function :- This function will test whether a numbr is Even or Odd'''\n",
        "    if num % 2 == 0:\n",
        "        print(\"Even Number\")\n",
        "    else:\n",
        "        print(\"Odd Number\")"
      ]
    },
    {
      "cell_type": "code",
      "execution_count": 38,
      "metadata": {
        "id": "4trq9s_3gbNI",
        "outputId": "c32a4ba7-80b7-4673-ae72-34da0b1399a6",
        "colab": {
          "base_uri": "https://localhost:8080/"
        }
      },
      "outputs": [
        {
          "output_type": "stream",
          "name": "stdout",
          "text": [
            "Odd Number\n"
          ]
        }
      ],
      "source": [
        "evenodd(3)"
      ]
    },
    {
      "cell_type": "code",
      "execution_count": 39,
      "metadata": {
        "id": "GpfJSerrgbNJ",
        "outputId": "f9f1a0e6-b569-49df-a325-03be176bd2b7",
        "colab": {
          "base_uri": "https://localhost:8080/"
        }
      },
      "outputs": [
        {
          "output_type": "stream",
          "name": "stdout",
          "text": [
            "Even Number\n"
          ]
        }
      ],
      "source": [
        "evenodd(2)"
      ]
    },
    {
      "cell_type": "code",
      "execution_count": 40,
      "metadata": {
        "id": "keUqStBpgbNK",
        "outputId": "82af4cd4-b34c-4cf5-b8c5-faccdbecdb5e",
        "colab": {
          "base_uri": "https://localhost:8080/",
          "height": 36
        }
      },
      "outputs": [
        {
          "output_type": "execute_result",
          "data": {
            "text/plain": [
              "'evenodd Function :- This function will test whether a numbr is Even or Odd'"
            ],
            "application/vnd.google.colaboratory.intrinsic+json": {
              "type": "string"
            }
          },
          "metadata": {},
          "execution_count": 40
        }
      ],
      "source": [
        "evenodd.__doc__"
      ]
    },
    {
      "cell_type": "code",
      "source": [
        "evenodd(0)"
      ],
      "metadata": {
        "colab": {
          "base_uri": "https://localhost:8080/"
        },
        "id": "J7wMHocNl8ed",
        "outputId": "b29d1a01-3690-4b13-da24-fc879dd4100d"
      },
      "execution_count": 42,
      "outputs": [
        {
          "output_type": "stream",
          "name": "stdout",
          "text": [
            "Even Number\n"
          ]
        }
      ]
    },
    {
      "cell_type": "markdown",
      "metadata": {
        "id": "Tjb7Hh6RgbNK"
      },
      "source": [
        "## Variables"
      ]
    },
    {
      "cell_type": "markdown",
      "metadata": {
        "id": "Pj0O0AnHgbNL"
      },
      "source": [
        "A Python variable is a reserved memory location to store values.A variable is created the moment you first assign a value to it."
      ]
    },
    {
      "cell_type": "code",
      "execution_count": null,
      "metadata": {
        "id": "V6243BZ9gbNL"
      },
      "outputs": [],
      "source": [
        "p = 30"
      ]
    },
    {
      "cell_type": "code",
      "execution_count": null,
      "metadata": {
        "id": "sdGEy4ucgbNL",
        "outputId": "a4981cc1-e12f-46b0-d2d4-92944cdc7da2"
      },
      "outputs": [
        {
          "data": {
            "text/plain": [
              "140735029552432"
            ]
          },
          "execution_count": 76,
          "metadata": {},
          "output_type": "execute_result"
        }
      ],
      "source": [
        "'''\n",
        "id() function returns the “identity” of the object.\n",
        "The identity of an object - Is an integer\n",
        "                          - Guaranteed to be unique\n",
        "                          - Constant for this object during its lifetime.\n",
        "'''\n",
        "id(p)"
      ]
    },
    {
      "cell_type": "code",
      "execution_count": null,
      "metadata": {
        "id": "Ww20WL-pgbNM",
        "outputId": "fcdb1f19-3c85-4643-9d3d-c4dce0608702"
      },
      "outputs": [
        {
          "data": {
            "text/plain": [
              "'0x7fff6d71a530'"
            ]
          },
          "execution_count": 77,
          "metadata": {},
          "output_type": "execute_result"
        }
      ],
      "source": [
        "hex(id(p)) # Memory address of the variable"
      ]
    },
    {
      "cell_type": "code",
      "execution_count": null,
      "metadata": {
        "id": "O4av6JOJgbNN",
        "outputId": "3e29064e-8579-4d3a-d86c-7077ef308283"
      },
      "outputs": [
        {
          "data": {
            "text/plain": [
              "(20, int, '0x7fff6d71a3f0')"
            ]
          },
          "execution_count": 94,
          "metadata": {},
          "output_type": "execute_result"
        }
      ],
      "source": [
        "p = 20  #Creates an integer object with value 20 and assigns the variable p to point to that object.\n",
        "q = 20  # Create new reference q which will point to value 20. p & q will be pointing to same memory location.\n",
        "r = q  # variable r will also point to the same location where p & q are pointing/\n",
        "p , type(p), hex(id(p)) # Variable P is pointing to memory location '0x7fff6d71a3f0' where value 20 is stored"
      ]
    },
    {
      "cell_type": "code",
      "execution_count": null,
      "metadata": {
        "id": "zzdfBFMTgbNO",
        "outputId": "0228e03f-fd8b-444f-caf0-dd5c0030b76c"
      },
      "outputs": [
        {
          "data": {
            "text/plain": [
              "(20, int, '0x7fff6d71a3f0')"
            ]
          },
          "execution_count": 95,
          "metadata": {},
          "output_type": "execute_result"
        }
      ],
      "source": [
        "q , type(q), hex(id(q))"
      ]
    },
    {
      "cell_type": "code",
      "execution_count": null,
      "metadata": {
        "id": "z44X6PZcgbNO",
        "outputId": "d765ec79-b406-40bb-d1d2-84276c559cd6"
      },
      "outputs": [
        {
          "data": {
            "text/plain": [
              "(20, int, '0x7fff6d71a3f0')"
            ]
          },
          "execution_count": 96,
          "metadata": {},
          "output_type": "execute_result"
        }
      ],
      "source": [
        "r , type(r), hex(id(r))"
      ]
    },
    {
      "cell_type": "markdown",
      "metadata": {
        "id": "ejcJrdAhgbNP"
      },
      "source": [
        "<img src=\"variable.PNG\">"
      ]
    },
    {
      "cell_type": "code",
      "execution_count": null,
      "metadata": {
        "id": "iONUgi2XgbNP",
        "outputId": "4eca2e5b-240a-4925-fd35-9551ab8d78c1"
      },
      "outputs": [
        {
          "data": {
            "text/plain": [
              "30"
            ]
          },
          "execution_count": 146,
          "metadata": {},
          "output_type": "execute_result"
        }
      ],
      "source": [
        "p = 20\n",
        "p = p + 10 # Variable Overwriting\n",
        "p"
      ]
    },
    {
      "cell_type": "markdown",
      "metadata": {
        "id": "tVEXBV5PgbNQ"
      },
      "source": [
        "### Variable Assigment"
      ]
    },
    {
      "cell_type": "code",
      "execution_count": null,
      "metadata": {
        "id": "y9I4NPNKgbNQ",
        "outputId": "790833e1-b101-41e5-87fa-86ecf17a1d08"
      },
      "outputs": [
        {
          "name": "stdout",
          "output_type": "stream",
          "text": [
            "10\n",
            "2.57\n",
            "Python Language\n"
          ]
        }
      ],
      "source": [
        "intvar = 10 # Integer variable\n",
        "floatvar = 2.57 # Float Variable\n",
        "strvar = \"Python Language\" # String variable\n",
        "\n",
        "print(intvar)\n",
        "print(floatvar)\n",
        "print(strvar)"
      ]
    },
    {
      "cell_type": "markdown",
      "metadata": {
        "id": "6lcPVo7VgbNR"
      },
      "source": [
        "### Multiple Assignments"
      ]
    },
    {
      "cell_type": "code",
      "execution_count": null,
      "metadata": {
        "id": "DDbE2mzcgbNS",
        "outputId": "187c9225-7fa9-4af2-9d21-f7916ee194fa"
      },
      "outputs": [
        {
          "name": "stdout",
          "output_type": "stream",
          "text": [
            "10\n",
            "2.57\n",
            "Python Language\n"
          ]
        }
      ],
      "source": [
        "intvar , floatvar , strvar = 10,2.57,\"Python Language\" # Using commas to separate variables and their corresponding values.\n",
        "print(intvar)\n",
        "print(floatvar)\n",
        "print(strvar)"
      ]
    },
    {
      "cell_type": "code",
      "execution_count": null,
      "metadata": {
        "id": "HzWnL8sQgbNT",
        "outputId": "7d92e7ee-0451-465d-e37b-15c96c05950e"
      },
      "outputs": [
        {
          "name": "stdout",
          "output_type": "stream",
          "text": [
            "44 44 44 44\n"
          ]
        }
      ],
      "source": [
        "p1 = p2 = p3 = p4 = 44 # All variables pointing to same value\n",
        "print(p1,p2,p3,p4)"
      ]
    },
    {
      "cell_type": "markdown",
      "metadata": {
        "id": "7i_GRsYJgbNT"
      },
      "source": [
        "# Data Types"
      ]
    },
    {
      "cell_type": "markdown",
      "metadata": {
        "id": "W9NASS83gbNU"
      },
      "source": [
        "## Numeric"
      ]
    },
    {
      "cell_type": "code",
      "execution_count": null,
      "metadata": {
        "id": "vpFwwx5CgbNU",
        "outputId": "ac664cc2-20ed-4255-9c02-cb48192a6de1"
      },
      "outputs": [
        {
          "name": "stdout",
          "output_type": "stream",
          "text": [
            "10\n",
            "<class 'int'>\n",
            "28\n",
            "10  is Integer? True\n"
          ]
        }
      ],
      "source": [
        "val1 = 10  # Integer data type\n",
        "print(val1)\n",
        "print(type(val1)) # type of object\n",
        "print(sys.getsizeof(val1)) # size of integer object in bytes\n",
        "print(val1, \" is Integer?\", isinstance(val1, int)) # val1 is an instance of int class"
      ]
    },
    {
      "cell_type": "code",
      "execution_count": null,
      "metadata": {
        "id": "QhvdmMsVgbNV",
        "outputId": "31ee39ec-fae3-4fb9-8823-aae88728d7c1"
      },
      "outputs": [
        {
          "name": "stdout",
          "output_type": "stream",
          "text": [
            "92.78\n",
            "<class 'float'>\n",
            "24\n",
            "92.78  is float? True\n"
          ]
        }
      ],
      "source": [
        "val2 = 92.78 # Float data type\n",
        "print(val2)\n",
        "print(type(val2)) # type of object\n",
        "print(sys.getsizeof(val2)) # size of float object in bytes\n",
        "print(val2, \" is float?\", isinstance(val2, float)) # Val2 is an instance of float class"
      ]
    },
    {
      "cell_type": "code",
      "execution_count": null,
      "metadata": {
        "id": "V5rWmVUogbNV",
        "outputId": "00c3499a-5ee0-4047-e035-d3bc28239b2a"
      },
      "outputs": [
        {
          "name": "stdout",
          "output_type": "stream",
          "text": [
            "(25+10j)\n",
            "<class 'complex'>\n",
            "32\n",
            "(25+10j)  is complex? True\n"
          ]
        }
      ],
      "source": [
        "val3 = 25 + 10j # Complex data type\n",
        "print(val3)\n",
        "print(type(val3)) # type of object\n",
        "print(sys.getsizeof(val3)) # size of float object in bytes\n",
        "print(val3, \" is complex?\", isinstance(val3, complex)) # val3 is an instance of complex class"
      ]
    },
    {
      "cell_type": "code",
      "execution_count": null,
      "metadata": {
        "scrolled": true,
        "id": "tTR831Z-gbNW",
        "outputId": "0e7196ac-d496-45a2-a2b5-321a78e7f5f0"
      },
      "outputs": [
        {
          "data": {
            "text/plain": [
              "24"
            ]
          },
          "execution_count": 119,
          "metadata": {},
          "output_type": "execute_result"
        }
      ],
      "source": [
        "sys.getsizeof(int()) # size of integer object in bytes"
      ]
    },
    {
      "cell_type": "code",
      "execution_count": null,
      "metadata": {
        "id": "Lx16VOIYgbNX",
        "outputId": "7c87d8a7-edfb-40a3-b48d-82fa7ef9ee91"
      },
      "outputs": [
        {
          "data": {
            "text/plain": [
              "24"
            ]
          },
          "execution_count": 120,
          "metadata": {},
          "output_type": "execute_result"
        }
      ],
      "source": [
        "sys.getsizeof(float())  # size of float object in bytes"
      ]
    },
    {
      "cell_type": "code",
      "execution_count": null,
      "metadata": {
        "id": "8QdJ0g37gbNY",
        "outputId": "d1d91883-e8db-44ec-ea3a-7b6b2bccf074"
      },
      "outputs": [
        {
          "data": {
            "text/plain": [
              "32"
            ]
          },
          "execution_count": 138,
          "metadata": {},
          "output_type": "execute_result"
        }
      ],
      "source": [
        "sys.getsizeof(complex()) # size of complex object in bytes"
      ]
    },
    {
      "cell_type": "markdown",
      "metadata": {
        "id": "lJPU3KrkgbNY"
      },
      "source": [
        "## Boolean"
      ]
    },
    {
      "cell_type": "markdown",
      "metadata": {
        "id": "7WpTCTVngbNY"
      },
      "source": [
        "Boolean data type can have only two possible values __true__ or __false__."
      ]
    },
    {
      "cell_type": "code",
      "execution_count": null,
      "metadata": {
        "id": "4VtqceRtgbNZ"
      },
      "outputs": [],
      "source": [
        "bool1 = True"
      ]
    },
    {
      "cell_type": "code",
      "execution_count": null,
      "metadata": {
        "id": "mvoKPgFBgbNZ"
      },
      "outputs": [],
      "source": [
        "bool2 = False"
      ]
    },
    {
      "cell_type": "code",
      "execution_count": null,
      "metadata": {
        "id": "lSvUBOz6gbNa",
        "outputId": "be12f1ec-fc7a-43a3-f6a7-2bd2087b1a03"
      },
      "outputs": [
        {
          "name": "stdout",
          "output_type": "stream",
          "text": [
            "<class 'bool'>\n"
          ]
        }
      ],
      "source": [
        "print(type(bool1))"
      ]
    },
    {
      "cell_type": "code",
      "execution_count": null,
      "metadata": {
        "id": "vg5-DruAgbNa",
        "outputId": "3e37fb84-b017-403d-f958-aad0da102fa3"
      },
      "outputs": [
        {
          "name": "stdout",
          "output_type": "stream",
          "text": [
            "<class 'bool'>\n"
          ]
        }
      ],
      "source": [
        "print(type(bool2))"
      ]
    },
    {
      "cell_type": "code",
      "execution_count": null,
      "metadata": {
        "id": "80I7bzHZgbNb",
        "outputId": "36fc2bc7-1731-4ff8-ef4a-4a5d5f8e2b31"
      },
      "outputs": [
        {
          "data": {
            "text/plain": [
              "True"
            ]
          },
          "execution_count": 148,
          "metadata": {},
          "output_type": "execute_result"
        }
      ],
      "source": [
        "isinstance(bool1, bool)"
      ]
    },
    {
      "cell_type": "code",
      "execution_count": null,
      "metadata": {
        "scrolled": true,
        "id": "AYt5qhvagbNc",
        "outputId": "922e0123-0af6-46ab-8515-3b3b41cffc05"
      },
      "outputs": [
        {
          "data": {
            "text/plain": [
              "False"
            ]
          },
          "execution_count": 235,
          "metadata": {},
          "output_type": "execute_result"
        }
      ],
      "source": [
        "bool(0)"
      ]
    },
    {
      "cell_type": "code",
      "execution_count": null,
      "metadata": {
        "id": "jIC-h7ANgbNc",
        "outputId": "55a466a8-21e3-4395-aedf-8eae8a3794af"
      },
      "outputs": [
        {
          "data": {
            "text/plain": [
              "True"
            ]
          },
          "execution_count": 236,
          "metadata": {},
          "output_type": "execute_result"
        }
      ],
      "source": [
        "bool(1)"
      ]
    },
    {
      "cell_type": "code",
      "execution_count": null,
      "metadata": {
        "id": "zcQXZh4mgbNd",
        "outputId": "828e7eca-5715-4adf-ea32-d102d1cd6056"
      },
      "outputs": [
        {
          "data": {
            "text/plain": [
              "False"
            ]
          },
          "execution_count": 237,
          "metadata": {},
          "output_type": "execute_result"
        }
      ],
      "source": [
        "bool(None)"
      ]
    },
    {
      "cell_type": "code",
      "execution_count": null,
      "metadata": {
        "scrolled": true,
        "id": "BRnxJghhgbNd",
        "outputId": "545cfba0-c584-4177-e582-f2ae323a13d5"
      },
      "outputs": [
        {
          "data": {
            "text/plain": [
              "False"
            ]
          },
          "execution_count": 238,
          "metadata": {},
          "output_type": "execute_result"
        }
      ],
      "source": [
        "bool (False)"
      ]
    },
    {
      "cell_type": "markdown",
      "metadata": {
        "id": "VNts5pLGgbNe"
      },
      "source": [
        "## Strings"
      ]
    },
    {
      "cell_type": "markdown",
      "metadata": {
        "id": "8h7aptjcgbNe"
      },
      "source": [
        "### String Creation"
      ]
    },
    {
      "cell_type": "code",
      "execution_count": null,
      "metadata": {
        "id": "QasfarATgbNf",
        "outputId": "eeb59058-2264-4c26-fd26-46d50ca74bdf"
      },
      "outputs": [
        {
          "name": "stdout",
          "output_type": "stream",
          "text": [
            "HELLO PYTHON\n"
          ]
        }
      ],
      "source": [
        "str1 = \"HELLO PYTHON\"\n",
        "\n",
        "print(str1)"
      ]
    },
    {
      "cell_type": "code",
      "execution_count": null,
      "metadata": {
        "id": "Ln30rO-qgbNf",
        "outputId": "c6f01354-ab92-475a-c05b-70f134b873bd"
      },
      "outputs": [
        {
          "name": "stdout",
          "output_type": "stream",
          "text": [
            "Hello World\n"
          ]
        }
      ],
      "source": [
        "mystr = 'Hello World' # Define string using single quotes\n",
        "print(mystr)"
      ]
    },
    {
      "cell_type": "code",
      "execution_count": null,
      "metadata": {
        "id": "OEXWuCakgbNg",
        "outputId": "5768c7f5-2363-4e0f-e38e-4729c6314af5"
      },
      "outputs": [
        {
          "name": "stdout",
          "output_type": "stream",
          "text": [
            "Hello World\n"
          ]
        }
      ],
      "source": [
        "mystr = \"Hello World\" # Define string using double quotes\n",
        "print(mystr)"
      ]
    },
    {
      "cell_type": "code",
      "execution_count": null,
      "metadata": {
        "id": "7XQyceeDgbNh",
        "outputId": "48942437-706e-4bd0-e6cf-093430f4df35"
      },
      "outputs": [
        {
          "name": "stdout",
          "output_type": "stream",
          "text": [
            "Hello               \n",
            "            World \n"
          ]
        }
      ],
      "source": [
        "mystr = '''Hello\n",
        "            World '''   # Define string using triple quotes\n",
        "print(mystr)"
      ]
    },
    {
      "cell_type": "code",
      "execution_count": null,
      "metadata": {
        "id": "-cv61tcKgbNj",
        "outputId": "2d2c013f-8d56-448e-d84e-162b652c1e5d"
      },
      "outputs": [
        {
          "name": "stdout",
          "output_type": "stream",
          "text": [
            "Hello\n",
            "           World\n"
          ]
        }
      ],
      "source": [
        "mystr = \"\"\"Hello\n",
        "           World\"\"\"  # Define string using triple quotes\n",
        "print(mystr)"
      ]
    },
    {
      "cell_type": "code",
      "execution_count": null,
      "metadata": {
        "id": "5wzleXhfgbNk",
        "outputId": "bc56cdea-9ab5-4908-8c54-82cebcdba7ce"
      },
      "outputs": [
        {
          "name": "stdout",
          "output_type": "stream",
          "text": [
            "Happy Monday Everyone\n"
          ]
        }
      ],
      "source": [
        "mystr = ('Happy '\n",
        "         'Monday '\n",
        "         'Everyone')\n",
        "print(mystr)"
      ]
    },
    {
      "cell_type": "code",
      "execution_count": null,
      "metadata": {
        "id": "C83K5nVegbNl",
        "outputId": "de114aca-f15a-4632-e236-8c53fce12c35"
      },
      "outputs": [
        {
          "data": {
            "text/plain": [
              "'Woohoo Woohoo Woohoo Woohoo Woohoo '"
            ]
          },
          "execution_count": 199,
          "metadata": {},
          "output_type": "execute_result"
        }
      ],
      "source": [
        "mystr2 = 'Woohoo '\n",
        "mystr2 = mystr2*5\n",
        "mystr2"
      ]
    },
    {
      "cell_type": "code",
      "execution_count": null,
      "metadata": {
        "id": "e-NsS3JQgbNm",
        "outputId": "6cf3df5b-7cb5-43ed-d872-414ab799b23d"
      },
      "outputs": [
        {
          "data": {
            "text/plain": [
              "35"
            ]
          },
          "execution_count": 200,
          "metadata": {},
          "output_type": "execute_result"
        }
      ],
      "source": [
        "len(mystr2) # Length of string"
      ]
    },
    {
      "cell_type": "markdown",
      "metadata": {
        "id": "MDJBcT20gbNo"
      },
      "source": [
        "### String Indexing"
      ]
    },
    {
      "cell_type": "markdown",
      "metadata": {
        "id": "5ocqkVMzgbNo"
      },
      "source": [
        "<img src=\"string.PNG\">"
      ]
    },
    {
      "cell_type": "code",
      "execution_count": null,
      "metadata": {
        "id": "ZnG3nklJgbNp",
        "outputId": "de873930-2956-4473-d923-e6e0bee0b49e"
      },
      "outputs": [
        {
          "data": {
            "text/plain": [
              "'HELLO PYTHON'"
            ]
          },
          "execution_count": 201,
          "metadata": {},
          "output_type": "execute_result"
        }
      ],
      "source": [
        "str1"
      ]
    },
    {
      "cell_type": "code",
      "execution_count": null,
      "metadata": {
        "id": "_O6XuVZpgbNp",
        "outputId": "190adb79-032b-47bb-a84d-575e36ab08f7"
      },
      "outputs": [
        {
          "data": {
            "text/plain": [
              "'H'"
            ]
          },
          "execution_count": 202,
          "metadata": {},
          "output_type": "execute_result"
        }
      ],
      "source": [
        "str1[0] # First character in string \"str1\""
      ]
    },
    {
      "cell_type": "code",
      "execution_count": null,
      "metadata": {
        "id": "4M84k2Q0gbNq",
        "outputId": "0b0e1a0e-b3d1-4ef8-9e45-a361b64a85ef"
      },
      "outputs": [
        {
          "data": {
            "text/plain": [
              "'N'"
            ]
          },
          "execution_count": 203,
          "metadata": {},
          "output_type": "execute_result"
        }
      ],
      "source": [
        "str1[len(str1)-1] # Last character in string using len function"
      ]
    },
    {
      "cell_type": "code",
      "execution_count": null,
      "metadata": {
        "id": "0rPr3TcSgbNr",
        "outputId": "96207979-eaca-47bc-c353-c7a9d428173b"
      },
      "outputs": [
        {
          "data": {
            "text/plain": [
              "'N'"
            ]
          },
          "execution_count": 204,
          "metadata": {},
          "output_type": "execute_result"
        }
      ],
      "source": [
        "str1[-1] # Last character in string"
      ]
    },
    {
      "cell_type": "code",
      "execution_count": null,
      "metadata": {
        "id": "-qwo8BoKgbNr",
        "outputId": "dec9b611-2d06-4be0-f1c0-21275ef695ed"
      },
      "outputs": [
        {
          "data": {
            "text/plain": [
              "'P'"
            ]
          },
          "execution_count": 205,
          "metadata": {},
          "output_type": "execute_result"
        }
      ],
      "source": [
        "str1[6] #Fetch 7th element of the string"
      ]
    },
    {
      "cell_type": "code",
      "execution_count": null,
      "metadata": {
        "id": "-5Z3SelDgbNs",
        "outputId": "e7c5519a-3296-4877-a355-b7f3ec18cb6c"
      },
      "outputs": [
        {
          "data": {
            "text/plain": [
              "' '"
            ]
          },
          "execution_count": 206,
          "metadata": {},
          "output_type": "execute_result"
        }
      ],
      "source": [
        "str1[5]"
      ]
    },
    {
      "cell_type": "markdown",
      "metadata": {
        "id": "j-25zoYYgbNs"
      },
      "source": [
        "### String Slicing"
      ]
    },
    {
      "cell_type": "code",
      "execution_count": null,
      "metadata": {
        "id": "SfJ_lyJWgbNt",
        "outputId": "d4e0bdf7-5a4a-450c-c8df-2f0cf6b45ce6"
      },
      "outputs": [
        {
          "data": {
            "text/plain": [
              "'HELLO'"
            ]
          },
          "execution_count": 207,
          "metadata": {},
          "output_type": "execute_result"
        }
      ],
      "source": [
        "str1[0:5] # String slicing - Fetch all characters from 0 to 5 index location excluding the character at loc 5."
      ]
    },
    {
      "cell_type": "code",
      "execution_count": null,
      "metadata": {
        "id": "OxvccVmtgbNt",
        "outputId": "f43df1b3-3436-4c70-eac7-d35d2c29b45f"
      },
      "outputs": [
        {
          "data": {
            "text/plain": [
              "'PYTHON'"
            ]
          },
          "execution_count": 208,
          "metadata": {},
          "output_type": "execute_result"
        }
      ],
      "source": [
        "str1[6:12] # String slicing - Retreive all characters between 6 - 12 index loc excluding index loc 12."
      ]
    },
    {
      "cell_type": "code",
      "execution_count": null,
      "metadata": {
        "id": "Hlg5EzlygbNt",
        "outputId": "220a2e58-98e8-4329-f20e-e934c5693cd5"
      },
      "outputs": [
        {
          "data": {
            "text/plain": [
              "'THON'"
            ]
          },
          "execution_count": 209,
          "metadata": {},
          "output_type": "execute_result"
        }
      ],
      "source": [
        "str1[-4:] # Retreive last four characters of the string"
      ]
    },
    {
      "cell_type": "code",
      "execution_count": null,
      "metadata": {
        "id": "tMW26oGIgbNu",
        "outputId": "1a57744f-da95-417b-f85b-b8ee61b0b2f1"
      },
      "outputs": [
        {
          "data": {
            "text/plain": [
              "'PYTHON'"
            ]
          },
          "execution_count": 210,
          "metadata": {},
          "output_type": "execute_result"
        }
      ],
      "source": [
        "str1[-6:] # Retreive last six characters of the string"
      ]
    },
    {
      "cell_type": "code",
      "execution_count": null,
      "metadata": {
        "id": "uckJjwxlgbNu",
        "outputId": "231728f6-38c8-4faf-f0a4-3b4de2b74c8c"
      },
      "outputs": [
        {
          "data": {
            "text/plain": [
              "'HELL'"
            ]
          },
          "execution_count": 211,
          "metadata": {},
          "output_type": "execute_result"
        }
      ],
      "source": [
        "str1[:4] # Retreive first four characters of the string"
      ]
    },
    {
      "cell_type": "code",
      "execution_count": null,
      "metadata": {
        "id": "ueCwShgIgbNv",
        "outputId": "e2e431a2-a317-42b6-95b6-d76e0b4ab5c9"
      },
      "outputs": [
        {
          "data": {
            "text/plain": [
              "'HELLO '"
            ]
          },
          "execution_count": 212,
          "metadata": {},
          "output_type": "execute_result"
        }
      ],
      "source": [
        "str1[:6] # Retreive first six characters of the string"
      ]
    },
    {
      "cell_type": "markdown",
      "metadata": {
        "id": "0GzPMxNQgbNv"
      },
      "source": [
        "### Update & Delete String"
      ]
    },
    {
      "cell_type": "code",
      "execution_count": null,
      "metadata": {
        "id": "GizfP1xNgbNw",
        "outputId": "4fc936aa-7caa-41bf-f7ac-4d9dae0eb557"
      },
      "outputs": [
        {
          "data": {
            "text/plain": [
              "'HELLO PYTHON'"
            ]
          },
          "execution_count": 213,
          "metadata": {},
          "output_type": "execute_result"
        }
      ],
      "source": [
        "str1"
      ]
    },
    {
      "cell_type": "code",
      "execution_count": null,
      "metadata": {
        "id": "FKDKCveqgbNx",
        "outputId": "3e2e977b-5346-4a50-ba22-4b1a37ebc1ea"
      },
      "outputs": [
        {
          "ename": "TypeError",
          "evalue": "'str' object does not support item assignment",
          "output_type": "error",
          "traceback": [
            "\u001b[1;31m---------------------------------------------------------------------------\u001b[0m",
            "\u001b[1;31mTypeError\u001b[0m                                 Traceback (most recent call last)",
            "\u001b[1;32m<ipython-input-214-ea670ff3ec72>\u001b[0m in \u001b[0;36m<module>\u001b[1;34m\u001b[0m\n\u001b[0;32m      1\u001b[0m \u001b[1;31m#Strings are immutable which means elements of a string cannot be changed once they have been assigned.\u001b[0m\u001b[1;33m\u001b[0m\u001b[1;33m\u001b[0m\u001b[1;33m\u001b[0m\u001b[0m\n\u001b[1;32m----> 2\u001b[1;33m \u001b[0mstr1\u001b[0m\u001b[1;33m[\u001b[0m\u001b[1;36m0\u001b[0m\u001b[1;33m:\u001b[0m\u001b[1;36m5\u001b[0m\u001b[1;33m]\u001b[0m \u001b[1;33m=\u001b[0m \u001b[1;34m'HOLAA'\u001b[0m\u001b[1;33m\u001b[0m\u001b[1;33m\u001b[0m\u001b[0m\n\u001b[0m",
            "\u001b[1;31mTypeError\u001b[0m: 'str' object does not support item assignment"
          ]
        }
      ],
      "source": [
        "#Strings are immutable which means elements of a string cannot be changed once they have been assigned.\n",
        "str1[0:5] = 'HOLAA'"
      ]
    },
    {
      "cell_type": "code",
      "execution_count": null,
      "metadata": {
        "id": "4fuhdR2qgbNz",
        "outputId": "97ee32e3-e3c0-4d3d-bb70-1fa2fa5864ea"
      },
      "outputs": [
        {
          "ename": "NameError",
          "evalue": "name 'srt1' is not defined",
          "output_type": "error",
          "traceback": [
            "\u001b[1;31m---------------------------------------------------------------------------\u001b[0m",
            "\u001b[1;31mNameError\u001b[0m                                 Traceback (most recent call last)",
            "\u001b[1;32m<ipython-input-215-7fcc0cc83dcc>\u001b[0m in \u001b[0;36m<module>\u001b[1;34m\u001b[0m\n\u001b[0;32m      1\u001b[0m \u001b[1;32mdel\u001b[0m \u001b[0mstr1\u001b[0m \u001b[1;31m# Delete a string\u001b[0m\u001b[1;33m\u001b[0m\u001b[1;33m\u001b[0m\u001b[0m\n\u001b[1;32m----> 2\u001b[1;33m \u001b[0mprint\u001b[0m\u001b[1;33m(\u001b[0m\u001b[0msrt1\u001b[0m\u001b[1;33m)\u001b[0m\u001b[1;33m\u001b[0m\u001b[1;33m\u001b[0m\u001b[0m\n\u001b[0m",
            "\u001b[1;31mNameError\u001b[0m: name 'srt1' is not defined"
          ]
        }
      ],
      "source": [
        "del str1 # Delete a string\n",
        "print(srt1)"
      ]
    },
    {
      "cell_type": "markdown",
      "metadata": {
        "id": "-ydt93IWgbN0"
      },
      "source": [
        "### String concatenation"
      ]
    },
    {
      "cell_type": "code",
      "execution_count": null,
      "metadata": {
        "id": "OmJr2eUfgbN1",
        "outputId": "8a6fe228-c894-4b58-959a-c7dc8dda5973"
      },
      "outputs": [
        {
          "name": "stdout",
          "output_type": "stream",
          "text": [
            "HelloAsif\n"
          ]
        }
      ],
      "source": [
        "# String concatenation\n",
        "s1 = \"Hello\"\n",
        "s2 = \"Asif\"\n",
        "s3 = s1 + s2\n",
        "print(s3)"
      ]
    },
    {
      "cell_type": "code",
      "execution_count": null,
      "metadata": {
        "id": "I2FaoY0bgbN1",
        "outputId": "83791d9c-3752-441e-a72c-ad4118cc8305"
      },
      "outputs": [
        {
          "name": "stdout",
          "output_type": "stream",
          "text": [
            "Hello Asif\n"
          ]
        }
      ],
      "source": [
        "# String concatenation\n",
        "s1 = \"Hello\"\n",
        "s2 = \"Asif\"\n",
        "s3 = s1 + \" \" + s2\n",
        "print(s3)"
      ]
    },
    {
      "cell_type": "markdown",
      "metadata": {
        "id": "57HA8dZOgbN2"
      },
      "source": [
        "### Iterating through a String"
      ]
    },
    {
      "cell_type": "code",
      "execution_count": null,
      "metadata": {
        "id": "2tC4-429gbN3"
      },
      "outputs": [],
      "source": [
        "mystr1 = \"Hello Everyone\""
      ]
    },
    {
      "cell_type": "code",
      "execution_count": null,
      "metadata": {
        "id": "9qCtMzlLgbN4",
        "outputId": "39b34019-e083-43c0-c3ba-6e41b7bbc2c8"
      },
      "outputs": [
        {
          "name": "stdout",
          "output_type": "stream",
          "text": [
            "H\n",
            "e\n",
            "l\n",
            "l\n",
            "o\n",
            " \n",
            "E\n",
            "v\n",
            "e\n",
            "r\n",
            "y\n",
            "o\n",
            "n\n",
            "e\n"
          ]
        }
      ],
      "source": [
        "# Iteration\n",
        "for i in mystr1:\n",
        "    print(i)"
      ]
    },
    {
      "cell_type": "code",
      "execution_count": null,
      "metadata": {
        "id": "8wD_Hn2egbN4",
        "outputId": "9215528e-5ae6-43d9-de30-5c1a9ecfb7d9"
      },
      "outputs": [
        {
          "name": "stdout",
          "output_type": "stream",
          "text": [
            "(0, 'H')\n",
            "(1, 'e')\n",
            "(2, 'l')\n",
            "(3, 'l')\n",
            "(4, 'o')\n",
            "(5, ' ')\n",
            "(6, 'E')\n",
            "(7, 'v')\n",
            "(8, 'e')\n",
            "(9, 'r')\n",
            "(10, 'y')\n",
            "(11, 'o')\n",
            "(12, 'n')\n",
            "(13, 'e')\n"
          ]
        }
      ],
      "source": [
        "for i in enumerate(mystr1):\n",
        "    print(i)"
      ]
    },
    {
      "cell_type": "code",
      "execution_count": null,
      "metadata": {
        "id": "EmaGlSM1gbN5",
        "outputId": "11d657a1-b97e-45ed-9bed-33e936d1fa1d"
      },
      "outputs": [
        {
          "data": {
            "text/plain": [
              "[(0, 'H'),\n",
              " (1, 'e'),\n",
              " (2, 'l'),\n",
              " (3, 'l'),\n",
              " (4, 'o'),\n",
              " (5, ' '),\n",
              " (6, 'E'),\n",
              " (7, 'v'),\n",
              " (8, 'e'),\n",
              " (9, 'r'),\n",
              " (10, 'y'),\n",
              " (11, 'o'),\n",
              " (12, 'n'),\n",
              " (13, 'e')]"
            ]
          },
          "execution_count": 221,
          "metadata": {},
          "output_type": "execute_result"
        }
      ],
      "source": [
        "list(enumerate(mystr1)) # Enumerate method adds a counter to an iterable and returns it in a form of enumerate object."
      ]
    },
    {
      "cell_type": "markdown",
      "metadata": {
        "id": "xV1sSe2tgbN6"
      },
      "source": [
        "### String Membership"
      ]
    },
    {
      "cell_type": "code",
      "execution_count": null,
      "metadata": {
        "id": "n_BTwu4agbN6",
        "outputId": "3f2038a2-a795-4a39-d6cb-3fb5c3c3ff92"
      },
      "outputs": [
        {
          "name": "stdout",
          "output_type": "stream",
          "text": [
            "True\n",
            "True\n",
            "False\n"
          ]
        }
      ],
      "source": [
        "# String membership\n",
        "\n",
        "mystr1 = \"Hello Everyone\"\n",
        "\n",
        "print ('Hello' in mystr1) # Check whether substring \"Hello\" is present in string \"mysrt1\"\n",
        "print ('Everyone' in mystr1) # Check whether substring \"Everyone\" is present in string \"mysrt1\"\n",
        "print ('Hi' in mystr1) # Check whether substring \"Hi\" is present in string \"mysrt1\""
      ]
    },
    {
      "cell_type": "markdown",
      "metadata": {
        "id": "zL5T-6YxgbN7"
      },
      "source": [
        "### String Partitioning"
      ]
    },
    {
      "cell_type": "code",
      "execution_count": null,
      "metadata": {
        "id": "96YPiu06gbN7",
        "outputId": "438fdc36-27bf-4ac5-caa7-a6cd35c58638"
      },
      "outputs": [
        {
          "name": "stdout",
          "output_type": "stream",
          "text": [
            "('Natural language processing with Python ', 'and', ' R and Java')\n"
          ]
        }
      ],
      "source": [
        "\"\"\"\n",
        "The partition() method searches for a specified string and splits the string into a tuple containing three elements.\n",
        "\n",
        " - The first element contains the part before the argument string.\n",
        "\n",
        " - The second element contains the argument string.\n",
        "\n",
        " - The third element contains the part after the argument string.\n",
        "\"\"\"\n",
        "\n",
        "str5 = \"Natural language processing with Python and R and Java\"\n",
        "L = str5.partition(\"and\")\n",
        "print(L)"
      ]
    },
    {
      "cell_type": "code",
      "execution_count": null,
      "metadata": {
        "id": "ynXRBjwvgbN8",
        "outputId": "8f7ee6be-536e-4544-e60d-2a75a281a4f8"
      },
      "outputs": [
        {
          "name": "stdout",
          "output_type": "stream",
          "text": [
            "('Natural language processing with Python and R ', 'and', ' Java')\n"
          ]
        }
      ],
      "source": [
        "\"\"\"\n",
        "The rpartition() method searches for the last occurence of the specified string and splits the string into a tuple\n",
        "containing three elements.\n",
        "\n",
        " - The first element contains the part before the argument string.\n",
        "\n",
        " - The second element contains the argument string.\n",
        "\n",
        " - The third element contains the part after the argument string.\n",
        "\"\"\"\n",
        "\n",
        "str5 = \"Natural language processing with Python and R and Java\"\n",
        "L = str5.rpartition(\"and\")\n",
        "print(L)"
      ]
    },
    {
      "cell_type": "markdown",
      "metadata": {
        "id": "2H55J7uDgbN9"
      },
      "source": [
        "### String Functions"
      ]
    },
    {
      "cell_type": "code",
      "execution_count": null,
      "metadata": {
        "id": "52OJXPdUgbN9",
        "outputId": "419fa6be-43f7-43e1-8307-270e3e68250a"
      },
      "outputs": [
        {
          "data": {
            "text/plain": [
              "'   Hello Everyone  '"
            ]
          },
          "execution_count": 267,
          "metadata": {},
          "output_type": "execute_result"
        }
      ],
      "source": [
        "mystr2 = \"   Hello Everyone  \"\n",
        "mystr2"
      ]
    },
    {
      "cell_type": "code",
      "execution_count": null,
      "metadata": {
        "id": "ucH9luk9gbN-",
        "outputId": "a77fbbb8-110c-413b-bcff-3adc698ae7bc"
      },
      "outputs": [
        {
          "data": {
            "text/plain": [
              "'Hello Everyone'"
            ]
          },
          "execution_count": 268,
          "metadata": {},
          "output_type": "execute_result"
        }
      ],
      "source": [
        "mystr2.strip() # Removes white space from begining & end"
      ]
    },
    {
      "cell_type": "code",
      "execution_count": null,
      "metadata": {
        "id": "K0juFy8BgbN_",
        "outputId": "1a8b2d44-c42a-4af6-d9e7-5cc02866aa3b"
      },
      "outputs": [
        {
          "data": {
            "text/plain": [
              "'   Hello Everyone'"
            ]
          },
          "execution_count": 270,
          "metadata": {},
          "output_type": "execute_result"
        }
      ],
      "source": [
        "mystr2.rstrip() # Removes all whitespaces at the end of the string"
      ]
    },
    {
      "cell_type": "code",
      "execution_count": null,
      "metadata": {
        "id": "bN7hyxzegbN_",
        "outputId": "8ea78d08-bc44-42b3-f579-89e2850c016c"
      },
      "outputs": [
        {
          "data": {
            "text/plain": [
              "'Hello Everyone  '"
            ]
          },
          "execution_count": 269,
          "metadata": {},
          "output_type": "execute_result"
        }
      ],
      "source": [
        "mystr2.lstrip() # Removes all whitespaces at the begining of the string"
      ]
    },
    {
      "cell_type": "code",
      "execution_count": null,
      "metadata": {
        "id": "NcGHGeP3gbOA",
        "outputId": "66d52794-1a05-41e4-bf0c-430cd066cf85"
      },
      "outputs": [
        {
          "data": {
            "text/plain": [
              "'*********Hello Everyone***********All the Best**********'"
            ]
          },
          "execution_count": 272,
          "metadata": {},
          "output_type": "execute_result"
        }
      ],
      "source": [
        "mystr2 = \"*********Hello Everyone***********All the Best**********\"\n",
        "mystr2"
      ]
    },
    {
      "cell_type": "code",
      "execution_count": null,
      "metadata": {
        "id": "TBPIuEwqgbOA",
        "outputId": "9de26866-83a4-4aa2-edb1-4b0aaec86995"
      },
      "outputs": [
        {
          "data": {
            "text/plain": [
              "'Hello Everyone***********All the Best'"
            ]
          },
          "execution_count": 273,
          "metadata": {},
          "output_type": "execute_result"
        }
      ],
      "source": [
        "mystr2.strip('*') # Removes all '*' characters from begining & end of the string"
      ]
    },
    {
      "cell_type": "code",
      "execution_count": null,
      "metadata": {
        "id": "L3o3ZM2TgbOB",
        "outputId": "21687074-8763-4120-e23e-1900b43cc673"
      },
      "outputs": [
        {
          "data": {
            "text/plain": [
              "'*********Hello Everyone***********All the Best'"
            ]
          },
          "execution_count": 274,
          "metadata": {},
          "output_type": "execute_result"
        }
      ],
      "source": [
        "mystr2.rstrip('*') # Removes all '*' characters at the end of the string"
      ]
    },
    {
      "cell_type": "code",
      "execution_count": null,
      "metadata": {
        "id": "zp6JAH7zgbOC",
        "outputId": "f2742a67-70f5-48b5-e90a-f7fffb56cd52"
      },
      "outputs": [
        {
          "data": {
            "text/plain": [
              "'Hello Everyone***********All the Best**********'"
            ]
          },
          "execution_count": 275,
          "metadata": {},
          "output_type": "execute_result"
        }
      ],
      "source": [
        "mystr2.lstrip('*') # Removes all '*' characters at the begining of the string"
      ]
    },
    {
      "cell_type": "code",
      "execution_count": null,
      "metadata": {
        "id": "DulcdmaFgbOD"
      },
      "outputs": [],
      "source": [
        "mystr2 = \"   Hello Everyone  \""
      ]
    },
    {
      "cell_type": "code",
      "execution_count": null,
      "metadata": {
        "id": "AeqAz21UgbOD",
        "outputId": "51443f96-fb19-4a62-e978-4b8360b8549e"
      },
      "outputs": [
        {
          "data": {
            "text/plain": [
              "'   hello everyone  '"
            ]
          },
          "execution_count": 277,
          "metadata": {},
          "output_type": "execute_result"
        }
      ],
      "source": [
        "mystr2.lower() # Return whole string in lowercase"
      ]
    },
    {
      "cell_type": "code",
      "execution_count": null,
      "metadata": {
        "id": "7kYzUhlmgbOE",
        "outputId": "1a18e247-eb74-454b-bfd8-26ea82b873a5"
      },
      "outputs": [
        {
          "data": {
            "text/plain": [
              "'   HELLO EVERYONE  '"
            ]
          },
          "execution_count": 278,
          "metadata": {},
          "output_type": "execute_result"
        }
      ],
      "source": [
        "mystr2.upper() # Return whole string in uppercase"
      ]
    },
    {
      "cell_type": "code",
      "execution_count": null,
      "metadata": {
        "id": "Y0OETup6gbOF",
        "outputId": "3c2b1cc4-8f9c-498b-b792-beef3bb2aa8f"
      },
      "outputs": [
        {
          "data": {
            "text/plain": [
              "'   Hollo Everyone  '"
            ]
          },
          "execution_count": 279,
          "metadata": {},
          "output_type": "execute_result"
        }
      ],
      "source": [
        "mystr2.replace(\"He\" , \"Ho\") #Replace substring \"He\" with \"Ho\""
      ]
    },
    {
      "cell_type": "code",
      "execution_count": null,
      "metadata": {
        "id": "HraRSERegbOG",
        "outputId": "cdfc2ab8-e8d4-4819-f64c-86ac9c7dd769"
      },
      "outputs": [
        {
          "data": {
            "text/plain": [
              "'HelloEveryone'"
            ]
          },
          "execution_count": 280,
          "metadata": {},
          "output_type": "execute_result"
        }
      ],
      "source": [
        "mystr2.replace(\" \" , \"\") # Remove all whitespaces using replace function"
      ]
    },
    {
      "cell_type": "code",
      "execution_count": null,
      "metadata": {
        "id": "ZrXJWuM0gbOH"
      },
      "outputs": [],
      "source": [
        "mystr5 = \"one two Three one two two three\""
      ]
    },
    {
      "cell_type": "code",
      "execution_count": null,
      "metadata": {
        "id": "GUf4K8pigbOH",
        "outputId": "84414b88-c55e-4cd1-c673-a51baa396542"
      },
      "outputs": [
        {
          "data": {
            "text/plain": [
              "2"
            ]
          },
          "execution_count": 230,
          "metadata": {},
          "output_type": "execute_result"
        }
      ],
      "source": [
        "mystr5.count(\"one\") # Number of times substring \"one\" occurred in string."
      ]
    },
    {
      "cell_type": "code",
      "execution_count": null,
      "metadata": {
        "id": "Jj7r90DOgbOI",
        "outputId": "12300b6e-b113-4676-c15a-a8d02d0bc8cd"
      },
      "outputs": [
        {
          "data": {
            "text/plain": [
              "3"
            ]
          },
          "execution_count": 231,
          "metadata": {},
          "output_type": "execute_result"
        }
      ],
      "source": [
        "mystr5.count(\"two\") # Number of times substring \"two\" occurred in string."
      ]
    },
    {
      "cell_type": "code",
      "execution_count": null,
      "metadata": {
        "id": "FIUFYm7UgbOJ",
        "outputId": "3d818439-c2a1-415c-9e26-1cc1404406f7"
      },
      "outputs": [
        {
          "data": {
            "text/plain": [
              "True"
            ]
          },
          "execution_count": 232,
          "metadata": {},
          "output_type": "execute_result"
        }
      ],
      "source": [
        "mystr5.startswith(\"one\")  # Return boolean value True if string starts with \"one\""
      ]
    },
    {
      "cell_type": "code",
      "execution_count": null,
      "metadata": {
        "id": "7WrbMS4HgbOJ",
        "outputId": "088b3203-f6d7-4caa-b4c2-c318774cb352"
      },
      "outputs": [
        {
          "data": {
            "text/plain": [
              "True"
            ]
          },
          "execution_count": 233,
          "metadata": {},
          "output_type": "execute_result"
        }
      ],
      "source": [
        "mystr5.endswith(\"three\") # Return boolean value True if string ends with \"three\""
      ]
    },
    {
      "cell_type": "code",
      "execution_count": null,
      "metadata": {
        "id": "OJ4yXwhRgbOK"
      },
      "outputs": [],
      "source": [
        "mystr4 = \"one two three four one two two three five five six seven six seven one one one ten eight ten nine eleven ten ten nine\""
      ]
    },
    {
      "cell_type": "code",
      "execution_count": null,
      "metadata": {
        "id": "ZlHkIKO9gbOK",
        "outputId": "0a68c30d-30b4-4d7b-ce87-7361e7fe38a1"
      },
      "outputs": [
        {
          "data": {
            "text/plain": [
              "['one',\n",
              " 'two',\n",
              " 'three',\n",
              " 'four',\n",
              " 'one',\n",
              " 'two',\n",
              " 'two',\n",
              " 'three',\n",
              " 'five',\n",
              " 'five',\n",
              " 'six',\n",
              " 'seven',\n",
              " 'six',\n",
              " 'seven',\n",
              " 'one',\n",
              " 'one',\n",
              " 'one',\n",
              " 'ten',\n",
              " 'eight',\n",
              " 'ten',\n",
              " 'nine',\n",
              " 'eleven',\n",
              " 'ten',\n",
              " 'ten',\n",
              " 'nine']"
            ]
          },
          "execution_count": 235,
          "metadata": {},
          "output_type": "execute_result"
        }
      ],
      "source": [
        "mylist = mystr4.split() # Split String into substrings\n",
        "mylist"
      ]
    },
    {
      "cell_type": "code",
      "execution_count": null,
      "metadata": {
        "id": "4QrSZQzJgbOL",
        "outputId": "c67998a9-eb37-492a-d042-12f860d6fbd0"
      },
      "outputs": [
        {
          "name": "stdout",
          "output_type": "stream",
          "text": [
            "Cost of item1 , item2 and item3 are 40 , 55 and 77\n"
          ]
        }
      ],
      "source": [
        "# Combining string & numbers using format method\n",
        "item1 = 40\n",
        "item2 = 55\n",
        "item3 = 77\n",
        "\n",
        "res = \"Cost of item1 , item2 and item3 are {} , {} and {}\"\n",
        "\n",
        "print(res.format(item1,item2,item3))"
      ]
    },
    {
      "cell_type": "code",
      "execution_count": null,
      "metadata": {
        "id": "LW1bIsS0gbOL",
        "outputId": "3e49b746-f086-40db-d89b-f360fcd3c79b"
      },
      "outputs": [
        {
          "name": "stdout",
          "output_type": "stream",
          "text": [
            "Cost of item3 , item2 and item1 are 77 , 55 and 40\n"
          ]
        }
      ],
      "source": [
        "# Combining string & numbers using format method\n",
        "item1 = 40\n",
        "item2 = 55\n",
        "item3 = 77\n",
        "\n",
        "res = \"Cost of item3 , item2 and item1 are {2} , {1} and {0}\"\n",
        "\n",
        "print(res.format(item1,item2,item3))"
      ]
    },
    {
      "cell_type": "code",
      "execution_count": null,
      "metadata": {
        "id": "CE0Q7gP_gbOM",
        "outputId": "4045b5ee-8ab4-4264-8510-ae51d3413790"
      },
      "outputs": [
        {
          "name": "stdout",
          "output_type": "stream",
          "text": [
            "                                          WELCOME EVERYONE                                          \n"
          ]
        }
      ],
      "source": [
        "str2 = \" WELCOME EVERYONE \"\n",
        "str2 = str2.center(100) # center align the string using a specific character as the fill character.\n",
        "print(str2)"
      ]
    },
    {
      "cell_type": "code",
      "execution_count": null,
      "metadata": {
        "id": "Z-zyI7NSgbON",
        "outputId": "ccc3bc20-86bc-4820-969c-3627226032ad"
      },
      "outputs": [
        {
          "name": "stdout",
          "output_type": "stream",
          "text": [
            "***************************************** WELCOME EVERYONE *****************************************\n"
          ]
        }
      ],
      "source": [
        "str2 = \" WELCOME EVERYONE \"\n",
        "str2 = str2.center(100,'*') # center align the string using a specific character ('*') as the fill character.\n",
        "print(str2)"
      ]
    },
    {
      "cell_type": "code",
      "execution_count": null,
      "metadata": {
        "id": "55f_usG-gbOO",
        "outputId": "5c9abfc7-ffa3-46b7-cec9-cb58fce17d66"
      },
      "outputs": [
        {
          "name": "stdout",
          "output_type": "stream",
          "text": [
            "                                 WELCOME EVERYONE \n"
          ]
        }
      ],
      "source": [
        "str2 = \" WELCOME EVERYONE \"\n",
        "str2 = str2.rjust(50) # Right align the string using a specific character as the fill character.\n",
        "print(str2)"
      ]
    },
    {
      "cell_type": "code",
      "execution_count": null,
      "metadata": {
        "id": "Rt8rT7Y7gbOO",
        "outputId": "17511416-4717-469e-9505-c8f1e7af98e3"
      },
      "outputs": [
        {
          "name": "stdout",
          "output_type": "stream",
          "text": [
            "******************************** WELCOME EVERYONE \n"
          ]
        }
      ],
      "source": [
        "str2 = \" WELCOME EVERYONE \"\n",
        "str2 = str2.rjust(50,'*') # Right align the string using a specific character ('*') as the fill character.\n",
        "print(str2)"
      ]
    },
    {
      "cell_type": "code",
      "execution_count": null,
      "metadata": {
        "id": "-357gLy7gbOP",
        "outputId": "3e3546f9-d609-44b7-843c-a8f46be0bcf4"
      },
      "outputs": [
        {
          "name": "stdout",
          "output_type": "stream",
          "text": [
            "19\n"
          ]
        }
      ],
      "source": [
        "str4 = \"one two three four five six seven\"\n",
        "loc = str4.find(\"five\") # Find the location of word 'five' in the string \"str4\"\n",
        "print(loc)"
      ]
    },
    {
      "cell_type": "code",
      "execution_count": null,
      "metadata": {
        "id": "AUQJwuFqgbOP",
        "outputId": "845624bd-5f4e-4ea5-dd61-5fd9aec51c3a"
      },
      "outputs": [
        {
          "name": "stdout",
          "output_type": "stream",
          "text": [
            "19\n"
          ]
        }
      ],
      "source": [
        "str4 = \"one two three four five six seven\"\n",
        "loc = str4.index(\"five\") # Find the location of word 'five' in the string \"str4\"\n",
        "print(loc)"
      ]
    },
    {
      "cell_type": "code",
      "execution_count": null,
      "metadata": {
        "id": "X7bccAcCgbOQ",
        "outputId": "44eb0892-6529-48fd-f574-32410b8efde8"
      },
      "outputs": [
        {
          "name": "stdout",
          "output_type": "stream",
          "text": [
            "False\n",
            "True\n",
            "True\n",
            "True\n"
          ]
        }
      ],
      "source": [
        "mystr6 = '123456789'\n",
        "print(mystr6.isalpha()) # returns True if all the characters in the text are letters\n",
        "print(mystr6.isalnum())  # returns True if a string contains only letters or numbers or both\n",
        "print(mystr6.isdecimal()) # returns True if all the characters are decimals (0-9)\n",
        "print(mystr6.isnumeric()) # returns True if all the characters are numeric (0-9)"
      ]
    },
    {
      "cell_type": "code",
      "execution_count": null,
      "metadata": {
        "id": "dlNuXltvgbOQ",
        "outputId": "88a175b6-2aa7-49b9-c14b-37f37de3917f"
      },
      "outputs": [
        {
          "name": "stdout",
          "output_type": "stream",
          "text": [
            "True\n",
            "True\n",
            "False\n",
            "False\n"
          ]
        }
      ],
      "source": [
        "mystr6 = 'abcde'\n",
        "print(mystr6.isalpha()) # returns True if all the characters in the text are letters\n",
        "print(mystr6.isalnum())  # returns True if a string contains only letters or numbers or both\n",
        "print(mystr6.isdecimal()) # returns True if all the characters are decimals (0-9)\n",
        "print(mystr6.isnumeric()) # returns True if all the characters are numeric (0-9)"
      ]
    },
    {
      "cell_type": "code",
      "execution_count": null,
      "metadata": {
        "id": "q2we-mzCgbOR",
        "outputId": "50d7282b-89fd-4197-a42a-f807fb4e510d"
      },
      "outputs": [
        {
          "name": "stdout",
          "output_type": "stream",
          "text": [
            "False\n",
            "True\n",
            "False\n",
            "False\n"
          ]
        }
      ],
      "source": [
        "mystr6 = 'abc12309'\n",
        "print(mystr6.isalpha()) # returns True if all the characters in the text are letters\n",
        "print(mystr6.isalnum())  # returns True if a string contains only letters or numbers or both\n",
        "print(mystr6.isdecimal()) # returns True if all the characters are decimals (0-9)\n",
        "print(mystr6.isnumeric()) # returns True if all the characters are numeric (0-9)"
      ]
    },
    {
      "cell_type": "code",
      "execution_count": null,
      "metadata": {
        "id": "cImViqpKgbOS",
        "outputId": "cdacd9b3-4177-4873-aea1-10f8d754f60a"
      },
      "outputs": [
        {
          "name": "stdout",
          "output_type": "stream",
          "text": [
            "True\n",
            "False\n"
          ]
        }
      ],
      "source": [
        "mystr7 = 'ABCDEF'\n",
        "print(mystr7.isupper())  # Returns True if all the characters are in upper case\n",
        "print(mystr7.islower())  # Returns True if all the characters are in lower case"
      ]
    },
    {
      "cell_type": "code",
      "execution_count": null,
      "metadata": {
        "id": "KdIX6ba-gbOT",
        "outputId": "44aa2f97-0fe6-4e07-8c5d-1b06d5e12b8b"
      },
      "outputs": [
        {
          "name": "stdout",
          "output_type": "stream",
          "text": [
            "False\n",
            "True\n"
          ]
        }
      ],
      "source": [
        "mystr8 = 'abcdef'\n",
        "print(mystr8.isupper())  # Returns True if all the characters are in upper case\n",
        "print(mystr8.islower())  # Returns True if all the characters are in lower case"
      ]
    },
    {
      "cell_type": "code",
      "execution_count": null,
      "metadata": {
        "id": "4aOSAvV0gbOU",
        "outputId": "b3cc2d80-cc90-495b-ded1-7b58fbf09cd9"
      },
      "outputs": [
        {
          "name": "stdout",
          "output_type": "stream",
          "text": [
            "51\n"
          ]
        }
      ],
      "source": [
        "str6 = \"one two three four one two two three five five six one ten eight ten nine eleven ten ten nine\"\n",
        "\n",
        "loc = str6.rfind(\"one\") # last occurrence of word 'one' in string \"str6\"\n",
        "print(loc)"
      ]
    },
    {
      "cell_type": "code",
      "execution_count": null,
      "metadata": {
        "id": "EbYPbt66gbOU",
        "outputId": "f3b8b1c7-85f4-4fc3-d1c5-391fb53d3e1f"
      },
      "outputs": [
        {
          "name": "stdout",
          "output_type": "stream",
          "text": [
            "51\n"
          ]
        }
      ],
      "source": [
        "loc = str6.rindex(\"one\") # last occurrence of word 'one' in string \"str6\"\n",
        "\n",
        "print(loc)"
      ]
    },
    {
      "cell_type": "code",
      "execution_count": null,
      "metadata": {
        "id": "-AVwAc0QgbOV",
        "outputId": "c262478c-dab9-4d9a-99f8-8739d7f6f18d"
      },
      "outputs": [
        {
          "data": {
            "text/plain": [
              "'   abc def ghi'"
            ]
          },
          "execution_count": 264,
          "metadata": {},
          "output_type": "execute_result"
        }
      ],
      "source": [
        "txt = \"   abc def ghi   \"\n",
        "\n",
        "txt.rstrip()"
      ]
    },
    {
      "cell_type": "code",
      "execution_count": null,
      "metadata": {
        "id": "CMCSNuD6gbOW",
        "outputId": "9714cc52-76d6-42f8-91e3-a63b32043109"
      },
      "outputs": [
        {
          "data": {
            "text/plain": [
              "'abc def ghi   '"
            ]
          },
          "execution_count": 265,
          "metadata": {},
          "output_type": "execute_result"
        }
      ],
      "source": [
        "txt = \"   abc def ghi   \"\n",
        "\n",
        "txt.lstrip()"
      ]
    },
    {
      "cell_type": "code",
      "execution_count": null,
      "metadata": {
        "id": "4W_8B4kzgbOX",
        "outputId": "628bc969-913e-4d62-8de5-bf122335ff5f"
      },
      "outputs": [
        {
          "data": {
            "text/plain": [
              "'abc def ghi'"
            ]
          },
          "execution_count": 266,
          "metadata": {},
          "output_type": "execute_result"
        }
      ],
      "source": [
        "txt = \"   abc def ghi   \"\n",
        "\n",
        "txt.strip()"
      ]
    },
    {
      "cell_type": "markdown",
      "metadata": {
        "id": "LUvXfus2gbOX"
      },
      "source": [
        "### Using Escape Character"
      ]
    },
    {
      "cell_type": "code",
      "execution_count": null,
      "metadata": {
        "id": "12HNdynngbOY",
        "outputId": "0d3242a2-0610-466f-b229-c63ebd00409a"
      },
      "outputs": [
        {
          "ename": "SyntaxError",
          "evalue": "invalid syntax (<ipython-input-252-0fa35a74da86>, line 2)",
          "output_type": "error",
          "traceback": [
            "\u001b[1;36m  File \u001b[1;32m\"<ipython-input-252-0fa35a74da86>\"\u001b[1;36m, line \u001b[1;32m2\u001b[0m\n\u001b[1;33m    mystr = \"My favourite TV Series is \"Game of Thrones\"\"\u001b[0m\n\u001b[1;37m                                           ^\u001b[0m\n\u001b[1;31mSyntaxError\u001b[0m\u001b[1;31m:\u001b[0m invalid syntax\n"
          ]
        }
      ],
      "source": [
        "#Using double quotes in the string is not allowed.\n",
        "mystr = \"My favourite TV Series is \"Game of Thrones\"\""
      ]
    },
    {
      "cell_type": "code",
      "execution_count": null,
      "metadata": {
        "id": "BZOqut6SgbOY",
        "outputId": "15d28dcd-e151-450f-b186-93a09c8f5c3c"
      },
      "outputs": [
        {
          "name": "stdout",
          "output_type": "stream",
          "text": [
            "My favourite series is \"Game of Thrones\"\n"
          ]
        }
      ],
      "source": [
        "#Using escape character to allow illegal characters\n",
        "mystr = \"My favourite series is \\\"Game of Thrones\\\"\"\n",
        "print(mystr)"
      ]
    },
    {
      "cell_type": "markdown",
      "metadata": {
        "id": "1Pts90wAgbOZ"
      },
      "source": [
        "# List"
      ]
    },
    {
      "cell_type": "markdown",
      "metadata": {
        "id": "Gn4ZslDFgbOZ"
      },
      "source": [
        "1) List is an ordered sequence of items.\n",
        "\n",
        "2) We can have different data types under a list. E.g we can have integer, float and string items in a same list."
      ]
    },
    {
      "cell_type": "markdown",
      "metadata": {
        "id": "3RfLnICugbOa"
      },
      "source": [
        "### List Creation"
      ]
    },
    {
      "cell_type": "code",
      "execution_count": null,
      "metadata": {
        "id": "u4TU9eCVgbOa"
      },
      "outputs": [],
      "source": [
        "list1 = []      # Empty List"
      ]
    },
    {
      "cell_type": "code",
      "execution_count": null,
      "metadata": {
        "id": "JcEUp7-wgbOb",
        "outputId": "61bf8678-a75b-4c99-dea4-2be80f00f67e"
      },
      "outputs": [
        {
          "name": "stdout",
          "output_type": "stream",
          "text": [
            "<class 'list'>\n"
          ]
        }
      ],
      "source": [
        "print(type(list1))"
      ]
    },
    {
      "cell_type": "code",
      "execution_count": null,
      "metadata": {
        "id": "sdsBEeGGgbOb"
      },
      "outputs": [],
      "source": [
        "list2 = [10,30,60]      # List of integers numbers"
      ]
    },
    {
      "cell_type": "code",
      "execution_count": null,
      "metadata": {
        "id": "TOQe2uG1gbOc"
      },
      "outputs": [],
      "source": [
        "list3 = [10.77,30.66,60.89]       # List of float numbers"
      ]
    },
    {
      "cell_type": "code",
      "execution_count": null,
      "metadata": {
        "id": "LVRAaNtogbOc"
      },
      "outputs": [],
      "source": [
        "list4 = ['one','two' , \"three\"]   # List of strings"
      ]
    },
    {
      "cell_type": "code",
      "execution_count": null,
      "metadata": {
        "id": "rrDHB_vGgbOd"
      },
      "outputs": [],
      "source": [
        "list5 = ['Asif', 25 ,[50, 100],[150, 90]]    # Nested Lists"
      ]
    },
    {
      "cell_type": "code",
      "execution_count": null,
      "metadata": {
        "id": "mVfFd3gBgbOd"
      },
      "outputs": [],
      "source": [
        "list6 = [100, 'Asif', 17.765]   # List of mixed data types"
      ]
    },
    {
      "cell_type": "code",
      "execution_count": null,
      "metadata": {
        "id": "HU43lD8KgbOe"
      },
      "outputs": [],
      "source": [
        "list7 = ['Asif', 25 ,[50, 100],[150, 90] , {'John' , 'David'}]"
      ]
    },
    {
      "cell_type": "code",
      "execution_count": null,
      "metadata": {
        "id": "nNX617XSgbOf",
        "outputId": "2228fbe9-4cda-4df4-c9f6-274d3934becc"
      },
      "outputs": [
        {
          "data": {
            "text/plain": [
              "3"
            ]
          },
          "execution_count": 430,
          "metadata": {},
          "output_type": "execute_result"
        }
      ],
      "source": [
        "len(list6) #Length of list"
      ]
    },
    {
      "cell_type": "markdown",
      "metadata": {
        "id": "5XTGjJn3gbOf"
      },
      "source": [
        "### List Indexing"
      ]
    },
    {
      "cell_type": "markdown",
      "metadata": {
        "id": "I0USZ7lBgbOg"
      },
      "source": [
        "<img src=\"list.PNG\">"
      ]
    },
    {
      "cell_type": "code",
      "execution_count": null,
      "metadata": {
        "id": "R31A8I1GgbOg",
        "outputId": "fffc6162-6dfc-4efc-f9f8-3defcc8c99c5"
      },
      "outputs": [
        {
          "data": {
            "text/plain": [
              "10"
            ]
          },
          "execution_count": 432,
          "metadata": {},
          "output_type": "execute_result"
        }
      ],
      "source": [
        "list2[0] # Retreive first element of the list"
      ]
    },
    {
      "cell_type": "code",
      "execution_count": null,
      "metadata": {
        "id": "ODHHz8CVgbOh",
        "outputId": "f2271883-3b4c-4e14-f728-3eabf8a9b750"
      },
      "outputs": [
        {
          "data": {
            "text/plain": [
              "'one'"
            ]
          },
          "execution_count": 433,
          "metadata": {},
          "output_type": "execute_result"
        }
      ],
      "source": [
        "list4[0] # Retreive first element of the list"
      ]
    },
    {
      "cell_type": "code",
      "execution_count": null,
      "metadata": {
        "id": "NsqhOIlSgbOh",
        "outputId": "7629d22e-166e-41aa-f0e6-c0c4aa8a1da3"
      },
      "outputs": [
        {
          "data": {
            "text/plain": [
              "'o'"
            ]
          },
          "execution_count": 434,
          "metadata": {},
          "output_type": "execute_result"
        }
      ],
      "source": [
        "list4[0][0] # Nested indexing - Access the first character of the first list element"
      ]
    },
    {
      "cell_type": "code",
      "execution_count": null,
      "metadata": {
        "id": "ATTArsxzgbOi",
        "outputId": "dc94969c-cda6-4d43-e358-0ee3737d33f9"
      },
      "outputs": [
        {
          "data": {
            "text/plain": [
              "'three'"
            ]
          },
          "execution_count": 435,
          "metadata": {},
          "output_type": "execute_result"
        }
      ],
      "source": [
        "list4[-1] # Last item of the list"
      ]
    },
    {
      "cell_type": "code",
      "execution_count": null,
      "metadata": {
        "id": "NMSzVKiIgbOi",
        "outputId": "d339f74a-9adb-4979-bba0-8a9152b2c310"
      },
      "outputs": [
        {
          "data": {
            "text/plain": [
              "[150, 90]"
            ]
          },
          "execution_count": 436,
          "metadata": {},
          "output_type": "execute_result"
        }
      ],
      "source": [
        "list5[-1]  # Last item of the list"
      ]
    },
    {
      "cell_type": "markdown",
      "metadata": {
        "id": "FeFNVUfCgbOj"
      },
      "source": [
        "### List Slicing"
      ]
    },
    {
      "cell_type": "code",
      "execution_count": null,
      "metadata": {
        "id": "Frhb6dLFgbOk"
      },
      "outputs": [],
      "source": [
        "mylist = ['one' , 'two' , 'three' , 'four' , 'five' , 'six' , 'seven' , 'eight']"
      ]
    },
    {
      "cell_type": "code",
      "execution_count": null,
      "metadata": {
        "id": "uJwOPmfVgbOl",
        "outputId": "87385ad0-0f6c-4f65-e9ce-a531cff6697e"
      },
      "outputs": [
        {
          "data": {
            "text/plain": [
              "['one', 'two', 'three']"
            ]
          },
          "execution_count": 438,
          "metadata": {},
          "output_type": "execute_result"
        }
      ],
      "source": [
        "mylist[0:3] # Return all items from 0th to 3rd index location excluding the item at loc 3."
      ]
    },
    {
      "cell_type": "code",
      "execution_count": null,
      "metadata": {
        "id": "OSWSadTBgbOm",
        "outputId": "3c3b4496-8bb5-49af-eb44-82b44e4aa3bc"
      },
      "outputs": [
        {
          "data": {
            "text/plain": [
              "['three', 'four', 'five']"
            ]
          },
          "execution_count": 439,
          "metadata": {},
          "output_type": "execute_result"
        }
      ],
      "source": [
        "mylist[2:5] # List all items from 2nd to 5th index location excluding the item at loc 5."
      ]
    },
    {
      "cell_type": "code",
      "execution_count": null,
      "metadata": {
        "id": "NHg8QLxIgbOn",
        "outputId": "6da68add-16bc-44fb-dd84-ed2dec2cd3bf"
      },
      "outputs": [
        {
          "data": {
            "text/plain": [
              "['one', 'two', 'three']"
            ]
          },
          "execution_count": 440,
          "metadata": {},
          "output_type": "execute_result"
        }
      ],
      "source": [
        "mylist[:3] # Return first three items"
      ]
    },
    {
      "cell_type": "code",
      "execution_count": null,
      "metadata": {
        "id": "WPQPd4QvgbOo",
        "outputId": "c0afcf7c-29fb-42bb-ae32-11d5df34e0c6"
      },
      "outputs": [
        {
          "data": {
            "text/plain": [
              "['one', 'two']"
            ]
          },
          "execution_count": 441,
          "metadata": {},
          "output_type": "execute_result"
        }
      ],
      "source": [
        "mylist[:2]  # Return first two items"
      ]
    },
    {
      "cell_type": "code",
      "execution_count": null,
      "metadata": {
        "id": "vi2qlFpBgbOp",
        "outputId": "c501ff60-f0de-4093-ba61-d9980576405e"
      },
      "outputs": [
        {
          "data": {
            "text/plain": [
              "['six', 'seven', 'eight']"
            ]
          },
          "execution_count": 442,
          "metadata": {},
          "output_type": "execute_result"
        }
      ],
      "source": [
        "mylist[-3:] # Return last three items"
      ]
    },
    {
      "cell_type": "code",
      "execution_count": null,
      "metadata": {
        "id": "Ie1MNJMEgbOq",
        "outputId": "ec51cf3c-3b25-4377-e582-798400fe3db7"
      },
      "outputs": [
        {
          "data": {
            "text/plain": [
              "['seven', 'eight']"
            ]
          },
          "execution_count": 443,
          "metadata": {},
          "output_type": "execute_result"
        }
      ],
      "source": [
        "mylist[-2:] # Return last two items"
      ]
    },
    {
      "cell_type": "code",
      "execution_count": null,
      "metadata": {
        "id": "4XMM1Mc-gbOr",
        "outputId": "dc7a8353-45c3-4e7c-9b9e-a1cc950f5c69"
      },
      "outputs": [
        {
          "data": {
            "text/plain": [
              "'eight'"
            ]
          },
          "execution_count": 444,
          "metadata": {},
          "output_type": "execute_result"
        }
      ],
      "source": [
        "mylist[-1] # Return last item of the list"
      ]
    },
    {
      "cell_type": "code",
      "execution_count": null,
      "metadata": {
        "id": "8Slf-nblgbOs",
        "outputId": "4d85d8db-794e-4aa5-9e75-e58373d12dbb"
      },
      "outputs": [
        {
          "data": {
            "text/plain": [
              "['one', 'two', 'three', 'four', 'five', 'six', 'seven', 'eight']"
            ]
          },
          "execution_count": 445,
          "metadata": {},
          "output_type": "execute_result"
        }
      ],
      "source": [
        "mylist[:] # Return whole list"
      ]
    },
    {
      "cell_type": "markdown",
      "metadata": {
        "id": "bOMPAvB2gbOs"
      },
      "source": [
        "### Add , Remove & Change Items"
      ]
    },
    {
      "cell_type": "code",
      "execution_count": null,
      "metadata": {
        "id": "IyqGOEA2gbOt",
        "outputId": "a3436474-5e49-476a-decd-d8de1641a816"
      },
      "outputs": [
        {
          "data": {
            "text/plain": [
              "['one', 'two', 'three', 'four', 'five', 'six', 'seven', 'eight']"
            ]
          },
          "execution_count": 446,
          "metadata": {},
          "output_type": "execute_result"
        }
      ],
      "source": [
        "mylist"
      ]
    },
    {
      "cell_type": "code",
      "execution_count": null,
      "metadata": {
        "id": "CbJZ5R--gbOu",
        "outputId": "8550cdf7-ec06-4284-fa77-cfd76096c454"
      },
      "outputs": [
        {
          "data": {
            "text/plain": [
              "['one', 'two', 'three', 'four', 'five', 'six', 'seven', 'eight', 'nine']"
            ]
          },
          "execution_count": 447,
          "metadata": {},
          "output_type": "execute_result"
        }
      ],
      "source": [
        "mylist.append('nine') # Add an item to the end of the list\n",
        "mylist"
      ]
    },
    {
      "cell_type": "code",
      "execution_count": null,
      "metadata": {
        "id": "HcbMVrmMgbOv",
        "outputId": "d48f01e9-ffe6-41ef-fb72-e4f456e2ab13"
      },
      "outputs": [
        {
          "data": {
            "text/plain": [
              "['one', 'two', 'three', 'four', 'five', 'six', 'seven', 'eight', 'nine', 'ten']"
            ]
          },
          "execution_count": 448,
          "metadata": {},
          "output_type": "execute_result"
        }
      ],
      "source": [
        "mylist.insert(9,'ten') # Add item at index location 9\n",
        "mylist"
      ]
    },
    {
      "cell_type": "code",
      "execution_count": null,
      "metadata": {
        "id": "b9ifr8k9gbOw",
        "outputId": "7ca41a93-4173-4a96-88f5-1bd9653d36bc"
      },
      "outputs": [
        {
          "data": {
            "text/plain": [
              "['one',\n",
              " 'ONE',\n",
              " 'two',\n",
              " 'three',\n",
              " 'four',\n",
              " 'five',\n",
              " 'six',\n",
              " 'seven',\n",
              " 'eight',\n",
              " 'nine',\n",
              " 'ten']"
            ]
          },
          "execution_count": 449,
          "metadata": {},
          "output_type": "execute_result"
        }
      ],
      "source": [
        "mylist.insert(1,'ONE') # Add item at index location 1\n",
        "mylist"
      ]
    },
    {
      "cell_type": "code",
      "execution_count": null,
      "metadata": {
        "id": "YCmeK0kagbOw",
        "outputId": "288eadf2-8774-4095-c333-fe0be648b0e7"
      },
      "outputs": [
        {
          "data": {
            "text/plain": [
              "['one', 'two', 'three', 'four', 'five', 'six', 'seven', 'eight', 'nine', 'ten']"
            ]
          },
          "execution_count": 450,
          "metadata": {},
          "output_type": "execute_result"
        }
      ],
      "source": [
        "mylist.remove('ONE') # Remove item \"ONE\"\n",
        "mylist"
      ]
    },
    {
      "cell_type": "code",
      "execution_count": null,
      "metadata": {
        "id": "uxmKkGvUgbOx",
        "outputId": "49c357a7-9421-461b-e137-d34751c1155b"
      },
      "outputs": [
        {
          "data": {
            "text/plain": [
              "['one', 'two', 'three', 'four', 'five', 'six', 'seven', 'eight', 'nine']"
            ]
          },
          "execution_count": 451,
          "metadata": {},
          "output_type": "execute_result"
        }
      ],
      "source": [
        "mylist.pop() # Remove last item of the list\n",
        "mylist"
      ]
    },
    {
      "cell_type": "code",
      "execution_count": null,
      "metadata": {
        "id": "PbAeLmdggbOy",
        "outputId": "25c0e2a8-609b-422c-ce4f-5c40607d788c"
      },
      "outputs": [
        {
          "data": {
            "text/plain": [
              "['one', 'two', 'three', 'four', 'five', 'six', 'seven', 'eight']"
            ]
          },
          "execution_count": 452,
          "metadata": {},
          "output_type": "execute_result"
        }
      ],
      "source": [
        "mylist.pop(8) # Remove item at index location 8\n",
        "mylist"
      ]
    },
    {
      "cell_type": "code",
      "execution_count": null,
      "metadata": {
        "id": "dJrsLmb3gbOy",
        "outputId": "aa2166c8-d774-4fe7-9a89-9cd173ff2c2a"
      },
      "outputs": [
        {
          "data": {
            "text/plain": [
              "['one', 'two', 'three', 'four', 'five', 'six', 'seven']"
            ]
          },
          "execution_count": 453,
          "metadata": {},
          "output_type": "execute_result"
        }
      ],
      "source": [
        "del mylist[7] # Remove item at index location 7\n",
        "mylist"
      ]
    },
    {
      "cell_type": "code",
      "execution_count": null,
      "metadata": {
        "id": "CynlBGhIgbO0",
        "outputId": "7c904b34-f8a7-495c-da13-eec1615346ff"
      },
      "outputs": [
        {
          "data": {
            "text/plain": [
              "[1, 2, 3, 'four', 'five', 'six', 'seven']"
            ]
          },
          "execution_count": 454,
          "metadata": {},
          "output_type": "execute_result"
        }
      ],
      "source": [
        "# Change value of the string\n",
        "mylist[0] = 1\n",
        "mylist[1] = 2\n",
        "mylist[2] = 3\n",
        "mylist"
      ]
    },
    {
      "cell_type": "code",
      "execution_count": null,
      "metadata": {
        "id": "lhRJdpQxgbO1",
        "outputId": "2d66bb50-8cc3-4c37-c06c-eaf28863da53"
      },
      "outputs": [
        {
          "data": {
            "text/plain": [
              "[]"
            ]
          },
          "execution_count": 455,
          "metadata": {},
          "output_type": "execute_result"
        }
      ],
      "source": [
        "mylist.clear()  # Empty List / Delete all items in the list\n",
        "mylist"
      ]
    },
    {
      "cell_type": "code",
      "execution_count": null,
      "metadata": {
        "id": "qoSWSnJ7gbO2",
        "outputId": "3f2d20f2-16a5-475b-f3b9-27a38b594f4e"
      },
      "outputs": [
        {
          "ename": "NameError",
          "evalue": "name 'mylist' is not defined",
          "output_type": "error",
          "traceback": [
            "\u001b[1;31m---------------------------------------------------------------------------\u001b[0m",
            "\u001b[1;31mNameError\u001b[0m                                 Traceback (most recent call last)",
            "\u001b[1;32m<ipython-input-456-50c7849aa2cb>\u001b[0m in \u001b[0;36m<module>\u001b[1;34m\u001b[0m\n\u001b[0;32m      1\u001b[0m \u001b[1;32mdel\u001b[0m \u001b[0mmylist\u001b[0m \u001b[1;31m# Delete the whole list\u001b[0m\u001b[1;33m\u001b[0m\u001b[1;33m\u001b[0m\u001b[0m\n\u001b[1;32m----> 2\u001b[1;33m \u001b[0mmylist\u001b[0m\u001b[1;33m\u001b[0m\u001b[1;33m\u001b[0m\u001b[0m\n\u001b[0m",
            "\u001b[1;31mNameError\u001b[0m: name 'mylist' is not defined"
          ]
        }
      ],
      "source": [
        "del mylist # Delete the whole list\n",
        "mylist"
      ]
    },
    {
      "cell_type": "markdown",
      "metadata": {
        "id": "luqCgTf0gbO4"
      },
      "source": [
        "### Copy List"
      ]
    },
    {
      "cell_type": "code",
      "execution_count": null,
      "metadata": {
        "id": "Zs-XUuVJgbO5"
      },
      "outputs": [],
      "source": [
        "mylist = ['one', 'two', 'three', 'four', 'five', 'six', 'seven', 'eight', 'nine', 'ten']"
      ]
    },
    {
      "cell_type": "code",
      "execution_count": null,
      "metadata": {
        "id": "sry4twnjgbO6"
      },
      "outputs": [],
      "source": [
        "mylist1 = mylist # Create a new reference \"mylist1\""
      ]
    },
    {
      "cell_type": "code",
      "execution_count": null,
      "metadata": {
        "id": "qLpuTmJagbO6",
        "outputId": "f33ca0b2-a238-4603-83ff-785d19e4901e"
      },
      "outputs": [
        {
          "data": {
            "text/plain": [
              "(1537348392776, 1537348392776)"
            ]
          },
          "execution_count": 459,
          "metadata": {},
          "output_type": "execute_result"
        }
      ],
      "source": [
        "id(mylist) , id(mylist1) # The address of both mylist & mylist1 will be the same as both are pointing to same list."
      ]
    },
    {
      "cell_type": "code",
      "execution_count": null,
      "metadata": {
        "id": "dh4XRJIegbO7"
      },
      "outputs": [],
      "source": [
        "mylist2 = mylist.copy() # Create a copy of the list"
      ]
    },
    {
      "cell_type": "code",
      "execution_count": null,
      "metadata": {
        "id": "pWAceD1PgbO8",
        "outputId": "7ce7242d-579b-40fa-a174-4bb1698979ce"
      },
      "outputs": [
        {
          "data": {
            "text/plain": [
              "1537345955016"
            ]
          },
          "execution_count": 461,
          "metadata": {},
          "output_type": "execute_result"
        }
      ],
      "source": [
        "id(mylist2) # The address of mylist2 will be different from mylist because mylist2 is pointing to the copy of the existing list"
      ]
    },
    {
      "cell_type": "code",
      "execution_count": null,
      "metadata": {
        "id": "A16pY2vPgbO9"
      },
      "outputs": [],
      "source": [
        "mylist[0] = 1"
      ]
    },
    {
      "cell_type": "code",
      "execution_count": null,
      "metadata": {
        "id": "PO8KoVFNgbO9",
        "outputId": "fd75db2f-1a45-4971-df78-ab126e77b8da"
      },
      "outputs": [
        {
          "data": {
            "text/plain": [
              "[1, 'two', 'three', 'four', 'five', 'six', 'seven', 'eight', 'nine', 'ten']"
            ]
          },
          "execution_count": 463,
          "metadata": {},
          "output_type": "execute_result"
        }
      ],
      "source": [
        "mylist"
      ]
    },
    {
      "cell_type": "code",
      "execution_count": null,
      "metadata": {
        "id": "2OxIB3AvgbO-",
        "outputId": "621de7cd-1e5f-4e5f-b9b8-7d8f95503bf6"
      },
      "outputs": [
        {
          "data": {
            "text/plain": [
              "[1, 'two', 'three', 'four', 'five', 'six', 'seven', 'eight', 'nine', 'ten']"
            ]
          },
          "execution_count": 464,
          "metadata": {},
          "output_type": "execute_result"
        }
      ],
      "source": [
        "mylist1 # mylist1 will be also impacted as it is pointing to the same list"
      ]
    },
    {
      "cell_type": "code",
      "execution_count": null,
      "metadata": {
        "id": "Z3D9buRQgbPA",
        "outputId": "fa5a2740-464b-4ce4-f447-a2dcf0547476"
      },
      "outputs": [
        {
          "data": {
            "text/plain": [
              "['one', 'two', 'three', 'four', 'five', 'six', 'seven', 'eight', 'nine', 'ten']"
            ]
          },
          "execution_count": 465,
          "metadata": {},
          "output_type": "execute_result"
        }
      ],
      "source": [
        "mylist2 # Copy of list won't be impacted due to changes made on the original list"
      ]
    },
    {
      "cell_type": "markdown",
      "metadata": {
        "id": "aW0FdOeWgbPA"
      },
      "source": [
        "### Join Lists"
      ]
    },
    {
      "cell_type": "code",
      "execution_count": null,
      "metadata": {
        "id": "Yi22WydNgbPB"
      },
      "outputs": [],
      "source": [
        "list1 = ['one', 'two', 'three', 'four']\n",
        "list2 = ['five', 'six', 'seven', 'eight']"
      ]
    },
    {
      "cell_type": "code",
      "execution_count": null,
      "metadata": {
        "id": "71xztpdFgbPB",
        "outputId": "89dffa98-1996-4107-b4ad-1d7360031ee0"
      },
      "outputs": [
        {
          "data": {
            "text/plain": [
              "['one', 'two', 'three', 'four', 'five', 'six', 'seven', 'eight']"
            ]
          },
          "execution_count": 467,
          "metadata": {},
          "output_type": "execute_result"
        }
      ],
      "source": [
        "list3 = list1 + list2 # Join two lists by '+' operator\n",
        "list3"
      ]
    },
    {
      "cell_type": "code",
      "execution_count": null,
      "metadata": {
        "id": "8Fq9quDagbPC",
        "outputId": "af4bccc2-da0d-408f-d5ab-b6f9c6b013e5"
      },
      "outputs": [
        {
          "data": {
            "text/plain": [
              "['one', 'two', 'three', 'four', 'five', 'six', 'seven', 'eight']"
            ]
          },
          "execution_count": 468,
          "metadata": {},
          "output_type": "execute_result"
        }
      ],
      "source": [
        "list1.extend(list2) #Append list2 with list1\n",
        "list1"
      ]
    },
    {
      "cell_type": "code",
      "execution_count": null,
      "metadata": {
        "id": "dLA8chg5gbPC",
        "outputId": "d5288ed6-577b-4a84-8d7f-cef72ec2b9bc"
      },
      "outputs": [
        {
          "data": {
            "text/plain": [
              "'Hello & Good Morning & Everyone'"
            ]
          },
          "execution_count": 10,
          "metadata": {},
          "output_type": "execute_result"
        }
      ],
      "source": [
        "# Join Method\n",
        "input_str = [\"Hello\" , \"Good Morning\" , \"Everyone\"]\n",
        "mystr = ' & '.join(input_str)\n",
        "mystr"
      ]
    },
    {
      "cell_type": "code",
      "execution_count": null,
      "metadata": {
        "id": "fblv6cdXgbPD",
        "outputId": "705b5032-1bd5-4d38-a098-5bdcd4baa4b6"
      },
      "outputs": [
        {
          "data": {
            "text/plain": [
              "'Hello Good Morning Everyone'"
            ]
          },
          "execution_count": 11,
          "metadata": {},
          "output_type": "execute_result"
        }
      ],
      "source": [
        "# Join Method\n",
        "input_str = [\"Hello\" , \"Good Morning\" , \"Everyone\"]\n",
        "mystr = ' '.join(input_str)\n",
        "mystr"
      ]
    },
    {
      "cell_type": "markdown",
      "metadata": {
        "id": "x_n9GU1lgbPF"
      },
      "source": [
        "### List Membership"
      ]
    },
    {
      "cell_type": "code",
      "execution_count": null,
      "metadata": {
        "id": "Ff-mHb--gbPG",
        "outputId": "16b2b4aa-7e0a-4ac3-a98f-97f4f23f20a1"
      },
      "outputs": [
        {
          "data": {
            "text/plain": [
              "['one', 'two', 'three', 'four', 'five', 'six', 'seven', 'eight']"
            ]
          },
          "execution_count": 469,
          "metadata": {},
          "output_type": "execute_result"
        }
      ],
      "source": [
        "list1"
      ]
    },
    {
      "cell_type": "code",
      "execution_count": null,
      "metadata": {
        "id": "2NZZtARHgbPH",
        "outputId": "3ed743bf-1412-4cdd-e718-58584ced6f15"
      },
      "outputs": [
        {
          "data": {
            "text/plain": [
              "True"
            ]
          },
          "execution_count": 470,
          "metadata": {},
          "output_type": "execute_result"
        }
      ],
      "source": [
        "'one' in list1 # Check if 'one' exist in the list"
      ]
    },
    {
      "cell_type": "code",
      "execution_count": null,
      "metadata": {
        "id": "i1eN4iqbgbPI",
        "outputId": "e58cdbbc-b62c-470a-a2ed-8591bcfd4730"
      },
      "outputs": [
        {
          "data": {
            "text/plain": [
              "False"
            ]
          },
          "execution_count": 471,
          "metadata": {},
          "output_type": "execute_result"
        }
      ],
      "source": [
        "'ten' in list1 # Check if 'ten' exist in the list"
      ]
    },
    {
      "cell_type": "code",
      "execution_count": null,
      "metadata": {
        "id": "1huMIsnqgbPJ",
        "outputId": "8692baa2-a3b0-4872-f20c-d56b60d531de"
      },
      "outputs": [
        {
          "name": "stdout",
          "output_type": "stream",
          "text": [
            "Three is present in the list\n"
          ]
        }
      ],
      "source": [
        "if 'three' in list1: # Check if 'three' exist in the list\n",
        "    print('Three is present in the list')\n",
        "else:\n",
        "    print('Three is not present in the list')"
      ]
    },
    {
      "cell_type": "code",
      "execution_count": null,
      "metadata": {
        "id": "oQ9ZpgkegbPJ",
        "outputId": "1a70087c-88ad-4780-88f4-de65f4a5d399"
      },
      "outputs": [
        {
          "name": "stdout",
          "output_type": "stream",
          "text": [
            "eleven is not present in the list\n"
          ]
        }
      ],
      "source": [
        "if 'eleven' in list1:  # Check if 'eleven' exist in the list\n",
        "    print('eleven is present in the list')\n",
        "else:\n",
        "    print('eleven is not present in the list')"
      ]
    },
    {
      "cell_type": "markdown",
      "metadata": {
        "id": "rZTPEt9jgbPK"
      },
      "source": [
        "### Reverse & Sort List"
      ]
    },
    {
      "cell_type": "code",
      "execution_count": null,
      "metadata": {
        "id": "Ps2vguIdgbPL",
        "outputId": "58e2e402-862d-48cf-cdf8-c1a4d7b76713"
      },
      "outputs": [
        {
          "data": {
            "text/plain": [
              "['one', 'two', 'three', 'four', 'five', 'six', 'seven', 'eight']"
            ]
          },
          "execution_count": 474,
          "metadata": {},
          "output_type": "execute_result"
        }
      ],
      "source": [
        "list1"
      ]
    },
    {
      "cell_type": "code",
      "execution_count": null,
      "metadata": {
        "id": "hACN_SqwgbPL",
        "outputId": "31907971-c65b-440f-eaa2-a9d536618bd6"
      },
      "outputs": [
        {
          "data": {
            "text/plain": [
              "['eight', 'seven', 'six', 'five', 'four', 'three', 'two', 'one']"
            ]
          },
          "execution_count": 475,
          "metadata": {},
          "output_type": "execute_result"
        }
      ],
      "source": [
        "list1.reverse() # Reverse the list\n",
        "list1"
      ]
    },
    {
      "cell_type": "code",
      "execution_count": null,
      "metadata": {
        "id": "hHLS7c1mgbPM",
        "outputId": "aeabeaed-5530-406e-d2b7-f293ea0131f8"
      },
      "outputs": [
        {
          "data": {
            "text/plain": [
              "['one', 'two', 'three', 'four', 'five', 'six', 'seven', 'eight']"
            ]
          },
          "execution_count": 476,
          "metadata": {},
          "output_type": "execute_result"
        }
      ],
      "source": [
        "list1 = list1[::-1] # Reverse the list\n",
        "list1"
      ]
    },
    {
      "cell_type": "code",
      "execution_count": null,
      "metadata": {
        "id": "DSDHi40ZgbPN",
        "outputId": "54ddac0c-efb3-477b-b1ce-6a32634c230f"
      },
      "outputs": [
        {
          "data": {
            "text/plain": [
              "[2, 5, 9, 12, 34, 88, 99]"
            ]
          },
          "execution_count": 477,
          "metadata": {},
          "output_type": "execute_result"
        }
      ],
      "source": [
        "mylist3 = [9,5,2,99,12,88,34]\n",
        "mylist3.sort()   # Sort list in ascending order\n",
        "mylist3"
      ]
    },
    {
      "cell_type": "code",
      "execution_count": null,
      "metadata": {
        "id": "sBZiNjyzgbPO",
        "outputId": "74f634b3-e991-45e8-c229-495bab4cb1f9"
      },
      "outputs": [
        {
          "data": {
            "text/plain": [
              "[99, 88, 34, 12, 9, 5, 2]"
            ]
          },
          "execution_count": 478,
          "metadata": {},
          "output_type": "execute_result"
        }
      ],
      "source": [
        "mylist3 = [9,5,2,99,12,88,34]\n",
        "mylist3.sort(reverse=True)  # Sort list in descending order\n",
        "mylist3"
      ]
    },
    {
      "cell_type": "code",
      "execution_count": null,
      "metadata": {
        "id": "wzmLOS3WgbPP",
        "outputId": "c545b7b4-d9bc-4d83-fa3d-d8256a835b7f"
      },
      "outputs": [
        {
          "data": {
            "text/plain": [
              "[11, 21, 33, 65, 88, 98]"
            ]
          },
          "execution_count": 584,
          "metadata": {},
          "output_type": "execute_result"
        }
      ],
      "source": [
        "mylist4 = [88,65,33,21,11,98]\n",
        "sorted(mylist4)        # Returns a new sorted list and doesn't change original list"
      ]
    },
    {
      "cell_type": "code",
      "execution_count": null,
      "metadata": {
        "id": "6EkEFNDigbPP",
        "outputId": "9891822b-31d3-451d-bdc0-21b32425b1cd"
      },
      "outputs": [
        {
          "data": {
            "text/plain": [
              "[88, 65, 33, 21, 11, 98]"
            ]
          },
          "execution_count": 585,
          "metadata": {},
          "output_type": "execute_result"
        }
      ],
      "source": [
        "mylist4"
      ]
    },
    {
      "cell_type": "markdown",
      "metadata": {
        "id": "rdG4KWvLgbPQ"
      },
      "source": [
        "### Loop through a list"
      ]
    },
    {
      "cell_type": "code",
      "execution_count": null,
      "metadata": {
        "id": "EJFWP1QMgbPQ",
        "outputId": "4c412392-ffa9-409e-c0aa-aff1b21e75c9"
      },
      "outputs": [
        {
          "data": {
            "text/plain": [
              "['one', 'two', 'three', 'four', 'five', 'six', 'seven', 'eight']"
            ]
          },
          "execution_count": 481,
          "metadata": {},
          "output_type": "execute_result"
        }
      ],
      "source": [
        "list1"
      ]
    },
    {
      "cell_type": "code",
      "execution_count": null,
      "metadata": {
        "id": "brLsl9_tgbPR",
        "outputId": "e360e952-bef8-467f-8ce9-ebb3bc635269"
      },
      "outputs": [
        {
          "name": "stdout",
          "output_type": "stream",
          "text": [
            "one\n",
            "two\n",
            "three\n",
            "four\n",
            "five\n",
            "six\n",
            "seven\n",
            "eight\n"
          ]
        }
      ],
      "source": [
        "for i in list1:\n",
        "    print(i)"
      ]
    },
    {
      "cell_type": "code",
      "execution_count": null,
      "metadata": {
        "id": "COLfaStYgbPS",
        "outputId": "a86f2cce-aea3-4e1f-b1a2-6c27816be071"
      },
      "outputs": [
        {
          "name": "stdout",
          "output_type": "stream",
          "text": [
            "(0, 'one')\n",
            "(1, 'two')\n",
            "(2, 'three')\n",
            "(3, 'four')\n",
            "(4, 'five')\n",
            "(5, 'six')\n",
            "(6, 'seven')\n",
            "(7, 'eight')\n"
          ]
        }
      ],
      "source": [
        "for i in enumerate(list1):\n",
        "    print(i)"
      ]
    },
    {
      "cell_type": "markdown",
      "metadata": {
        "id": "tkJzzK8BgbPV"
      },
      "source": [
        "### Count"
      ]
    },
    {
      "cell_type": "code",
      "execution_count": null,
      "metadata": {
        "id": "2UqbcyO8gbPW"
      },
      "outputs": [],
      "source": [
        "list10 =['one', 'two', 'three', 'four', 'one', 'one', 'two', 'three']"
      ]
    },
    {
      "cell_type": "code",
      "execution_count": null,
      "metadata": {
        "id": "DsauVNSqgbPX",
        "outputId": "af918398-b0dc-493d-df67-98fada16fe15"
      },
      "outputs": [
        {
          "data": {
            "text/plain": [
              "3"
            ]
          },
          "execution_count": 486,
          "metadata": {},
          "output_type": "execute_result"
        }
      ],
      "source": [
        "list10.count('one') # Number of times item \"one\" occurred in the list."
      ]
    },
    {
      "cell_type": "code",
      "execution_count": null,
      "metadata": {
        "id": "blQTsgCxgbPY",
        "outputId": "2876e380-8166-4262-b708-61a230a9bb6b"
      },
      "outputs": [
        {
          "data": {
            "text/plain": [
              "2"
            ]
          },
          "execution_count": 487,
          "metadata": {},
          "output_type": "execute_result"
        }
      ],
      "source": [
        "list10.count('two') # Occurence of item 'two' in the list"
      ]
    },
    {
      "cell_type": "code",
      "execution_count": null,
      "metadata": {
        "id": "mIadmWPcgbPZ",
        "outputId": "c6b02803-8c5a-49b3-d276-910ae04bb359"
      },
      "outputs": [
        {
          "data": {
            "text/plain": [
              "1"
            ]
          },
          "execution_count": 489,
          "metadata": {},
          "output_type": "execute_result"
        }
      ],
      "source": [
        "list10.count('four') #Occurence of item 'four' in the list"
      ]
    },
    {
      "cell_type": "markdown",
      "metadata": {
        "id": "XuoJVtfpgbPa"
      },
      "source": [
        "### All / Any"
      ]
    },
    {
      "cell_type": "markdown",
      "metadata": {
        "id": "wLM_Qtb8gbPa"
      },
      "source": [
        "The __all()__ method returns:\n",
        "\n",
        "- __True__ - If all elements in a list are true\n",
        "- __False__ - If any element in a list is false\n",
        "\n",
        "\n",
        "The __any()__ function returns True if any element in the list is True. If not, any() returns False."
      ]
    },
    {
      "cell_type": "code",
      "execution_count": null,
      "metadata": {
        "id": "Jp7PxhH_gbPb"
      },
      "outputs": [],
      "source": [
        "L1 = [1,2,3,4,0]"
      ]
    },
    {
      "cell_type": "code",
      "execution_count": null,
      "metadata": {
        "id": "P7MmLhpGgbPc",
        "outputId": "c50298f9-a7d5-41c0-d8e4-5e020b9b3c87"
      },
      "outputs": [
        {
          "data": {
            "text/plain": [
              "False"
            ]
          },
          "execution_count": 817,
          "metadata": {},
          "output_type": "execute_result"
        }
      ],
      "source": [
        "all(L1) # Will Return false as one value is false (Value 0)"
      ]
    },
    {
      "cell_type": "code",
      "execution_count": null,
      "metadata": {
        "id": "0-5OtlnogbPd",
        "outputId": "eb499c8b-9c90-4db6-8ca3-bfda6a00924b"
      },
      "outputs": [
        {
          "data": {
            "text/plain": [
              "True"
            ]
          },
          "execution_count": 818,
          "metadata": {},
          "output_type": "execute_result"
        }
      ],
      "source": [
        "any(L1)  # Will Return True as we have items in the list with True value"
      ]
    },
    {
      "cell_type": "code",
      "execution_count": null,
      "metadata": {
        "id": "wc4nvAYMgbPe"
      },
      "outputs": [],
      "source": [
        "L2 = [1,2,3,4,True,False]"
      ]
    },
    {
      "cell_type": "code",
      "execution_count": null,
      "metadata": {
        "id": "h4jjn9FdgbPf",
        "outputId": "83e4224d-6ff4-408c-9c5c-4db7df4a4e97"
      },
      "outputs": [
        {
          "data": {
            "text/plain": [
              "False"
            ]
          },
          "execution_count": 820,
          "metadata": {},
          "output_type": "execute_result"
        }
      ],
      "source": [
        "all(L2) # Returns false as one value is false"
      ]
    },
    {
      "cell_type": "code",
      "execution_count": null,
      "metadata": {
        "id": "Hroqx05bgbPg",
        "outputId": "28700586-dd1d-4c4a-bd47-b18e4b431d63"
      },
      "outputs": [
        {
          "data": {
            "text/plain": [
              "True"
            ]
          },
          "execution_count": 821,
          "metadata": {},
          "output_type": "execute_result"
        }
      ],
      "source": [
        "any(L2)  # Will Return True as we have items in the list with True value"
      ]
    },
    {
      "cell_type": "code",
      "execution_count": null,
      "metadata": {
        "id": "M5CwWdO9gbPg"
      },
      "outputs": [],
      "source": [
        "L3 = [1,2,3,True]"
      ]
    },
    {
      "cell_type": "code",
      "execution_count": null,
      "metadata": {
        "id": "dIuKyWTMgbPh",
        "outputId": "be4ba7f3-add6-4c0c-977a-50f9c79902d2"
      },
      "outputs": [
        {
          "data": {
            "text/plain": [
              "True"
            ]
          },
          "execution_count": 823,
          "metadata": {},
          "output_type": "execute_result"
        }
      ],
      "source": [
        "all(L3) # Will return True as all items in the list are True"
      ]
    },
    {
      "cell_type": "code",
      "execution_count": null,
      "metadata": {
        "id": "v7BwaW21gbPi",
        "outputId": "389575ab-c8d3-4d0e-9afd-3764587c4d7f"
      },
      "outputs": [
        {
          "data": {
            "text/plain": [
              "True"
            ]
          },
          "execution_count": 824,
          "metadata": {},
          "output_type": "execute_result"
        }
      ],
      "source": [
        "any(L3) # Will Return True as we have items in the list with True value"
      ]
    },
    {
      "cell_type": "markdown",
      "metadata": {
        "id": "eIUG_WMigbPj"
      },
      "source": [
        "### List Comprehensions"
      ]
    },
    {
      "cell_type": "markdown",
      "metadata": {
        "id": "2fiA1kSzgbPk"
      },
      "source": [
        "- List Comprehensions provide an elegant way to create new lists.\n",
        "\n",
        "- It consists of brackets containing an expression followed by a for clause, then zero or more for or if clauses."
      ]
    },
    {
      "cell_type": "code",
      "execution_count": null,
      "metadata": {
        "id": "PG6fa-KhgbPl",
        "outputId": "5f35426b-9b03-420f-ce03-7837a0aeb451"
      },
      "outputs": [
        {
          "data": {
            "text/plain": [
              "['W', 'E', 'L', 'C', 'O', 'M', 'E']"
            ]
          },
          "execution_count": 287,
          "metadata": {},
          "output_type": "execute_result"
        }
      ],
      "source": [
        "mystring = \"WELCOME\"\n",
        "mylist = [ i for i in mystring ] # Iterating through a string Using List Comprehension\n",
        "mylist"
      ]
    },
    {
      "cell_type": "code",
      "execution_count": null,
      "metadata": {
        "id": "gZ6-L65DgbPm",
        "outputId": "b2537aa6-156d-4924-e24f-bb8f4432d8f6"
      },
      "outputs": [
        {
          "data": {
            "text/plain": [
              "[0, 2, 4, 6, 8, 10, 12, 14, 16, 18, 20, 22, 24, 26, 28, 30, 32, 34, 36, 38]"
            ]
          },
          "execution_count": 289,
          "metadata": {},
          "output_type": "execute_result"
        }
      ],
      "source": [
        "mylist1 = [ i for i in range(40) if i % 2 == 0] # Display all even numbers between 0 - 40 using List Comprehension\n",
        "mylist1"
      ]
    },
    {
      "cell_type": "code",
      "execution_count": null,
      "metadata": {
        "id": "QdEtTy1BgbPo",
        "outputId": "e4e39e6b-88d7-4709-9801-29baefa53448"
      },
      "outputs": [
        {
          "data": {
            "text/plain": [
              "[1, 3, 5, 7, 9, 11, 13, 15, 17, 19, 21, 23, 25, 27, 29, 31, 33, 35, 37, 39]"
            ]
          },
          "execution_count": 290,
          "metadata": {},
          "output_type": "execute_result"
        }
      ],
      "source": [
        "mylist2 = [ i for i in range(40) if i % 2 == 1] # Display all odd numbers between 0 - 40 using List Comprehension\n",
        "mylist2"
      ]
    },
    {
      "cell_type": "code",
      "execution_count": null,
      "metadata": {
        "id": "sDzYgrvpgbPp",
        "outputId": "4169c8ea-4fcd-4ed5-e7a2-0b2c8b3bf7c5"
      },
      "outputs": [
        {
          "data": {
            "text/plain": [
              "[0, 1, 4, 9, 16, 25, 36, 49, 64, 81]"
            ]
          },
          "execution_count": 325,
          "metadata": {},
          "output_type": "execute_result"
        }
      ],
      "source": [
        "mylist3 = [num**2 for num in range(10)] # calculate square of all numbers between 0 - 10 using List Comprehension\n",
        "mylist3"
      ]
    },
    {
      "cell_type": "markdown",
      "metadata": {
        "id": "pUihkDPpgbPq"
      },
      "source": [
        "<img src=\"Lcomprehension.PNG\">"
      ]
    },
    {
      "cell_type": "code",
      "execution_count": null,
      "metadata": {
        "colab": {
          "base_uri": "https://localhost:8080/"
        },
        "id": "2YvB1aG7gbPq",
        "outputId": "fdf3abc5-4b7f-4163-d3af-55568620c9c9"
      },
      "outputs": [
        {
          "output_type": "execute_result",
          "data": {
            "text/plain": [
              "[20, 30, 40, 50, 60, 70, 80]"
            ]
          },
          "metadata": {},
          "execution_count": 6
        }
      ],
      "source": [
        "# Multiple whole list by 10\n",
        "list1 = [2,3,4,5,6,7,8]\n",
        "list1 = [i*10 for i in list1]\n",
        "list1"
      ]
    },
    {
      "cell_type": "code",
      "execution_count": null,
      "metadata": {
        "id": "ce8FVW7_gbPr",
        "outputId": "f3b89693-dd69-4e44-d02e-9bb40e437421"
      },
      "outputs": [
        {
          "data": {
            "text/plain": [
              "[0, 36, 72, 108, 144, 180]"
            ]
          },
          "execution_count": 299,
          "metadata": {},
          "output_type": "execute_result"
        }
      ],
      "source": [
        "#List all numbers divisible by 3 , 9 & 12 using nested \"if\" with List Comprehension\n",
        "mylist4 = [i for i in range(200) if i % 3 == 0 if i % 9 == 0 if i % 12 == 0]\n",
        "mylist4"
      ]
    },
    {
      "cell_type": "code",
      "execution_count": null,
      "metadata": {
        "id": "oIGNPCN-gbPr",
        "outputId": "50cbe17e-c3d8-4a74-cd29-c50920dd59cc"
      },
      "outputs": [
        {
          "name": "stdout",
          "output_type": "stream",
          "text": [
            "0 is Even Number\n",
            "1 is odd number\n",
            "2 is Even Number\n",
            "3 is odd number\n",
            "4 is Even Number\n",
            "5 is odd number\n",
            "6 is Even Number\n",
            "7 is odd number\n",
            "8 is Even Number\n",
            "9 is odd number\n"
          ]
        }
      ],
      "source": [
        "# Odd even test\n",
        "l1 = [print(\"{} is Even Number\".format(i)) if i%2==0 else print(\"{} is odd number\".format(i)) for i in range(10)]"
      ]
    },
    {
      "cell_type": "code",
      "execution_count": null,
      "metadata": {
        "id": "Z9Brmw_5gbPs",
        "outputId": "60527478-4a1f-4d74-bb83-dc7026212ad7"
      },
      "outputs": [
        {
          "data": {
            "text/plain": [
              "['1', '2', '3', '4', '5', '6', '7', '8', '9']"
            ]
          },
          "execution_count": 315,
          "metadata": {},
          "output_type": "execute_result"
        }
      ],
      "source": [
        "# Extract numbers from a string\n",
        "mystr = \"One 1 two 2 three 3 four 4 five 5 six 6789\"\n",
        "numbers = [i for i in mystr if i.isdigit()]\n",
        "numbers"
      ]
    },
    {
      "cell_type": "code",
      "execution_count": null,
      "metadata": {
        "id": "84ITscoJgbPs",
        "outputId": "7c806025-7ce5-4d0a-898d-f36ead8196a1"
      },
      "outputs": [
        {
          "data": {
            "text/plain": [
              "['O',\n",
              " 'n',\n",
              " 'e',\n",
              " 't',\n",
              " 'w',\n",
              " 'o',\n",
              " 't',\n",
              " 'h',\n",
              " 'r',\n",
              " 'e',\n",
              " 'e',\n",
              " 'f',\n",
              " 'o',\n",
              " 'u',\n",
              " 'r',\n",
              " 'f',\n",
              " 'i',\n",
              " 'v',\n",
              " 'e',\n",
              " 's',\n",
              " 'i',\n",
              " 'x']"
            ]
          },
          "execution_count": 316,
          "metadata": {},
          "output_type": "execute_result"
        }
      ],
      "source": [
        "# Extract letters from a string\n",
        "\n",
        "mystr = \"One 1 two 2 three 3 four 4 five 5 six 6789\"\n",
        "numbers = [i for i in mystr if i.isalpha()]\n",
        "numbers"
      ]
    },
    {
      "cell_type": "code",
      "execution_count": null,
      "metadata": {
        "id": "S-suR0AegbPt",
        "outputId": "6716a7bc-61aa-4116-97fa-d03b6c850f49"
      },
      "outputs": [
        {
          "data": {
            "text/plain": [
              "['Extra Small', 'Small', 'Medium', 'Large', 'Extra Large']"
            ]
          },
          "execution_count": 1,
          "metadata": {},
          "output_type": "execute_result"
        }
      ],
      "source": [
        "# If else in List Comprehension\n",
        "list1 = ['XS' , 'S', 'M' , 'L' , 'XL']\n",
        "\n",
        "['Extra Small' if i =='XS' else ('Small' if i =='S' else ('Medium' if i =='M'\n",
        "                                                          else ('Large' if i=='L' else 'Extra Large')))  for i in list1]"
      ]
    },
    {
      "cell_type": "markdown",
      "metadata": {
        "id": "jpj246VfgbPu"
      },
      "source": [
        "# Tuples"
      ]
    },
    {
      "cell_type": "markdown",
      "metadata": {
        "id": "v74xkR2wgbPu"
      },
      "source": [
        "1. Tuple is similar to List except that the objects in tuple are immutable which means we cannot change the elements of a tuple once assigned.\n",
        "\n",
        "2. When we do not want to change the data over time, tuple is a preferred data type.\n",
        "\n",
        "3. Iterating over the elements of a tuple is faster compared to iterating over a list."
      ]
    },
    {
      "cell_type": "markdown",
      "metadata": {
        "id": "iR3GVAV1gbPu"
      },
      "source": [
        "### Tuple Creation"
      ]
    },
    {
      "cell_type": "code",
      "execution_count": null,
      "metadata": {
        "id": "0-t5e3LrgbPv"
      },
      "outputs": [],
      "source": [
        "tup1 = ()      # Empty tuple"
      ]
    },
    {
      "cell_type": "code",
      "execution_count": null,
      "metadata": {
        "id": "fG9_HKScgbPv"
      },
      "outputs": [],
      "source": [
        "tup2 = (10,30,60)      # tuple of integers numbers"
      ]
    },
    {
      "cell_type": "code",
      "execution_count": null,
      "metadata": {
        "id": "9qMCavYYgbPv"
      },
      "outputs": [],
      "source": [
        "tup3 = (10.77,30.66,60.89)       # tuple of float numbers"
      ]
    },
    {
      "cell_type": "code",
      "execution_count": null,
      "metadata": {
        "id": "ErVRK9NqgbPw"
      },
      "outputs": [],
      "source": [
        "tup4 = ('one','two' , \"three\")   # tuple of strings"
      ]
    },
    {
      "cell_type": "code",
      "execution_count": null,
      "metadata": {
        "id": "EXYWbuBAgbPw"
      },
      "outputs": [],
      "source": [
        "tup5 = ('Asif', 25 ,(50, 100),(150, 90))   # Nested tuples"
      ]
    },
    {
      "cell_type": "code",
      "execution_count": null,
      "metadata": {
        "id": "tvXmbrlqgbPw"
      },
      "outputs": [],
      "source": [
        "tup6 = (100, 'Asif', 17.765)   # Tuple of mixed data types"
      ]
    },
    {
      "cell_type": "code",
      "execution_count": null,
      "metadata": {
        "id": "PIHbzGlggbPx"
      },
      "outputs": [],
      "source": [
        "tup7 = ('Asif', 25 ,[50, 100],[150, 90] , {'John' , 'David'} , (99,22,33))"
      ]
    },
    {
      "cell_type": "code",
      "execution_count": null,
      "metadata": {
        "id": "3QYOrUkggbPx",
        "outputId": "51aaf07c-0f09-46d1-f102-16db9019ebd9"
      },
      "outputs": [
        {
          "data": {
            "text/plain": [
              "6"
            ]
          },
          "execution_count": 540,
          "metadata": {},
          "output_type": "execute_result"
        }
      ],
      "source": [
        "len(tup7) #Length of list"
      ]
    },
    {
      "cell_type": "markdown",
      "metadata": {
        "id": "6sgFmzsFgbPx"
      },
      "source": [
        "### Tuple Indexing"
      ]
    },
    {
      "cell_type": "code",
      "execution_count": null,
      "metadata": {
        "id": "0VqoQtEPgbPy",
        "outputId": "b1ed6ae7-373d-4e04-a4d6-9bab9fbf61e1"
      },
      "outputs": [
        {
          "data": {
            "text/plain": [
              "10"
            ]
          },
          "execution_count": 541,
          "metadata": {},
          "output_type": "execute_result"
        }
      ],
      "source": [
        "tup2[0] # Retreive first element of the tuple"
      ]
    },
    {
      "cell_type": "code",
      "execution_count": null,
      "metadata": {
        "id": "R4VDA1EJgbPz",
        "outputId": "42597c57-eb86-45f9-fed7-cde34a40c653"
      },
      "outputs": [
        {
          "data": {
            "text/plain": [
              "'one'"
            ]
          },
          "execution_count": 542,
          "metadata": {},
          "output_type": "execute_result"
        }
      ],
      "source": [
        "tup4[0] # Retreive first element of the tuple"
      ]
    },
    {
      "cell_type": "code",
      "execution_count": null,
      "metadata": {
        "id": "PzdzA_WfgbP0",
        "outputId": "4b3313e7-11ab-40b5-a225-aca12c8c8413"
      },
      "outputs": [
        {
          "data": {
            "text/plain": [
              "'o'"
            ]
          },
          "execution_count": 543,
          "metadata": {},
          "output_type": "execute_result"
        }
      ],
      "source": [
        "tup4[0][0] # Nested indexing - Access the first character of the first tuple element"
      ]
    },
    {
      "cell_type": "code",
      "execution_count": null,
      "metadata": {
        "id": "XIC27CsIgbP0",
        "outputId": "7aa333db-bfbd-4443-b8b5-c6d3d56b6ab9"
      },
      "outputs": [
        {
          "data": {
            "text/plain": [
              "'three'"
            ]
          },
          "execution_count": 544,
          "metadata": {},
          "output_type": "execute_result"
        }
      ],
      "source": [
        "tup4[-1] # Last item of the tuple"
      ]
    },
    {
      "cell_type": "code",
      "execution_count": null,
      "metadata": {
        "id": "kezkXMkMgbP1",
        "outputId": "8bd6c8e5-e7ee-473b-8501-f741c1f62a35"
      },
      "outputs": [
        {
          "data": {
            "text/plain": [
              "(150, 90)"
            ]
          },
          "execution_count": 545,
          "metadata": {},
          "output_type": "execute_result"
        }
      ],
      "source": [
        "tup5[-1]  # Last item of the tuple"
      ]
    },
    {
      "cell_type": "markdown",
      "metadata": {
        "id": "WxvWOGJ1gbP2"
      },
      "source": [
        "### Tuple Slicing"
      ]
    },
    {
      "cell_type": "code",
      "execution_count": null,
      "metadata": {
        "id": "sNWc2MgLgbP3"
      },
      "outputs": [],
      "source": [
        "mytuple = ('one' , 'two' , 'three' , 'four' , 'five' , 'six' , 'seven' , 'eight')"
      ]
    },
    {
      "cell_type": "code",
      "execution_count": null,
      "metadata": {
        "id": "dEcQNoPigbP3",
        "outputId": "7ff39c9f-706b-4a20-da7c-1c77ea16c1d0"
      },
      "outputs": [
        {
          "data": {
            "text/plain": [
              "('one', 'two', 'three')"
            ]
          },
          "execution_count": 547,
          "metadata": {},
          "output_type": "execute_result"
        }
      ],
      "source": [
        "mytuple[0:3] # Return all items from 0th to 3rd index location excluding the item at loc 3."
      ]
    },
    {
      "cell_type": "code",
      "execution_count": null,
      "metadata": {
        "id": "zFwhVgfAgbP4",
        "outputId": "ba1934af-0f66-47ee-ede1-34c2aa8b5e63"
      },
      "outputs": [
        {
          "data": {
            "text/plain": [
              "('three', 'four', 'five')"
            ]
          },
          "execution_count": 548,
          "metadata": {},
          "output_type": "execute_result"
        }
      ],
      "source": [
        "mytuple[2:5] # List all items from 2nd to 5th index location excluding the item at loc 5."
      ]
    },
    {
      "cell_type": "code",
      "execution_count": null,
      "metadata": {
        "id": "CDWqxidFgbP5",
        "outputId": "82ca60dc-4648-45e7-b2ea-57328e8ac7f2"
      },
      "outputs": [
        {
          "data": {
            "text/plain": [
              "('one', 'two', 'three')"
            ]
          },
          "execution_count": 549,
          "metadata": {},
          "output_type": "execute_result"
        }
      ],
      "source": [
        "mytuple[:3] # Return first three items"
      ]
    },
    {
      "cell_type": "code",
      "execution_count": null,
      "metadata": {
        "id": "qvgGw6YmgbP5",
        "outputId": "6d363540-1f41-4391-d19a-a4895667cf69"
      },
      "outputs": [
        {
          "data": {
            "text/plain": [
              "('one', 'two')"
            ]
          },
          "execution_count": 550,
          "metadata": {},
          "output_type": "execute_result"
        }
      ],
      "source": [
        "mytuple[:2]  # Return first two items"
      ]
    },
    {
      "cell_type": "code",
      "execution_count": null,
      "metadata": {
        "id": "MzAOXrvpgbP6",
        "outputId": "8a587b03-7ffe-4712-915d-9d74841478f8"
      },
      "outputs": [
        {
          "data": {
            "text/plain": [
              "('six', 'seven', 'eight')"
            ]
          },
          "execution_count": 551,
          "metadata": {},
          "output_type": "execute_result"
        }
      ],
      "source": [
        "mytuple[-3:] # Return last three items"
      ]
    },
    {
      "cell_type": "code",
      "execution_count": null,
      "metadata": {
        "id": "5bMki1XFgbP7",
        "outputId": "8fcfa4b8-10c0-42b2-c76b-982066603230"
      },
      "outputs": [
        {
          "data": {
            "text/plain": [
              "('seven', 'eight')"
            ]
          },
          "execution_count": 552,
          "metadata": {},
          "output_type": "execute_result"
        }
      ],
      "source": [
        "mytuple[-2:] # Return last two items"
      ]
    },
    {
      "cell_type": "code",
      "execution_count": null,
      "metadata": {
        "id": "8PIzsjoLgbP8",
        "outputId": "e19d5aca-59a8-4448-fb7d-68a0632f3f89"
      },
      "outputs": [
        {
          "data": {
            "text/plain": [
              "'eight'"
            ]
          },
          "execution_count": 553,
          "metadata": {},
          "output_type": "execute_result"
        }
      ],
      "source": [
        "mytuple[-1] # Return last item of the tuple"
      ]
    },
    {
      "cell_type": "code",
      "execution_count": null,
      "metadata": {
        "id": "2kvpiw-9gbP8",
        "outputId": "60e26c9e-05e9-48a6-bfd7-efec918ff96e"
      },
      "outputs": [
        {
          "data": {
            "text/plain": [
              "('one', 'two', 'three', 'four', 'five', 'six', 'seven', 'eight')"
            ]
          },
          "execution_count": 554,
          "metadata": {},
          "output_type": "execute_result"
        }
      ],
      "source": [
        "mytuple[:] # Return whole tuple"
      ]
    },
    {
      "cell_type": "markdown",
      "metadata": {
        "id": "SjakFkBPgbP9"
      },
      "source": [
        "### Remove & Change Items"
      ]
    },
    {
      "cell_type": "code",
      "execution_count": null,
      "metadata": {
        "id": "9evjuy5wgbP9",
        "outputId": "a22016c2-42a0-4a84-c177-382f0fdddf64"
      },
      "outputs": [
        {
          "data": {
            "text/plain": [
              "('one', 'two', 'three', 'four', 'five', 'six', 'seven', 'eight')"
            ]
          },
          "execution_count": 555,
          "metadata": {},
          "output_type": "execute_result"
        }
      ],
      "source": [
        "mytuple"
      ]
    },
    {
      "cell_type": "code",
      "execution_count": null,
      "metadata": {
        "id": "nxKm_QJegbP-",
        "outputId": "607cf1d2-6e5e-485f-be29-8737403cd357"
      },
      "outputs": [
        {
          "ename": "TypeError",
          "evalue": "'tuple' object doesn't support item deletion",
          "output_type": "error",
          "traceback": [
            "\u001b[1;31m---------------------------------------------------------------------------\u001b[0m",
            "\u001b[1;31mTypeError\u001b[0m                                 Traceback (most recent call last)",
            "\u001b[1;32m<ipython-input-556-667a276aa503>\u001b[0m in \u001b[0;36m<module>\u001b[1;34m\u001b[0m\n\u001b[1;32m----> 1\u001b[1;33m \u001b[1;32mdel\u001b[0m \u001b[0mmytuple\u001b[0m\u001b[1;33m[\u001b[0m\u001b[1;36m0\u001b[0m\u001b[1;33m]\u001b[0m\u001b[1;33m\u001b[0m\u001b[1;33m\u001b[0m\u001b[0m\n\u001b[0m",
            "\u001b[1;31mTypeError\u001b[0m: 'tuple' object doesn't support item deletion"
          ]
        }
      ],
      "source": [
        "del mytuple[0] # Tuples are immutable which means we can't DELETE tuple items"
      ]
    },
    {
      "cell_type": "code",
      "execution_count": null,
      "metadata": {
        "id": "kdjoHMBwgbP-",
        "outputId": "1e2992fc-ecf5-49bd-9905-530cfaf7bd5c"
      },
      "outputs": [
        {
          "ename": "TypeError",
          "evalue": "'tuple' object does not support item assignment",
          "output_type": "error",
          "traceback": [
            "\u001b[1;31m---------------------------------------------------------------------------\u001b[0m",
            "\u001b[1;31mTypeError\u001b[0m                                 Traceback (most recent call last)",
            "\u001b[1;32m<ipython-input-557-4cf492702bfd>\u001b[0m in \u001b[0;36m<module>\u001b[1;34m\u001b[0m\n\u001b[1;32m----> 1\u001b[1;33m \u001b[0mmytuple\u001b[0m\u001b[1;33m[\u001b[0m\u001b[1;36m0\u001b[0m\u001b[1;33m]\u001b[0m \u001b[1;33m=\u001b[0m \u001b[1;36m1\u001b[0m\u001b[1;33m\u001b[0m\u001b[1;33m\u001b[0m\u001b[0m\n\u001b[0m",
            "\u001b[1;31mTypeError\u001b[0m: 'tuple' object does not support item assignment"
          ]
        }
      ],
      "source": [
        "mytuple[0] = 1 # Tuples are immutable which means we can't CHANGE tuple items"
      ]
    },
    {
      "cell_type": "code",
      "execution_count": null,
      "metadata": {
        "id": "5trCxLwdgbQM"
      },
      "outputs": [],
      "source": [
        "del mytuple # Deleting entire tuple object is possible"
      ]
    },
    {
      "cell_type": "markdown",
      "metadata": {
        "id": "ixEPCK1bgbQN"
      },
      "source": [
        "### Loop through a tuple"
      ]
    },
    {
      "cell_type": "code",
      "execution_count": null,
      "metadata": {
        "id": "JnnPpzULgbQO",
        "outputId": "a4581162-2a3f-4fff-ff5d-10dad1a3e57d"
      },
      "outputs": [
        {
          "data": {
            "text/plain": [
              "('one', 'two', 'three', 'four', 'five', 'six', 'seven', 'eight')"
            ]
          },
          "execution_count": 570,
          "metadata": {},
          "output_type": "execute_result"
        }
      ],
      "source": [
        "mytuple"
      ]
    },
    {
      "cell_type": "code",
      "execution_count": null,
      "metadata": {
        "id": "0mMXPVCZgbQO",
        "outputId": "6e6261b1-4bf1-4d19-8f7d-a9774c4940f7"
      },
      "outputs": [
        {
          "name": "stdout",
          "output_type": "stream",
          "text": [
            "one\n",
            "two\n",
            "three\n",
            "four\n",
            "five\n",
            "six\n",
            "seven\n",
            "eight\n"
          ]
        }
      ],
      "source": [
        "for i in mytuple:\n",
        "    print(i)"
      ]
    },
    {
      "cell_type": "code",
      "execution_count": null,
      "metadata": {
        "id": "Jt4IZzQJgbQP",
        "outputId": "65f91afa-4a30-420d-f82b-7421a90e0332"
      },
      "outputs": [
        {
          "name": "stdout",
          "output_type": "stream",
          "text": [
            "(0, 'one')\n",
            "(1, 'two')\n",
            "(2, 'three')\n",
            "(3, 'four')\n",
            "(4, 'five')\n",
            "(5, 'six')\n",
            "(6, 'seven')\n",
            "(7, 'eight')\n"
          ]
        }
      ],
      "source": [
        "for i in enumerate(mytuple):\n",
        "    print(i)"
      ]
    },
    {
      "cell_type": "markdown",
      "metadata": {
        "id": "smuPoxlmgbQQ"
      },
      "source": [
        "### Count"
      ]
    },
    {
      "cell_type": "code",
      "execution_count": null,
      "metadata": {
        "id": "XdBRevWGgbQQ"
      },
      "outputs": [],
      "source": [
        "mytuple1 =('one', 'two', 'three', 'four', 'one', 'one', 'two', 'three')"
      ]
    },
    {
      "cell_type": "code",
      "execution_count": null,
      "metadata": {
        "id": "45B_CLwHgbQQ",
        "outputId": "f488af34-1908-4542-fef6-83ca5d25c7e5"
      },
      "outputs": [
        {
          "data": {
            "text/plain": [
              "3"
            ]
          },
          "execution_count": 574,
          "metadata": {},
          "output_type": "execute_result"
        }
      ],
      "source": [
        "mytuple1.count('one') # Number of times item \"one\" occurred in the tuple."
      ]
    },
    {
      "cell_type": "code",
      "execution_count": null,
      "metadata": {
        "id": "4kqhhxfLgbQR",
        "outputId": "45953eca-f1be-48fb-cfa5-c9ba857ed21a"
      },
      "outputs": [
        {
          "data": {
            "text/plain": [
              "2"
            ]
          },
          "execution_count": 575,
          "metadata": {},
          "output_type": "execute_result"
        }
      ],
      "source": [
        "mytuple1.count('two') # Occurence of item 'two' in the tuple"
      ]
    },
    {
      "cell_type": "code",
      "execution_count": null,
      "metadata": {
        "id": "OFXZfhZugbQR",
        "outputId": "5db30bd7-f182-4a6a-93aa-fdc566111cfc"
      },
      "outputs": [
        {
          "data": {
            "text/plain": [
              "1"
            ]
          },
          "execution_count": 576,
          "metadata": {},
          "output_type": "execute_result"
        }
      ],
      "source": [
        "mytuple1.count('four') #Occurence of item 'four' in the tuple"
      ]
    },
    {
      "cell_type": "markdown",
      "metadata": {
        "id": "viF6vMJigbQS"
      },
      "source": [
        "### Tuple Membership"
      ]
    },
    {
      "cell_type": "code",
      "execution_count": null,
      "metadata": {
        "id": "eG4nvFTigbQS",
        "outputId": "d30c2eb4-1980-4b26-9f16-9e886d1bc74d"
      },
      "outputs": [
        {
          "data": {
            "text/plain": [
              "('one', 'two', 'three', 'four', 'five', 'six', 'seven', 'eight')"
            ]
          },
          "execution_count": 577,
          "metadata": {},
          "output_type": "execute_result"
        }
      ],
      "source": [
        "mytuple"
      ]
    },
    {
      "cell_type": "code",
      "execution_count": null,
      "metadata": {
        "id": "pF9A9WPugbQT",
        "outputId": "6238ae6e-adb9-4113-aac9-785cca15ba41"
      },
      "outputs": [
        {
          "data": {
            "text/plain": [
              "True"
            ]
          },
          "execution_count": 578,
          "metadata": {},
          "output_type": "execute_result"
        }
      ],
      "source": [
        "'one' in mytuple # Check if 'one' exist in the list"
      ]
    },
    {
      "cell_type": "code",
      "execution_count": null,
      "metadata": {
        "id": "DqQnxeS4gbQT",
        "outputId": "fc84e76c-ee70-4344-c6df-b4cac60c2241"
      },
      "outputs": [
        {
          "data": {
            "text/plain": [
              "False"
            ]
          },
          "execution_count": 579,
          "metadata": {},
          "output_type": "execute_result"
        }
      ],
      "source": [
        "'ten' in mytuple # Check if 'ten' exist in the list"
      ]
    },
    {
      "cell_type": "code",
      "execution_count": null,
      "metadata": {
        "id": "W_5Zefa6gbQU",
        "outputId": "bcf479d1-bc59-4109-8923-e7af69792203"
      },
      "outputs": [
        {
          "name": "stdout",
          "output_type": "stream",
          "text": [
            "Three is present in the tuple\n"
          ]
        }
      ],
      "source": [
        "if 'three' in mytuple: # Check if 'three' exist in the list\n",
        "    print('Three is present in the tuple')\n",
        "else:\n",
        "    print('Three is not present in the tuple')"
      ]
    },
    {
      "cell_type": "code",
      "execution_count": null,
      "metadata": {
        "id": "9-MnoaP5gbQV",
        "outputId": "e3b6ea28-a522-49f3-949b-30a4e2f13f9c"
      },
      "outputs": [
        {
          "name": "stdout",
          "output_type": "stream",
          "text": [
            "eleven is not present in the tuple\n"
          ]
        }
      ],
      "source": [
        "if 'eleven' in mytuple:  # Check if 'eleven' exist in the list\n",
        "    print('eleven is present in the tuple')\n",
        "else:\n",
        "    print('eleven is not present in the tuple')"
      ]
    },
    {
      "cell_type": "markdown",
      "metadata": {
        "id": "giM2swI3gbQV"
      },
      "source": [
        "### Index Position"
      ]
    },
    {
      "cell_type": "code",
      "execution_count": null,
      "metadata": {
        "id": "Ds2dxPYYgbQW",
        "outputId": "0155a09d-54bf-44c7-ef72-d65bbf8f1294"
      },
      "outputs": [
        {
          "data": {
            "text/plain": [
              "('one', 'two', 'three', 'four', 'five', 'six', 'seven', 'eight')"
            ]
          },
          "execution_count": 586,
          "metadata": {},
          "output_type": "execute_result"
        }
      ],
      "source": [
        "mytuple"
      ]
    },
    {
      "cell_type": "code",
      "execution_count": null,
      "metadata": {
        "id": "RbMWr9rNgbQW",
        "outputId": "384c60c5-eb8c-4769-c918-cc464ea3fe35"
      },
      "outputs": [
        {
          "data": {
            "text/plain": [
              "0"
            ]
          },
          "execution_count": 587,
          "metadata": {},
          "output_type": "execute_result"
        }
      ],
      "source": [
        "mytuple.index('one') # Index of first element equal to 'one'"
      ]
    },
    {
      "cell_type": "code",
      "execution_count": null,
      "metadata": {
        "id": "gLnBVpMugbQX",
        "outputId": "da604357-6450-4e24-ffc7-d566b54d910e"
      },
      "outputs": [
        {
          "data": {
            "text/plain": [
              "4"
            ]
          },
          "execution_count": 590,
          "metadata": {},
          "output_type": "execute_result"
        }
      ],
      "source": [
        "mytuple.index('five') # Index of first element equal to 'five'"
      ]
    },
    {
      "cell_type": "code",
      "execution_count": null,
      "metadata": {
        "id": "554mSl1bgbQX",
        "outputId": "49600704-2bb4-48fb-fbaa-1cc27f930ad8"
      },
      "outputs": [
        {
          "data": {
            "text/plain": [
              "('one', 'two', 'three', 'four', 'one', 'one', 'two', 'three')"
            ]
          },
          "execution_count": 591,
          "metadata": {},
          "output_type": "execute_result"
        }
      ],
      "source": [
        "mytuple1"
      ]
    },
    {
      "cell_type": "code",
      "execution_count": null,
      "metadata": {
        "id": "KVqgao5wgbQY",
        "outputId": "2206f0b1-4afb-4fdb-d8c7-4ca02b71756c"
      },
      "outputs": [
        {
          "data": {
            "text/plain": [
              "0"
            ]
          },
          "execution_count": 593,
          "metadata": {},
          "output_type": "execute_result"
        }
      ],
      "source": [
        "mytuple1.index('one') # Index of first element equal to 'one'"
      ]
    },
    {
      "cell_type": "markdown",
      "metadata": {
        "id": "wmkytyd7gbQZ"
      },
      "source": [
        "### Sorting"
      ]
    },
    {
      "cell_type": "code",
      "execution_count": null,
      "metadata": {
        "id": "ucrqSNkMgbQZ"
      },
      "outputs": [],
      "source": [
        "mytuple2 = (43,67,99,12,6,90,67)"
      ]
    },
    {
      "cell_type": "code",
      "execution_count": null,
      "metadata": {
        "id": "F1F5qrm6gbQa",
        "outputId": "52dfb584-97ce-463d-e162-dafc21a1af89"
      },
      "outputs": [
        {
          "data": {
            "text/plain": [
              "[6, 12, 43, 67, 67, 90, 99]"
            ]
          },
          "execution_count": 595,
          "metadata": {},
          "output_type": "execute_result"
        }
      ],
      "source": [
        "sorted(mytuple2)  # Returns a new sorted list and doesn't change original tuple"
      ]
    },
    {
      "cell_type": "code",
      "execution_count": null,
      "metadata": {
        "id": "3c4t_LW8gbQb",
        "outputId": "ea0e9776-9120-4bf9-c6a9-d727003153e0"
      },
      "outputs": [
        {
          "data": {
            "text/plain": [
              "[99, 90, 67, 67, 43, 12, 6]"
            ]
          },
          "execution_count": 596,
          "metadata": {},
          "output_type": "execute_result"
        }
      ],
      "source": [
        "sorted(mytuple2, reverse=True) # Sort in descending order"
      ]
    },
    {
      "cell_type": "markdown",
      "metadata": {
        "id": "NcEuNzC8gbQc"
      },
      "source": [
        "# Sets"
      ]
    },
    {
      "cell_type": "markdown",
      "metadata": {
        "id": "DG47PblHgbQc"
      },
      "source": [
        "1) Unordered & Unindexed collection of items.\n",
        "\n",
        "2) Set elements are unique. Duplicate elements are not allowed.\n",
        "\n",
        "3) Set elements are immutable (cannot be changed).\n",
        "\n",
        "4) Set itself is mutable. We can add or remove items from it."
      ]
    },
    {
      "cell_type": "markdown",
      "metadata": {
        "id": "_AgwEI2wgbQd"
      },
      "source": [
        "### Set Creation"
      ]
    },
    {
      "cell_type": "code",
      "execution_count": null,
      "metadata": {
        "id": "mWqCRF_KgbQd",
        "outputId": "876467fd-cab5-412b-ed85-1bd98f390331"
      },
      "outputs": [
        {
          "data": {
            "text/plain": [
              "{1, 2, 3, 4, 5}"
            ]
          },
          "execution_count": 634,
          "metadata": {},
          "output_type": "execute_result"
        }
      ],
      "source": [
        "myset = {1,2,3,4,5} # Set of numbers\n",
        "myset"
      ]
    },
    {
      "cell_type": "code",
      "execution_count": null,
      "metadata": {
        "id": "HoTAHb34gbQd",
        "outputId": "849452bf-9cbd-4e9e-e349-682aaa08dd00"
      },
      "outputs": [
        {
          "data": {
            "text/plain": [
              "5"
            ]
          },
          "execution_count": 635,
          "metadata": {},
          "output_type": "execute_result"
        }
      ],
      "source": [
        "len(myset) #Length of the set"
      ]
    },
    {
      "cell_type": "code",
      "execution_count": null,
      "metadata": {
        "id": "lrm5RBSqgbQe",
        "outputId": "96eec5ee-4ee1-49f4-eb43-c945a18df397"
      },
      "outputs": [
        {
          "data": {
            "text/plain": [
              "{1, 2, 3, 4, 5}"
            ]
          },
          "execution_count": 636,
          "metadata": {},
          "output_type": "execute_result"
        }
      ],
      "source": [
        "my_set = {1,1,2,2,3,4,5,5}\n",
        "my_set                    # Duplicate elements are not allowed."
      ]
    },
    {
      "cell_type": "code",
      "execution_count": null,
      "metadata": {
        "id": "Wcwh0wKUgbQe",
        "outputId": "094ed5ba-0f98-4529-b3bc-19664030ad60"
      },
      "outputs": [
        {
          "data": {
            "text/plain": [
              "{1.79, 2.08, 3.99, 4.56, 5.45}"
            ]
          },
          "execution_count": 637,
          "metadata": {},
          "output_type": "execute_result"
        }
      ],
      "source": [
        "myset1 = {1.79,2.08,3.99,4.56,5.45} # Set of float numbers\n",
        "myset1"
      ]
    },
    {
      "cell_type": "code",
      "execution_count": null,
      "metadata": {
        "id": "qJ7VnuPKgbQf",
        "outputId": "aab2e6da-e3c4-4bd1-8c93-673d8359f5c5"
      },
      "outputs": [
        {
          "data": {
            "text/plain": [
              "{'Asif', 'John', 'Tyrion'}"
            ]
          },
          "execution_count": 638,
          "metadata": {},
          "output_type": "execute_result"
        }
      ],
      "source": [
        "myset2 = {'Asif' , 'John' , 'Tyrion'} # Set of Strings\n",
        "myset2"
      ]
    },
    {
      "cell_type": "code",
      "execution_count": null,
      "metadata": {
        "id": "VDRkB41FgbQf",
        "outputId": "69ef576e-2c30-4b2a-8fab-250e80dda1f5"
      },
      "outputs": [
        {
          "data": {
            "text/plain": [
              "{(11, 22, 32), 10, 20, 'Hola'}"
            ]
          },
          "execution_count": 639,
          "metadata": {},
          "output_type": "execute_result"
        }
      ],
      "source": [
        "myset3 = {10,20, \"Hola\", (11, 22, 32)} # Mixed datatypes\n",
        "myset3"
      ]
    },
    {
      "cell_type": "code",
      "execution_count": null,
      "metadata": {
        "id": "t_5dF8WkgbQg",
        "outputId": "ee346a74-921c-42a3-e2f0-288d47f7e278"
      },
      "outputs": [
        {
          "ename": "TypeError",
          "evalue": "unhashable type: 'list'",
          "output_type": "error",
          "traceback": [
            "\u001b[1;31m---------------------------------------------------------------------------\u001b[0m",
            "\u001b[1;31mTypeError\u001b[0m                                 Traceback (most recent call last)",
            "\u001b[1;32m<ipython-input-640-d23fdc3a319e>\u001b[0m in \u001b[0;36m<module>\u001b[1;34m\u001b[0m\n\u001b[1;32m----> 1\u001b[1;33m \u001b[0mmyset3\u001b[0m \u001b[1;33m=\u001b[0m \u001b[1;33m{\u001b[0m\u001b[1;36m10\u001b[0m\u001b[1;33m,\u001b[0m\u001b[1;36m20\u001b[0m\u001b[1;33m,\u001b[0m \u001b[1;34m\"Hola\"\u001b[0m\u001b[1;33m,\u001b[0m \u001b[1;33m[\u001b[0m\u001b[1;36m11\u001b[0m\u001b[1;33m,\u001b[0m \u001b[1;36m22\u001b[0m\u001b[1;33m,\u001b[0m \u001b[1;36m32\u001b[0m\u001b[1;33m]\u001b[0m\u001b[1;33m}\u001b[0m \u001b[1;31m# set doesn't allow mutable items like lists\u001b[0m\u001b[1;33m\u001b[0m\u001b[1;33m\u001b[0m\u001b[0m\n\u001b[0m\u001b[0;32m      2\u001b[0m \u001b[0mmyset3\u001b[0m\u001b[1;33m\u001b[0m\u001b[1;33m\u001b[0m\u001b[0m\n",
            "\u001b[1;31mTypeError\u001b[0m: unhashable type: 'list'"
          ]
        }
      ],
      "source": [
        "myset3 = {10,20, \"Hola\", [11, 22, 32]} # set doesn't allow mutable items like lists\n",
        "myset3"
      ]
    },
    {
      "cell_type": "code",
      "execution_count": null,
      "metadata": {
        "id": "Jjs7tSxEgbQg",
        "outputId": "3b663a00-5c53-4024-a018-b9d2b3f0937c"
      },
      "outputs": [
        {
          "name": "stdout",
          "output_type": "stream",
          "text": [
            "<class 'set'>\n"
          ]
        }
      ],
      "source": [
        "myset4 = set() # Create an empty set\n",
        "print(type(myset4))"
      ]
    },
    {
      "cell_type": "code",
      "execution_count": null,
      "metadata": {
        "id": "sDNBNfgagbQg",
        "outputId": "eca39d97-edf0-4278-f714-28aef91b8403"
      },
      "outputs": [
        {
          "data": {
            "text/plain": [
              "{'four', 'one', 'three', 'two'}"
            ]
          },
          "execution_count": 673,
          "metadata": {},
          "output_type": "execute_result"
        }
      ],
      "source": [
        "my_set1 = set(('one' , 'two' , 'three' , 'four'))\n",
        "my_set1"
      ]
    },
    {
      "cell_type": "markdown",
      "metadata": {
        "id": "XK6flTSpgbQh"
      },
      "source": [
        "### Loop through a Set"
      ]
    },
    {
      "cell_type": "code",
      "execution_count": null,
      "metadata": {
        "id": "r_xn8zk9gbQh",
        "outputId": "88b3360c-c760-47de-c670-8d0c9e4bd9d5"
      },
      "outputs": [
        {
          "name": "stdout",
          "output_type": "stream",
          "text": [
            "eight\n",
            "one\n",
            "seven\n",
            "three\n",
            "five\n",
            "two\n",
            "six\n",
            "four\n"
          ]
        }
      ],
      "source": [
        "myset = {'one', 'two', 'three', 'four', 'five', 'six', 'seven', 'eight'}\n",
        "\n",
        "for i in myset:\n",
        "    print(i)"
      ]
    },
    {
      "cell_type": "code",
      "execution_count": null,
      "metadata": {
        "id": "M4eqaFlngbQh",
        "outputId": "a016b213-37e7-4d6b-f008-f2cff172784b"
      },
      "outputs": [
        {
          "name": "stdout",
          "output_type": "stream",
          "text": [
            "(0, 'eight')\n",
            "(1, 'one')\n",
            "(2, 'seven')\n",
            "(3, 'three')\n",
            "(4, 'five')\n",
            "(5, 'two')\n",
            "(6, 'six')\n",
            "(7, 'four')\n"
          ]
        }
      ],
      "source": [
        "for i in enumerate(myset):\n",
        "    print(i)"
      ]
    },
    {
      "cell_type": "markdown",
      "metadata": {
        "id": "eY0qPvumgbQi"
      },
      "source": [
        "### Set Membership"
      ]
    },
    {
      "cell_type": "code",
      "execution_count": null,
      "metadata": {
        "id": "kyZcp7VEgbQi",
        "outputId": "c76d1e99-b274-4a25-c59c-3f3a8fcb993f"
      },
      "outputs": [
        {
          "data": {
            "text/plain": [
              "{'eight', 'five', 'four', 'one', 'seven', 'six', 'three', 'two'}"
            ]
          },
          "execution_count": 675,
          "metadata": {},
          "output_type": "execute_result"
        }
      ],
      "source": [
        "myset"
      ]
    },
    {
      "cell_type": "code",
      "execution_count": null,
      "metadata": {
        "id": "-xSNSL8pgbQi",
        "outputId": "c1560190-6c36-4ca6-f888-5a8fe1a0b77f"
      },
      "outputs": [
        {
          "data": {
            "text/plain": [
              "True"
            ]
          },
          "execution_count": 676,
          "metadata": {},
          "output_type": "execute_result"
        }
      ],
      "source": [
        "'one' in myset # Check if 'one' exist in the set"
      ]
    },
    {
      "cell_type": "code",
      "execution_count": null,
      "metadata": {
        "id": "4a1Lj9LagbQj",
        "outputId": "8f3c1988-e94b-4c8f-d46b-326594b3a9b2"
      },
      "outputs": [
        {
          "data": {
            "text/plain": [
              "False"
            ]
          },
          "execution_count": 677,
          "metadata": {},
          "output_type": "execute_result"
        }
      ],
      "source": [
        "'ten' in myset # Check if 'ten' exist in the set"
      ]
    },
    {
      "cell_type": "code",
      "execution_count": null,
      "metadata": {
        "id": "4k5SrCvfgbQj",
        "outputId": "ffa5afaa-824b-46b9-db48-ff88dfcc2711"
      },
      "outputs": [
        {
          "name": "stdout",
          "output_type": "stream",
          "text": [
            "Three is present in the set\n"
          ]
        }
      ],
      "source": [
        "if 'three' in myset: # Check if 'three' exist in the set\n",
        "    print('Three is present in the set')\n",
        "else:\n",
        "    print('Three is not present in the set')"
      ]
    },
    {
      "cell_type": "code",
      "execution_count": null,
      "metadata": {
        "id": "6cmS3FyfgbQk",
        "outputId": "d94a6fae-a97f-4d70-fadc-bfebf69e9ea0"
      },
      "outputs": [
        {
          "name": "stdout",
          "output_type": "stream",
          "text": [
            "eleven is not present in the set\n"
          ]
        }
      ],
      "source": [
        "if 'eleven' in myset:  # Check if 'eleven' exist in the list\n",
        "    print('eleven is present in the set')\n",
        "else:\n",
        "    print('eleven is not present in the set')"
      ]
    },
    {
      "cell_type": "markdown",
      "metadata": {
        "id": "vz2PQo2egbQk"
      },
      "source": [
        "### Add & Remove Items"
      ]
    },
    {
      "cell_type": "code",
      "execution_count": null,
      "metadata": {
        "id": "EUYwmbtjgbQl",
        "outputId": "2a0913eb-f629-4e0e-9a7a-a7214964e112"
      },
      "outputs": [
        {
          "data": {
            "text/plain": [
              "{'eight', 'five', 'four', 'one', 'seven', 'six', 'three', 'two'}"
            ]
          },
          "execution_count": 680,
          "metadata": {},
          "output_type": "execute_result"
        }
      ],
      "source": [
        "myset"
      ]
    },
    {
      "cell_type": "code",
      "execution_count": null,
      "metadata": {
        "id": "C_RP1fAUgbQl",
        "outputId": "ae32eca5-f528-485a-871a-883780f854f8"
      },
      "outputs": [
        {
          "data": {
            "text/plain": [
              "{'NINE', 'eight', 'five', 'four', 'one', 'seven', 'six', 'three', 'two'}"
            ]
          },
          "execution_count": 681,
          "metadata": {},
          "output_type": "execute_result"
        }
      ],
      "source": [
        "myset.add('NINE') # Add item to a set using add() method\n",
        "myset"
      ]
    },
    {
      "cell_type": "code",
      "execution_count": null,
      "metadata": {
        "id": "_gOSKwQxgbQl",
        "outputId": "d7c5aa02-7dfe-473f-c9e1-5439d6368acc"
      },
      "outputs": [
        {
          "data": {
            "text/plain": [
              "{'ELEVEN',\n",
              " 'NINE',\n",
              " 'TEN',\n",
              " 'TWELVE',\n",
              " 'eight',\n",
              " 'five',\n",
              " 'four',\n",
              " 'one',\n",
              " 'seven',\n",
              " 'six',\n",
              " 'three',\n",
              " 'two'}"
            ]
          },
          "execution_count": 683,
          "metadata": {},
          "output_type": "execute_result"
        }
      ],
      "source": [
        "myset.update(['TEN' , 'ELEVEN' , 'TWELVE'])  # Add multiple item to a set using update() method\n",
        "myset"
      ]
    },
    {
      "cell_type": "code",
      "execution_count": null,
      "metadata": {
        "id": "MLJMw9rBgbQm",
        "outputId": "dc33125e-0879-45d0-877e-29b903a98e86"
      },
      "outputs": [
        {
          "data": {
            "text/plain": [
              "{'ELEVEN',\n",
              " 'TEN',\n",
              " 'TWELVE',\n",
              " 'eight',\n",
              " 'five',\n",
              " 'four',\n",
              " 'one',\n",
              " 'seven',\n",
              " 'six',\n",
              " 'three',\n",
              " 'two'}"
            ]
          },
          "execution_count": 684,
          "metadata": {},
          "output_type": "execute_result"
        }
      ],
      "source": [
        "myset.remove('NINE') # remove item in a set using remove() method\n",
        "myset"
      ]
    },
    {
      "cell_type": "code",
      "execution_count": null,
      "metadata": {
        "id": "nJVqbZwbgbQm",
        "outputId": "7c5e8452-cf6c-46ed-ee51-838793db4f77"
      },
      "outputs": [
        {
          "data": {
            "text/plain": [
              "{'ELEVEN',\n",
              " 'TWELVE',\n",
              " 'eight',\n",
              " 'five',\n",
              " 'four',\n",
              " 'one',\n",
              " 'seven',\n",
              " 'six',\n",
              " 'three',\n",
              " 'two'}"
            ]
          },
          "execution_count": 685,
          "metadata": {},
          "output_type": "execute_result"
        }
      ],
      "source": [
        "myset.discard('TEN') # remove item from a set using discard() method\n",
        "myset"
      ]
    },
    {
      "cell_type": "code",
      "execution_count": null,
      "metadata": {
        "id": "gi5xSG2QgbQn",
        "outputId": "480ca424-bb2b-4d61-ab68-4f24d7091131"
      },
      "outputs": [
        {
          "data": {
            "text/plain": [
              "set()"
            ]
          },
          "execution_count": 688,
          "metadata": {},
          "output_type": "execute_result"
        }
      ],
      "source": [
        "myset.clear() # Delete all items in a set\n",
        "myset"
      ]
    },
    {
      "cell_type": "code",
      "execution_count": null,
      "metadata": {
        "id": "eUJ9uKBOgbQn",
        "outputId": "e68a6189-05e2-49bc-e9ed-f0aa31c53657"
      },
      "outputs": [
        {
          "ename": "NameError",
          "evalue": "name 'myset' is not defined",
          "output_type": "error",
          "traceback": [
            "\u001b[1;31m---------------------------------------------------------------------------\u001b[0m",
            "\u001b[1;31mNameError\u001b[0m                                 Traceback (most recent call last)",
            "\u001b[1;32m<ipython-input-689-0912ea1b8932>\u001b[0m in \u001b[0;36m<module>\u001b[1;34m\u001b[0m\n\u001b[0;32m      1\u001b[0m \u001b[1;32mdel\u001b[0m \u001b[0mmyset\u001b[0m\u001b[1;33m\u001b[0m\u001b[1;33m\u001b[0m\u001b[0m\n\u001b[1;32m----> 2\u001b[1;33m \u001b[0mmyset\u001b[0m\u001b[1;33m\u001b[0m\u001b[1;33m\u001b[0m\u001b[0m\n\u001b[0m",
            "\u001b[1;31mNameError\u001b[0m: name 'myset' is not defined"
          ]
        }
      ],
      "source": [
        "del myset # Delete the set object\n",
        "myset"
      ]
    },
    {
      "cell_type": "markdown",
      "metadata": {
        "id": "BZ9bszAWgbQo"
      },
      "source": [
        "### Copy Set"
      ]
    },
    {
      "cell_type": "code",
      "execution_count": null,
      "metadata": {
        "id": "2JB1jrNegbQo",
        "outputId": "900a38cd-d5d0-4eea-9666-7ea7d4127f6f"
      },
      "outputs": [
        {
          "data": {
            "text/plain": [
              "{'eight', 'five', 'four', 'one', 'seven', 'six', 'three', 'two'}"
            ]
          },
          "execution_count": 705,
          "metadata": {},
          "output_type": "execute_result"
        }
      ],
      "source": [
        "myset = {'one', 'two', 'three', 'four', 'five', 'six', 'seven', 'eight'}\n",
        "myset"
      ]
    },
    {
      "cell_type": "code",
      "execution_count": null,
      "metadata": {
        "id": "_2CsdSRsgbQo",
        "outputId": "6828f292-c8bb-4b3d-e755-b0945db4079b"
      },
      "outputs": [
        {
          "data": {
            "text/plain": [
              "{'eight', 'five', 'four', 'one', 'seven', 'six', 'three', 'two'}"
            ]
          },
          "execution_count": 706,
          "metadata": {},
          "output_type": "execute_result"
        }
      ],
      "source": [
        "myset1 = myset  # Create a new reference \"myset1\"\n",
        "myset1"
      ]
    },
    {
      "cell_type": "code",
      "execution_count": null,
      "metadata": {
        "id": "F1LPIN8igbQp",
        "outputId": "b2006326-415d-4fd1-8830-bf80f1334eb8"
      },
      "outputs": [
        {
          "data": {
            "text/plain": [
              "(1537349033320, 1537349033320)"
            ]
          },
          "execution_count": 707,
          "metadata": {},
          "output_type": "execute_result"
        }
      ],
      "source": [
        "id(myset) , id(myset1)  # The address of both myset & myset1 will be the same as both are pointing to same set."
      ]
    },
    {
      "cell_type": "code",
      "execution_count": null,
      "metadata": {
        "id": "NF8inP1bgbQq",
        "outputId": "263e1184-08fb-4472-fbca-17043afedf80"
      },
      "outputs": [
        {
          "data": {
            "text/plain": [
              "{'eight', 'five', 'four', 'one', 'seven', 'six', 'three', 'two'}"
            ]
          },
          "execution_count": 708,
          "metadata": {},
          "output_type": "execute_result"
        }
      ],
      "source": [
        "my_set = myset.copy() # Create a copy of the list\n",
        "my_set"
      ]
    },
    {
      "cell_type": "code",
      "execution_count": null,
      "metadata": {
        "id": "Y4bVdugNgbQq",
        "outputId": "69117174-9eda-4f33-c682-eba13c079312"
      },
      "outputs": [
        {
          "data": {
            "text/plain": [
              "1537352902024"
            ]
          },
          "execution_count": 710,
          "metadata": {},
          "output_type": "execute_result"
        }
      ],
      "source": [
        "id(my_set) # The address of my_set will be different from myset because my_set is pointing to the copy of the existing set."
      ]
    },
    {
      "cell_type": "code",
      "execution_count": null,
      "metadata": {
        "id": "5UQ4cgbfgbQr",
        "outputId": "36cee157-46d2-44c3-cbd3-1c66d5d3021f"
      },
      "outputs": [
        {
          "data": {
            "text/plain": [
              "{'eight', 'five', 'four', 'nine', 'one', 'seven', 'six', 'three', 'two'}"
            ]
          },
          "execution_count": 711,
          "metadata": {},
          "output_type": "execute_result"
        }
      ],
      "source": [
        "myset.add('nine')\n",
        "myset"
      ]
    },
    {
      "cell_type": "code",
      "execution_count": null,
      "metadata": {
        "id": "PRMgoS6rgbQr",
        "outputId": "dd9d50ea-1002-42b4-99ca-d72676e90a63"
      },
      "outputs": [
        {
          "data": {
            "text/plain": [
              "{'eight', 'five', 'four', 'nine', 'one', 'seven', 'six', 'three', 'two'}"
            ]
          },
          "execution_count": 712,
          "metadata": {},
          "output_type": "execute_result"
        }
      ],
      "source": [
        "myset1 # myset1 will be also impacted as it is pointing to the same Set"
      ]
    },
    {
      "cell_type": "code",
      "execution_count": null,
      "metadata": {
        "id": "l3tixaIZgbQs",
        "outputId": "9cec748c-54f7-4a56-c903-480e59b8d2ef"
      },
      "outputs": [
        {
          "data": {
            "text/plain": [
              "{'eight', 'five', 'four', 'one', 'seven', 'six', 'three', 'two'}"
            ]
          },
          "execution_count": 713,
          "metadata": {},
          "output_type": "execute_result"
        }
      ],
      "source": [
        "my_set # Copy of the set won't be impacted due to changes made on the original Set."
      ]
    },
    {
      "cell_type": "markdown",
      "metadata": {
        "id": "7eaK4TSwgbQt"
      },
      "source": [
        "### Set Operation"
      ]
    },
    {
      "cell_type": "markdown",
      "metadata": {
        "id": "HcRS8KAvgbQt"
      },
      "source": [
        "#### Union"
      ]
    },
    {
      "cell_type": "code",
      "execution_count": null,
      "metadata": {
        "id": "6dVMoMZ7gbQt"
      },
      "outputs": [],
      "source": [
        "A = {1,2,3,4,5}\n",
        "B = {4,5,6,7,8}\n",
        "C = {8,9,10}"
      ]
    },
    {
      "cell_type": "code",
      "execution_count": null,
      "metadata": {
        "id": "Oxfjbf61gbQt",
        "outputId": "70464c2a-3e26-4da8-a245-5201fabd80a7"
      },
      "outputs": [
        {
          "data": {
            "text/plain": [
              "{1, 2, 3, 4, 5, 6, 7, 8}"
            ]
          },
          "execution_count": 758,
          "metadata": {},
          "output_type": "execute_result"
        }
      ],
      "source": [
        "A | B  # Union of A and B (All elements from both sets. NO DUPLICATES)"
      ]
    },
    {
      "cell_type": "code",
      "execution_count": null,
      "metadata": {
        "id": "l9quM2FVgbQu",
        "outputId": "3a134f32-8d7f-4b9e-bb4e-d3355aa7d486"
      },
      "outputs": [
        {
          "data": {
            "text/plain": [
              "{1, 2, 3, 4, 5, 6, 7, 8}"
            ]
          },
          "execution_count": 759,
          "metadata": {},
          "output_type": "execute_result"
        }
      ],
      "source": [
        "A.union(B) # Union of A and B"
      ]
    },
    {
      "cell_type": "code",
      "execution_count": null,
      "metadata": {
        "id": "pyv5MQEIgbQu",
        "outputId": "76acaebc-507c-4d1d-ec1c-136758219f21"
      },
      "outputs": [
        {
          "data": {
            "text/plain": [
              "{1, 2, 3, 4, 5, 6, 7, 8, 9, 10}"
            ]
          },
          "execution_count": 760,
          "metadata": {},
          "output_type": "execute_result"
        }
      ],
      "source": [
        "A.union(B, C)  # Union of A, B and C."
      ]
    },
    {
      "cell_type": "code",
      "execution_count": null,
      "metadata": {
        "id": "aZhh6XjFgbQu",
        "outputId": "4efc1186-d54d-4beb-d686-11752538433b"
      },
      "outputs": [
        {
          "data": {
            "text/plain": [
              "{1, 2, 3, 4, 5, 6, 7, 8, 9, 10}"
            ]
          },
          "execution_count": 761,
          "metadata": {},
          "output_type": "execute_result"
        }
      ],
      "source": [
        "\"\"\"\n",
        "Updates the set calling the update() method with union of A , B & C.\n",
        "\n",
        "For below example Set A will be updated with union of A,B & C.\n",
        "\"\"\"\n",
        "A.update(B,C)\n",
        "A"
      ]
    },
    {
      "cell_type": "markdown",
      "metadata": {
        "id": "Nwe0lVrrgbQu"
      },
      "source": [
        "<img src=\"https://upload.wikimedia.org/wikipedia/commons/3/30/Venn0111.svg\">"
      ]
    },
    {
      "cell_type": "markdown",
      "metadata": {
        "id": "5jQu7FmQgbQv"
      },
      "source": [
        "#### Intersection"
      ]
    },
    {
      "cell_type": "code",
      "execution_count": null,
      "metadata": {
        "id": "D7yVGeYXgbQv"
      },
      "outputs": [],
      "source": [
        "A = {1,2,3,4,5}\n",
        "B = {4,5,6,7,8}"
      ]
    },
    {
      "cell_type": "code",
      "execution_count": null,
      "metadata": {
        "id": "TQ0pxd9wgbQv",
        "outputId": "5d029dac-0df8-4c3d-b7a3-b88f555f4d61"
      },
      "outputs": [
        {
          "data": {
            "text/plain": [
              "{4, 5}"
            ]
          },
          "execution_count": 763,
          "metadata": {},
          "output_type": "execute_result"
        }
      ],
      "source": [
        "A & B  # Intersection of A and B (Common items in both sets)"
      ]
    },
    {
      "cell_type": "code",
      "execution_count": null,
      "metadata": {
        "id": "kykcGVUcgbQv",
        "outputId": "f2e035d0-3abf-465e-8b47-96fe93fe112b"
      },
      "outputs": [
        {
          "ename": "SyntaxError",
          "evalue": "invalid syntax (<ipython-input-764-f01b60f4d31d>, line 1)",
          "output_type": "error",
          "traceback": [
            "\u001b[1;36m  File \u001b[1;32m\"<ipython-input-764-f01b60f4d31d>\"\u001b[1;36m, line \u001b[1;32m1\u001b[0m\n\u001b[1;33m    A.intersection(B)  Intersection of A and B\u001b[0m\n\u001b[1;37m                                  ^\u001b[0m\n\u001b[1;31mSyntaxError\u001b[0m\u001b[1;31m:\u001b[0m invalid syntax\n"
          ]
        }
      ],
      "source": [
        "A.intersection(B)  Intersection of A and B"
      ]
    },
    {
      "cell_type": "code",
      "execution_count": null,
      "metadata": {
        "id": "qsm8-gYegbQv",
        "outputId": "01031931-3a62-47b5-b726-5c94369b2068"
      },
      "outputs": [
        {
          "data": {
            "text/plain": [
              "{4, 5}"
            ]
          },
          "execution_count": 765,
          "metadata": {},
          "output_type": "execute_result"
        }
      ],
      "source": [
        "\"\"\"\n",
        "Updates the set calling the intersection_update() method with the intersection of sets.\n",
        "\n",
        "For below example Set A will be updated  with the intersection of A & B.\n",
        "\"\"\"\n",
        "A.intersection_update(B)\n",
        "A"
      ]
    },
    {
      "cell_type": "markdown",
      "metadata": {
        "id": "zR620rv3gbQw"
      },
      "source": [
        "<img src=\"https://upload.wikimedia.org/wikipedia/commons/9/99/Venn0001.svg\">"
      ]
    },
    {
      "cell_type": "markdown",
      "metadata": {
        "id": "1WPbJnk3gbQw"
      },
      "source": [
        "#### Difference"
      ]
    },
    {
      "cell_type": "code",
      "execution_count": null,
      "metadata": {
        "id": "xKITCCzkgbQw"
      },
      "outputs": [],
      "source": [
        "A = {1,2,3,4,5}\n",
        "B = {4,5,6,7,8}"
      ]
    },
    {
      "cell_type": "code",
      "execution_count": null,
      "metadata": {
        "id": "nE9S-U38gbQx",
        "outputId": "282982fb-1547-4fb8-cc37-edda036060bc"
      },
      "outputs": [
        {
          "data": {
            "text/plain": [
              "{1, 2, 3}"
            ]
          },
          "execution_count": 767,
          "metadata": {},
          "output_type": "execute_result"
        }
      ],
      "source": [
        "A - B  # set of elements that are only in A but not in B"
      ]
    },
    {
      "cell_type": "code",
      "execution_count": null,
      "metadata": {
        "id": "wbiK9AN_gbQx",
        "outputId": "3b8429b5-d88f-4035-977b-c3edb8e1e45c"
      },
      "outputs": [
        {
          "data": {
            "text/plain": [
              "{1, 2, 3}"
            ]
          },
          "execution_count": 768,
          "metadata": {},
          "output_type": "execute_result"
        }
      ],
      "source": [
        "A.difference(B) # Difference of sets"
      ]
    },
    {
      "cell_type": "code",
      "execution_count": null,
      "metadata": {
        "id": "VOhEOk2pgbQx",
        "outputId": "6c93603b-d83a-40a0-80a0-83fc448ee19b"
      },
      "outputs": [
        {
          "data": {
            "text/plain": [
              "{6, 7, 8}"
            ]
          },
          "execution_count": 769,
          "metadata": {},
          "output_type": "execute_result"
        }
      ],
      "source": [
        "B- A  # set of elements that are only in B but not in A"
      ]
    },
    {
      "cell_type": "code",
      "execution_count": null,
      "metadata": {
        "id": "FO3QydVDgbQx",
        "outputId": "3f09b299-dbb3-4c99-b72b-ace1930b8e8d"
      },
      "outputs": [
        {
          "data": {
            "text/plain": [
              "{6, 7, 8}"
            ]
          },
          "execution_count": 770,
          "metadata": {},
          "output_type": "execute_result"
        }
      ],
      "source": [
        "B.difference(A)"
      ]
    },
    {
      "cell_type": "code",
      "execution_count": null,
      "metadata": {
        "id": "7AexaYuagbQy",
        "outputId": "f491a8a3-5245-45fe-fc66-b311a7a4a251"
      },
      "outputs": [
        {
          "data": {
            "text/plain": [
              "{6, 7, 8}"
            ]
          },
          "execution_count": 771,
          "metadata": {},
          "output_type": "execute_result"
        }
      ],
      "source": [
        "\"\"\"\n",
        "Updates the set calling the difference_update() method with the difference of sets.\n",
        "\n",
        "For below example Set B will be updated  with the difference of B & A.\n",
        "\"\"\"\n",
        "B.difference_update(A)\n",
        "B"
      ]
    },
    {
      "cell_type": "markdown",
      "metadata": {
        "id": "0LBk9xcbgbQy"
      },
      "source": [
        "<img src=\"https://upload.wikimedia.org/wikipedia/commons/5/5a/Venn0010.svg\">"
      ]
    },
    {
      "cell_type": "markdown",
      "metadata": {
        "id": "hSmFNoaigbQy"
      },
      "source": [
        "#### Symmetric Difference"
      ]
    },
    {
      "cell_type": "code",
      "execution_count": null,
      "metadata": {
        "id": "nSPBMiBtgbQy"
      },
      "outputs": [],
      "source": [
        "A = {1,2,3,4,5}\n",
        "B = {4,5,6,7,8}"
      ]
    },
    {
      "cell_type": "code",
      "execution_count": null,
      "metadata": {
        "id": "_Wa-LMbugbQz",
        "outputId": "b770a6ee-58ec-4e40-aa9b-5fd12382fc14"
      },
      "outputs": [
        {
          "data": {
            "text/plain": [
              "{1, 2, 3, 6, 7, 8}"
            ]
          },
          "execution_count": 773,
          "metadata": {},
          "output_type": "execute_result"
        }
      ],
      "source": [
        "A ^ B # Symmetric difference (Set of elements in A and B but not in both. \"EXCLUDING THE INTERSECTION\")."
      ]
    },
    {
      "cell_type": "code",
      "execution_count": null,
      "metadata": {
        "id": "DR9vd4PkgbQz",
        "outputId": "de76f390-b592-4020-ef78-44e23c4909c7"
      },
      "outputs": [
        {
          "data": {
            "text/plain": [
              "{1, 2, 3, 6, 7, 8}"
            ]
          },
          "execution_count": 774,
          "metadata": {},
          "output_type": "execute_result"
        }
      ],
      "source": [
        "A.symmetric_difference(B)  # Symmetric difference of sets"
      ]
    },
    {
      "cell_type": "code",
      "execution_count": null,
      "metadata": {
        "id": "f-Cm8ccggbQz",
        "outputId": "f9ce1ff7-7dfc-4c70-cc10-8531fdd87572"
      },
      "outputs": [
        {
          "data": {
            "text/plain": [
              "{1, 2, 3, 6, 7, 8}"
            ]
          },
          "execution_count": 775,
          "metadata": {},
          "output_type": "execute_result"
        }
      ],
      "source": [
        "\"\"\"\n",
        "Updates the set calling the symmetric_difference_update() method with the symmetric difference of sets.\n",
        "\n",
        "For below example Set A will be updated  with the symmetric difference of A & B.\n",
        "\"\"\"\n",
        "\n",
        "A.symmetric_difference_update(B)\n",
        "A"
      ]
    },
    {
      "cell_type": "markdown",
      "metadata": {
        "id": "tVllmJHEgbQz"
      },
      "source": [
        "<img src=\"https://upload.wikimedia.org/wikipedia/commons/4/46/Venn0110.svg\">"
      ]
    },
    {
      "cell_type": "markdown",
      "metadata": {
        "id": "AgFWS_i5gbQ0"
      },
      "source": [
        "### Subset , Superset & Disjoint"
      ]
    },
    {
      "cell_type": "code",
      "execution_count": null,
      "metadata": {
        "id": "vuK69bSNgbQ0"
      },
      "outputs": [],
      "source": [
        "A = {1,2,3,4,5,6,7,8,9}\n",
        "B = {3,4,5,6,7,8}\n",
        "C = {10,20,30,40}"
      ]
    },
    {
      "cell_type": "code",
      "execution_count": null,
      "metadata": {
        "id": "7O-wL07PgbQ0",
        "outputId": "3025f6ab-9b62-45ed-ea60-b4869b6d2817"
      },
      "outputs": [
        {
          "data": {
            "text/plain": [
              "True"
            ]
          },
          "execution_count": 785,
          "metadata": {},
          "output_type": "execute_result"
        }
      ],
      "source": [
        "B.issubset(A) # Set B is said to be the subset of set A if all elements of B are in A."
      ]
    },
    {
      "cell_type": "code",
      "execution_count": null,
      "metadata": {
        "id": "xjG1v8x2gbQ1",
        "outputId": "2980f23a-e50e-4bec-9fda-380f3d987577"
      },
      "outputs": [
        {
          "data": {
            "text/plain": [
              "True"
            ]
          },
          "execution_count": 786,
          "metadata": {},
          "output_type": "execute_result"
        }
      ],
      "source": [
        "A.issuperset(B) # Set A is said to be the superset of set B if all elements of B are in A."
      ]
    },
    {
      "cell_type": "code",
      "execution_count": null,
      "metadata": {
        "id": "w6JU7sEWgbQ1",
        "outputId": "a494953c-581f-42e0-fcb7-070b9d927dd4"
      },
      "outputs": [
        {
          "data": {
            "text/plain": [
              "True"
            ]
          },
          "execution_count": 787,
          "metadata": {},
          "output_type": "execute_result"
        }
      ],
      "source": [
        "C.isdisjoint(A) # Two sets are said to be disjoint sets if they have no common elements."
      ]
    },
    {
      "cell_type": "code",
      "execution_count": null,
      "metadata": {
        "id": "OWHzd5zJgbQ1",
        "outputId": "9d1ec8c4-d7ea-46af-f4fd-989250e2f201"
      },
      "outputs": [
        {
          "data": {
            "text/plain": [
              "False"
            ]
          },
          "execution_count": 788,
          "metadata": {},
          "output_type": "execute_result"
        }
      ],
      "source": [
        "B.isdisjoint(A) # Two sets are said to be disjoint sets if they have no common elements."
      ]
    },
    {
      "cell_type": "markdown",
      "metadata": {
        "id": "it9gka1HgbQ2"
      },
      "source": [
        "### Other Builtin functions"
      ]
    },
    {
      "cell_type": "code",
      "execution_count": null,
      "metadata": {
        "id": "hkX8B1AFgbQ2",
        "outputId": "9d35670f-6281-4c63-bd68-cc75fa1e89d3"
      },
      "outputs": [
        {
          "data": {
            "text/plain": [
              "{1, 2, 3, 4, 5, 6, 7, 8, 9}"
            ]
          },
          "execution_count": 789,
          "metadata": {},
          "output_type": "execute_result"
        }
      ],
      "source": [
        "A"
      ]
    },
    {
      "cell_type": "code",
      "execution_count": null,
      "metadata": {
        "id": "lmKWo-IKgbQ3",
        "outputId": "8f081d2d-4476-4020-9b59-4f5ad32a81be"
      },
      "outputs": [
        {
          "data": {
            "text/plain": [
              "45"
            ]
          },
          "execution_count": 790,
          "metadata": {},
          "output_type": "execute_result"
        }
      ],
      "source": [
        "sum(A)"
      ]
    },
    {
      "cell_type": "code",
      "execution_count": null,
      "metadata": {
        "id": "QkYFTewJgbQ3",
        "outputId": "e13e7478-dbb3-40dd-c2d4-042e45f867de"
      },
      "outputs": [
        {
          "data": {
            "text/plain": [
              "9"
            ]
          },
          "execution_count": 791,
          "metadata": {},
          "output_type": "execute_result"
        }
      ],
      "source": [
        "max(A)"
      ]
    },
    {
      "cell_type": "code",
      "execution_count": null,
      "metadata": {
        "id": "luAKm0wSgbQ3",
        "outputId": "7e34fff5-e558-4726-be9c-037d5b71ffdf"
      },
      "outputs": [
        {
          "data": {
            "text/plain": [
              "1"
            ]
          },
          "execution_count": 792,
          "metadata": {},
          "output_type": "execute_result"
        }
      ],
      "source": [
        "min(A)"
      ]
    },
    {
      "cell_type": "code",
      "execution_count": null,
      "metadata": {
        "id": "mL17kP2qgbQ5",
        "outputId": "9487d185-c20b-495d-d05f-0d09ab564d9d"
      },
      "outputs": [
        {
          "data": {
            "text/plain": [
              "9"
            ]
          },
          "execution_count": 793,
          "metadata": {},
          "output_type": "execute_result"
        }
      ],
      "source": [
        "len(A)"
      ]
    },
    {
      "cell_type": "code",
      "execution_count": null,
      "metadata": {
        "id": "vPtWUdimgbQ6",
        "outputId": "a1fd640f-66a0-4713-db6c-22a3b0681cef"
      },
      "outputs": [
        {
          "data": {
            "text/plain": [
              "[(0, 1), (1, 2), (2, 3), (3, 4), (4, 5), (5, 6), (6, 7), (7, 8), (8, 9)]"
            ]
          },
          "execution_count": 795,
          "metadata": {},
          "output_type": "execute_result"
        }
      ],
      "source": [
        "list(enumerate(A))"
      ]
    },
    {
      "cell_type": "code",
      "execution_count": null,
      "metadata": {
        "id": "oKNzF6lQgbQ7",
        "outputId": "cb484241-54a9-450d-9648-6029f1b0e340"
      },
      "outputs": [
        {
          "data": {
            "text/plain": [
              "[9, 8, 7, 6, 5, 4, 3, 2, 1]"
            ]
          },
          "execution_count": 798,
          "metadata": {},
          "output_type": "execute_result"
        }
      ],
      "source": [
        "D= sorted(A,reverse=True)\n",
        "D"
      ]
    },
    {
      "cell_type": "code",
      "execution_count": null,
      "metadata": {
        "id": "pbGBWNmlgbQ8",
        "outputId": "4dbf07a4-4b1b-4df3-bd21-8cb4d1620a01"
      },
      "outputs": [
        {
          "data": {
            "text/plain": [
              "[1, 2, 3, 4, 5, 6, 7, 8, 9]"
            ]
          },
          "execution_count": 799,
          "metadata": {},
          "output_type": "execute_result"
        }
      ],
      "source": [
        "sorted(D)"
      ]
    },
    {
      "cell_type": "markdown",
      "metadata": {
        "id": "_egjW8x5gbQ9"
      },
      "source": [
        "# Dictionary"
      ]
    },
    {
      "cell_type": "markdown",
      "metadata": {
        "id": "O0T0KOa_gbQ-"
      },
      "source": [
        "- Dictionary is a mutable data type in Python.\n",
        "\n",
        "- A python dictionary is a collection of key and value pairs separated by a colon (:) & enclosed in curly braces {}.\n",
        "\n",
        "- Keys must be unique in a dictionary, duplicate values are allowed."
      ]
    },
    {
      "cell_type": "markdown",
      "metadata": {
        "id": "1pOCFjMrgbQ_"
      },
      "source": [
        "<img src=\"dict.PNG\">"
      ]
    },
    {
      "cell_type": "markdown",
      "metadata": {
        "id": "KpfqF-fWgbQ_"
      },
      "source": [
        "### Create Dictionary"
      ]
    },
    {
      "cell_type": "code",
      "execution_count": null,
      "metadata": {
        "id": "7Kl-cDeZgbQ_",
        "outputId": "db325848-ed68-4a76-c846-22fd68f88c32"
      },
      "outputs": [
        {
          "data": {
            "text/plain": [
              "{}"
            ]
          },
          "execution_count": 947,
          "metadata": {},
          "output_type": "execute_result"
        }
      ],
      "source": [
        "mydict = dict() # empty dictionary\n",
        "mydict"
      ]
    },
    {
      "cell_type": "code",
      "execution_count": null,
      "metadata": {
        "id": "Xj38-KsPgbRA",
        "outputId": "ccd57ae2-6351-45e8-b148-b0cee636cc6a"
      },
      "outputs": [
        {
          "data": {
            "text/plain": [
              "{}"
            ]
          },
          "execution_count": 948,
          "metadata": {},
          "output_type": "execute_result"
        }
      ],
      "source": [
        "mydict = {}   # empty dictionary\n",
        "mydict"
      ]
    },
    {
      "cell_type": "code",
      "execution_count": null,
      "metadata": {
        "id": "6O_wNSNGgbRA",
        "outputId": "938d4c84-6c34-4bc2-b912-4a7505eb53f0"
      },
      "outputs": [
        {
          "data": {
            "text/plain": [
              "{1: 'one', 2: 'two', 3: 'three'}"
            ]
          },
          "execution_count": 949,
          "metadata": {},
          "output_type": "execute_result"
        }
      ],
      "source": [
        "mydict = {1:'one' , 2:'two' , 3:'three'} # dictionary with integer keys\n",
        "mydict"
      ]
    },
    {
      "cell_type": "code",
      "execution_count": null,
      "metadata": {
        "id": "nYxCsDargbRB",
        "outputId": "8b4674c2-cf9e-4712-d2d6-f6e419528161"
      },
      "outputs": [
        {
          "data": {
            "text/plain": [
              "{1: 'one', 2: 'two', 3: 'three'}"
            ]
          },
          "execution_count": 950,
          "metadata": {},
          "output_type": "execute_result"
        }
      ],
      "source": [
        "mydict = dict({1:'one' , 2:'two' , 3:'three'}) # Create dictionary using dict()\n",
        "mydict"
      ]
    },
    {
      "cell_type": "code",
      "execution_count": null,
      "metadata": {
        "id": "Vo97VmWVgbRC",
        "outputId": "7f6ea3c9-8343-4f2b-d169-ce5f2dc7ea83"
      },
      "outputs": [
        {
          "data": {
            "text/plain": [
              "{'A': 'one', 'B': 'two', 'C': 'three'}"
            ]
          },
          "execution_count": 951,
          "metadata": {},
          "output_type": "execute_result"
        }
      ],
      "source": [
        "mydict = {'A':'one' , 'B':'two' , 'C':'three'} # dictionary with character keys\n",
        "mydict"
      ]
    },
    {
      "cell_type": "code",
      "execution_count": null,
      "metadata": {
        "id": "X9yoGHgugbRC",
        "outputId": "9b836c47-2686-4c4c-d135-df670b113260"
      },
      "outputs": [
        {
          "data": {
            "text/plain": [
              "{1: 'one', 'A': 'two', 3: 'three'}"
            ]
          },
          "execution_count": 318,
          "metadata": {},
          "output_type": "execute_result"
        }
      ],
      "source": [
        "mydict = {1:'one' , 'A':'two' , 3:'three'} # dictionary with mixed keys\n",
        "mydict"
      ]
    },
    {
      "cell_type": "code",
      "execution_count": null,
      "metadata": {
        "id": "lKRzK762gbRC",
        "outputId": "517b2ba5-9564-455e-905a-705b9365578d"
      },
      "outputs": [
        {
          "data": {
            "text/plain": [
              "dict_keys([1, 'A', 3])"
            ]
          },
          "execution_count": 319,
          "metadata": {},
          "output_type": "execute_result"
        }
      ],
      "source": [
        "mydict.keys() # Return Dictionary Keys using keys() method"
      ]
    },
    {
      "cell_type": "code",
      "execution_count": null,
      "metadata": {
        "scrolled": true,
        "id": "CjB4O3JRgbRD",
        "outputId": "376663c4-7b81-4e6b-9612-de1909ead480"
      },
      "outputs": [
        {
          "data": {
            "text/plain": [
              "dict_values(['one', 'two', 'three'])"
            ]
          },
          "execution_count": 320,
          "metadata": {},
          "output_type": "execute_result"
        }
      ],
      "source": [
        "mydict.values() # Return Dictionary Values using values() method"
      ]
    },
    {
      "cell_type": "code",
      "execution_count": null,
      "metadata": {
        "id": "QLCAkVo0gbRD",
        "outputId": "bca18520-7618-4d5b-e0a3-67c5711764f7"
      },
      "outputs": [
        {
          "data": {
            "text/plain": [
              "dict_items([(1, 'one'), ('A', 'two'), (3, 'three')])"
            ]
          },
          "execution_count": 321,
          "metadata": {},
          "output_type": "execute_result"
        }
      ],
      "source": [
        "mydict.items() # Access each key-value pair within a dictionary"
      ]
    },
    {
      "cell_type": "code",
      "execution_count": null,
      "metadata": {
        "id": "xpCTkp0jgbRD",
        "outputId": "895cfb40-13b9-4386-bc25-939277472e78"
      },
      "outputs": [
        {
          "data": {
            "text/plain": [
              "{1: 'one', 2: 'two', 'A': ['asif', 'john', 'Maria']}"
            ]
          },
          "execution_count": 955,
          "metadata": {},
          "output_type": "execute_result"
        }
      ],
      "source": [
        "mydict = {1:'one' , 2:'two' , 'A':['asif' , 'john' , 'Maria']} # dictionary with mixed keys\n",
        "mydict"
      ]
    },
    {
      "cell_type": "code",
      "execution_count": null,
      "metadata": {
        "id": "JLA-qCeFgbRE",
        "outputId": "9144a700-114e-4fbf-f2f5-c5a185400862"
      },
      "outputs": [
        {
          "data": {
            "text/plain": [
              "{1: 'one',\n",
              " 2: 'two',\n",
              " 'A': ['asif', 'john', 'Maria'],\n",
              " 'B': ('Bat', 'cat', 'hat')}"
            ]
          },
          "execution_count": 956,
          "metadata": {},
          "output_type": "execute_result"
        }
      ],
      "source": [
        "mydict = {1:'one' , 2:'two' , 'A':['asif' , 'john' , 'Maria'],  'B':('Bat' , 'cat' , 'hat')} # dictionary with mixed keys\n",
        "mydict"
      ]
    },
    {
      "cell_type": "code",
      "execution_count": null,
      "metadata": {
        "id": "-02448NBgbRE",
        "outputId": "a5a49fc6-352e-4ff3-9e75-5f61c4a5f837"
      },
      "outputs": [
        {
          "data": {
            "text/plain": [
              "{1: 'one',\n",
              " 2: 'two',\n",
              " 'A': {'Name': 'asif', 'Age': 20},\n",
              " 'B': ('Bat', 'cat', 'hat')}"
            ]
          },
          "execution_count": 1,
          "metadata": {},
          "output_type": "execute_result"
        }
      ],
      "source": [
        "mydict = {1:'one' , 2:'two' , 'A':{'Name':'asif' , 'Age' :20},  'B':('Bat' , 'cat' , 'hat')} # dictionary with mixed keys\n",
        "mydict"
      ]
    },
    {
      "cell_type": "code",
      "execution_count": null,
      "metadata": {
        "id": "Cpaxn7w1gbRE",
        "outputId": "dac30b2b-164b-429e-8f7e-2cbd758fd2fd"
      },
      "outputs": [
        {
          "data": {
            "text/plain": [
              "{'c': None, 'd': None, 'a': None, 'b': None}"
            ]
          },
          "execution_count": 957,
          "metadata": {},
          "output_type": "execute_result"
        }
      ],
      "source": [
        "keys = {'a' , 'b' , 'c' , 'd'}\n",
        "mydict3 = dict.fromkeys(keys)   # Create a dictionary from a sequence of keys\n",
        "mydict3"
      ]
    },
    {
      "cell_type": "code",
      "execution_count": null,
      "metadata": {
        "id": "EM96409ggbRE",
        "outputId": "384ebe53-86df-43be-90c9-52c41caf9d45"
      },
      "outputs": [
        {
          "data": {
            "text/plain": [
              "{'c': 10, 'd': 10, 'a': 10, 'b': 10}"
            ]
          },
          "execution_count": 958,
          "metadata": {},
          "output_type": "execute_result"
        }
      ],
      "source": [
        "keys = {'a' , 'b' , 'c' , 'd'}\n",
        "value = 10\n",
        "mydict3 = dict.fromkeys(keys , value)  # Create a dictionary from a sequence of keys with value\n",
        "mydict3"
      ]
    },
    {
      "cell_type": "code",
      "execution_count": null,
      "metadata": {
        "id": "idb3ppgVgbRF",
        "outputId": "3c12bfcb-ca1e-4d91-db0e-20e391e40dd0"
      },
      "outputs": [
        {
          "data": {
            "text/plain": [
              "{'c': [10, 20, 30], 'd': [10, 20, 30], 'a': [10, 20, 30], 'b': [10, 20, 30]}"
            ]
          },
          "execution_count": 959,
          "metadata": {},
          "output_type": "execute_result"
        }
      ],
      "source": [
        "keys = {'a' , 'b' , 'c' , 'd'}\n",
        "value = [10,20,30]\n",
        "mydict3 = dict.fromkeys(keys , value)  # Create a dictionary from a sequence of keys with value list\n",
        "mydict3"
      ]
    },
    {
      "cell_type": "code",
      "execution_count": null,
      "metadata": {
        "id": "1QUFe80HgbRF",
        "outputId": "34eb0684-e303-4b2f-91bd-5c3ecefb5c70"
      },
      "outputs": [
        {
          "data": {
            "text/plain": [
              "{'c': [10, 20, 30, 40],\n",
              " 'd': [10, 20, 30, 40],\n",
              " 'a': [10, 20, 30, 40],\n",
              " 'b': [10, 20, 30, 40]}"
            ]
          },
          "execution_count": 960,
          "metadata": {},
          "output_type": "execute_result"
        }
      ],
      "source": [
        "value.append(40)\n",
        "mydict3"
      ]
    },
    {
      "cell_type": "markdown",
      "metadata": {
        "id": "CL0QdgcQgbRF"
      },
      "source": [
        "### Accessing Items"
      ]
    },
    {
      "cell_type": "code",
      "execution_count": null,
      "metadata": {
        "id": "3k65WrLSgbRF",
        "outputId": "3cc296d7-e209-4290-904c-48bebbfa9a84"
      },
      "outputs": [
        {
          "data": {
            "text/plain": [
              "{1: 'one', 2: 'two', 3: 'three', 4: 'four'}"
            ]
          },
          "execution_count": 961,
          "metadata": {},
          "output_type": "execute_result"
        }
      ],
      "source": [
        "mydict = {1:'one' , 2:'two' , 3:'three' , 4:'four'}\n",
        "mydict"
      ]
    },
    {
      "cell_type": "code",
      "execution_count": null,
      "metadata": {
        "id": "GfQrQNQUgbRF",
        "outputId": "9a69fbd4-c43c-41e6-d413-e002a7999f44"
      },
      "outputs": [
        {
          "data": {
            "text/plain": [
              "'one'"
            ]
          },
          "execution_count": 962,
          "metadata": {},
          "output_type": "execute_result"
        }
      ],
      "source": [
        "mydict[1] # Access item using key"
      ]
    },
    {
      "cell_type": "code",
      "execution_count": null,
      "metadata": {
        "id": "rIGDy-5FgbRG",
        "outputId": "e82d5ec9-d7e9-46f2-e823-1626f225f874"
      },
      "outputs": [
        {
          "data": {
            "text/plain": [
              "'one'"
            ]
          },
          "execution_count": 963,
          "metadata": {},
          "output_type": "execute_result"
        }
      ],
      "source": [
        "mydict.get(1) # Access item using get() method"
      ]
    },
    {
      "cell_type": "code",
      "execution_count": null,
      "metadata": {
        "id": "rbCn7ywDgbRG",
        "outputId": "b5e70c70-eb01-4817-ea9d-4947b04c056e"
      },
      "outputs": [
        {
          "data": {
            "text/plain": [
              "{'Name': 'Asif', 'ID': 74123, 'DOB': 1991, 'job': 'Analyst'}"
            ]
          },
          "execution_count": 964,
          "metadata": {},
          "output_type": "execute_result"
        }
      ],
      "source": [
        "mydict1 = {'Name':'Asif' , 'ID': 74123 , 'DOB': 1991 , 'job' :'Analyst'}\n",
        "mydict1"
      ]
    },
    {
      "cell_type": "code",
      "execution_count": null,
      "metadata": {
        "id": "F4Et2sNYgbRG",
        "outputId": "3841342e-e602-4f45-e649-e3dbc7fd717d"
      },
      "outputs": [
        {
          "data": {
            "text/plain": [
              "'Asif'"
            ]
          },
          "execution_count": 965,
          "metadata": {},
          "output_type": "execute_result"
        }
      ],
      "source": [
        "mydict1['Name']  # Access item using key"
      ]
    },
    {
      "cell_type": "code",
      "execution_count": null,
      "metadata": {
        "id": "4brLbDpYgbRG",
        "outputId": "795dd04a-7cee-4bc9-effc-541afb409c81"
      },
      "outputs": [
        {
          "data": {
            "text/plain": [
              "'Analyst'"
            ]
          },
          "execution_count": 966,
          "metadata": {},
          "output_type": "execute_result"
        }
      ],
      "source": [
        "mydict1.get('job')  # Access item using get() method"
      ]
    },
    {
      "cell_type": "markdown",
      "metadata": {
        "id": "eeopxqOHgbRH"
      },
      "source": [
        "### Add, Remove & Change Items"
      ]
    },
    {
      "cell_type": "code",
      "execution_count": null,
      "metadata": {
        "id": "9x47ND9agbRH",
        "outputId": "ee639eef-6d64-44bc-8c3a-60fe4d248187"
      },
      "outputs": [
        {
          "data": {
            "text/plain": [
              "{'Name': 'Asif', 'ID': 12345, 'DOB': 1991, 'Address': 'Hilsinki'}"
            ]
          },
          "execution_count": 967,
          "metadata": {},
          "output_type": "execute_result"
        }
      ],
      "source": [
        "mydict1 = {'Name':'Asif' , 'ID': 12345 , 'DOB': 1991 , 'Address' : 'Hilsinki'}\n",
        "mydict1"
      ]
    },
    {
      "cell_type": "code",
      "execution_count": null,
      "metadata": {
        "id": "f5Np-M4-gbRH",
        "outputId": "775092a3-c4ce-4cb7-cba4-4b9e85f586b3"
      },
      "outputs": [
        {
          "data": {
            "text/plain": [
              "{'Name': 'Asif', 'ID': 12345, 'DOB': 1992, 'Address': 'Delhi'}"
            ]
          },
          "execution_count": 968,
          "metadata": {},
          "output_type": "execute_result"
        }
      ],
      "source": [
        "mydict1['DOB'] = 1992  # Changing Dictionary Items\n",
        "mydict1['Address'] = 'Delhi'\n",
        "mydict1"
      ]
    },
    {
      "cell_type": "code",
      "execution_count": null,
      "metadata": {
        "id": "YjMP_UTtgbRH",
        "outputId": "ccbd18fc-c56e-447f-b6d7-ddd4e7542757"
      },
      "outputs": [
        {
          "data": {
            "text/plain": [
              "{'Name': 'Asif', 'ID': 12345, 'DOB': 1995, 'Address': 'Delhi'}"
            ]
          },
          "execution_count": 969,
          "metadata": {},
          "output_type": "execute_result"
        }
      ],
      "source": [
        "dict1 = {'DOB':1995}\n",
        "mydict1.update(dict1)\n",
        "mydict1"
      ]
    },
    {
      "cell_type": "code",
      "execution_count": null,
      "metadata": {
        "id": "IDisjePUgbRI",
        "outputId": "2c057183-2d71-4714-c6ec-870fdc5ab303"
      },
      "outputs": [
        {
          "data": {
            "text/plain": [
              "{'Name': 'Asif',\n",
              " 'ID': 12345,\n",
              " 'DOB': 1995,\n",
              " 'Address': 'Delhi',\n",
              " 'Job': 'Analyst'}"
            ]
          },
          "execution_count": 970,
          "metadata": {},
          "output_type": "execute_result"
        }
      ],
      "source": [
        "mydict1['Job'] = 'Analyst' # Adding items in the dictionary\n",
        "mydict1"
      ]
    },
    {
      "cell_type": "code",
      "execution_count": null,
      "metadata": {
        "id": "2N5MqfQ_gbRI",
        "outputId": "0f40e4e2-1a1f-4749-a443-1df09c9e623b"
      },
      "outputs": [
        {
          "data": {
            "text/plain": [
              "{'Name': 'Asif', 'ID': 12345, 'DOB': 1995, 'Address': 'Delhi'}"
            ]
          },
          "execution_count": 971,
          "metadata": {},
          "output_type": "execute_result"
        }
      ],
      "source": [
        "mydict1.pop('Job') # Removing items in the dictionary using Pop method\n",
        "mydict1"
      ]
    },
    {
      "cell_type": "code",
      "execution_count": null,
      "metadata": {
        "id": "UB0FxXocgbRI",
        "outputId": "655c1649-977f-4619-b5d7-7e16b6c06b29"
      },
      "outputs": [
        {
          "data": {
            "text/plain": [
              "('Address', 'Delhi')"
            ]
          },
          "execution_count": 972,
          "metadata": {},
          "output_type": "execute_result"
        }
      ],
      "source": [
        "mydict1.popitem() # A random item is removed"
      ]
    },
    {
      "cell_type": "code",
      "execution_count": null,
      "metadata": {
        "id": "fBGFvDllgbRI",
        "outputId": "05f2f528-0bf1-4426-8ad0-4c461072787f"
      },
      "outputs": [
        {
          "data": {
            "text/plain": [
              "{'Name': 'Asif', 'ID': 12345, 'DOB': 1995}"
            ]
          },
          "execution_count": 973,
          "metadata": {},
          "output_type": "execute_result"
        }
      ],
      "source": [
        "mydict1"
      ]
    },
    {
      "cell_type": "code",
      "execution_count": null,
      "metadata": {
        "id": "-Y4v4zSXgbRJ",
        "outputId": "8b7d8447-5f5b-437c-e571-fc928278a81a"
      },
      "outputs": [
        {
          "data": {
            "text/plain": [
              "{'Name': 'Asif', 'DOB': 1995}"
            ]
          },
          "execution_count": 974,
          "metadata": {},
          "output_type": "execute_result"
        }
      ],
      "source": [
        "del[mydict1['ID']] # Removing item using del method\n",
        "mydict1"
      ]
    },
    {
      "cell_type": "code",
      "execution_count": null,
      "metadata": {
        "id": "nG9U_-72gbRJ",
        "outputId": "39d361f7-3eb7-4ea3-ce24-30b4048186ef"
      },
      "outputs": [
        {
          "data": {
            "text/plain": [
              "{}"
            ]
          },
          "execution_count": 975,
          "metadata": {},
          "output_type": "execute_result"
        }
      ],
      "source": [
        "mydict1.clear() # Delete all items of the dictionary using clear method\n",
        "mydict1"
      ]
    },
    {
      "cell_type": "code",
      "execution_count": null,
      "metadata": {
        "id": "YfJ80ugtgbRJ",
        "outputId": "4ea7fce7-1acc-45e6-d23d-ac8629386275"
      },
      "outputs": [
        {
          "ename": "NameError",
          "evalue": "name 'mydict1' is not defined",
          "output_type": "error",
          "traceback": [
            "\u001b[1;31m---------------------------------------------------------------------------\u001b[0m",
            "\u001b[1;31mNameError\u001b[0m                                 Traceback (most recent call last)",
            "\u001b[1;32m<ipython-input-976-da2fba4eca0f>\u001b[0m in \u001b[0;36m<module>\u001b[1;34m\u001b[0m\n\u001b[0;32m      1\u001b[0m \u001b[1;32mdel\u001b[0m \u001b[0mmydict1\u001b[0m \u001b[1;31m# Delete the dictionary object\u001b[0m\u001b[1;33m\u001b[0m\u001b[1;33m\u001b[0m\u001b[0m\n\u001b[1;32m----> 2\u001b[1;33m \u001b[0mmydict1\u001b[0m\u001b[1;33m\u001b[0m\u001b[1;33m\u001b[0m\u001b[0m\n\u001b[0m",
            "\u001b[1;31mNameError\u001b[0m: name 'mydict1' is not defined"
          ]
        }
      ],
      "source": [
        "del mydict1 # Delete the dictionary object\n",
        "mydict1"
      ]
    },
    {
      "cell_type": "markdown",
      "metadata": {
        "id": "WFMyUdVQgbRK"
      },
      "source": [
        "### Copy Dictionary"
      ]
    },
    {
      "cell_type": "code",
      "execution_count": null,
      "metadata": {
        "id": "UIFTUM4ngbRL",
        "outputId": "f3b39570-b792-4d64-f08e-cbf93fc723d4"
      },
      "outputs": [
        {
          "data": {
            "text/plain": [
              "{'Name': 'Asif', 'ID': 12345, 'DOB': 1991, 'Address': 'Hilsinki'}"
            ]
          },
          "execution_count": 977,
          "metadata": {},
          "output_type": "execute_result"
        }
      ],
      "source": [
        "mydict = {'Name':'Asif' , 'ID': 12345 , 'DOB': 1991 , 'Address' : 'Hilsinki'}\n",
        "mydict"
      ]
    },
    {
      "cell_type": "code",
      "execution_count": null,
      "metadata": {
        "id": "4hBzbNvWgbRM"
      },
      "outputs": [],
      "source": [
        "mydict1 = mydict # Create a new reference \"mydict1\""
      ]
    },
    {
      "cell_type": "code",
      "execution_count": null,
      "metadata": {
        "id": "BHSH9EjmgbRN",
        "outputId": "c8ee116b-c585-4567-c892-b4e45a737ef7"
      },
      "outputs": [
        {
          "data": {
            "text/plain": [
              "(1537346312776, 1537346312776)"
            ]
          },
          "execution_count": 979,
          "metadata": {},
          "output_type": "execute_result"
        }
      ],
      "source": [
        "id(mydict) , id(mydict1) # The address of both mydict & mydict1 will be the same as both are pointing to same dictionary."
      ]
    },
    {
      "cell_type": "code",
      "execution_count": null,
      "metadata": {
        "id": "IK1wz4-ygbRO"
      },
      "outputs": [],
      "source": [
        "mydict2 = mydict.copy() # Create a copy of the dictionary"
      ]
    },
    {
      "cell_type": "code",
      "execution_count": null,
      "metadata": {
        "id": "_Yb_IbI7gbRP",
        "outputId": "de2f9eeb-7bf7-4835-c55a-e48624446772"
      },
      "outputs": [
        {
          "data": {
            "text/plain": [
              "1537345875784"
            ]
          },
          "execution_count": 981,
          "metadata": {},
          "output_type": "execute_result"
        }
      ],
      "source": [
        "id(mydict2) # The address of mydict2 will be different from mydict because mydict2 is pointing to the copy of the existing dict."
      ]
    },
    {
      "cell_type": "code",
      "execution_count": null,
      "metadata": {
        "id": "fY6VPLgIgbRQ"
      },
      "outputs": [],
      "source": [
        "mydict['Address'] = 'Mumbai'"
      ]
    },
    {
      "cell_type": "code",
      "execution_count": null,
      "metadata": {
        "id": "av6u8IDdgbRQ",
        "outputId": "daaf6669-8278-46f1-fcf2-ed54ed618f4a"
      },
      "outputs": [
        {
          "data": {
            "text/plain": [
              "{'Name': 'Asif', 'ID': 12345, 'DOB': 1991, 'Address': 'Mumbai'}"
            ]
          },
          "execution_count": 983,
          "metadata": {},
          "output_type": "execute_result"
        }
      ],
      "source": [
        "mydict"
      ]
    },
    {
      "cell_type": "code",
      "execution_count": null,
      "metadata": {
        "id": "HXrA9XH_gbRR",
        "outputId": "0a6bf39b-d1a5-46b9-fbe2-15b9cb297f80"
      },
      "outputs": [
        {
          "data": {
            "text/plain": [
              "{'Name': 'Asif', 'ID': 12345, 'DOB': 1991, 'Address': 'Mumbai'}"
            ]
          },
          "execution_count": 984,
          "metadata": {},
          "output_type": "execute_result"
        }
      ],
      "source": [
        "mydict1 # mydict1 will be also impacted as it is pointing to the same dictionary"
      ]
    },
    {
      "cell_type": "code",
      "execution_count": null,
      "metadata": {
        "id": "w8RuN9RogbRR",
        "outputId": "39b5f3ab-9b3a-49aa-8943-8241ce74e968"
      },
      "outputs": [
        {
          "data": {
            "text/plain": [
              "{'Name': 'Asif', 'ID': 12345, 'DOB': 1991, 'Address': 'Hilsinki'}"
            ]
          },
          "execution_count": 985,
          "metadata": {},
          "output_type": "execute_result"
        }
      ],
      "source": [
        "mydict2 # Copy of list won't be impacted due to the changes made in the original dictionary"
      ]
    },
    {
      "cell_type": "markdown",
      "metadata": {
        "id": "4TXwohZZgbRR"
      },
      "source": [
        "### Loop through a Dictionary"
      ]
    },
    {
      "cell_type": "code",
      "execution_count": null,
      "metadata": {
        "id": "oNAS6zX7gbRR",
        "outputId": "5f21450e-c514-4a38-9ad4-bcc8130e0598"
      },
      "outputs": [
        {
          "data": {
            "text/plain": [
              "{'Name': 'Asif',\n",
              " 'ID': 12345,\n",
              " 'DOB': 1991,\n",
              " 'Address': 'Hilsinki',\n",
              " 'Job': 'Analyst'}"
            ]
          },
          "execution_count": 986,
          "metadata": {},
          "output_type": "execute_result"
        }
      ],
      "source": [
        "mydict1 = {'Name':'Asif' , 'ID': 12345 , 'DOB': 1991 , 'Address' : 'Hilsinki' , 'Job': 'Analyst'}\n",
        "mydict1"
      ]
    },
    {
      "cell_type": "code",
      "execution_count": null,
      "metadata": {
        "id": "Ll9DvY-hgbRS",
        "outputId": "786a3059-d9da-4160-fc94-757c64974169"
      },
      "outputs": [
        {
          "name": "stdout",
          "output_type": "stream",
          "text": [
            "Name : Asif\n",
            "ID : 12345\n",
            "DOB : 1991\n",
            "Address : Hilsinki\n",
            "Job : Analyst\n"
          ]
        }
      ],
      "source": [
        "for i in mydict1:\n",
        "    print(i , ':' , mydict1[i]) # Key & value pair"
      ]
    },
    {
      "cell_type": "code",
      "execution_count": null,
      "metadata": {
        "id": "iIpMKZaBgbRS",
        "outputId": "27e62747-ceff-48c4-fdf1-e8ab51c9ea6f"
      },
      "outputs": [
        {
          "name": "stdout",
          "output_type": "stream",
          "text": [
            "Asif\n",
            "12345\n",
            "1991\n",
            "Hilsinki\n",
            "Analyst\n"
          ]
        }
      ],
      "source": [
        "for i in mydict1:\n",
        "    print(mydict1[i]) # Dictionary items"
      ]
    },
    {
      "cell_type": "markdown",
      "metadata": {
        "id": "OGBtf4_egbRS"
      },
      "source": [
        "### Dictionary Membership"
      ]
    },
    {
      "cell_type": "code",
      "execution_count": null,
      "metadata": {
        "id": "XV-jhYypgbRT",
        "outputId": "64d4855e-2f83-42d5-ee64-55ccdc550088"
      },
      "outputs": [
        {
          "data": {
            "text/plain": [
              "{'Name': 'Asif', 'ID': 12345, 'DOB': 1991, 'Job': 'Analyst'}"
            ]
          },
          "execution_count": 989,
          "metadata": {},
          "output_type": "execute_result"
        }
      ],
      "source": [
        "mydict1 = {'Name':'Asif' , 'ID': 12345 , 'DOB': 1991 , 'Job': 'Analyst'}\n",
        "mydict1"
      ]
    },
    {
      "cell_type": "code",
      "execution_count": null,
      "metadata": {
        "id": "RUHSqiJmgbRT",
        "outputId": "2aaba91d-f314-4068-a1aa-4487d7fed448"
      },
      "outputs": [
        {
          "data": {
            "text/plain": [
              "True"
            ]
          },
          "execution_count": 990,
          "metadata": {},
          "output_type": "execute_result"
        }
      ],
      "source": [
        "'Name' in mydict1 # Test if a key is in a dictionary or not."
      ]
    },
    {
      "cell_type": "code",
      "execution_count": null,
      "metadata": {
        "id": "cLpQVfJlgbRU",
        "outputId": "620c3514-a037-4226-a61d-e2d438c2a852"
      },
      "outputs": [
        {
          "data": {
            "text/plain": [
              "False"
            ]
          },
          "execution_count": 991,
          "metadata": {},
          "output_type": "execute_result"
        }
      ],
      "source": [
        "'Asif' in mydict1  # Membership test can be only done for keys."
      ]
    },
    {
      "cell_type": "code",
      "execution_count": null,
      "metadata": {
        "id": "T1VGDLlzgbRU",
        "outputId": "b86ccba0-2479-45a0-e0c4-3fd67d4beb65"
      },
      "outputs": [
        {
          "data": {
            "text/plain": [
              "True"
            ]
          },
          "execution_count": 992,
          "metadata": {},
          "output_type": "execute_result"
        }
      ],
      "source": [
        "'ID' in mydict1"
      ]
    },
    {
      "cell_type": "code",
      "execution_count": null,
      "metadata": {
        "id": "1Wl_dEzKgbRU",
        "outputId": "6fbde70d-14d2-4491-d50c-3a9ae7d1969c"
      },
      "outputs": [
        {
          "data": {
            "text/plain": [
              "False"
            ]
          },
          "execution_count": 993,
          "metadata": {},
          "output_type": "execute_result"
        }
      ],
      "source": [
        "'Address' in mydict1"
      ]
    },
    {
      "cell_type": "markdown",
      "metadata": {
        "id": "vjHw4PfRgbRV"
      },
      "source": [
        "### All / Any"
      ]
    },
    {
      "cell_type": "markdown",
      "metadata": {
        "id": "J4o1AYbmgbRV"
      },
      "source": [
        "The __all()__ method returns:\n",
        "\n",
        "- __True__ - If all all keys of the dictionary are true\n",
        "- __False__ - If any key of the dictionary is false\n",
        "\n",
        "\n",
        "The __any()__ function returns True if any key of the dictionary is True. If not, any() returns False."
      ]
    },
    {
      "cell_type": "code",
      "execution_count": null,
      "metadata": {
        "id": "v-AQZwvbgbRV",
        "outputId": "ead8aa42-6493-4155-b382-6a3913064a92"
      },
      "outputs": [
        {
          "data": {
            "text/plain": [
              "{'Name': 'Asif', 'ID': 12345, 'DOB': 1991, 'Job': 'Analyst'}"
            ]
          },
          "execution_count": 995,
          "metadata": {},
          "output_type": "execute_result"
        }
      ],
      "source": [
        "mydict1 = {'Name':'Asif' , 'ID': 12345 , 'DOB': 1991 , 'Job': 'Analyst'}\n",
        "mydict1"
      ]
    },
    {
      "cell_type": "code",
      "execution_count": null,
      "metadata": {
        "id": "dysqtNbkgbRV",
        "outputId": "e09500cf-1cac-4545-d2b9-ccfd7040a59d"
      },
      "outputs": [
        {
          "data": {
            "text/plain": [
              "True"
            ]
          },
          "execution_count": 996,
          "metadata": {},
          "output_type": "execute_result"
        }
      ],
      "source": [
        "all(mydict1) # Will Return false as one value is false (Value 0)"
      ]
    },
    {
      "cell_type": "code",
      "execution_count": null,
      "metadata": {
        "id": "0tSwf3h0gbRV",
        "outputId": "55afbf28-867d-4a21-8d5e-e24b36b166d6"
      },
      "outputs": [
        {
          "data": {
            "text/plain": [
              "True"
            ]
          },
          "execution_count": 997,
          "metadata": {},
          "output_type": "execute_result"
        }
      ],
      "source": [
        "any(mydict1)  # Will Return True as we have items in the dictionary with True value"
      ]
    },
    {
      "cell_type": "code",
      "execution_count": null,
      "metadata": {
        "id": "5i0jC0dngbRW",
        "outputId": "a2a0f0fc-a1d2-4cc5-bc51-e314d7b6dad5"
      },
      "outputs": [
        {
          "data": {
            "text/plain": [
              "{'Name': 'Asif', 'ID': 12345, 'DOB': 1991, 'Job': 'Analyst', 0: 'test1'}"
            ]
          },
          "execution_count": 998,
          "metadata": {},
          "output_type": "execute_result"
        }
      ],
      "source": [
        "mydict1[0] = 'test1'\n",
        "mydict1"
      ]
    },
    {
      "cell_type": "code",
      "execution_count": null,
      "metadata": {
        "id": "zhOxi0x7gbRW",
        "outputId": "6c47b541-ae13-4486-ce55-1b4a7bc75f52"
      },
      "outputs": [
        {
          "data": {
            "text/plain": [
              "False"
            ]
          },
          "execution_count": 999,
          "metadata": {},
          "output_type": "execute_result"
        }
      ],
      "source": [
        "all(mydict1) # Returns false as one value is false"
      ]
    },
    {
      "cell_type": "code",
      "execution_count": null,
      "metadata": {
        "id": "xTqmoH01gbRW",
        "outputId": "803a0128-f85e-4191-c78a-67bf6eb581fe"
      },
      "outputs": [
        {
          "data": {
            "text/plain": [
              "True"
            ]
          },
          "execution_count": 1000,
          "metadata": {},
          "output_type": "execute_result"
        }
      ],
      "source": [
        "any(mydict1)  # Will Return True as we have items in the dictionary with True value"
      ]
    },
    {
      "cell_type": "markdown",
      "metadata": {
        "id": "p6SCfnazgbRW"
      },
      "source": [
        "### Dictionary Comprehension"
      ]
    },
    {
      "cell_type": "code",
      "execution_count": null,
      "metadata": {
        "id": "d2ob3r8ugbRX",
        "outputId": "3a067a13-b9a2-4be9-e663-cae1dde33923"
      },
      "outputs": [
        {
          "data": {
            "text/plain": [
              "{0: 0, 1: 2, 2: 4, 3: 6, 4: 8, 5: 10, 6: 12, 7: 14, 8: 16, 9: 18}"
            ]
          },
          "execution_count": 323,
          "metadata": {},
          "output_type": "execute_result"
        }
      ],
      "source": [
        "double = {i:i*2 for i in range(10)} #double each value using dict comprehension\n",
        "double"
      ]
    },
    {
      "cell_type": "code",
      "execution_count": null,
      "metadata": {
        "id": "z8Tmbb0JgbRX",
        "outputId": "8274a8e0-c756-4250-c5e3-2c8c20a4e846"
      },
      "outputs": [
        {
          "data": {
            "text/plain": [
              "{0: 0, 1: 1, 2: 4, 3: 9, 4: 16, 5: 25, 6: 36, 7: 49, 8: 64, 9: 81}"
            ]
          },
          "execution_count": 327,
          "metadata": {},
          "output_type": "execute_result"
        }
      ],
      "source": [
        "square = {i:i**2 for i in range(10)}\n",
        "square"
      ]
    },
    {
      "cell_type": "markdown",
      "metadata": {
        "id": "f6UqT6bZgbRY"
      },
      "source": [
        "<img src=\"Dcomprehension.PNG\">"
      ]
    },
    {
      "cell_type": "code",
      "execution_count": null,
      "metadata": {
        "id": "5a-nrH-OgbRY",
        "outputId": "306a762f-cd3b-4a0c-fa10-1a8ecebc96ec"
      },
      "outputs": [
        {
          "data": {
            "text/plain": [
              "{'one': 1, 'two': 2, 'three': 3, 'four': 4, 'five': 5}"
            ]
          },
          "execution_count": 329,
          "metadata": {},
          "output_type": "execute_result"
        }
      ],
      "source": [
        "key = ['one' , 'two' , 'three' , 'four' , 'five']\n",
        "value = [1,2,3,4,5]\n",
        "\n",
        "mydict = {k:v for (k,v) in zip(key,value)} # using dict comprehension to create dictionary\n",
        "mydict"
      ]
    },
    {
      "cell_type": "code",
      "execution_count": null,
      "metadata": {
        "id": "o7BOYCttgbRY",
        "outputId": "4d71b310-f667-4b5a-b75e-67404cb8aecd"
      },
      "outputs": [
        {
          "data": {
            "text/plain": [
              "{'a': 1.0, 'b': 2.0, 'c': 3.0, 'd': 4.0, 'e': 5.0}"
            ]
          },
          "execution_count": 332,
          "metadata": {},
          "output_type": "execute_result"
        }
      ],
      "source": [
        "mydict1 = {'a':10 , 'b':20 , 'c':30 , 'd':40 , 'e':50}\n",
        "mydict1 = {k:v/10 for (k,v) in mydict1.items()} # Divide all values in a dictionary by 10\n",
        "mydict1"
      ]
    },
    {
      "cell_type": "code",
      "execution_count": null,
      "metadata": {
        "id": "MCjTBOCHgbRY",
        "outputId": "6c8d73a1-4b3c-427b-8b92-4e6fec37d77b"
      },
      "outputs": [
        {
          "data": {
            "text/plain": [
              "{0: 'N',\n",
              " 1: 'a',\n",
              " 2: 't',\n",
              " 3: 'u',\n",
              " 4: 'r',\n",
              " 5: 'a',\n",
              " 6: 'l',\n",
              " 7: ' ',\n",
              " 8: 'L',\n",
              " 9: 'a',\n",
              " 10: 'n',\n",
              " 11: 'g',\n",
              " 12: 'u',\n",
              " 13: 'a',\n",
              " 14: 'g',\n",
              " 15: 'e',\n",
              " 16: ' ',\n",
              " 17: 'P',\n",
              " 18: 'r',\n",
              " 19: 'o',\n",
              " 20: 'c',\n",
              " 21: 'e',\n",
              " 22: 's',\n",
              " 23: 's',\n",
              " 24: 'i',\n",
              " 25: 'n',\n",
              " 26: 'g'}"
            ]
          },
          "execution_count": 334,
          "metadata": {},
          "output_type": "execute_result"
        }
      ],
      "source": [
        "str1 = \"Natural Language Processing\"\n",
        "\n",
        "mydict2 = {k:v for (k,v) in enumerate(str1)} # Store enumerated values in a dictionary\n",
        "mydict2"
      ]
    },
    {
      "cell_type": "code",
      "execution_count": null,
      "metadata": {
        "id": "qpXU2GZmgbRZ",
        "outputId": "7696bf94-408a-480c-e3a3-ce586690299d"
      },
      "outputs": [
        {
          "data": {
            "text/plain": [
              "{'a': 'A',\n",
              " 'b': 'B',\n",
              " 'c': 'C',\n",
              " 'd': 'D',\n",
              " 'e': 'E',\n",
              " 'f': 'F',\n",
              " 'g': 'G',\n",
              " 'h': 'H',\n",
              " 'i': 'I',\n",
              " 'j': 'J',\n",
              " 'k': 'K',\n",
              " 'l': 'L',\n",
              " 'm': 'M',\n",
              " 'n': 'N',\n",
              " 'o': 'O',\n",
              " 'p': 'P',\n",
              " 'q': 'Q',\n",
              " 'r': 'R',\n",
              " 's': 'S',\n",
              " 't': 'T',\n",
              " 'u': 'U',\n",
              " 'v': 'V',\n",
              " 'w': 'W',\n",
              " 'x': 'X',\n",
              " 'y': 'Y',\n",
              " 'z': 'Z'}"
            ]
          },
          "execution_count": 337,
          "metadata": {},
          "output_type": "execute_result"
        }
      ],
      "source": [
        "str1 = \"abcdefghijklmnopqrstuvwxyz\"\n",
        "mydict3 = {i:i.upper() for i in str1} # Lower to Upper Case\n",
        "mydict3"
      ]
    },
    {
      "cell_type": "markdown",
      "metadata": {
        "id": "Es5eOdNtgbRZ"
      },
      "source": [
        "### Word Frequency using dictionary"
      ]
    },
    {
      "cell_type": "code",
      "execution_count": null,
      "metadata": {
        "id": "R1a8HClcgbRZ"
      },
      "outputs": [],
      "source": [
        "mystr4 = \"one two three four one two two three five five six seven six seven one one one ten eight ten nine eleven ten ten nine\""
      ]
    },
    {
      "cell_type": "code",
      "execution_count": null,
      "metadata": {
        "id": "mMq7ZmoPgbRZ",
        "outputId": "b9e30318-60ac-403e-f26c-f0217f2632af"
      },
      "outputs": [
        {
          "data": {
            "text/plain": [
              "['one',\n",
              " 'two',\n",
              " 'three',\n",
              " 'four',\n",
              " 'one',\n",
              " 'two',\n",
              " 'two',\n",
              " 'three',\n",
              " 'five',\n",
              " 'five',\n",
              " 'six',\n",
              " 'seven',\n",
              " 'six',\n",
              " 'seven',\n",
              " 'one',\n",
              " 'one',\n",
              " 'one',\n",
              " 'ten',\n",
              " 'eight',\n",
              " 'ten',\n",
              " 'nine',\n",
              " 'eleven',\n",
              " 'ten',\n",
              " 'ten',\n",
              " 'nine']"
            ]
          },
          "execution_count": 64,
          "metadata": {},
          "output_type": "execute_result"
        }
      ],
      "source": [
        "mylist = mystr4.split() # Split String into substrings\n",
        "mylist"
      ]
    },
    {
      "cell_type": "code",
      "execution_count": null,
      "metadata": {
        "id": "peh10uXzgbRa",
        "outputId": "791870f5-e5aa-4826-eaac-cec101db5f72"
      },
      "outputs": [
        {
          "data": {
            "text/plain": [
              "['nine',\n",
              " 'one',\n",
              " 'eight',\n",
              " 'two',\n",
              " 'seven',\n",
              " 'ten',\n",
              " 'four',\n",
              " 'five',\n",
              " 'three',\n",
              " 'eleven',\n",
              " 'six']"
            ]
          },
          "execution_count": 63,
          "metadata": {},
          "output_type": "execute_result"
        }
      ],
      "source": [
        "mylist1 = set(mylist) # Unique values in a list\n",
        "mylist1 = list (mylist1)\n",
        "mylist1"
      ]
    },
    {
      "cell_type": "code",
      "execution_count": null,
      "metadata": {
        "id": "62-iOloQgbRb",
        "outputId": "21d5a752-dd25-45d5-b3d5-9fdc5a037558"
      },
      "outputs": [
        {
          "name": "stdout",
          "output_type": "stream",
          "text": [
            "{'nine': 2, 'one': 5, 'eight': 1, 'two': 3, 'seven': 2, 'ten': 4, 'four': 1, 'five': 2, 'three': 2, 'eleven': 1, 'six': 2}\n"
          ]
        }
      ],
      "source": [
        "# Calculate frequenct of each word\n",
        "count1 = [0] * len(mylist1)\n",
        "mydict5 = dict()\n",
        "for i in range(len(mylist1)):\n",
        "    for j in range(len(mylist)):\n",
        "        if mylist1[i] == mylist[j]:\n",
        "            count1[i] += 1\n",
        "    mydict5[mylist1[i]] = count1[i]\n",
        "print(mydict5)"
      ]
    },
    {
      "cell_type": "markdown",
      "metadata": {
        "id": "IsPPfDJ1gbRb"
      },
      "source": [
        "# Operators"
      ]
    },
    {
      "cell_type": "markdown",
      "metadata": {
        "id": "siCQvGikgbRc"
      },
      "source": [
        "- __Operators are special symbols in Python which are used to perform operations on variables/values.__"
      ]
    },
    {
      "cell_type": "markdown",
      "metadata": {
        "id": "SrSnJGa4gbRc"
      },
      "source": [
        "### Arithmetic Operators"
      ]
    },
    {
      "cell_type": "code",
      "execution_count": null,
      "metadata": {
        "id": "tAUGI_KbgbRc",
        "outputId": "492af029-df84-4f5c-d5fe-3bf40c933106"
      },
      "outputs": [
        {
          "name": "stdout",
          "output_type": "stream",
          "text": [
            "Addition of 5 and 2 will give :- 7\n",
            "\n",
            "Concatenate string 'x' and 'y' using '+' operaotr :- AsifBhat\n",
            "\n",
            "Subtracting 2 from 5 will give :- 3\n",
            "\n",
            "Multiplying 5 and 2 will give :- 10\n",
            "\n",
            "Dividing 5 by 2 will give :- 2.5\n",
            "\n",
            "Modulo of 5 , 2 will give :- 1\n",
            "\n",
            "5 raised to the power 2 will give :- 25\n",
            "\n",
            "Floor division of 5 by 2 will give :- 2\n",
            "\n"
          ]
        }
      ],
      "source": [
        "a = 5\n",
        "b = 2\n",
        "\n",
        "x = 'Asif'\n",
        "y = 'Bhat'\n",
        "\n",
        "# Addition\n",
        "c = a + b\n",
        "print('Addition of {} and {} will give :- {}\\n'.format(a,b,c))\n",
        "\n",
        "#Concatenate string using plus operator\n",
        "z = x+y\n",
        "print ('Concatenate string \\'x\\' and \\'y\\' using \\'+\\' operaotr :- {}\\n'.format(z))\n",
        "\n",
        "# Subtraction\n",
        "c = a - b\n",
        "print('Subtracting {} from {} will give :- {}\\n'.format(b,a,c))\n",
        "\n",
        "# Multiplication\n",
        "c = a * b\n",
        "print('Multiplying {} and {} will give :- {}\\n'.format(a,b,c))\n",
        "\n",
        "# Division\n",
        "c = a / b\n",
        "print('Dividing {} by {} will give :- {}\\n'.format(a,b,c))\n",
        "\n",
        "# Modulo of both number\n",
        "c = a % b\n",
        "print('Modulo of {} , {} will give :- {}\\n'.format(a,b,c))\n",
        "\n",
        "# Power\n",
        "c = a ** b\n",
        "print('{} raised to the power {} will give :- {}\\n'.format(a,b,c))\n",
        "\n",
        "# Division(floor)\n",
        "c = a // b\n",
        "print('Floor division of {} by {} will give :- {}\\n'.format(a,b,c))"
      ]
    },
    {
      "cell_type": "markdown",
      "metadata": {
        "id": "CnPa-pYUgbRd"
      },
      "source": [
        "### Comparison Operators"
      ]
    },
    {
      "cell_type": "markdown",
      "metadata": {
        "id": "QkVshlGxgbRd"
      },
      "source": [
        "Comparison operators are used to compare values."
      ]
    },
    {
      "cell_type": "code",
      "execution_count": null,
      "metadata": {
        "id": "DBiyUXXDgbRd",
        "outputId": "cafc1dd9-a605-492a-a716-0164e07540f0"
      },
      "outputs": [
        {
          "name": "stdout",
          "output_type": "stream",
          "text": [
            "Is x greater than y :-  False\n",
            "\n",
            "Is x less than  y :-  True\n",
            "\n",
            "Is x equal to  y :-  False\n",
            "\n",
            "Is x not equal to y :-  True\n",
            "\n",
            "Is x greater than or equal to y :-  False\n",
            "\n",
            "Is x less than or equal to y :-  True\n"
          ]
        }
      ],
      "source": [
        "x = 20\n",
        "y = 30\n",
        "\n",
        "print('Is x greater than y :- ',x>y)\n",
        "\n",
        "print('\\nIs x less than  y :- ',x<y)\n",
        "\n",
        "print('\\nIs x equal to  y :- ',x==y)\n",
        "\n",
        "print('\\nIs x not equal to y :- ',x!=y)\n",
        "\n",
        "print('\\nIs x greater than or equal to y :- ',x>=y)\n",
        "\n",
        "print('\\nIs x less than or equal to y :- ',x<=y)"
      ]
    },
    {
      "cell_type": "code",
      "execution_count": null,
      "metadata": {
        "id": "8avZIT8ogbRd",
        "outputId": "6b7d1ffe-c24a-43e5-d33f-37ce62810a41"
      },
      "outputs": [
        {
          "data": {
            "text/plain": [
              "(False, True, True)"
            ]
          },
          "execution_count": 87,
          "metadata": {},
          "output_type": "execute_result"
        }
      ],
      "source": [
        "a = 'Asif'\n",
        "b = 'Bhat'\n",
        "c = 'Asif'\n",
        "\n",
        "a == b , a ==c , a != b # Comparison operators on string"
      ]
    },
    {
      "cell_type": "markdown",
      "metadata": {
        "id": "H-P6l1DAgbRd"
      },
      "source": [
        "### Logical Operators"
      ]
    },
    {
      "cell_type": "code",
      "execution_count": null,
      "metadata": {
        "id": "BnVuRrI0gbRe",
        "outputId": "0f7894f0-daf2-4713-ed3b-9107468b5ad6"
      },
      "outputs": [
        {
          "name": "stdout",
          "output_type": "stream",
          "text": [
            "Logical AND operation :-  False\n",
            "Logical OR operation :-  True\n",
            "NOT operation :-  False\n"
          ]
        }
      ],
      "source": [
        "x = True\n",
        "y = False\n",
        "\n",
        "print('Logical AND operation :- ',x and y) # True if both values are true\n",
        "print('Logical OR operation :- ',x or y) # True if either of the values is true\n",
        "print('NOT operation :- ',not x ) # True if operand is false"
      ]
    },
    {
      "cell_type": "markdown",
      "metadata": {
        "id": "jzgF8xgdgbRe"
      },
      "source": [
        "### Bitwise operators"
      ]
    },
    {
      "cell_type": "markdown",
      "metadata": {
        "id": "qyyVey_qgbRe"
      },
      "source": [
        "__Bitwise operators act on bits and performs bit by bit operation.__"
      ]
    },
    {
      "cell_type": "code",
      "execution_count": null,
      "metadata": {
        "id": "4jnPfujlgbRe",
        "outputId": "c3585b6c-efbb-40ef-e5dc-1523c3d8b0e9"
      },
      "outputs": [
        {
          "name": "stdout",
          "output_type": "stream",
          "text": [
            "Bitwise AND operation - 2\n",
            "Bitwise OR operation - 22\n",
            "Bitwise XOR operation - 20\n",
            "Bitwise NOT operation - -19\n",
            "Bitwise right shift operation - 4\n",
            "Bitwise left shift operation - 72\n"
          ]
        }
      ],
      "source": [
        "x = 18  # binary form 10010\n",
        "y = 6  # binary form 00110\n",
        "\n",
        "print('Bitwise AND operation - {}'.format(x&y))\n",
        "print('Bitwise OR operation - {}'.format(x|y))\n",
        "print('Bitwise XOR operation - {}'.format(x^y))\n",
        "print('Bitwise NOT operation - {}'.format(~x))\n",
        "print('Bitwise right shift operation - {}'.format(x>>2))\n",
        "print('Bitwise left shift operation - {}'.format(x<<2))"
      ]
    },
    {
      "cell_type": "markdown",
      "metadata": {
        "id": "vGGzEaCMgbRe"
      },
      "source": [
        "### Assignment Operators"
      ]
    },
    {
      "cell_type": "code",
      "execution_count": null,
      "metadata": {
        "id": "WkHkcMLPgbRf",
        "outputId": "01ad5250-a9f6-4574-8f3c-8264a7b77b60"
      },
      "outputs": [
        {
          "name": "stdout",
          "output_type": "stream",
          "text": [
            "Initialize x with value 10 (x=10)) :-  10\n",
            "Add 20 to x :-  30\n",
            "subtract 20 from x :-  10\n",
            "Divide x by 10 :-  1.0\n",
            "Multiply x by 10 :-  10.0\n",
            "x raised to the power 2 :-  100\n",
            "Modulo Division :-  0\n",
            "Floor Division :-  6\n",
            "Bitwise AND :-  2\n",
            "Bitwise OR :-  2\n",
            "Bitwise XOR :-  0\n",
            "Bitwise left shift operation 40\n",
            "Bitwise right shift operation 10\n"
          ]
        }
      ],
      "source": [
        "x = 10\n",
        "\n",
        "print('Initialize x with value 10 (x=10)) :- ',x)\n",
        "\n",
        "\n",
        "x+=20 # x = x+20\n",
        "print ('Add 20 to x :- ',x)\n",
        "\n",
        "\n",
        "x-=20 # x = x-20\n",
        "print ('subtract 20 from x :- ',x)\n",
        "\n",
        "\n",
        "x/=10 # x = x/10\n",
        "print ('Divide x by 10 :- ',x)\n",
        "\n",
        "\n",
        "\n",
        "x*=10 # x = x/10\n",
        "print ('Multiply x by 10 :- ',x)\n",
        "\n",
        "x = int(x)\n",
        "\n",
        "\n",
        "x**=2 # x = x/10\n",
        "print ('x raised to the power 2 :- ',x)\n",
        "\n",
        "\n",
        "\n",
        "x%=2\n",
        "print ('Modulo Division :- ',x)\n",
        "\n",
        "\n",
        "x = 20\n",
        "\n",
        "\n",
        "x//=3\n",
        "print ('Floor Division :- ',x)\n",
        "\n",
        "\n",
        "x&=2\n",
        "print('Bitwise AND :- ',x)\n",
        "\n",
        "\n",
        "x|=2\n",
        "print('Bitwise OR :- ',x)\n",
        "\n",
        "\n",
        "x^=2\n",
        "print('Bitwise XOR :- ',x)\n",
        "\n",
        "\n",
        "x = 10\n",
        "\n",
        "\n",
        "x<<=2\n",
        "print('Bitwise left shift operation',x)\n",
        "\n",
        "\n",
        "x>>=2\n",
        "print('Bitwise right shift operation',x)"
      ]
    },
    {
      "cell_type": "markdown",
      "metadata": {
        "id": "X0n8fym3gbRf"
      },
      "source": [
        "### Membership Operators"
      ]
    },
    {
      "cell_type": "markdown",
      "metadata": {
        "id": "7zpAs4eAgbRf"
      },
      "source": [
        "__Membership Operators are used to test whether a value / variable is present in a sequence.__"
      ]
    },
    {
      "cell_type": "code",
      "execution_count": null,
      "metadata": {
        "id": "wYMzhiDSgbRg",
        "outputId": "d8ab0c90-e8cb-42b7-e30b-8dad909a0656"
      },
      "outputs": [
        {
          "data": {
            "text/plain": [
              "(True, False)"
            ]
          },
          "execution_count": 122,
          "metadata": {},
          "output_type": "execute_result"
        }
      ],
      "source": [
        "mystr = 'Asif Ali Bhat'\n",
        "\n",
        "'Asif' in mystr , 'John' in mystr"
      ]
    },
    {
      "cell_type": "code",
      "execution_count": null,
      "metadata": {
        "id": "KPeC2m1VgbRh",
        "outputId": "c0d28d89-facf-4381-9a26-073a109e840d"
      },
      "outputs": [
        {
          "data": {
            "text/plain": [
              "(False, True)"
            ]
          },
          "execution_count": 123,
          "metadata": {},
          "output_type": "execute_result"
        }
      ],
      "source": [
        "mystr = 'Asif Ali Bhat'\n",
        "\n",
        "'Asif' not in mystr , 'John' not in mystr"
      ]
    },
    {
      "cell_type": "markdown",
      "metadata": {
        "id": "KR3Z3PT-gbRi"
      },
      "source": [
        "# Functions"
      ]
    },
    {
      "cell_type": "markdown",
      "metadata": {
        "id": "X8oKkrS6gbRi"
      },
      "source": [
        "- A function is a block of organized code written to carry out a specified task.\n",
        "\n",
        "- Functions help break our program into smaller and modular chunks for better readability.\n",
        "\n",
        "- Information can be passed into a function as arguments.\n",
        "\n",
        "- Parameters are specified after the function name inside the parentheses.\n",
        "\n",
        "- We can add as many parameters as we want. Parameters must be separated with a comma.\n",
        "\n",
        "- A function may or may not return data.\n",
        "\n",
        "- In Python a function is defined using the __def__ keyword\n",
        "\n",
        "### Parameter VS Argument\n",
        "\n",
        " - A parameter is the variable listed inside the parentheses in the function definition.\n",
        "\n",
        " - An argument is the value that is sent to the function when it is called.\n",
        "\n",
        "### Three types of functions in Python:-\n",
        "\n",
        "- __Built-in function :-__  Python predefined functions that are readily available for use like min() , max() , sum() , print() etc.\n",
        "\n",
        "- __User-Defined Functions:-__ Function that we define ourselves to perform a specific task.\n",
        "\n",
        "- __Anonymous functions :__ Function that is defined without a name. Anonymous functions are also called as lambda functions. They are not declared with the __def__ keyword.\n",
        "\n",
        "### Syntax"
      ]
    },
    {
      "cell_type": "markdown",
      "metadata": {
        "id": "4feaIgW-gbRi"
      },
      "source": [
        "<img src=\"functions.PNG\">"
      ]
    },
    {
      "cell_type": "markdown",
      "metadata": {
        "id": "syF5VZOHgbRi"
      },
      "source": [
        "### Modularity"
      ]
    },
    {
      "cell_type": "markdown",
      "metadata": {
        "id": "1RybG_6XgbRj"
      },
      "source": [
        "<img src=\"modularity.PNG\">"
      ]
    },
    {
      "cell_type": "code",
      "execution_count": null,
      "metadata": {
        "id": "vkkMFH6dgbRj",
        "outputId": "f77ee278-1dfb-4421-9dc0-ebb4305d53ee"
      },
      "outputs": [
        {
          "name": "stdout",
          "output_type": "stream",
          "text": [
            "Hello Python Lovers\n"
          ]
        }
      ],
      "source": [
        "def myfunc():\n",
        "  print(\"Hello Python Lovers\")\n",
        "\n",
        "myfunc()"
      ]
    },
    {
      "cell_type": "code",
      "execution_count": null,
      "metadata": {
        "id": "nk8GvhZ3gbRj",
        "outputId": "55b16d84-86aa-40e7-d9f6-8ebcf11c5ebe"
      },
      "outputs": [
        {
          "name": "stdout",
          "output_type": "stream",
          "text": [
            "Name :-  Asif\n",
            "User ID is :-  asif123\n",
            "Country :-  India\n"
          ]
        }
      ],
      "source": [
        "def details(name,userid,country): # Function to print User details\n",
        "    print('Name :- ', name)\n",
        "    print('User ID is :- ', userid)\n",
        "    print('Country :- ',country)\n",
        "\n",
        "details('Asif' , 'asif123' , 'India')"
      ]
    },
    {
      "cell_type": "code",
      "execution_count": null,
      "metadata": {
        "id": "Mgc6iiiCgbRk",
        "outputId": "b27c550d-676f-43b3-983f-f746d8800948"
      },
      "outputs": [
        {
          "data": {
            "text/plain": [
              "100"
            ]
          },
          "execution_count": 586,
          "metadata": {},
          "output_type": "execute_result"
        }
      ],
      "source": [
        "def square (n): #function to find square of a number\n",
        "    n= n*n\n",
        "    return n\n",
        "\n",
        "square (10)"
      ]
    },
    {
      "cell_type": "code",
      "execution_count": null,
      "metadata": {
        "id": "xY0cRU0wgbRl",
        "outputId": "5250f399-f72f-4819-da52-8edcc80c87f3"
      },
      "outputs": [
        {
          "name": "stdout",
          "output_type": "stream",
          "text": [
            "3  is odd number\n",
            "4  is even number\n",
            " This function will check whether a number is even or odd\n"
          ]
        }
      ],
      "source": [
        "def even_odd (num): #Even odd test\n",
        "    \"\"\" This function will check whether a number is even or odd\"\"\"\n",
        "    if num % 2 ==0:\n",
        "        print (num, ' is even number')\n",
        "    else:\n",
        "        print (num, ' is odd number')\n",
        "\n",
        "even_odd(3)\n",
        "even_odd(4)\n",
        "print(even_odd.__doc__) # Print function documentation string"
      ]
    },
    {
      "cell_type": "code",
      "execution_count": null,
      "metadata": {
        "id": "0Q5V61QSgbRq",
        "outputId": "882e6181-c551-4158-9065-4557324ebc6f"
      },
      "outputs": [
        {
          "name": "stdout",
          "output_type": "stream",
          "text": [
            "Asif Ali Bhat\n"
          ]
        }
      ],
      "source": [
        "def fullname (firstname , middlename ,lastname): #Concatenate Strings\n",
        "    fullname = \"{} {} {}\".format(firstname,middlename,lastname)\n",
        "    print (fullname)\n",
        "\n",
        "fullname('Asif' , 'Ali' , 'Bhat')"
      ]
    },
    {
      "cell_type": "code",
      "execution_count": null,
      "metadata": {
        "id": "LB84qYsfgbRv",
        "outputId": "c76f4203-6ebb-4e9f-8cbd-c68e2c361c9a"
      },
      "outputs": [
        {
          "name": "stdout",
          "output_type": "stream",
          "text": [
            "Asif Ali Bhat\n"
          ]
        }
      ],
      "source": [
        "def fullname (firstname , middlename ,lastname): #Concatenate Strings\n",
        "    fullname = \"{} {} {}\".format(firstname,middlename,lastname)\n",
        "    print (fullname)\n",
        "\n",
        "fullname(lastname = 'Bhat' , middlename='Ali' , firstname='Asif') # Keyword Arguments. Order of the arguments does not matter."
      ]
    },
    {
      "cell_type": "code",
      "execution_count": null,
      "metadata": {
        "id": "4abI4XbTgbRz",
        "outputId": "95e969ae-fcbf-49d0-b49a-67bddba7c53a"
      },
      "outputs": [
        {
          "ename": "TypeError",
          "evalue": "fullname() missing 2 required positional arguments: 'middlename' and 'lastname'",
          "output_type": "error",
          "traceback": [
            "\u001b[1;31m---------------------------------------------------------------------------\u001b[0m",
            "\u001b[1;31mTypeError\u001b[0m                                 Traceback (most recent call last)",
            "\u001b[1;32m<ipython-input-592-d194f8b98253>\u001b[0m in \u001b[0;36m<module>\u001b[1;34m\u001b[0m\n\u001b[1;32m----> 1\u001b[1;33m \u001b[0mfullname\u001b[0m \u001b[1;33m(\u001b[0m\u001b[1;34m'Asif'\u001b[0m\u001b[1;33m)\u001b[0m\u001b[1;33m\u001b[0m\u001b[1;33m\u001b[0m\u001b[0m\n\u001b[0m",
            "\u001b[1;31mTypeError\u001b[0m: fullname() missing 2 required positional arguments: 'middlename' and 'lastname'"
          ]
        }
      ],
      "source": [
        "fullname ('Asif') # This will throw error as function is expecting 3 arguments."
      ]
    },
    {
      "cell_type": "code",
      "execution_count": null,
      "metadata": {
        "id": "Ht-Ksb5rgbR0",
        "outputId": "33493a5d-a01a-44ef-8c29-1619addd65b5"
      },
      "outputs": [
        {
          "name": "stdout",
          "output_type": "stream",
          "text": [
            "Most Populous City :-  Mumbai\n"
          ]
        }
      ],
      "source": [
        "def myfunc(city = 'Mumbai'):\n",
        "    print('Most Populous City :- ', city)\n",
        "\n",
        "myfunc() # When a function is called without an argument it will use default value"
      ]
    },
    {
      "cell_type": "code",
      "execution_count": null,
      "metadata": {
        "id": "Iz5lrVdYgbR1",
        "outputId": "f6088121-7826-454f-8aed-35b229f5532c"
      },
      "outputs": [
        {
          "name": "stdout",
          "output_type": "stream",
          "text": [
            "100\n",
            "100\n"
          ]
        }
      ],
      "source": [
        "var1 = 100 # Variable with Global scope.\n",
        "\n",
        "def myfunc():\n",
        "    print(var1) # Value 100 will be displayed due to global scope of var1\n",
        "\n",
        "\n",
        "myfunc()\n",
        "print(var1)"
      ]
    },
    {
      "cell_type": "code",
      "execution_count": null,
      "metadata": {
        "id": "HW53QGt6gbR2",
        "outputId": "9751eabe-5e7d-4444-c662-19a47c2e74c4"
      },
      "outputs": [
        {
          "name": "stdout",
          "output_type": "stream",
          "text": [
            "10\n"
          ]
        },
        {
          "ename": "NameError",
          "evalue": "name 'var2' is not defined",
          "output_type": "error",
          "traceback": [
            "\u001b[1;31m---------------------------------------------------------------------------\u001b[0m",
            "\u001b[1;31mNameError\u001b[0m                                 Traceback (most recent call last)",
            "\u001b[1;32m<ipython-input-27-6a1c34e80ca2>\u001b[0m in \u001b[0;36m<module>\u001b[1;34m\u001b[0m\n\u001b[0;32m      8\u001b[0m \u001b[1;33m\u001b[0m\u001b[0m\n\u001b[0;32m      9\u001b[0m \u001b[0mmyfunc1\u001b[0m\u001b[1;33m(\u001b[0m\u001b[1;33m)\u001b[0m\u001b[1;33m\u001b[0m\u001b[1;33m\u001b[0m\u001b[0m\n\u001b[1;32m---> 10\u001b[1;33m \u001b[0mmyfunc2\u001b[0m\u001b[1;33m(\u001b[0m\u001b[1;33m)\u001b[0m\u001b[1;33m\u001b[0m\u001b[1;33m\u001b[0m\u001b[0m\n\u001b[0m",
            "\u001b[1;32m<ipython-input-27-6a1c34e80ca2>\u001b[0m in \u001b[0;36mmyfunc2\u001b[1;34m()\u001b[0m\n\u001b[0;32m      5\u001b[0m \u001b[1;33m\u001b[0m\u001b[0m\n\u001b[0;32m      6\u001b[0m \u001b[1;32mdef\u001b[0m \u001b[0mmyfunc2\u001b[0m\u001b[1;33m(\u001b[0m\u001b[1;33m)\u001b[0m\u001b[1;33m:\u001b[0m\u001b[1;33m\u001b[0m\u001b[1;33m\u001b[0m\u001b[0m\n\u001b[1;32m----> 7\u001b[1;33m     \u001b[0mprint\u001b[0m\u001b[1;33m(\u001b[0m\u001b[0mvar2\u001b[0m\u001b[1;33m)\u001b[0m \u001b[1;31m# Value 100 will be displayed due to global scope of var1\u001b[0m\u001b[1;33m\u001b[0m\u001b[1;33m\u001b[0m\u001b[0m\n\u001b[0m\u001b[0;32m      8\u001b[0m \u001b[1;33m\u001b[0m\u001b[0m\n\u001b[0;32m      9\u001b[0m \u001b[0mmyfunc1\u001b[0m\u001b[1;33m(\u001b[0m\u001b[1;33m)\u001b[0m\u001b[1;33m\u001b[0m\u001b[1;33m\u001b[0m\u001b[0m\n",
            "\u001b[1;31mNameError\u001b[0m: name 'var2' is not defined"
          ]
        }
      ],
      "source": [
        "def myfunc1():\n",
        "    var2 = 10  # Variable with Local scope\n",
        "    print(var2)\n",
        "\n",
        "\n",
        "def myfunc2():\n",
        "    print(var2) # This will throw error because var2 has a local scope. Var2 is only accessible in myfunc1()\n",
        "\n",
        "myfunc1()\n",
        "myfunc2()"
      ]
    },
    {
      "cell_type": "code",
      "execution_count": null,
      "metadata": {
        "id": "JCvDvj4agbSI",
        "outputId": "af398f41-c064-4551-fb7b-d56342f27ef5"
      },
      "outputs": [
        {
          "name": "stdout",
          "output_type": "stream",
          "text": [
            "99\n",
            "100\n"
          ]
        }
      ],
      "source": [
        "var1 = 100 # Variable with Global scope.\n",
        "\n",
        "def myfunc():\n",
        "    var1 = 99  # Local scope\n",
        "    print(var1)\n",
        "\n",
        "\n",
        "myfunc()\n",
        "print(var1) # The original value of var1 (100) will be retained due to global scope."
      ]
    },
    {
      "cell_type": "code",
      "execution_count": null,
      "metadata": {
        "id": "AAEoga6hgbSJ",
        "outputId": "7f7ccf00-c024-4081-be3e-7f8e7e231e81"
      },
      "outputs": [
        {
          "name": "stdout",
          "output_type": "stream",
          "text": [
            "\"List1\" before calling the function:-  [11, 22, 33, 44, 55]\n",
            "\"List1\" after calling the function:-  [22, 33, 44, 55]\n"
          ]
        }
      ],
      "source": [
        "list1 = [11,22,33,44,55]\n",
        "\n",
        "def myfunc(list1):\n",
        "    del list1[0]\n",
        "\n",
        "print('\"List1\" before calling the function:- ',list1)\n",
        "myfunc(list1)  # Pass by reference (Any change in the parameter within the function is reflected back in the calling function.)\n",
        "print('\"List1\" after calling the function:- ',list1)"
      ]
    },
    {
      "cell_type": "code",
      "execution_count": null,
      "metadata": {
        "id": "UCE1oXlpgbSK",
        "outputId": "42499d21-d386-46a6-97c3-9289e0cc294f"
      },
      "outputs": [
        {
          "name": "stdout",
          "output_type": "stream",
          "text": [
            "\"List1\" before calling the function:-  [11, 22, 33, 44, 55]\n",
            "\"List1\" after calling the function:-  [11, 22, 33, 44, 55, 100]\n"
          ]
        }
      ],
      "source": [
        "list1 = [11,22,33,44,55]\n",
        "\n",
        "def myfunc(list1):\n",
        "    list1.append(100)\n",
        "\n",
        "print('\"List1\" before calling the function:- ',list1)\n",
        "myfunc(list1)  # Pass by reference (Any change in the parameter within the function is reflected back in the calling function.)\n",
        "print('\"List1\" after calling the function:- ',list1)"
      ]
    },
    {
      "cell_type": "code",
      "execution_count": null,
      "metadata": {
        "id": "ExbojzQegbSK",
        "outputId": "455b0c70-dfcb-424b-ea53-c6156166c4ed"
      },
      "outputs": [
        {
          "name": "stdout",
          "output_type": "stream",
          "text": [
            "\"List1\" before calling the function:-  [11, 22, 33, 44, 55]\n",
            "\"List1\" after calling the function:-  [11, 22, 33, 44, 55]\n"
          ]
        }
      ],
      "source": [
        "list1 = [11,22,33,44,55]\n",
        "\n",
        "def myfunc(list1):\n",
        "    list1 = [10,100,1000,10000] # link of 'list1' with previous object is broken now as new object is assigned to 'list1'.\n",
        "\n",
        "print('\"List1\" before calling the function:- ',list1)\n",
        "myfunc(list1)  # Pass by reference (Any change in the parameter within the function is reflected back in the calling function.)\n",
        "print('\"List1\" after calling the function:- ',list1)"
      ]
    },
    {
      "cell_type": "code",
      "execution_count": null,
      "metadata": {
        "id": "kR0euoMFgbSL",
        "outputId": "b1a2fe4e-4cd6-4299-90e7-f165f72194a1"
      },
      "outputs": [
        {
          "data": {
            "text/plain": [
              "(10, 20)"
            ]
          },
          "execution_count": 45,
          "metadata": {},
          "output_type": "execute_result"
        }
      ],
      "source": [
        "def swap(a,b):\n",
        "    temp = a\n",
        "    a = b      # link of 'a' with previous object is broken now as new object is assigned to 'a'.\n",
        "    b = temp   # link of 'b' with previous object is broken now as new object is assigned to 'b'.\n",
        "\n",
        "a = 10\n",
        "b = 20\n",
        "swap(a,b)\n",
        "a,b"
      ]
    },
    {
      "cell_type": "code",
      "execution_count": null,
      "metadata": {
        "id": "zC7WnBRugbSM",
        "outputId": "730ac315-7921-4fc0-a608-a48230fb09f7"
      },
      "outputs": [
        {
          "data": {
            "text/plain": [
              "24"
            ]
          },
          "execution_count": 601,
          "metadata": {},
          "output_type": "execute_result"
        }
      ],
      "source": [
        "def factorial(num):  # Calculate factorial of a number using recursive function call.\n",
        "    if num <=1 :\n",
        "        return 1\n",
        "    else:\n",
        "        return num * factorial(num-1)\n",
        "\n",
        "factorial(4)"
      ]
    },
    {
      "cell_type": "code",
      "execution_count": null,
      "metadata": {
        "id": "rXvrU_7bgbSN",
        "outputId": "9c23d3a2-a50d-4812-ffb9-ae34d9c5e8b7"
      },
      "outputs": [
        {
          "data": {
            "text/plain": [
              "15"
            ]
          },
          "execution_count": 618,
          "metadata": {},
          "output_type": "execute_result"
        }
      ],
      "source": [
        "def add(num):  # Sum of first n natural numbers\n",
        "    if num == 0:\n",
        "        return 0\n",
        "    else:\n",
        "        return num + add(num-1)\n",
        "\n",
        "add(5) # Sum of first five natural numbers (1,2,3,4,5)"
      ]
    },
    {
      "cell_type": "code",
      "execution_count": null,
      "metadata": {
        "id": "DXaXBBOHgbSO",
        "outputId": "d8d3890f-4889-4907-ce9c-edfe556f5fff"
      },
      "outputs": [
        {
          "name": "stdout",
          "output_type": "stream",
          "text": [
            "How many fibonacci numbers you want to generate -10\n",
            "0\n",
            "1\n",
            "1\n",
            "2\n",
            "3\n",
            "5\n",
            "8\n",
            "13\n",
            "21\n",
            "34\n"
          ]
        }
      ],
      "source": [
        "def fiboacci(num):\n",
        "    if num <= 1:\n",
        "        return num\n",
        "    if num == 2:\n",
        "        return 1\n",
        "    else:\n",
        "        return(fiboacci(num-1) + fiboacci(num-2))\n",
        "\n",
        "nums = int(input(\"How many fibonacci numbers you want to generate -\"))\n",
        "\n",
        "\n",
        "\n",
        "for i in range(nums):\n",
        "    print(fiboacci(i))  # Generate Fibonacci series"
      ]
    },
    {
      "cell_type": "markdown",
      "metadata": {
        "id": "pBhLjwHbgbSQ"
      },
      "source": [
        "# args & kwargs"
      ]
    },
    {
      "cell_type": "markdown",
      "metadata": {
        "id": "_Y9fSd9cgbSR"
      },
      "source": [
        " *__args__\n",
        "- When we are not sure about the number of arguments being passed to a function then we can use *args as function parameter.\n",
        "\n",
        "- *args allow us to pass the variable number of __Non Keyword Arguments__ to function.\n",
        "\n",
        "- We can simply use an asterisk * before the parameter name to pass variable length arguments.\n",
        "\n",
        "- The arguments are always passed as a tuple.\n",
        "\n",
        "- We can rename it to anything as long as it is preceded by a single asterisk (*). It's best practice to keep naming it args to make it immediately recognizable."
      ]
    },
    {
      "cell_type": "markdown",
      "metadata": {
        "id": "kZPwvHbvgbSS"
      },
      "source": [
        "__**kwargs__\n",
        "- **kwargs allows us to pass the variable number of __Keyword Arguments__ to the function.\n",
        "\n",
        "- We can simply use an double asterisk ** before the parameter name to pass variable length arguments.\n",
        "\n",
        "- The arguments are passed as a dictionary.\n",
        "\n",
        "- We can rename it to anything as long as it is preceded by a double asterisk (**). It's best practice to keep naming it kwargs to make it immediately recognizable.\n",
        "\n"
      ]
    },
    {
      "cell_type": "markdown",
      "metadata": {
        "id": "OOBGMYo8gbST"
      },
      "source": [
        "<img src=\"argument.PNG\">"
      ]
    },
    {
      "cell_type": "code",
      "execution_count": null,
      "metadata": {
        "id": "Pd3P3P7fgbST",
        "outputId": "7fa373f5-505e-4154-94f9-d947abc4d1b1"
      },
      "outputs": [
        {
          "name": "stdout",
          "output_type": "stream",
          "text": [
            "60\n"
          ]
        }
      ],
      "source": [
        "def add(a,b,c):\n",
        "    return a+b+c\n",
        "\n",
        "print(add(10,20,30)) # Sum of two numbers"
      ]
    },
    {
      "cell_type": "code",
      "execution_count": null,
      "metadata": {
        "id": "8-zictWTgbSU",
        "outputId": "6adf22b5-3344-46db-c590-206c5ef50838"
      },
      "outputs": [
        {
          "ename": "SyntaxError",
          "evalue": "invalid syntax (<ipython-input-577-565d47b69332>, line 2)",
          "output_type": "error",
          "traceback": [
            "\u001b[1;36m  File \u001b[1;32m\"<ipython-input-577-565d47b69332>\"\u001b[1;36m, line \u001b[1;32m2\u001b[0m\n\u001b[1;33m    If we want to make argument list dynamic then *args wil come in picture'''\u001b[0m\n\u001b[1;37m                                                                              \n^\u001b[0m\n\u001b[1;31mSyntaxError\u001b[0m\u001b[1;31m:\u001b[0m invalid syntax\n"
          ]
        }
      ],
      "source": [
        "print(add(1,2,3,4)) '''This will throw below error as this function will only take two argumengts.\n",
        "If we want to make argument list dynamic then *args wil come in picture'''"
      ]
    },
    {
      "cell_type": "code",
      "execution_count": null,
      "metadata": {
        "id": "kZN8pj73gbSU",
        "outputId": "394034bd-0ca8-40f5-f6b0-612c2087761e"
      },
      "outputs": [
        {
          "name": "stdout",
          "output_type": "stream",
          "text": [
            "arg_1: 1\n",
            "arg_2: 2\n",
            "arg_3: 3\n"
          ]
        }
      ],
      "source": [
        "def some_args(arg_1, arg_2, arg_3):\n",
        "    print(\"arg_1:\", arg_1)\n",
        "    print(\"arg_2:\", arg_2)\n",
        "    print(\"arg_3:\", arg_3)\n",
        "\n",
        "my_list = [2, 3]\n",
        "some_args(1, *my_list)"
      ]
    },
    {
      "cell_type": "code",
      "execution_count": null,
      "metadata": {
        "id": "tOxroo5YgbSV",
        "outputId": "05516cd2-5a9a-4f82-cb7a-86c8715223ba"
      },
      "outputs": [
        {
          "name": "stdout",
          "output_type": "stream",
          "text": [
            "6\n",
            "10\n",
            "15\n",
            "21\n",
            "28\n"
          ]
        }
      ],
      "source": [
        "def add1(*args):\n",
        "    return sum(args)\n",
        "\n",
        "print(add(1,2,3))\n",
        "print(add(1,2,3,4))  # *args will take dynamic argument list. So add() function will perform addition of any number of arguments\n",
        "print(add(1,2,3,4,5))\n",
        "print(add(1,2,3,4,5,6))\n",
        "print(add(1,2,3,4,5,6,7))"
      ]
    },
    {
      "cell_type": "code",
      "execution_count": null,
      "metadata": {
        "id": "-JQekzkogbSW",
        "outputId": "e24241ef-068d-46ab-f1ab-12b2fb04a917"
      },
      "outputs": [
        {
          "data": {
            "text/plain": [
              "(28, 28)"
            ]
          },
          "execution_count": 561,
          "metadata": {},
          "output_type": "execute_result"
        }
      ],
      "source": [
        "list1 = [1,2,3,4,5,6,7]\n",
        "tuple1 = (1,2,3,4,5,6,7)\n",
        "\n",
        "add1(*list1) , add1(*tuple1) #tuple & list items will be passed as argument list and sum will be returned for both cases."
      ]
    },
    {
      "cell_type": "code",
      "execution_count": null,
      "metadata": {
        "id": "xhqAWb2CgbSX",
        "outputId": "5c11c1dd-3f09-4ec7-d34f-e52dab42da14"
      },
      "outputs": [
        {
          "data": {
            "text/plain": [
              "112"
            ]
          },
          "execution_count": 562,
          "metadata": {},
          "output_type": "execute_result"
        }
      ],
      "source": [
        "list1 = [1,2,3,4,5,6,7]\n",
        "list2 = [1,2,3,4,5,6,7]\n",
        "list3 = [1,2,3,4,5,6,7]\n",
        "list4 = [1,2,3,4,5,6,7]\n",
        "\n",
        "add1(*list1 , *list2 , *list3 , *list4 ) #All four lists are unpacked and each individual item is passed to add1() function"
      ]
    },
    {
      "cell_type": "code",
      "execution_count": null,
      "metadata": {
        "id": "LEFGc3NMgbSY",
        "outputId": "5dfb789b-3a9c-471b-c8e4-24b386286156"
      },
      "outputs": [
        {
          "name": "stdout",
          "output_type": "stream",
          "text": [
            "('Asif', 7412, 41102, 33, 'India', 'Hindi')\n"
          ]
        }
      ],
      "source": [
        "def UserDetails(*args):\n",
        "    print(args)\n",
        "\n",
        "UserDetails('Asif' , 7412 , 41102 , 33 ,  'India' , 'Hindi')\n",
        "\n",
        "''' For the above example we have no idea about the parameters passed e.g 7412 , 41102 , 33 etc.\n",
        "    In such cases we can take help of Keyworded arguments (**kwargs) '''"
      ]
    },
    {
      "cell_type": "code",
      "execution_count": null,
      "metadata": {
        "id": "aq697UEdgbSY",
        "outputId": "93865747-fa81-44fa-b075-9c96be1d519c"
      },
      "outputs": [
        {
          "name": "stdout",
          "output_type": "stream",
          "text": [
            "{'Name': 'Asif', 'ID': 7412, 'Pincode': 41102, 'Age': 33, 'Country': 'India', 'Language': 'Hindi'}\n"
          ]
        }
      ],
      "source": [
        "def UserDetails(**kwargs):\n",
        "    print(kwargs)\n",
        "\n",
        "UserDetails(Name='Asif' , ID=7412 , Pincode=41102 , Age= 33 ,  Country= 'India' , Language= 'Hindi')"
      ]
    },
    {
      "cell_type": "code",
      "execution_count": null,
      "metadata": {
        "id": "HLI9i8QMgbSZ",
        "outputId": "f56991f3-cfca-4203-92ba-213e2eaaff0f"
      },
      "outputs": [
        {
          "name": "stdout",
          "output_type": "stream",
          "text": [
            "Name :- Asif\n",
            "ID :- 7412\n",
            "Pincode :- 41102\n",
            "Age :- 33\n",
            "Country :- India\n",
            "Language :- Hindi\n"
          ]
        }
      ],
      "source": [
        "def UserDetails(**kwargs):\n",
        "    for key,val in kwargs.items():\n",
        "        print(\"{} :- {}\".format(key,val))\n",
        "\n",
        "UserDetails(Name='Asif' , ID=7412 , Pincode=41102 , Age= 33 ,  Country= 'India' , Language= 'Hindi')"
      ]
    },
    {
      "cell_type": "code",
      "execution_count": null,
      "metadata": {
        "id": "fOTEeKiDgbSZ",
        "outputId": "f906f3a2-a6d7-4f16-c3b0-3f11fa5f916b"
      },
      "outputs": [
        {
          "name": "stdout",
          "output_type": "stream",
          "text": [
            "Name :- Asif\n",
            "ID :- 7412\n",
            "Pincode :- 41102\n",
            "Age :- 33\n",
            "Country :- India\n",
            "Language :- Hindi\n"
          ]
        }
      ],
      "source": [
        "mydict = {'Name': 'Asif', 'ID': 7412, 'Pincode': 41102, 'Age': 33, 'Country': 'India', 'Language': 'Hindi'}\n",
        "\n",
        "UserDetails(**mydict)"
      ]
    },
    {
      "cell_type": "code",
      "execution_count": null,
      "metadata": {
        "id": "HKZvQg8sgbSZ",
        "outputId": "ca2307bb-9937-420d-ff0a-87d5bfc7a050"
      },
      "outputs": [
        {
          "name": "stdout",
          "output_type": "stream",
          "text": [
            "License No :-  BHT145\n",
            "Full Name :- Asif Ali Bhat\n",
            "Phone Number:-  1234567890\n",
            "Name :- Asif\n",
            "ID :- 7412\n",
            "Pincode :- 41102\n",
            "Age :- 33\n",
            "Country :- India\n",
            "Language :- Hindi\n"
          ]
        }
      ],
      "source": [
        "def UserDetails(licenseNo,  *args , phoneNo=0 , **kwargs): # Using all four arguments types\n",
        "    print('License No :- ', licenseNo)\n",
        "    j=''\n",
        "    for i in args:\n",
        "        j = j+i\n",
        "    print('Full Name :-',j)\n",
        "    print('Phone Number:- ',phoneNo)\n",
        "    for key,val in kwargs.items():\n",
        "        print(\"{} :- {}\".format(key,val))\n",
        "\n",
        "\n",
        "name = ['Asif' , ' ' , 'Ali' , ' ','Bhat']\n",
        "mydict = {'Name': 'Asif', 'ID': 7412, 'Pincode': 41102, 'Age': 33, 'Country': 'India', 'Language': 'Hindi'}\n",
        "\n",
        "UserDetails('BHT145' , *name , phoneNo=1234567890,**mydict )"
      ]
    },
    {
      "cell_type": "code",
      "execution_count": null,
      "metadata": {
        "id": "JQ_HRZGPgbSZ"
      },
      "outputs": [],
      "source": [
        "def UserDetails(licenseNo, *args , phoneNo=0, **kwargs): # Using all four arguments types. CORRECT ORDER\n",
        "    print('Nothing')"
      ]
    },
    {
      "cell_type": "code",
      "execution_count": null,
      "metadata": {
        "id": "s1O0jlOwgbSa",
        "outputId": "13c4be0f-af0b-4b29-d097-e923ea8904a5"
      },
      "outputs": [
        {
          "ename": "SyntaxError",
          "evalue": "invalid syntax (<ipython-input-557-dcd3c92277bc>, line 1)",
          "output_type": "error",
          "traceback": [
            "\u001b[1;36m  File \u001b[1;32m\"<ipython-input-557-dcd3c92277bc>\"\u001b[1;36m, line \u001b[1;32m1\u001b[0m\n\u001b[1;33m    def UserDetails(licenseNo, **kwargs , *args): # This will fail. *args MUST come before **kwargs in the argument list\u001b[0m\n\u001b[1;37m                                          ^\u001b[0m\n\u001b[1;31mSyntaxError\u001b[0m\u001b[1;31m:\u001b[0m invalid syntax\n"
          ]
        }
      ],
      "source": [
        "def UserDetails(licenseNo, **kwargs , *args): # This will fail. *args MUST come before **kwargs in the argument list\n",
        "    print('Nothing')"
      ]
    },
    {
      "cell_type": "code",
      "execution_count": null,
      "metadata": {
        "id": "698oLKRegbSa",
        "outputId": "d05bde1e-c3a4-42b5-c1c7-bf1adc19a61a"
      },
      "outputs": [
        {
          "ename": "SyntaxError",
          "evalue": "non-default argument follows default argument (<ipython-input-564-8a3e722c7ed7>, line 2)",
          "output_type": "error",
          "traceback": [
            "\u001b[1;36m  File \u001b[1;32m\"<ipython-input-564-8a3e722c7ed7>\"\u001b[1;36m, line \u001b[1;32m2\u001b[0m\n\u001b[1;33m    def UserDetails(ID = 1, licenseNo, *args):\u001b[0m\n\u001b[1;37m                   ^\u001b[0m\n\u001b[1;31mSyntaxError\u001b[0m\u001b[1;31m:\u001b[0m non-default argument follows default argument\n"
          ]
        }
      ],
      "source": [
        "#The below function will fail. Default argument/positional argument (licenseNo) MUST come before Keyword argument(ID)\n",
        "def UserDetails(ID = 1, licenseNo, *args):\n",
        "    print('Nothing')"
      ]
    },
    {
      "cell_type": "markdown",
      "metadata": {
        "id": "jr2yd_eFgbSa"
      },
      "source": [
        "# Lambda, Filter, Map and Reduce"
      ]
    },
    {
      "cell_type": "markdown",
      "metadata": {
        "id": "ipBd2y3RgbSa"
      },
      "source": [
        "__Lambda__\n",
        "\n",
        "- A lambda function is an anonymous function (function without a name).\n",
        "\n",
        "\n",
        "- Lambda functions can have any number of arguments but only one expression. The expression is evaluated and returned.\n",
        "\n",
        "\n",
        "- We use lambda functions when we require a nameless function for a short period of time.\n",
        "\n",
        "\n",
        "__Syntax:-__"
      ]
    },
    {
      "cell_type": "markdown",
      "metadata": {
        "id": "DdeiyCrGgbSb"
      },
      "source": [
        "<img src=\"lambda1.PNG\">"
      ]
    },
    {
      "cell_type": "markdown",
      "metadata": {
        "id": "uopbtHD9gbSb"
      },
      "source": [
        "__Filter__\n",
        "\n",
        "\n",
        "- It is used to filter the iterables/sequence as per the conditions.\n",
        "\n",
        "\n",
        "- Filter function filters the original iterable and passes the items that returns True for the function provided to filter.\n",
        "\n",
        "\n",
        "- It is normally used with Lambda functions to filter list, tuple, or sets.\n",
        "\n",
        "\n",
        "\n",
        "filter() method takes two parameters:\n",
        "\n",
        "- __function__ - function tests if elements of an iterable returns true or false\n",
        "\n",
        "- __iterable__ - Sequence which needs to be filtered, could be sets, lists, tuples, or any iterators\n",
        "\n",
        "\n",
        "\n",
        "\n",
        "__Syntax:__"
      ]
    },
    {
      "cell_type": "markdown",
      "metadata": {
        "id": "WYa4Pxw0gbSb"
      },
      "source": [
        "<img src=\"filter.PNG\">"
      ]
    },
    {
      "cell_type": "markdown",
      "metadata": {
        "id": "XEAoP05ggbSb"
      },
      "source": [
        "__Map__\n",
        "\n",
        "- The map() function applies a given function to each item of an iterable (list, tuple etc.) and returns a list of the results.\n",
        "\n",
        "\n",
        "\n",
        "\n",
        "map() function takes two Parameters :\n",
        "\n",
        "-   __function__ :  The function to execute for each item of given iterable.\n",
        "\n",
        "\n",
        "-   __iterable__ : It is a iterable which is to be mapped.\n",
        "\n",
        "\n",
        "__Returns__ : Returns a list of the results after applying the given function to each item of a given iterable (list, tuple etc.)\n",
        "\n",
        "__Syntax:__"
      ]
    },
    {
      "cell_type": "markdown",
      "metadata": {
        "id": "YoC-MyHOgbSc"
      },
      "source": [
        "<img src=\"map.PNG\">"
      ]
    },
    {
      "cell_type": "markdown",
      "metadata": {
        "id": "MA6qsFukgbSc"
      },
      "source": [
        "__Reduce__\n",
        "\n",
        "- The reduce() function is defined in the __functools__ python module.The reduce() function receives two arguments, a function and an iterable. However, it doesn't return another iterable, instead it returns a single value.\n",
        "\n",
        "\n",
        "__Working:__\n",
        "\n",
        " 1)  Apply a function to the first two items in an iterable and generate a partial result.\n",
        "\n",
        " 2)  The function is then called again with the result obtained in __step 1__ and the next value in the sequence. This process keeps on repeating until there are items in the sequence.\n",
        "\n",
        " 3)  The final returned result is returned and printed on console.\n",
        "\n",
        "\n",
        "\n",
        "__Syntax:__"
      ]
    },
    {
      "cell_type": "markdown",
      "metadata": {
        "id": "UsEFRgTfgbSd"
      },
      "source": [
        "<img src=\"reduce.PNG\">"
      ]
    },
    {
      "cell_type": "code",
      "execution_count": null,
      "metadata": {
        "id": "St1ee3AngbSd",
        "outputId": "c726fe31-e21c-4026-8c0d-6c94dbdaaba1"
      },
      "outputs": [
        {
          "name": "stdout",
          "output_type": "stream",
          "text": [
            "15\n"
          ]
        }
      ],
      "source": [
        "addition = lambda a : a + 10  # This lambda function adds value 10 to an argument.\n",
        "print(addition(5))"
      ]
    },
    {
      "cell_type": "code",
      "execution_count": null,
      "metadata": {
        "id": "B5qWYeSmgbSe",
        "outputId": "5c1e3d23-2686-4935-a47e-ebc556f87a70"
      },
      "outputs": [
        {
          "name": "stdout",
          "output_type": "stream",
          "text": [
            "30\n"
          ]
        }
      ],
      "source": [
        "product = lambda a, b : a * b #This lambda function takes two arguments (a,b) and returns their product (a*b).\n",
        "print(product(5, 6))"
      ]
    },
    {
      "cell_type": "code",
      "execution_count": null,
      "metadata": {
        "id": "FHAJbAEHgbSf",
        "outputId": "c1e77d72-e588-4ebf-d6cd-4fbcc78c736d"
      },
      "outputs": [
        {
          "name": "stdout",
          "output_type": "stream",
          "text": [
            "13\n"
          ]
        }
      ],
      "source": [
        "addition = lambda a, b, c : a + b + c  #This lambda function takes three arguments (a,b,c) and returns their sum (a+b+c).\n",
        "print(addition(5, 6, 2))"
      ]
    },
    {
      "cell_type": "code",
      "execution_count": null,
      "metadata": {
        "id": "anaK25xVgbSg",
        "outputId": "89261c9a-3b5c-4144-b011-74d5bcccecba"
      },
      "outputs": [
        {
          "data": {
            "text/plain": [
              "(30, 100, 280)"
            ]
          },
          "execution_count": 364,
          "metadata": {},
          "output_type": "execute_result"
        }
      ],
      "source": [
        "res = (lambda *args: sum(args))  # This lambda function can take any number of arguments and return thier sum.\n",
        "res(10,20) , res(10,20,30,40) ,  res(10,20,30,40,50,60,70)"
      ]
    },
    {
      "cell_type": "code",
      "execution_count": null,
      "metadata": {
        "id": "nPfT_8hOgbSg",
        "outputId": "3caac25a-457b-4255-fd0e-124ed14833d8"
      },
      "outputs": [
        {
          "data": {
            "text/plain": [
              "(60, 150)"
            ]
          },
          "execution_count": 370,
          "metadata": {},
          "output_type": "execute_result"
        }
      ],
      "source": [
        "res1 = (lambda **kwargs: sum(kwargs.values())) # This lambda function can take any number of arguments and return thier sum.\n",
        "res1(a = 10 , b= 20 , c = 30) , res1(a = 10 , b= 20 , c = 30, d = 40 , e = 50)"
      ]
    },
    {
      "cell_type": "code",
      "execution_count": null,
      "metadata": {
        "id": "uJiVEC0DgbSg",
        "outputId": "a8fc5d61-2375-42c6-8cd0-01140a3a891b"
      },
      "outputs": [
        {
          "data": {
            "text/plain": [
              "(60, 150)"
            ]
          },
          "execution_count": 386,
          "metadata": {},
          "output_type": "execute_result"
        }
      ],
      "source": [
        "res1 = (lambda **kwargs: sum(kwargs.values())) # This lambda function can take any number of arguments and return thier sum.\n",
        "res1(a = 10 , b= 20 , c = 30) , res1(a = 10 , b= 20 , c = 30, d = 40 , e = 50)"
      ]
    },
    {
      "cell_type": "code",
      "execution_count": null,
      "metadata": {
        "id": "z9yD5PTbgbSh",
        "outputId": "9a53d6be-d22a-4a12-de0e-9d2485dc5199"
      },
      "outputs": [
        {
          "data": {
            "text/plain": [
              "(6000, 12000000)"
            ]
          },
          "execution_count": 446,
          "metadata": {},
          "output_type": "execute_result"
        }
      ],
      "source": [
        "# User defined function to find product of numbers\n",
        "def product(nums):\n",
        "    total = 1\n",
        "    for i in nums:\n",
        "        total *= i\n",
        "    return total\n",
        "\n",
        "# This lambda function can take any number of arguments and return thier product.\n",
        "res1 = (lambda **kwargs: product(kwargs.values()))\n",
        "res1(a = 10 , b= 20 , c = 30) , res1(a = 10 , b= 20 , c = 30, d = 40 , e = 50)"
      ]
    },
    {
      "cell_type": "code",
      "execution_count": null,
      "metadata": {
        "id": "iu2YCSfxgbSh",
        "outputId": "fbd7d24e-bb10-459b-ce20-16308685e2fd"
      },
      "outputs": [
        {
          "name": "stdout",
          "output_type": "stream",
          "text": [
            "15\n",
            "25\n",
            "35\n"
          ]
        }
      ],
      "source": [
        "def myfunc(n):\n",
        "  return lambda a : a + n\n",
        "\n",
        "add10 = myfunc(10)\n",
        "add20 = myfunc(20)\n",
        "add30 = myfunc(30)\n",
        "\n",
        "print(add10(5))\n",
        "print(add20(5))\n",
        "print(add30(5))"
      ]
    },
    {
      "cell_type": "code",
      "execution_count": null,
      "metadata": {
        "id": "dU_c4OrlgbSh",
        "outputId": "8adbd73f-9bdf-4783-cc53-e2102adaf32f"
      },
      "outputs": [
        {
          "data": {
            "text/plain": [
              "[1, 3, 5, 7, 9]"
            ]
          },
          "execution_count": 437,
          "metadata": {},
          "output_type": "execute_result"
        }
      ],
      "source": [
        "list1 = [1,2,3,4,5,6,7,8,9]\n",
        "\n",
        "def odd(n):\n",
        "    if n%2 ==1: return True\n",
        "    else: return False\n",
        "\n",
        "odd_num = list(filter(odd,list1)) # This Filter function filters list1 and passes all odd numbers to filter().\n",
        "odd_num"
      ]
    },
    {
      "cell_type": "code",
      "execution_count": null,
      "metadata": {
        "id": "YOUkGOBugbSi",
        "outputId": "a3105cbd-927c-4666-fac6-1ab904e96fc3"
      },
      "outputs": [
        {
          "data": {
            "text/plain": [
              "[1, 3, 5, 7, 9]"
            ]
          },
          "execution_count": 438,
          "metadata": {},
          "output_type": "execute_result"
        }
      ],
      "source": [
        "list1 = [1,2,3,4,5,6,7,8,9]\n",
        "# The below Filter function filters \"list1\" and passes all odd numbers using lambda function to filter().\n",
        "odd_num = list(filter(lambda n: n%2 ==1 ,list1))\n",
        "odd_num"
      ]
    },
    {
      "cell_type": "code",
      "execution_count": null,
      "metadata": {
        "id": "vqU9MzdXgbSi",
        "outputId": "8f9e9ee9-1217-48b9-ac5e-6459f0f258a0"
      },
      "outputs": [
        {
          "data": {
            "text/plain": [
              "[2, 6, 10, 14, 18]"
            ]
          },
          "execution_count": 439,
          "metadata": {},
          "output_type": "execute_result"
        }
      ],
      "source": [
        "def twice(n):\n",
        "    return n*2\n",
        "\n",
        "doubles = list(map(twice,odd_num)) # The map function will apply user defined \"twice()\" function on all items of the list\n",
        "doubles"
      ]
    },
    {
      "cell_type": "code",
      "execution_count": null,
      "metadata": {
        "id": "JqNvZrWagbSj",
        "outputId": "86edce6f-3e4a-498f-c8c6-586dfe23b260"
      },
      "outputs": [
        {
          "data": {
            "text/plain": [
              "[2, 6, 10, 14, 18]"
            ]
          },
          "execution_count": 440,
          "metadata": {},
          "output_type": "execute_result"
        }
      ],
      "source": [
        "doubles = list(map(lambda n:n*2,odd_num)) # This map function will double all items of the list using lambda function.\n",
        "doubles"
      ]
    },
    {
      "cell_type": "code",
      "execution_count": null,
      "metadata": {
        "id": "zDarHcWegbSj",
        "outputId": "0aaad20d-791e-40a7-dc36-a73dfb08f7bf"
      },
      "outputs": [
        {
          "data": {
            "text/plain": [
              "50"
            ]
          },
          "execution_count": 441,
          "metadata": {},
          "output_type": "execute_result"
        }
      ],
      "source": [
        "from functools import reduce\n",
        "\n",
        "def add(a,b):\n",
        "    return a+b\n",
        "\n",
        "sum_all = reduce(add,doubles) # This reduce function will perform sum of all items in the list using user defined \"add()\" func.\n",
        "sum_all"
      ]
    },
    {
      "cell_type": "code",
      "execution_count": null,
      "metadata": {
        "id": "PsxwW5m1gbSk",
        "outputId": "0911d700-0177-4d89-f1af-f37c5b232b79"
      },
      "outputs": [
        {
          "data": {
            "text/plain": [
              "50"
            ]
          },
          "execution_count": 442,
          "metadata": {},
          "output_type": "execute_result"
        }
      ],
      "source": [
        "#The below reduce() function will perform sum of all items in the list using lambda function.\n",
        "sum_all = reduce(lambda a,b : a+b,doubles)\n",
        "sum_all"
      ]
    },
    {
      "cell_type": "code",
      "execution_count": null,
      "metadata": {
        "id": "o0rA_90_gbSk",
        "outputId": "9c698914-e68e-4469-d8ae-5283af25844a"
      },
      "outputs": [
        {
          "data": {
            "text/plain": [
              "50"
            ]
          },
          "execution_count": 448,
          "metadata": {},
          "output_type": "execute_result"
        }
      ],
      "source": [
        "# Putting all together\n",
        "\n",
        "sum_all = reduce(lambda a,b : a+b,list(map(lambda n:n*2,list(filter(lambda n: n%2 ==1 ,list1)))))\n",
        "sum_all"
      ]
    },
    {
      "cell_type": "markdown",
      "metadata": {
        "id": "xuLmWHgHgbSl"
      },
      "source": [
        "<img src=\"fmr.PNG\">"
      ]
    },
    {
      "cell_type": "code",
      "execution_count": null,
      "metadata": {
        "id": "qiCM5xW3gbSl"
      },
      "outputs": [],
      "source": [
        "# More examples on Map , Filter , Reduce"
      ]
    },
    {
      "cell_type": "code",
      "execution_count": null,
      "metadata": {
        "id": "836_497SgbSm",
        "outputId": "214b2949-e50d-498b-98d2-bf667dbd71c7"
      },
      "outputs": [
        {
          "name": "stdout",
          "output_type": "stream",
          "text": [
            "--------\n",
            "[2, 4, 6, 8, 10]\n",
            "[1, 3, 5, 7, 9]\n",
            "--------\n",
            "['TWO', 'FOUR']\n",
            "['one', 'three']\n",
            "--------\n",
            "['one']\n",
            "['88', '99', '102']\n",
            "['one', 'two2', 'three3', '88', '99', '102']\n",
            "--------\n"
          ]
        }
      ],
      "source": [
        "list1 = [1,2,3,4,5,6,7,8,9,10]\n",
        "even = list(filter(lambda n: n%2 ==0 ,list1)) # Filter even numbers from the list\n",
        "odd =  list(filter(lambda n: n%2 !=0 ,list1))   # Filter odd numbers from the list\n",
        "\n",
        "print('--------')\n",
        "print(even)\n",
        "print(odd)\n",
        "print('--------')\n",
        "\n",
        "list2 = ['one' , 'TWO' , 'three' , 'FOUR']\n",
        "\n",
        "upper = list(filter(lambda x: x.isupper() , list2)) # filter uppercase strings from the list\n",
        "\n",
        "lower = list(filter(lambda x: x.islower() , list2)) # filter lowercase strings from the list\n",
        "\n",
        "\n",
        "print(upper)\n",
        "print(lower)\n",
        "print('--------')\n",
        "\n",
        "list3 = ['one' , 'two2' , 'three3' ,'88' , '99' , '102']\n",
        "\n",
        "numeric = list(filter(lambda x:x.isnumeric(), list3))  # filter numbers from the list\n",
        "\n",
        "alpha = list(filter(lambda x:x.isalpha(), list3))      # filter character strings from the list\n",
        "\n",
        "alphanum = list(filter(lambda x:x.isalnum(), list3)) # filtr numbers & character strings from the list\n",
        "\n",
        "\n",
        "print(alpha)\n",
        "print(numeric)\n",
        "print(alphanum)\n",
        "print('--------')\n",
        "\n",
        "\n",
        "#Vowel Test\n"
      ]
    },
    {
      "cell_type": "code",
      "execution_count": null,
      "metadata": {
        "id": "-W-Nn8togbSm",
        "outputId": "5573a12a-a751-42f2-bc9e-af0ef1631e3f"
      },
      "outputs": [
        {
          "data": {
            "text/plain": [
              "['soap', 'sharp', 'ship', 'sheep']"
            ]
          },
          "execution_count": 3,
          "metadata": {},
          "output_type": "execute_result"
        }
      ],
      "source": [
        "# Filter example with & operation\n",
        "list1 = ['soap','sharp','Shy','silent','ship','summer','sheep']\n",
        "list(filter(lambda x : x.startswith('s') & x.endswith('p'),list1))"
      ]
    },
    {
      "cell_type": "code",
      "execution_count": null,
      "metadata": {
        "id": "_k-_qyMlgbSn",
        "outputId": "02242b67-2abc-4c19-b3ad-ec218f198c6e"
      },
      "outputs": [
        {
          "name": "stdout",
          "output_type": "stream",
          "text": [
            "---------------\n",
            "[2, 4, 6, 8]\n",
            "[6, 8, 10, 12]\n",
            "[1, 4, 9, 16]\n",
            "---------------\n",
            "[2, 4, 6, 8]\n",
            "[6, 8, 10, 12]\n",
            "[1, 4, 9, 16]\n",
            "---------------\n"
          ]
        }
      ],
      "source": [
        "list1 = [1,2,3,4]\n",
        "list2 = [5,6,7,8]\n",
        "\n",
        "def double(x):\n",
        "    return x+x\n",
        "\n",
        "def add(x,y):\n",
        "    return x+y\n",
        "\n",
        "def square(x):\n",
        "    return x*x\n",
        "\n",
        "print('---------------')\n",
        "\n",
        "print(list(map(double, list1))) # Double each number using map & User defined function\n",
        "print(list(map(add, list1, list2))) # add two items  using map & User defined function\n",
        "print(list(map(square, list1))) #Square numbers using map & User defined function\n",
        "\n",
        "print('---------------')\n",
        "\n",
        "print(list(map(lambda x: x + x, list1))) # Double each number using map & lambda\n",
        "print(list(map(lambda x, y: x + y, list1, list2))) # add two items  using map & lambda\n",
        "print(list(map(lambda x: x*x, list1))) #Square numbers using map & lambda\n",
        "\n",
        "print('---------------')"
      ]
    },
    {
      "cell_type": "code",
      "execution_count": null,
      "metadata": {
        "id": "t2Jz4oS6gbSn",
        "outputId": "67b70be9-3bd0-4398-baca-439080dc203b"
      },
      "outputs": [
        {
          "data": {
            "text/plain": [
              "['India', 'Pakistan', 'Australia', 'Dubai']"
            ]
          },
          "execution_count": 2,
          "metadata": {},
          "output_type": "execute_result"
        }
      ],
      "source": [
        "countries = [\"india\" , \"pakistan\" , \"australia\" , \"dubai\"]\n",
        "list(map(lambda x : x.capitalize(),countries))"
      ]
    },
    {
      "cell_type": "code",
      "execution_count": null,
      "metadata": {
        "id": "gppjQtk-gbSn",
        "outputId": "079f85d7-41ed-4915-e873-514969585ae2"
      },
      "outputs": [
        {
          "name": "stdout",
          "output_type": "stream",
          "text": [
            "24\n",
            "10\n",
            "Python Rocks\n",
            "Hello Hello Hello \n",
            "1\n",
            "4\n"
          ]
        }
      ],
      "source": [
        "list2 = [1,2,3,4]\n",
        "\n",
        "product = reduce (operator.mul,list2) # Product of all numbers in a list\n",
        "\n",
        "add = reduce(operator.add,list2) # Add all numbers in the list\n",
        "\n",
        "concat_str = reduce(operator.add , ['Python' , ' ' , 'Rocks']) # Concatenate string using reduce\n",
        "\n",
        "prod = reduce(operator.mul,['Hello ' , 3]) #Repeat a string multiple times\n",
        "\n",
        "min_num = reduce(lambda a, b: a if a < b else b, list2) # Minimum number in the list using reduce () & lambda\n",
        "\n",
        "max_num = reduce(lambda a, b: a if a > b else b, list2) # Maximum number in the list using reduce () & lambda\n",
        "\n",
        "print(product)\n",
        "\n",
        "print(add)\n",
        "\n",
        "print(concat_str)\n",
        "\n",
        "print(prod)\n",
        "\n",
        "print(min_num)\n",
        "\n",
        "print(max_num)"
      ]
    },
    {
      "cell_type": "code",
      "execution_count": null,
      "metadata": {
        "id": "lt3Bp8tJgbSo",
        "outputId": "8520db95-4d73-4fcf-ab88-f2b97975950a"
      },
      "outputs": [
        {
          "data": {
            "text/plain": [
              "(1, 4)"
            ]
          },
          "execution_count": 461,
          "metadata": {},
          "output_type": "execute_result"
        }
      ],
      "source": [
        "def min_func(a, b):\n",
        "        return a if a < b else b\n",
        "\n",
        "\n",
        "def max_func(a, b):\n",
        "    return a if a > b else b\n",
        "\n",
        "min_num = reduce(min_func, list2) # Minimum number in the list using reduce () & User defined min function\n",
        "\n",
        "max_num = reduce(max_func, list2) # Maximum number in the list using reduce () & User defined min function\n",
        "\n",
        "min_num , max_num"
      ]
    },
    {
      "cell_type": "code",
      "execution_count": null,
      "metadata": {
        "scrolled": true,
        "id": "jYfxVggzgbSo",
        "outputId": "7d07a34c-d03b-4ab5-bf89-4f569a35d326"
      },
      "outputs": [
        {
          "name": "stdout",
          "output_type": "stream",
          "text": [
            "------\n",
            "False\n",
            "True\n",
            "False\n",
            "------\n",
            "False\n",
            "True\n",
            "True\n",
            "------\n"
          ]
        }
      ],
      "source": [
        "print('------')\n",
        "print(reduce(lambda a, b: bool(a and b), [0, 0, 1, 0, 0])) # Returns True if all values in the list are True\n",
        "print(reduce(lambda a, b: bool(a and b), [2, 3, 1, 5, 6])) # Returns True if all items in the list are True\n",
        "print(reduce(lambda a, b: bool(a and b), [8, 9, 1, 0, 9])) # Returns True if all values in the list are True\n",
        "\n",
        "print('------')\n",
        "\n",
        "print(reduce(lambda a, b: bool(a or b), [0, 0, 0, 0, 0]))  # Returns True if any item in the list is True\n",
        "print(reduce(lambda a, b: bool(a or b), [2, 3, 1, 5, 6]))  # Returns True if any item in the list is True\n",
        "print(reduce(lambda a, b: bool(a or b), [8, 9, 1, 0, 9]))  # Returns True if any item in the list is True\n",
        "\n",
        "print('------')"
      ]
    },
    {
      "cell_type": "markdown",
      "metadata": {
        "id": "sCg-9DSBgbSo"
      },
      "source": [
        "# Classes & Objects"
      ]
    },
    {
      "cell_type": "markdown",
      "metadata": {
        "id": "4RuWQ5twgbSp"
      },
      "source": [
        "- A Class is an object constructor or a \"blueprint\" for creating objects.\n",
        "\n",
        "- Objects are nothing but an encapsulation of variables and functions into a single entity.\n",
        "\n",
        "- Objects get their variables and functions from classes.\n",
        "\n",
        "- To create a class we use the keyword __class__.\n",
        "\n",
        "- The first string inside the class is called docstring which gives the brief description about the class.\n",
        "\n",
        "- All classes have a function called $____init____()$ which is always executed when the class is being initiated.\n",
        "\n",
        "- We can use $____init____()$ function to assign values to object properties or other operations that are necessary to perform when the object is being created\n",
        "\n",
        "- The __self__ parameter is a reference to the current instance of the class and is used to access class variables.\n",
        "\n",
        "- __self__ must be the first parameter of any function in the class\n",
        "\n",
        "- The __super()__ builtin function returns a temporary object of the superclass that allows us to access methods of the base class.\n",
        "\n",
        "- __super()__ allows us to avoid using the base class name explicitly and to enable multiple inheritance.\n",
        "\n",
        "\n",
        "__Syntax__"
      ]
    },
    {
      "cell_type": "markdown",
      "metadata": {
        "id": "XqeW3CK5gbSq"
      },
      "source": [
        "<img src=\"class.PNG\">"
      ]
    },
    {
      "cell_type": "code",
      "execution_count": null,
      "metadata": {
        "id": "n52-ZwGZgbSr",
        "outputId": "16810ee2-e47b-4512-bb57-ac4debbf9cd3"
      },
      "outputs": [
        {
          "name": "stdout",
          "output_type": "stream",
          "text": [
            "10\n"
          ]
        }
      ],
      "source": [
        "# Create a class with property \"var1\"\n",
        "class myclass:\n",
        "    var1 = 10\n",
        "\n",
        "obj1 = myclass() # Create an object of class \"myclass()\"\n",
        "print(obj1.var1)"
      ]
    },
    {
      "cell_type": "code",
      "execution_count": null,
      "metadata": {
        "id": "A0cEcgq-gbSs",
        "outputId": "7e55c336-6218-4a4f-ae8f-13357e3c7658"
      },
      "outputs": [
        {
          "name": "stdout",
          "output_type": "stream",
          "text": [
            "Name :-  Asif\n",
            "Employee ID :-  34163\n",
            "Thanks for joining ABC Company Asif!!\n"
          ]
        }
      ],
      "source": [
        "# Create an employee class\n",
        "class Employee:\n",
        "  def __init__(self, name, empid): # __init__() function is used to assign values for name and empid\n",
        "    self.name = name\n",
        "    self.empid = empid\n",
        "  def greet(self): # Class Method\n",
        "    print(\"Thanks for joining ABC Company {}!!\".format(self.name))\n",
        "\n",
        "emp1 = Employee(\"Asif\", 34163)  # Create an employee object\n",
        "\n",
        "print('Name :- ',emp1.name)\n",
        "print('Employee ID :- ',emp1.empid)\n",
        "emp1.greet()"
      ]
    },
    {
      "cell_type": "code",
      "execution_count": null,
      "metadata": {
        "id": "1NFt-AYdgbSt",
        "outputId": "162e7ed7-0491-42d3-b90b-e95cb9f135f7"
      },
      "outputs": [
        {
          "data": {
            "text/plain": [
              "'Basit'"
            ]
          },
          "execution_count": 71,
          "metadata": {},
          "output_type": "execute_result"
        }
      ],
      "source": [
        "emp1.name = 'Basit' # Modify Object Properties\n",
        "emp1.name"
      ]
    },
    {
      "cell_type": "code",
      "execution_count": null,
      "metadata": {
        "id": "zNl5eyFAgbSu",
        "outputId": "50f9fad1-1bf7-402e-8f3f-d9a8b25ad521"
      },
      "outputs": [
        {
          "ename": "AttributeError",
          "evalue": "'Employee' object has no attribute 'empid'",
          "output_type": "error",
          "traceback": [
            "\u001b[1;31m---------------------------------------------------------------------------\u001b[0m",
            "\u001b[1;31mAttributeError\u001b[0m                            Traceback (most recent call last)",
            "\u001b[1;32m<ipython-input-72-b111c8b828fc>\u001b[0m in \u001b[0;36m<module>\u001b[1;34m\u001b[0m\n\u001b[0;32m      1\u001b[0m \u001b[1;32mdel\u001b[0m \u001b[0memp1\u001b[0m\u001b[1;33m.\u001b[0m\u001b[0mempid\u001b[0m   \u001b[1;31m# Delete Object Properties\u001b[0m\u001b[1;33m\u001b[0m\u001b[1;33m\u001b[0m\u001b[0m\n\u001b[1;32m----> 2\u001b[1;33m \u001b[0memp1\u001b[0m\u001b[1;33m.\u001b[0m\u001b[0mempid\u001b[0m\u001b[1;33m\u001b[0m\u001b[1;33m\u001b[0m\u001b[0m\n\u001b[0m",
            "\u001b[1;31mAttributeError\u001b[0m: 'Employee' object has no attribute 'empid'"
          ]
        }
      ],
      "source": [
        "del emp1.empid   # Delete Object Properties\n",
        "emp1.empid"
      ]
    },
    {
      "cell_type": "code",
      "execution_count": null,
      "metadata": {
        "id": "uoKrugVzgbSu",
        "outputId": "605e0318-ea38-43d8-a395-7f1b6e7fa1cd"
      },
      "outputs": [
        {
          "ename": "NameError",
          "evalue": "name 'emp1' is not defined",
          "output_type": "error",
          "traceback": [
            "\u001b[1;31m---------------------------------------------------------------------------\u001b[0m",
            "\u001b[1;31mNameError\u001b[0m                                 Traceback (most recent call last)",
            "\u001b[1;32m<ipython-input-73-db2cb77ec9fb>\u001b[0m in \u001b[0;36m<module>\u001b[1;34m\u001b[0m\n\u001b[0;32m      1\u001b[0m \u001b[1;32mdel\u001b[0m \u001b[0memp1\u001b[0m \u001b[1;31m# Delete the object\u001b[0m\u001b[1;33m\u001b[0m\u001b[1;33m\u001b[0m\u001b[0m\n\u001b[1;32m----> 2\u001b[1;33m \u001b[0memp1\u001b[0m\u001b[1;33m\u001b[0m\u001b[1;33m\u001b[0m\u001b[0m\n\u001b[0m",
            "\u001b[1;31mNameError\u001b[0m: name 'emp1' is not defined"
          ]
        }
      ],
      "source": [
        "del emp1 # Delete the object\n",
        "emp1"
      ]
    },
    {
      "cell_type": "code",
      "execution_count": null,
      "metadata": {
        "id": "73jYvfpngbSv",
        "outputId": "24d9de09-fa17-4c72-9a67-5bf7440064dc"
      },
      "outputs": [
        {
          "name": "stdout",
          "output_type": "stream",
          "text": [
            "Name :-  Michael\n",
            "Employee ID :-  34162\n",
            "Thanks for joining ABC Company Michael!!\n"
          ]
        }
      ],
      "source": [
        "emp2 = Employee(\"Michael\", 34162)  # Create an employee object\n",
        "\n",
        "print('Name :- ',emp2.name)\n",
        "print('Employee ID :- ',emp2.empid)\n",
        "emp2.greet()"
      ]
    },
    {
      "cell_type": "code",
      "execution_count": null,
      "metadata": {
        "id": "9sOA3y53gbSv",
        "outputId": "f5cbbcd1-fa91-4bbf-ef53-cac2909e2be1"
      },
      "outputs": [
        {
          "data": {
            "text/plain": [
              "'India'"
            ]
          },
          "execution_count": 77,
          "metadata": {},
          "output_type": "execute_result"
        }
      ],
      "source": [
        "emp2.country = 'India' #instance variable can be created manually\n",
        "emp2.country"
      ]
    },
    {
      "cell_type": "markdown",
      "metadata": {
        "id": "GkjG9vV3gbSw"
      },
      "source": [
        "## Inheritance"
      ]
    },
    {
      "cell_type": "markdown",
      "metadata": {
        "id": "a5-b6cA2gbSw"
      },
      "source": [
        "- Inheritance is a powerful feature in object oriented programming.\n",
        "\n",
        "\n",
        "- Inheritance provides code reusability in the program because we can use an existing class (Super Class/ Parent Class / Base Class)  to create a new class (Sub Class / Child Class / Derived Class) instead of creating it from scratch.\n",
        "\n",
        "\n",
        "- The child class inherits data definitions and methods from the parent class which facilitates the reuse of features already available. The child class can add few more definitions or redefine a base class method.\n",
        "\n",
        "\n",
        "- Inheritance comes into picture when a new class possesses the '__IS A__' relationship with an existing class. E.g Student is a person. Hence person is the base class and student is derived class."
      ]
    },
    {
      "cell_type": "markdown",
      "metadata": {
        "id": "JjEoSF1tgbSw"
      },
      "source": [
        "<img src= \"inheritance1.PNG\">"
      ]
    },
    {
      "cell_type": "code",
      "execution_count": null,
      "metadata": {
        "id": "eSOQDMlGgbSx",
        "outputId": "bc9e14f3-01ac-4587-d844-1b1122709bcc"
      },
      "outputs": [
        {
          "name": "stdout",
          "output_type": "stream",
          "text": [
            "Student Details\n",
            "---------------\n",
            "Name :- Asif\n",
            "Age :- 24\n",
            "Gender :- Male\n",
            "Student ID :- 123\n",
            "Fees :- 1200\n",
            "\n",
            "Employee Details\n",
            "---------------\n",
            "Name :- Basit\n",
            "Age :- 36\n",
            "Gender :- Male\n",
            "Employee ID :- 456\n",
            "Salary :- 80000\n"
          ]
        }
      ],
      "source": [
        "class person:   # Parent Class\n",
        "    def __init__(self, name , age , gender):\n",
        "        self.name = name\n",
        "        self.age = age\n",
        "        self.gender = gender\n",
        "\n",
        "    def PersonInfo(self):\n",
        "        print('Name :- {}'.format(self.name))\n",
        "        print('Age :- {}'.format(self.age))\n",
        "        print('Gender :- {}'.format(self.gender))\n",
        "\n",
        "\n",
        "\n",
        "\n",
        "class student(person): # Child Class\n",
        "    def __init__(self,name,age,gender,studentid,fees):\n",
        "        person.__init__(self,name,age,gender)\n",
        "        self.studentid = studentid\n",
        "        self.fees = fees\n",
        "\n",
        "    def StudentInfo(self):\n",
        "        print('Student ID :- {}'.format(self.studentid))\n",
        "        print('Fees :- {}'.format(self.fees))\n",
        "\n",
        "\n",
        "\n",
        "class teacher(person): # Child Class\n",
        "    def __init__(self,name,age,gender,empid,salary):\n",
        "        person.__init__(self,name,age,gender)\n",
        "        self.empid = empid\n",
        "        self.salary = salary\n",
        "\n",
        "    def TeacherInfo(self):\n",
        "        print('Employee ID :- {}'.format(self.empid))\n",
        "        print('Salary :- {}'.format(self.salary))\n",
        "\n",
        "\n",
        "\n",
        "stud1 = student('Asif' , 24 , 'Male' , 123 , 1200)\n",
        "print('Student Details')\n",
        "print('---------------')\n",
        "stud1.PersonInfo()    # PersonInfo() method presnt in Parent Class will be accessible by child class\n",
        "stud1.StudentInfo()\n",
        "print()\n",
        "\n",
        "\n",
        "\n",
        "teacher1 = teacher('Basit' , 36 , 'Male' , 456 , 80000)\n",
        "print('Employee Details')\n",
        "print('---------------')\n",
        "teacher1.PersonInfo()    # PersonInfo() method presnt in Parent Class will be accessible by child class\n",
        "teacher1.TeacherInfo()"
      ]
    },
    {
      "cell_type": "code",
      "execution_count": null,
      "metadata": {
        "id": "OZVFUAmYgbSx",
        "outputId": "1b1eb091-f11f-4c45-ed46-915de8cc5b47"
      },
      "outputs": [
        {
          "name": "stdout",
          "output_type": "stream",
          "text": [
            "Student Details\n",
            "---------------\n",
            "Name :- Asif\n",
            "Age :- 24\n",
            "Gender :- Male\n",
            "Student ID :- 123\n",
            "Fees :- 1200\n",
            "\n"
          ]
        }
      ],
      "source": [
        "class person:   # Parent Class\n",
        "    def __init__(self, name , age , gender):\n",
        "        self.name = name\n",
        "        self.age = age\n",
        "        self.gender = gender\n",
        "\n",
        "    def PersonInfo(self):\n",
        "        print('Name :- {}'.format(self.name))\n",
        "        print('Age :- {}'.format(self.age))\n",
        "        print('Gender :- {}'.format(self.gender))\n",
        "\n",
        "\n",
        "\n",
        "\n",
        "class student(person): # Child Class\n",
        "    def __init__(self,name,age,gender,studentid,fees):\n",
        "        person.__init__(self,name,age,gender)\n",
        "        self.studentid = studentid\n",
        "        self.fees = fees\n",
        "\n",
        "    def StudentInfo(self):\n",
        "        print('Student ID :- {}'.format(self.studentid))\n",
        "        print('Fees :- {}'.format(self.fees))\n",
        "\n",
        "\n",
        "stud1 = student('Asif' , 24 , 'Male' , 123 , 1200)\n",
        "print('Student Details')\n",
        "print('---------------')\n",
        "stud1.PersonInfo()    # PersonInfo() method presnt in Parent Class will be accessible by child class\n",
        "stud1.StudentInfo()\n",
        "print()"
      ]
    },
    {
      "cell_type": "code",
      "execution_count": null,
      "metadata": {
        "id": "ZBJMXJqTgbSx",
        "outputId": "91f7679b-24f8-4116-b1c8-84c8201c5aa0"
      },
      "outputs": [
        {
          "name": "stdout",
          "output_type": "stream",
          "text": [
            "Name :- Asif\n",
            "Age :- 24\n",
            "Gender :- Male\n",
            "Student ID :- 123\n",
            "Fees :- 1200\n"
          ]
        }
      ],
      "source": [
        "# super() builtin function allows us to access methods of the base class.\n",
        "\n",
        "class person:   # Parent Class\n",
        "    def __init__(self, name , age , gender):\n",
        "        self.name = name\n",
        "        self.age = age\n",
        "        self.gender = gender\n",
        "\n",
        "    def PersonInfo(self):\n",
        "        print('Name :- {}'.format(self.name))\n",
        "        print('Age :- {}'.format(self.age))\n",
        "        print('Gender :- {}'.format(self.gender))\n",
        "\n",
        "\n",
        "\n",
        "\n",
        "class student(person): # Child Class\n",
        "    def __init__(self,name,age,gender,studentid,fees):\n",
        "        super().__init__(name,age,gender)\n",
        "        self.studentid = studentid\n",
        "        self.fees = fees\n",
        "\n",
        "    def StudentInfo(self):\n",
        "        super().PersonInfo()\n",
        "        print('Student ID :- {}'.format(self.studentid))\n",
        "        print('Fees :- {}'.format(self.fees))\n",
        "\n",
        "stud = student('Asif' , 24 , 'Male' , 123 , 1200)\n",
        "print('Student Details')\n",
        "print('---------------')\n",
        "stud.StudentInfo()"
      ]
    },
    {
      "cell_type": "markdown",
      "metadata": {
        "id": "_50VDIbugbSy"
      },
      "source": [
        "### Multi-level Inheritance"
      ]
    },
    {
      "cell_type": "markdown",
      "metadata": {
        "id": "n9CYo2dTgbSy"
      },
      "source": [
        "- In this type of inheritance, a class can inherit from a child class or derived class.\n",
        "\n",
        "- Multilevel Inheritance can be of any depth in python"
      ]
    },
    {
      "cell_type": "markdown",
      "metadata": {
        "id": "oKffoDECgbSy"
      },
      "source": [
        "<img src= \"multi-level inheritance.png\">"
      ]
    },
    {
      "cell_type": "code",
      "execution_count": null,
      "metadata": {
        "id": "CyTUsG29gbSy",
        "outputId": "06aac781-ccc9-46f1-ce98-43ab102ba58f"
      },
      "outputs": [
        {
          "name": "stdout",
          "output_type": "stream",
          "text": [
            "Contractual Employee Details\n",
            "****************************\n",
            "Name :- Basit\n",
            "Age :- 36\n",
            "Gender :- Male\n",
            "Employee ID :- 456\n",
            "Salary :- 80000\n",
            "Contract Expiry :- 21-12-2021\n",
            "\n",
            " \n",
            "\n",
            "Fulltime Employee Details\n",
            "****************************\n",
            "Name :- Asif\n",
            "Age :- 22\n",
            "Gender :- Male\n",
            "Employee ID :- 567\n",
            "Salary :- 70000\n",
            "Work Experience :- 12\n"
          ]
        }
      ],
      "source": [
        "class person:   # Parent Class\n",
        "    def __init__(self, name , age , gender):\n",
        "        self.name = name\n",
        "        self.age = age\n",
        "        self.gender = gender\n",
        "\n",
        "    def PersonInfo(self):\n",
        "        print('Name :- {}'.format(self.name))\n",
        "        print('Age :- {}'.format(self.age))\n",
        "        print('Gender :- {}'.format(self.gender))\n",
        "\n",
        "\n",
        "\n",
        "\n",
        "class employee(person): # Child Class\n",
        "    def __init__(self,name,age,gender,empid,salary):\n",
        "        person.__init__(self,name,age,gender)\n",
        "        self.empid = empid\n",
        "        self.salary = salary\n",
        "\n",
        "    def employeeInfo(self):\n",
        "        print('Employee ID :- {}'.format(self.empid))\n",
        "        print('Salary :- {}'.format(self.salary))\n",
        "\n",
        "\n",
        "\n",
        "\n",
        "class fulltime(employee): # Grand Child Class\n",
        "    def __init__(self,name,age,gender,empid,salary,WorkExperience):\n",
        "        employee.__init__(self,name,age,gender,empid,salary)\n",
        "        self.WorkExperience = WorkExperience\n",
        "\n",
        "    def FulltimeInfo(self):\n",
        "        print('Work Experience :- {}'.format(self.WorkExperience))\n",
        "\n",
        "\n",
        "\n",
        "\n",
        "class contractual(employee): # Grand Child Class\n",
        "    def __init__(self,name,age,gender,empid,salary,ContractExpiry):\n",
        "        employee.__init__(self,name,age,gender,empid,salary)\n",
        "        self.ContractExpiry = ContractExpiry\n",
        "\n",
        "    def ContractInfo(self):\n",
        "        print('Contract Expiry :- {}'.format(self.ContractExpiry))\n",
        "\n",
        "\n",
        "print('Contractual Employee Details')\n",
        "print('****************************')\n",
        "contract1 = contractual('Basit' , 36 , 'Male' , 456 , 80000,'21-12-2021')\n",
        "contract1.PersonInfo()\n",
        "contract1.employeeInfo()\n",
        "contract1.ContractInfo()\n",
        "\n",
        "print('\\n \\n')\n",
        "\n",
        "print('Fulltime Employee Details')\n",
        "print('****************************')\n",
        "fulltim1= fulltime('Asif' , 22 , 'Male' , 567 , 70000, 12)\n",
        "fulltim1.PersonInfo()\n",
        "fulltim1.employeeInfo()\n",
        "fulltim1.FulltimeInfo()"
      ]
    },
    {
      "cell_type": "markdown",
      "metadata": {
        "id": "l4AIHZMLgbSy"
      },
      "source": [
        "### Multiple Inheritance"
      ]
    },
    {
      "cell_type": "markdown",
      "metadata": {
        "id": "Ye-ULLGfgbSz"
      },
      "source": [
        "- Multiple inheritance is a feature in which a class (derived class) can inherit attributes and methods from more than one parent class.\n",
        "\n",
        "- The derived class inherits all the features of the base case."
      ]
    },
    {
      "cell_type": "markdown",
      "metadata": {
        "id": "knIJLn-zgbSz"
      },
      "source": [
        "<img src = 'Multiple Inheritance.PNG'>"
      ]
    },
    {
      "cell_type": "code",
      "execution_count": null,
      "metadata": {
        "id": "aTtVOfPCgbSz",
        "outputId": "4975baef-c573-4f9c-b766-61714e1c9f3b"
      },
      "outputs": [
        {
          "name": "stdout",
          "output_type": "stream",
          "text": [
            "My Name :-  Bill\n",
            "Father : John\n",
            "Mother : Kristen\n"
          ]
        }
      ],
      "source": [
        "# Super Class\n",
        "class Father:\n",
        "    def __init__(self):\n",
        "        self.fathername = str()\n",
        "\n",
        "\n",
        "# Super Class\n",
        "class Mother:\n",
        "    def __init__(self):\n",
        "        self.mothername = str()\n",
        "\n",
        "\n",
        "# Sub Class\n",
        "class Son(Father, Mother):\n",
        "    name = str()\n",
        "    def show(self):\n",
        "        print('My Name :- ',self.name)\n",
        "        print(\"Father :\", self.fathername)\n",
        "        print(\"Mother :\", self.mothername)\n",
        "\n",
        "\n",
        "s1 = Son()\n",
        "s1.name = 'Bill'\n",
        "s1.fathername = \"John\"\n",
        "s1.mothername = \"Kristen\"\n",
        "s1.show()"
      ]
    },
    {
      "cell_type": "code",
      "execution_count": null,
      "metadata": {
        "id": "UEVb_ovEgbSz",
        "outputId": "8f3df87f-ffdd-4f5f-cd6c-fe8008b2c9f0"
      },
      "outputs": [
        {
          "name": "stdout",
          "output_type": "stream",
          "text": [
            "2020-08-09 23:48:55\n"
          ]
        }
      ],
      "source": [
        "class Date:\n",
        "    def __init__(self,date):\n",
        "        self.date = date\n",
        "\n",
        "class Time:\n",
        "    def __init__(self,time):\n",
        "        self.time = time\n",
        "\n",
        "class timestamp(CurrentDate,CurrentTime):\n",
        "    def __init__(self,date,time):\n",
        "        CurrentDate.__init__(self,date)\n",
        "        CurrentTime.__init__(self,time)\n",
        "        DateTime = self.date + ' ' + self.time\n",
        "        print(DateTime)\n",
        "\n",
        "datetime1 = timestamp( '2020-08-09', '23:48:55')"
      ]
    },
    {
      "cell_type": "markdown",
      "metadata": {
        "id": "d4wsosARgbS0"
      },
      "source": [
        "### Method Overriding"
      ]
    },
    {
      "cell_type": "markdown",
      "metadata": {
        "id": "32n1vHC_gbS0"
      },
      "source": [
        "- Overriding is a very important part of object oreinted programming because it makes inheritance exploit its full power.\n",
        "\n",
        "\n",
        "- Overriding is the ability of a class (Sub Class / Child Class / Derived Class) to change the implementation of a method provided by one of its parent classes.\n",
        "\n",
        "\n",
        "- When a method in a subclass has the same name, same parameter and same return type as a method in its super-class, then the method in the subclass is said to override the method in the super-class.\n",
        "\n",
        "\n",
        "- The version of a method that is executed will be determined by the object that is used to invoke it.\n",
        "\n",
        "- If an object of a parent class is used to invoke the method, then the version in the parent class will be executed, but if an object of the subclass is used to invoke the method, then the version in the child class will be executed."
      ]
    },
    {
      "cell_type": "code",
      "execution_count": null,
      "metadata": {
        "id": "WF-36vnDgbS1",
        "outputId": "a3270431-0b12-49d3-c5ec-ea9d53df9914"
      },
      "outputs": [
        {
          "name": "stdout",
          "output_type": "stream",
          "text": [
            "Hello Student\n",
            "Hello Person\n"
          ]
        }
      ],
      "source": [
        "class person:   # Parent Class\n",
        "    def __init__(self, name , age , gender):\n",
        "        self.name = name\n",
        "        self.age = age\n",
        "        self.gender = gender\n",
        "\n",
        "    def greet(self):\n",
        "        print(\"Hello Person\")\n",
        "\n",
        "\n",
        "\n",
        "class student(person): # Child Class\n",
        "    def __init__(self,name,age,gender,studentid,fees):\n",
        "        person.__init__(self,name,age,gender)\n",
        "        self.studentid = studentid\n",
        "        self.fees = fees\n",
        "\n",
        "    def greet(self):\n",
        "        print(\"Hello Student\")\n",
        "\n",
        "\n",
        "stud = student('Gabriel' , 56 , 'Male' , 45 , 345678)\n",
        "stud.greet() # greet() method defined in subclass will be triggered as \"stud\" is an object of child class\n",
        "\n",
        "person1 = person('Gabriel' , 56 , 'Male')\n",
        "person1.greet() # greet() method defined in superclass will be triggered because \"person1\" is an object of parent class"
      ]
    },
    {
      "cell_type": "markdown",
      "metadata": {
        "id": "3r_40r2QgbS1"
      },
      "source": [
        "# Container"
      ]
    },
    {
      "cell_type": "markdown",
      "metadata": {
        "id": "WIvEwm2ngbS2"
      },
      "source": [
        "- Containers are data structures that hold data values.\n",
        "\n",
        "\n",
        "- They support membership tests which means we can check whether a value exists in the container or not.\n",
        "\n",
        "\n",
        "- Generally containers provide a way to access the contained objects and to iterate over them.\n",
        "\n",
        "\n",
        "- Examples of containers include tuple, list, set, dict, str"
      ]
    },
    {
      "cell_type": "code",
      "execution_count": null,
      "metadata": {
        "id": "fTZWVdwrgbS2",
        "outputId": "3cb4f20d-e5d7-4e89-8115-089b85a8d5ad"
      },
      "outputs": [
        {
          "data": {
            "text/plain": [
              "True"
            ]
          },
          "execution_count": 124,
          "metadata": {},
          "output_type": "execute_result"
        }
      ],
      "source": [
        "list1 = ['asif' , 'john' , 'Michael' , 'Basit']\n",
        "\n",
        "'asif' in list1  # Membership check using 'in' operator"
      ]
    },
    {
      "cell_type": "code",
      "execution_count": null,
      "metadata": {
        "id": "sZWwrN7UgbS3"
      },
      "outputs": [],
      "source": [
        "assert 'john' in list1  # If the condition returns true the program does nothing and move to the next line of code"
      ]
    },
    {
      "cell_type": "code",
      "execution_count": null,
      "metadata": {
        "id": "q9HZOYU6gbS3",
        "outputId": "aa42fc0c-01dc-456b-aa21-f7d42866d220"
      },
      "outputs": [
        {
          "ename": "AssertionError",
          "evalue": "",
          "output_type": "error",
          "traceback": [
            "\u001b[1;31m---------------------------------------------------------------------------\u001b[0m",
            "\u001b[1;31mAssertionError\u001b[0m                            Traceback (most recent call last)",
            "\u001b[1;32m<ipython-input-127-f7bcea8c4682>\u001b[0m in \u001b[0;36m<module>\u001b[1;34m\u001b[0m\n\u001b[1;32m----> 1\u001b[1;33m \u001b[1;32massert\u001b[0m \u001b[1;34m'john1'\u001b[0m \u001b[1;32min\u001b[0m \u001b[0mlist1\u001b[0m\u001b[1;33m\u001b[0m\u001b[1;33m\u001b[0m\u001b[0m\n\u001b[0m",
            "\u001b[1;31mAssertionError\u001b[0m: "
          ]
        }
      ],
      "source": [
        "assert 'john1' in list1 # If the condition returns false, Assert will stop the program and throws an AssertionError."
      ]
    },
    {
      "cell_type": "code",
      "execution_count": null,
      "metadata": {
        "id": "_JPjSoNMgbS3",
        "outputId": "ccdddb4b-3ff1-4683-b0e6-8591e87e8fde"
      },
      "outputs": [
        {
          "data": {
            "text/plain": [
              "{'Name': 'Asif', 'ID': 12345, 'DOB': 1991, 'Address': 'Hilsinki'}"
            ]
          },
          "execution_count": 130,
          "metadata": {},
          "output_type": "execute_result"
        }
      ],
      "source": [
        "mydict = {'Name':'Asif' , 'ID': 12345 , 'DOB': 1991 , 'Address' : 'Hilsinki'}\n",
        "mydict"
      ]
    },
    {
      "cell_type": "code",
      "execution_count": null,
      "metadata": {
        "id": "cKmx2DSjgbS4",
        "outputId": "337a58e7-e8a9-49b1-a986-153a910f022f"
      },
      "outputs": [
        {
          "data": {
            "text/plain": [
              "False"
            ]
          },
          "execution_count": 131,
          "metadata": {},
          "output_type": "execute_result"
        }
      ],
      "source": [
        "'Asif' in mydict # Dictionary membership will always check the keys"
      ]
    },
    {
      "cell_type": "code",
      "execution_count": null,
      "metadata": {
        "id": "fh5F0cdtgbS5",
        "outputId": "0511f312-45bb-48c0-a0bf-3ebb363c64ad"
      },
      "outputs": [
        {
          "data": {
            "text/plain": [
              "True"
            ]
          },
          "execution_count": 132,
          "metadata": {},
          "output_type": "execute_result"
        }
      ],
      "source": [
        "'Name' in mydict # Dictionary membership will always check the keys"
      ]
    },
    {
      "cell_type": "code",
      "execution_count": null,
      "metadata": {
        "id": "khCPPI2IgbS5",
        "outputId": "b3eca491-4639-4bbe-b2e8-605aae138534"
      },
      "outputs": [
        {
          "data": {
            "text/plain": [
              "True"
            ]
          },
          "execution_count": 133,
          "metadata": {},
          "output_type": "execute_result"
        }
      ],
      "source": [
        "'DOB' in mydict"
      ]
    },
    {
      "cell_type": "code",
      "execution_count": null,
      "metadata": {
        "id": "OvdQfy05gbS5",
        "outputId": "bc94f878-d53e-4192-9fa0-09c6cff12c99"
      },
      "outputs": [
        {
          "data": {
            "text/plain": [
              "True"
            ]
          },
          "execution_count": 134,
          "metadata": {},
          "output_type": "execute_result"
        }
      ],
      "source": [
        "mystr = 'asifbhat'\n",
        "\n",
        "'as' in mystr  # Check if substring is present"
      ]
    },
    {
      "cell_type": "markdown",
      "metadata": {
        "id": "idSiigRygbS5"
      },
      "source": [
        "# Iterable & Iterator"
      ]
    },
    {
      "cell_type": "markdown",
      "metadata": {
        "id": "X_oRLM-ogbS6"
      },
      "source": [
        "- An __iterable__ is an object that can be iterated upon. It can return an iterator object with the purpose of traversing through all the elements of an iterable.\n",
        "\n",
        "\n",
        "- An iterable object implements ____iter__()__ which is expected to return an iterator object. The iterator object uses the ____next__()__ method. Every time __next()__ is called next element in the iterator stream is returned. When there are no more elements available __StopIteration exception__ is encountered. So any object that has a ____next__()__ method is called an __iterator__.\n",
        "\n",
        "\n",
        "\n",
        "- Python lists, tuples, dictionaries and sets are all examples of iterable objects."
      ]
    },
    {
      "cell_type": "markdown",
      "metadata": {
        "id": "WLPZ0vrDgbS6"
      },
      "source": [
        "<img src = 'iterator1.PNG'>"
      ]
    },
    {
      "cell_type": "code",
      "execution_count": null,
      "metadata": {
        "id": "LpRoVruJgbS6",
        "outputId": "ccecb156-e2d0-4d88-e1c7-6c71bedd25b1"
      },
      "outputs": [
        {
          "name": "stdout",
          "output_type": "stream",
          "text": [
            "Asif\n",
            "Basit\n",
            "John\n",
            "Michael\n"
          ]
        },
        {
          "ename": "StopIteration",
          "evalue": "",
          "output_type": "error",
          "traceback": [
            "\u001b[1;31m---------------------------------------------------------------------------\u001b[0m",
            "\u001b[1;31mStopIteration\u001b[0m                             Traceback (most recent call last)",
            "\u001b[1;32m<ipython-input-236-a2095e242a65>\u001b[0m in \u001b[0;36m<module>\u001b[1;34m\u001b[0m\n\u001b[0;32m      5\u001b[0m \u001b[0mprint\u001b[0m\u001b[1;33m(\u001b[0m\u001b[0mnext\u001b[0m\u001b[1;33m(\u001b[0m\u001b[0mlist_iter\u001b[0m\u001b[1;33m)\u001b[0m\u001b[1;33m)\u001b[0m\u001b[1;33m\u001b[0m\u001b[1;33m\u001b[0m\u001b[0m\n\u001b[0;32m      6\u001b[0m \u001b[0mprint\u001b[0m\u001b[1;33m(\u001b[0m\u001b[0mnext\u001b[0m\u001b[1;33m(\u001b[0m\u001b[0mlist_iter\u001b[0m\u001b[1;33m)\u001b[0m\u001b[1;33m)\u001b[0m\u001b[1;33m\u001b[0m\u001b[1;33m\u001b[0m\u001b[0m\n\u001b[1;32m----> 7\u001b[1;33m \u001b[0mprint\u001b[0m\u001b[1;33m(\u001b[0m\u001b[0mnext\u001b[0m\u001b[1;33m(\u001b[0m\u001b[0mlist_iter\u001b[0m\u001b[1;33m)\u001b[0m\u001b[1;33m)\u001b[0m\u001b[1;33m\u001b[0m\u001b[1;33m\u001b[0m\u001b[0m\n\u001b[0m",
            "\u001b[1;31mStopIteration\u001b[0m: "
          ]
        }
      ],
      "source": [
        "mylist = ['Asif' , 'Basit' , 'John' , 'Michael']\n",
        "list_iter = iter(mylist) # Create an iterator object using iter()\n",
        "print(next(list_iter))  # return first element in the iterator stream\n",
        "print(next(list_iter))  # return next element in the iterator stream\n",
        "print(next(list_iter))\n",
        "print(next(list_iter))\n",
        "print(next(list_iter))"
      ]
    },
    {
      "cell_type": "code",
      "execution_count": null,
      "metadata": {
        "id": "gNA0FHVvgbS7",
        "outputId": "ca94a429-b3ca-4535-e7ae-5919b00f40d9"
      },
      "outputs": [
        {
          "name": "stdout",
          "output_type": "stream",
          "text": [
            "Asif\n",
            "Basit\n",
            "John\n",
            "Michael\n"
          ]
        }
      ],
      "source": [
        "mylist = ['Asif' , 'Basit' , 'John' , 'Michael']\n",
        "list_iter = iter(mylist)     # Create an iterator object using iter()\n",
        "print(list_iter.__next__())  # return first element in the iterator stream\n",
        "print(list_iter.__next__())  # return next element in the iterator stream\n",
        "print(list_iter.__next__())\n",
        "print(list_iter.__next__())"
      ]
    },
    {
      "cell_type": "code",
      "execution_count": null,
      "metadata": {
        "id": "ebMRTba3gbS7",
        "outputId": "ad7f7e46-00a9-4e08-885e-c1fe3b035aa8"
      },
      "outputs": [
        {
          "name": "stdout",
          "output_type": "stream",
          "text": [
            "Asif\n",
            "Basit\n",
            "John\n",
            "Michael\n"
          ]
        }
      ],
      "source": [
        "mylist = ['Asif' , 'Basit' , 'John' , 'Michael']\n",
        "list_iter = iter(mylist)     # Create an iterator object using iter()\n",
        "for i in list_iter:\n",
        "    print(i)"
      ]
    },
    {
      "cell_type": "code",
      "execution_count": null,
      "metadata": {
        "id": "9vw7zZaZgbS8",
        "outputId": "a9b4ba6a-4e40-4a0f-f8fa-398c2b5fc3e9"
      },
      "outputs": [
        {
          "name": "stdout",
          "output_type": "stream",
          "text": [
            "Asif\n",
            "Basit\n",
            "John\n",
            "Michael\n"
          ]
        }
      ],
      "source": [
        "# Looping Through an Iterable (list) using for loop\n",
        "\n",
        "mylist = ['Asif' , 'Basit' , 'John' , 'Michael']\n",
        "\n",
        "for i in mylist:\n",
        "    print(i)"
      ]
    },
    {
      "cell_type": "code",
      "execution_count": null,
      "metadata": {
        "id": "GVxzD2wKgbS8",
        "outputId": "ddfdcc92-a989-41d0-96e5-1f58208afdd9"
      },
      "outputs": [
        {
          "name": "stdout",
          "output_type": "stream",
          "text": [
            "Asif\n",
            "Basit\n",
            "John\n",
            "Michael\n"
          ]
        }
      ],
      "source": [
        "# Looping Through an Iterable (tuple) using for loop\n",
        "\n",
        "mytuple = ('Asif' , 'Basit' , 'John' , 'Michael')\n",
        "\n",
        "for i in mytuple:\n",
        "    print(i)"
      ]
    },
    {
      "cell_type": "code",
      "execution_count": null,
      "metadata": {
        "id": "XmDM-k0hgbS9",
        "outputId": "540e0007-a866-4228-9728-8f92a775f792"
      },
      "outputs": [
        {
          "name": "stdout",
          "output_type": "stream",
          "text": [
            "H\n",
            "e\n",
            "l\n",
            "l\n",
            "o\n",
            " \n",
            "P\n",
            "y\n",
            "t\n",
            "h\n",
            "o\n",
            "n\n"
          ]
        }
      ],
      "source": [
        "# Looping Through an Iterable (string) using for loop\n",
        "\n",
        "mystr = \"Hello Python\"\n",
        "\n",
        "for i in mystr:\n",
        "    print(i)"
      ]
    },
    {
      "cell_type": "code",
      "execution_count": null,
      "metadata": {
        "id": "cdDgv8ZOgbS-",
        "outputId": "11d97b6b-1af4-48e1-dec6-81d58c62ab77"
      },
      "outputs": [
        {
          "name": "stdout",
          "output_type": "stream",
          "text": [
            "1\n",
            "2\n",
            "3\n",
            "4\n",
            "5\n",
            "6\n",
            "7\n",
            "8\n",
            "9\n",
            "10\n"
          ]
        }
      ],
      "source": [
        "# This iterator produces all natural numbers from 1 to 10.\n",
        "class myiter:\n",
        "     def __init__(self):\n",
        "            self.num = 0\n",
        "\n",
        "     def __iter__(self):\n",
        "            self.num = 1\n",
        "            return self\n",
        "\n",
        "     def __next__(self):\n",
        "        if self.num <= 10:\n",
        "            val = self.num\n",
        "            self.num += 1\n",
        "            return val\n",
        "        else:\n",
        "            raise StopIteration\n",
        "\n",
        "mynum = myiter()\n",
        "iter1 = iter(mynum)\n",
        "for i in iter1:\n",
        "    print(i)"
      ]
    },
    {
      "cell_type": "code",
      "execution_count": null,
      "metadata": {
        "id": "5nH6h8dAgbS-",
        "outputId": "28164f76-eb7e-4a1d-a9b5-3766efdd1f31"
      },
      "outputs": [
        {
          "name": "stdout",
          "output_type": "stream",
          "text": [
            "1\n",
            "3\n",
            "5\n",
            "7\n",
            "9\n",
            "11\n",
            "13\n",
            "15\n",
            "17\n",
            "19\n"
          ]
        }
      ],
      "source": [
        "# This iterator will produce odd numbers\n",
        "class myiter:\n",
        "     def __init__(self):\n",
        "            self.num = 0\n",
        "\n",
        "     def __iter__(self):\n",
        "            self.num = 1\n",
        "            return self\n",
        "\n",
        "     def __next__(self):\n",
        "        if self.num <= 20 :\n",
        "            val = self.num\n",
        "            self.num += 2\n",
        "            return val\n",
        "        else:\n",
        "            raise StopIteration\n",
        "\n",
        "myodd = myiter()\n",
        "iter1 = iter(myodd)\n",
        "for i in iter1:\n",
        "    print(i)"
      ]
    },
    {
      "cell_type": "code",
      "execution_count": null,
      "metadata": {
        "id": "mlYPkxsdgbS_",
        "outputId": "a502870d-9aba-4027-cd59-47bff31a2440"
      },
      "outputs": [
        {
          "name": "stdout",
          "output_type": "stream",
          "text": [
            "1\n",
            "1\n",
            "2\n",
            "3\n",
            "5\n",
            "8\n",
            "13\n",
            "21\n",
            "34\n"
          ]
        }
      ],
      "source": [
        "# This iterator will produce fibonacci numbers\n",
        "\n",
        "class myfibonacci:\n",
        "     def __init__(self):\n",
        "            self.prev = 0\n",
        "            self.cur = 0\n",
        "\n",
        "     def __iter__(self):\n",
        "            self.prev = 0\n",
        "            self.cur = 1\n",
        "            return self\n",
        "\n",
        "     def __next__(self):\n",
        "        if self.cur <= 50:\n",
        "            val = self.cur\n",
        "            self.cur += self.prev\n",
        "            self.prev = val\n",
        "            return val\n",
        "        else:\n",
        "            raise StopIteration\n",
        "\n",
        "myfibo = myfibonacci()\n",
        "iter1 = iter(myfibo)\n",
        "for i in iter1:\n",
        "    print(i)"
      ]
    },
    {
      "cell_type": "markdown",
      "metadata": {
        "id": "WmiS30EJgbS_"
      },
      "source": [
        "# Generator"
      ]
    },
    {
      "cell_type": "markdown",
      "metadata": {
        "id": "p3x88hwtgbTA"
      },
      "source": [
        "- Python generators are easy way of creating iterators. It generates values one at a time from a given sequence instead of returning the entire sequence at once.  \n",
        "\n",
        "\n",
        "- It is a special type of function which returns an iterator object.\n",
        "\n",
        "\n",
        "- In a generator function, a __yield__ statement is used rather than a __return__ statement.\n",
        "\n",
        "\n",
        "- The generator function cannot include the return keyword. If we include it then it will terminate the execution of the function.\n",
        "\n",
        "\n",
        "- The difference between __yield__ and __return__ is that once yield returns a value the function is paused and the control is transferred to the caller.Local variables and their states are remembered between successive calls. In case of  the return statement value is returned and the execution of the function is terminated.\n",
        "\n",
        "\n",
        "- Methods like ____iter__()__ and ____next__()__ are implemented automatically in generator function.\n",
        "\n",
        "\n",
        "- Simple generators can be easily created using __generator expressions__. Generator expressions create anonymous generator functions like lambda.\n",
        "\n",
        "\n",
        "- The syntax for generator expression is similar to that of a list comprehension but the only difference is square brackets are replaced with round parentheses. Also list comprehension produces the entire list while the generator expression produces one item at a time which is more memory efficient than list comprehension."
      ]
    },
    {
      "cell_type": "code",
      "execution_count": null,
      "metadata": {
        "id": "3diV5VXzgbTB",
        "outputId": "a6a1f17d-6d5b-41fe-b9d3-b95c2728b7d5"
      },
      "outputs": [
        {
          "name": "stdout",
          "output_type": "stream",
          "text": [
            "1\n",
            "2\n",
            "3\n",
            "4\n",
            "5\n"
          ]
        },
        {
          "ename": "StopIteration",
          "evalue": "",
          "output_type": "error",
          "traceback": [
            "\u001b[1;31m---------------------------------------------------------------------------\u001b[0m",
            "\u001b[1;31mStopIteration\u001b[0m                             Traceback (most recent call last)",
            "\u001b[1;32m<ipython-input-258-4c1c399db6dd>\u001b[0m in \u001b[0;36m<module>\u001b[1;34m\u001b[0m\n\u001b[0;32m     24\u001b[0m \u001b[0mprint\u001b[0m\u001b[1;33m(\u001b[0m\u001b[0mnext\u001b[0m\u001b[1;33m(\u001b[0m\u001b[0mmygen1\u001b[0m\u001b[1;33m)\u001b[0m\u001b[1;33m)\u001b[0m\u001b[1;33m\u001b[0m\u001b[1;33m\u001b[0m\u001b[0m\n\u001b[0;32m     25\u001b[0m \u001b[0mprint\u001b[0m\u001b[1;33m(\u001b[0m\u001b[0mnext\u001b[0m\u001b[1;33m(\u001b[0m\u001b[0mmygen1\u001b[0m\u001b[1;33m)\u001b[0m\u001b[1;33m)\u001b[0m\u001b[1;33m\u001b[0m\u001b[1;33m\u001b[0m\u001b[0m\n\u001b[1;32m---> 26\u001b[1;33m \u001b[0mprint\u001b[0m\u001b[1;33m(\u001b[0m\u001b[0mnext\u001b[0m\u001b[1;33m(\u001b[0m\u001b[0mmygen1\u001b[0m\u001b[1;33m)\u001b[0m\u001b[1;33m)\u001b[0m\u001b[1;33m\u001b[0m\u001b[1;33m\u001b[0m\u001b[0m\n\u001b[0m",
            "\u001b[1;31mStopIteration\u001b[0m: "
          ]
        }
      ],
      "source": [
        "# Simple generator function that will generate numbers from 1 to 5.\n",
        "def mygen():\n",
        "    n = 1\n",
        "    yield n\n",
        "\n",
        "    n += 1\n",
        "    yield n\n",
        "\n",
        "    n += 1\n",
        "    yield n\n",
        "\n",
        "    n += 1\n",
        "    yield n\n",
        "\n",
        "    n += 1\n",
        "    yield n\n",
        "\n",
        "mygen1 = mygen()\n",
        "\n",
        "print(next(mygen1))\n",
        "print(next(mygen1))\n",
        "print(next(mygen1))\n",
        "print(next(mygen1))\n",
        "print(next(mygen1)) #Function will terminate here as all 5 values have been returned.\n",
        "print(next(mygen1)) # As function is already terminated, StopIteration is raised automatically."
      ]
    },
    {
      "cell_type": "code",
      "execution_count": null,
      "metadata": {
        "id": "Nm4rBrHNgbTC",
        "outputId": "d13d442f-1c83-4deb-98ba-8019b15e1832"
      },
      "outputs": [
        {
          "name": "stdout",
          "output_type": "stream",
          "text": [
            "1\n",
            "2\n",
            "3\n",
            "4\n",
            "5\n",
            "6\n",
            "7\n",
            "8\n",
            "9\n",
            "10\n",
            "11\n",
            "12\n",
            "13\n",
            "14\n",
            "15\n",
            "16\n",
            "17\n",
            "18\n",
            "19\n"
          ]
        }
      ],
      "source": [
        "# Simple generator function that will generate natural numbers from 1 to 20.\n",
        "def mygen():\n",
        "    for i in range(1,20):\n",
        "        yield i\n",
        "\n",
        "\n",
        "mygen1 = mygen()\n",
        "\n",
        "for i in mygen1:\n",
        "    print(i)"
      ]
    },
    {
      "cell_type": "code",
      "execution_count": null,
      "metadata": {
        "id": "FNsNcXukgbTD",
        "outputId": "ecd2e58b-51cc-4e85-dadb-0f6ad607d75e"
      },
      "outputs": [
        {
          "data": {
            "text/plain": [
              "[1, 2, 3, 4, 5, 6, 7, 8, 9, 10, 11, 12, 13, 14, 15, 16, 17, 18, 19]"
            ]
          },
          "execution_count": 274,
          "metadata": {},
          "output_type": "execute_result"
        }
      ],
      "source": [
        "num = list(mygen()) # Store all values generated by generator function in a list\n",
        "num"
      ]
    },
    {
      "cell_type": "code",
      "execution_count": null,
      "metadata": {
        "id": "q4MlfXk6gbTD",
        "outputId": "62e00e67-b22e-45cd-ba2a-4e2d0b22c1f4"
      },
      "outputs": [
        {
          "name": "stdout",
          "output_type": "stream",
          "text": [
            "2\n",
            "4\n",
            "6\n",
            "8\n",
            "10\n",
            "12\n",
            "14\n",
            "16\n",
            "18\n"
          ]
        }
      ],
      "source": [
        "# Simple generator function that will generate even numbers from 1 to 20.\n",
        "def mygen():\n",
        "    for i in range(1,20):\n",
        "        if i%2 == 0:\n",
        "            yield i\n",
        "\n",
        "\n",
        "mygen1 = mygen()\n",
        "\n",
        "for i in mygen1:\n",
        "    print(i)"
      ]
    },
    {
      "cell_type": "code",
      "execution_count": null,
      "metadata": {
        "id": "ni6a2JZcgbTE",
        "outputId": "2c3eff2c-adef-4f58-f90d-951f7fdf09a0"
      },
      "outputs": [
        {
          "name": "stdout",
          "output_type": "stream",
          "text": [
            "0\n",
            "1\n",
            "1\n",
            "2\n",
            "3\n",
            "5\n",
            "8\n",
            "13\n",
            "21\n",
            "34\n"
          ]
        }
      ],
      "source": [
        "# This Generator function will generate ten numbers of fibonacci series.\n",
        "def myfibo():\n",
        "    num1 , num2 = 0,1\n",
        "    count = 0\n",
        "    while count < 10:\n",
        "            yield num1\n",
        "            num1,num2 = num2,num1+num2\n",
        "            count+=1\n",
        "\n",
        "\n",
        "fibo = myfibo()\n",
        "\n",
        "for i in fibo:\n",
        "    print(i)"
      ]
    },
    {
      "cell_type": "code",
      "execution_count": null,
      "metadata": {
        "id": "4TkZXznJgbTE",
        "outputId": "8764fef0-7cf6-4973-fa02-9be856f30c97"
      },
      "outputs": [
        {
          "data": {
            "text/plain": [
              "[0, 1, 1, 2, 3, 5, 8, 13, 21, 34]"
            ]
          },
          "execution_count": 277,
          "metadata": {},
          "output_type": "execute_result"
        }
      ],
      "source": [
        "list1 = list(myfibo()) # Store the fibonacci series in a list\n",
        "list1"
      ]
    },
    {
      "cell_type": "code",
      "execution_count": null,
      "metadata": {
        "id": "2Cej2cPfgbTE",
        "outputId": "b80fc63c-c7ce-4e05-e4f7-37e41f43df92"
      },
      "outputs": [
        {
          "data": {
            "text/plain": [
              "[0, 1, 4, 9, 16, 25, 36, 49, 64, 81]"
            ]
          },
          "execution_count": 283,
          "metadata": {},
          "output_type": "execute_result"
        }
      ],
      "source": [
        "list2 = [i**2 for i in range(10)]  # List comprehension\n",
        "list2"
      ]
    },
    {
      "cell_type": "code",
      "execution_count": null,
      "metadata": {
        "id": "_5Y2BClQgbTF",
        "outputId": "39596bdb-30cf-43f4-fb14-140968bb9135"
      },
      "outputs": [
        {
          "data": {
            "text/plain": [
              "<generator object <genexpr> at 0x000001EF4B639848>"
            ]
          },
          "execution_count": 280,
          "metadata": {},
          "output_type": "execute_result"
        }
      ],
      "source": [
        "gen2 = (i**2 for i in range(10)) # Generator expression\n",
        "gen2"
      ]
    },
    {
      "cell_type": "code",
      "execution_count": null,
      "metadata": {
        "id": "ETkUDstegbTG",
        "outputId": "60ed614f-edea-4d19-de86-edcee769b7e5"
      },
      "outputs": [
        {
          "name": "stdout",
          "output_type": "stream",
          "text": [
            "1\n",
            "4\n",
            "9\n",
            "16\n",
            "25\n"
          ]
        }
      ],
      "source": [
        "print(next(gen2))\n",
        "print(next(gen2))\n",
        "print(next(gen2))\n",
        "print(next(gen2))\n",
        "print(next(gen2))"
      ]
    },
    {
      "cell_type": "code",
      "execution_count": null,
      "metadata": {
        "id": "dSdomKzBgbTH",
        "outputId": "26b29e10-a055-4b0b-f703-089559c6c507"
      },
      "outputs": [
        {
          "name": "stdout",
          "output_type": "stream",
          "text": [
            "0\n",
            "2\n",
            "4\n",
            "6\n",
            "8\n",
            "10\n",
            "12\n",
            "14\n",
            "16\n",
            "18\n",
            "20\n",
            "22\n",
            "24\n",
            "26\n",
            "28\n",
            "30\n",
            "32\n",
            "34\n",
            "36\n",
            "38\n"
          ]
        }
      ],
      "source": [
        "gen2 = (i for i in range(40) if i%2 == 0) # Generator expression to generate even numbers\n",
        "gen2\n",
        "\n",
        "for i in gen2:\n",
        "    print(i)"
      ]
    },
    {
      "cell_type": "markdown",
      "metadata": {
        "id": "MD1VJlcPgbTI"
      },
      "source": [
        "# Decorator"
      ]
    },
    {
      "cell_type": "markdown",
      "metadata": {
        "id": "gijoQ0w5gbTI"
      },
      "source": [
        "__Decorator__ is very powerful and useful tool in Python as it allows us to wrap another function in order to extend the behavior of wrapped function without permanently modifying it.\n",
        "\n",
        "\n",
        "In Decorators functions are taken as the argument into another function and then called inside the wrapper function.\n",
        "\n",
        "__Advantages__ -\n",
        " - Logging & debugging\n",
        "\n",
        " - Access control and authentication"
      ]
    },
    {
      "cell_type": "code",
      "execution_count": null,
      "metadata": {
        "id": "PmroSKBDgbTJ",
        "outputId": "024f5c39-5b70-4ba8-d47e-9ead468b84a6"
      },
      "outputs": [
        {
          "name": "stdout",
          "output_type": "stream",
          "text": [
            "Result is :-  2\n",
            "Result is :-  -2\n"
          ]
        }
      ],
      "source": [
        "def subtract(num1 , num2):\n",
        "    res = num1 - num2\n",
        "    print('Result is :- ', res)\n",
        "\n",
        "subtract(4,2)\n",
        "subtract(2,4)"
      ]
    },
    {
      "cell_type": "code",
      "execution_count": null,
      "metadata": {
        "id": "U-NDrPxYgbTJ",
        "outputId": "4352d25a-370c-4fbb-e946-38253608b178"
      },
      "outputs": [
        {
          "name": "stdout",
          "output_type": "stream",
          "text": [
            "Result is :-  2\n"
          ]
        }
      ],
      "source": [
        "''' We now want subtract() function to always subtract lower number from higher one without modifying this function.\n",
        "    So when we pass (2,4) it should perform 4-2 not 2-4. To acheive this we will create a decorator function'''\n",
        "\n",
        "\n",
        "def sub_decorator(func):\n",
        "    def wrapper(num1,num2):\n",
        "        if num1 < num2:\n",
        "            num1,num2 = num2,num1\n",
        "            return func(num1,num2)\n",
        "    return wrapper\n",
        "\n",
        "sub = sub_decorator(subtract)\n",
        "\n",
        "sub(2,4)"
      ]
    },
    {
      "cell_type": "code",
      "execution_count": null,
      "metadata": {
        "id": "BybbUUUTgbTK",
        "outputId": "ce3d82f1-05e9-45d7-c853-f819b48cde73"
      },
      "outputs": [
        {
          "name": "stdout",
          "output_type": "stream",
          "text": [
            "Result is :-  2\n"
          ]
        }
      ],
      "source": [
        "@sub_decorator   # we can use @ syntax for decorating a function in one step\n",
        "def subtract(num1 , num2):\n",
        "    res = num1 - num2\n",
        "    print('Result is :- ', res)\n",
        "subtract(2,4)"
      ]
    },
    {
      "cell_type": "code",
      "execution_count": null,
      "metadata": {
        "id": "SGXvafeJgbTK",
        "outputId": "2490c0b7-18e2-434a-b494-bd4c05d2d746"
      },
      "outputs": [
        {
          "name": "stdout",
          "output_type": "stream",
          "text": [
            "Linux installation has started \n",
            "\n",
            "Windows installation has started \n",
            "\n",
            "Mac installation has started \n",
            "\n",
            "\n",
            "Please accept terms & conditions\n",
            "Linux installation has started \n",
            "\n",
            "Please accept terms & conditions\n",
            "Windows installation has started \n",
            " \n",
            "Please accept terms & conditions\n",
            "Mac installation has started \n",
            "\n"
          ]
        }
      ],
      "source": [
        "def InstallLinux():\n",
        "    print('Linux installation has started \\n')\n",
        "\n",
        "def InstallWindows():\n",
        "    print('Windows installation has started \\n')\n",
        "\n",
        "def InstallMac():\n",
        "    print('Mac installation has started \\n')\n",
        "\n",
        "\n",
        "InstallLinux()\n",
        "InstallWindows()\n",
        "InstallMac()\n",
        "\n",
        "print()\n",
        "\n",
        "\n",
        "''' Now suppose if we want to print message :- \"Please accept terms & conditions\" before every installation\n",
        "    then easy way will be to create one decorator function which will present this message instead of modifying all functions'''\n",
        "\n",
        "\n",
        "\n",
        "def InstallDecorator(func):\n",
        "    def wrapper():\n",
        "        print('Please accept terms & conditions')\n",
        "        return func()\n",
        "    return wrapper()\n",
        "\n",
        "@InstallDecorator    # we can use @ syntax for decorating a function in one step\n",
        "def InstallLinux():\n",
        "    print('Linux installation has started \\n')\n",
        "\n",
        "@InstallDecorator\n",
        "def InstallWindows():\n",
        "    print('Windows installation has started \\n ')\n",
        "\n",
        "@InstallDecorator\n",
        "def InstallMac():\n",
        "    print('Mac installation has started \\n')"
      ]
    },
    {
      "cell_type": "code",
      "execution_count": null,
      "metadata": {
        "id": "vA-WnULQgbTL",
        "outputId": "6a0fed4f-3b89-4e87-f122-ec32cf9af09a"
      },
      "outputs": [
        {
          "name": "stdout",
          "output_type": "stream",
          "text": [
            "Please accept terms & conditions...\n",
            "\n",
            "Please enter correct license key...\n",
            "\n",
            "Please enter partitioning choice...\n",
            "\n",
            "Linux installation has started \n",
            "\n"
          ]
        }
      ],
      "source": [
        "# Apply multiple decorator on a single function\n",
        "\n",
        "def InstallDecorator1(func):\n",
        "    def wrapper():\n",
        "        print('Please accept terms & conditions...\\n')\n",
        "        func()\n",
        "    return wrapper\n",
        "\n",
        "def InstallDecorator2(func):\n",
        "    def wrapper():\n",
        "        print('Please enter correct license key...\\n')\n",
        "        return func()\n",
        "    return wrapper\n",
        "\n",
        "\n",
        "def InstallDecorator3(func):\n",
        "    def wrapper():\n",
        "        print('Please enter partitioning choice...\\n')\n",
        "        return func()\n",
        "    return wrapper\n",
        "\n",
        "@InstallDecorator1\n",
        "@InstallDecorator2\n",
        "@InstallDecorator3\n",
        "def InstallLinux():\n",
        "    print('Linux installation has started \\n')\n",
        "\n",
        "InstallLinux()"
      ]
    },
    {
      "cell_type": "markdown",
      "metadata": {
        "id": "pPq-P933gbTL"
      },
      "source": [
        "# File Management"
      ]
    },
    {
      "cell_type": "markdown",
      "metadata": {
        "id": "m8MQfAe8gbTM"
      },
      "source": [
        "### Python has several built-in modules and functions for creating, reading, updating and deleting files."
      ]
    },
    {
      "cell_type": "markdown",
      "metadata": {
        "id": "896a47SmgbTM"
      },
      "source": [
        "<img src=\"fileoperation.PNG\">"
      ]
    },
    {
      "cell_type": "markdown",
      "metadata": {
        "id": "RSVgFJMlgbTM"
      },
      "source": [
        "### Open File"
      ]
    },
    {
      "cell_type": "code",
      "execution_count": null,
      "metadata": {
        "id": "CmlPYcRIgbTN"
      },
      "outputs": [],
      "source": [
        "fileobj = open('test1.txt')  # Open file in read/text mode"
      ]
    },
    {
      "cell_type": "code",
      "execution_count": null,
      "metadata": {
        "id": "CWgr4nirgbTN"
      },
      "outputs": [],
      "source": [
        "fileobj = open('test1.txt', 'r') # Open file in read mode"
      ]
    },
    {
      "cell_type": "code",
      "execution_count": null,
      "metadata": {
        "id": "NRlqIvycgbTN"
      },
      "outputs": [],
      "source": [
        "fileobj = open('test1.txt', 'w') # Open file in write mode"
      ]
    },
    {
      "cell_type": "code",
      "execution_count": null,
      "metadata": {
        "id": "8lFvFWUXgbTN"
      },
      "outputs": [],
      "source": [
        "fileobj = open('test1.txt', 'a') # Open file in append mode"
      ]
    },
    {
      "cell_type": "markdown",
      "metadata": {
        "id": "ZCATo8ZpgbTO"
      },
      "source": [
        "### Close File"
      ]
    },
    {
      "cell_type": "code",
      "execution_count": null,
      "metadata": {
        "id": "7baF1QGJgbTO"
      },
      "outputs": [],
      "source": [
        "fileobj.close()"
      ]
    },
    {
      "cell_type": "markdown",
      "metadata": {
        "id": "1cbD3JdcgbTP"
      },
      "source": [
        "### Read File"
      ]
    },
    {
      "cell_type": "code",
      "execution_count": null,
      "metadata": {
        "id": "JPkp1ajagbTP"
      },
      "outputs": [],
      "source": [
        "fileobj = open('test1.txt')"
      ]
    },
    {
      "cell_type": "code",
      "execution_count": null,
      "metadata": {
        "id": "OrOwVXNngbTQ",
        "outputId": "6e768bf3-f050-44b6-d089-a0a64c36537e"
      },
      "outputs": [
        {
          "data": {
            "text/plain": [
              "'Python generators are easy way of creating iterators. It generates values one at a time from a given sequence instead of returning the entire sequence at once.\\nIt is a special type of function which returns an iterator object.\\nIn a generator function, a yield statement is used rather than a return statement.\\nThe generator function cannot include the return keyword. If we include it then it will terminate the execution of the function.\\nThe difference between yield and return is that once yield returns a value the function is paused and the control is transferred to the caller.Local variables and their states are remembered between successive calls. In case of the return statement value is returned and the execution of the function is terminated.\\nMethods like __iter()__ and __next()__ are implemented automatically in generator function.\\nSimple generators can be easily created using generator expressions. Generator expressions create anonymous generator functions like lambda.\\nThe syntax for generator expression is similar to that of a list comprehension but the only difference is square brackets are replaced with round parentheses. Also list comprehension produces the entire list while the generator expression produces one item at a time which is more memory efficient than list comprehension.'"
            ]
          },
          "execution_count": 85,
          "metadata": {},
          "output_type": "execute_result"
        }
      ],
      "source": [
        "fileobj.read() #Read whole file"
      ]
    },
    {
      "cell_type": "code",
      "execution_count": null,
      "metadata": {
        "id": "KgdxgNg3gbTQ",
        "outputId": "481ccc49-f8ee-49c8-868c-674dad38797b"
      },
      "outputs": [
        {
          "data": {
            "text/plain": [
              "''"
            ]
          },
          "execution_count": 86,
          "metadata": {},
          "output_type": "execute_result"
        }
      ],
      "source": [
        "fileobj.read() #File cursor is already at the end of the file so it won't be able to read anything."
      ]
    },
    {
      "cell_type": "code",
      "execution_count": null,
      "metadata": {
        "id": "uTIZgF3igbTR",
        "outputId": "1eea0005-57f5-4553-cea4-cffb4a2c5a97"
      },
      "outputs": [
        {
          "data": {
            "text/plain": [
              "'Python generators are easy way of creating iterators. It generates values one at a time from a given sequence instead of returning the entire sequence at once.\\nIt is a special type of function which returns an iterator object.\\nIn a generator function, a yield statement is used rather than a return statement.\\nThe generator function cannot include the return keyword. If we include it then it will terminate the execution of the function.\\nThe difference between yield and return is that once yield returns a value the function is paused and the control is transferred to the caller.Local variables and their states are remembered between successive calls. In case of the return statement value is returned and the execution of the function is terminated.\\nMethods like __iter()__ and __next()__ are implemented automatically in generator function.\\nSimple generators can be easily created using generator expressions. Generator expressions create anonymous generator functions like lambda.\\nThe syntax for generator expression is similar to that of a list comprehension but the only difference is square brackets are replaced with round parentheses. Also list comprehension produces the entire list while the generator expression produces one item at a time which is more memory efficient than list comprehension.'"
            ]
          },
          "execution_count": 87,
          "metadata": {},
          "output_type": "execute_result"
        }
      ],
      "source": [
        "fileobj.seek(0) # Bring file cursor to initial position.\n",
        "fileobj.read()"
      ]
    },
    {
      "cell_type": "code",
      "execution_count": null,
      "metadata": {
        "id": "QsO0bwB7gbTT",
        "outputId": "59e77905-7be6-490d-e20f-9e97257bfa5c"
      },
      "outputs": [
        {
          "data": {
            "text/plain": [
              "'generators are easy way of creating iterators. It generates values one at a time from a given sequence instead of returning the entire sequence at once.\\nIt is a special type of function which returns an iterator object.\\nIn a generator function, a yield statement is used rather than a return statement.\\nThe generator function cannot include the return keyword. If we include it then it will terminate the execution of the function.\\nThe difference between yield and return is that once yield returns a value the function is paused and the control is transferred to the caller.Local variables and their states are remembered between successive calls. In case of the return statement value is returned and the execution of the function is terminated.\\nMethods like __iter()__ and __next()__ are implemented automatically in generator function.\\nSimple generators can be easily created using generator expressions. Generator expressions create anonymous generator functions like lambda.\\nThe syntax for generator expression is similar to that of a list comprehension but the only difference is square brackets are replaced with round parentheses. Also list comprehension produces the entire list while the generator expression produces one item at a time which is more memory efficient than list comprehension.'"
            ]
          },
          "execution_count": 88,
          "metadata": {},
          "output_type": "execute_result"
        }
      ],
      "source": [
        "fileobj.seek(7) # place file cursor at loc 7\n",
        "fileobj.read()"
      ]
    },
    {
      "cell_type": "code",
      "execution_count": null,
      "metadata": {
        "id": "_Hp3O9ahgbTU",
        "outputId": "016b727a-12a7-428e-92f4-deef4efe9bc2"
      },
      "outputs": [
        {
          "data": {
            "text/plain": [
              "'Python generator'"
            ]
          },
          "execution_count": 89,
          "metadata": {},
          "output_type": "execute_result"
        }
      ],
      "source": [
        "fileobj.seek(0)\n",
        "\n",
        "fileobj.read(16) # Return the first 16 characters of the file"
      ]
    },
    {
      "cell_type": "code",
      "execution_count": null,
      "metadata": {
        "id": "8689pnkDgbTU",
        "outputId": "fedc41a7-47a8-487d-df9d-eede40f391a7"
      },
      "outputs": [
        {
          "data": {
            "text/plain": [
              "16"
            ]
          },
          "execution_count": 90,
          "metadata": {},
          "output_type": "execute_result"
        }
      ],
      "source": [
        "fileobj.tell() # Get the file cursor position"
      ]
    },
    {
      "cell_type": "code",
      "execution_count": null,
      "metadata": {
        "id": "TBQH2TXQgbTV",
        "outputId": "3239b9a5-eefa-4e7e-8226-1b0b3558ec8e"
      },
      "outputs": [
        {
          "name": "stdout",
          "output_type": "stream",
          "text": [
            "Python generators are easy way of creating iterators. It generates values one at a time from a given sequence instead of returning the entire sequence at once.\n",
            "\n",
            "It is a special type of function which returns an iterator object.\n",
            "\n",
            "In a generator function, a yield statement is used rather than a return statement.\n",
            "\n"
          ]
        }
      ],
      "source": [
        "fileobj.seek(0)\n",
        "\n",
        "print(fileobj.readline()) # Read first line of a file.\n",
        "\n",
        "print(fileobj.readline()) # Read second line of a file.\n",
        "\n",
        "print(fileobj.readline()) # Read third line of a file."
      ]
    },
    {
      "cell_type": "code",
      "execution_count": null,
      "metadata": {
        "id": "weqiPyu4gbTV",
        "outputId": "a62588af-991a-4836-851e-5feab00b3b88"
      },
      "outputs": [
        {
          "data": {
            "text/plain": [
              "['Python generators are easy way of creating iterators. It generates values one at a time from a given sequence instead of returning the entire sequence at once.\\n',\n",
              " 'It is a special type of function which returns an iterator object.\\n',\n",
              " 'In a generator function, a yield statement is used rather than a return statement.\\n',\n",
              " 'The generator function cannot include the return keyword. If we include it then it will terminate the execution of the function.\\n',\n",
              " 'The difference between yield and return is that once yield returns a value the function is paused and the control is transferred to the caller.Local variables and their states are remembered between successive calls. In case of the return statement value is returned and the execution of the function is terminated.\\n',\n",
              " 'Methods like __iter()__ and __next()__ are implemented automatically in generator function.\\n',\n",
              " 'Simple generators can be easily created using generator expressions. Generator expressions create anonymous generator functions like lambda.\\n',\n",
              " 'The syntax for generator expression is similar to that of a list comprehension but the only difference is square brackets are replaced with round parentheses. Also list comprehension produces the entire list while the generator expression produces one item at a time which is more memory efficient than list comprehension.']"
            ]
          },
          "execution_count": 92,
          "metadata": {},
          "output_type": "execute_result"
        }
      ],
      "source": [
        "fileobj.seek(0)\n",
        "\n",
        "fileobj.readlines() # Read all lines of a file."
      ]
    },
    {
      "cell_type": "code",
      "execution_count": null,
      "metadata": {
        "id": "hXIM3_GNgbTX",
        "outputId": "a1a18fdd-a25c-4a8b-fc85-bbb4a21c7b5e"
      },
      "outputs": [
        {
          "name": "stdout",
          "output_type": "stream",
          "text": [
            "Python generators are easy way of creating iterators. It generates values one at a time from a given sequence instead of returning the entire sequence at once.\n",
            "\n",
            "It is a special type of function which returns an iterator object.\n",
            "\n",
            "In a generator function, a yield statement is used rather than a return statement.\n",
            "\n",
            "The generator function cannot include the return keyword. If we include it then it will terminate the execution of the function.\n",
            "\n",
            "The difference between yield and return is that once yield returns a value the function is paused and the control is transferred to the caller.Local variables and their states are remembered between successive calls. In case of the return statement value is returned and the execution of the function is terminated.\n",
            "\n"
          ]
        }
      ],
      "source": [
        "# Read first 5 lines of a file using readline()\n",
        "fileobj.seek(0)\n",
        "\n",
        "count = 0\n",
        "for i in range(5):\n",
        "    if (count < 5):\n",
        "        print(fileobj.readline())\n",
        "    else:\n",
        "        break\n",
        "    count+=1"
      ]
    },
    {
      "cell_type": "code",
      "execution_count": null,
      "metadata": {
        "id": "j_pB7rlogbTY",
        "outputId": "938b7b5d-e8cd-416c-d1a2-823021ee2dec"
      },
      "outputs": [
        {
          "name": "stdout",
          "output_type": "stream",
          "text": [
            "Python generators are easy way of creating iterators. It generates values one at a time from a given sequence instead of returning the entire sequence at once.\n",
            "\n",
            "It is a special type of function which returns an iterator object.\n",
            "\n",
            "In a generator function, a yield statement is used rather than a return statement.\n",
            "\n",
            "The generator function cannot include the return keyword. If we include it then it will terminate the execution of the function.\n",
            "\n",
            "The difference between yield and return is that once yield returns a value the function is paused and the control is transferred to the caller.Local variables and their states are remembered between successive calls. In case of the return statement value is returned and the execution of the function is terminated.\n",
            "\n"
          ]
        }
      ],
      "source": [
        "# Read first 5 lines of a file using readlines()\n",
        "fileobj.seek(0)\n",
        "\n",
        "count = 0\n",
        "for i in fileobj.readlines():\n",
        "    if (count < 5):\n",
        "        print(i)\n",
        "    else:\n",
        "        break\n",
        "    count+=1"
      ]
    },
    {
      "cell_type": "markdown",
      "metadata": {
        "id": "ECH3MNLXgbTa"
      },
      "source": [
        "### Write File"
      ]
    },
    {
      "cell_type": "code",
      "execution_count": null,
      "metadata": {
        "id": "JhLSWS5EgbTb",
        "outputId": "dcff719d-88f6-4593-ef9c-0afc02180ab8"
      },
      "outputs": [
        {
          "data": {
            "text/plain": [
              "'Python generators are easy way of creating iterators. It generates values one at a time from a given sequence instead of returning the entire sequence at once.\\nIt is a special type of function which returns an iterator object.\\nIn a generator function, a yield statement is used rather than a return statement.\\nThe generator function cannot include the return keyword. If we include it then it will terminate the execution of the function.\\nThe difference between yield and return is that once yield returns a value the function is paused and the control is transferred to the caller.Local variables and their states are remembered between successive calls. In case of the return statement value is returned and the execution of the function is terminated.\\nMethods like __iter()__ and __next()__ are implemented automatically in generator function.\\nSimple generators can be easily created using generator expressions. Generator expressions create anonymous generator functions like lambda.\\nThe syntax for generator expression is similar to that of a list comprehension but the only difference is square brackets are replaced with round parentheses. Also list comprehension produces the entire list while the generator expression produces one item at a time which is more memory efficient than list comprehension.THIS IS THE NEW CONTENT APPENDED IN THE FILE'"
            ]
          },
          "execution_count": 95,
          "metadata": {},
          "output_type": "execute_result"
        }
      ],
      "source": [
        "fileobj = open('test1.txt', 'a')\n",
        "\n",
        "fileobj.write('THIS IS THE NEW CONTENT APPENDED IN THE FILE') # Append content to the file\n",
        "\n",
        "fileobj.close()\n",
        "\n",
        "fileobj = open('test1.txt')\n",
        "\n",
        "fileobj.read()"
      ]
    },
    {
      "cell_type": "code",
      "execution_count": null,
      "metadata": {
        "id": "d0HibDVYgbTc",
        "outputId": "3f85b767-c0f8-41ff-9b84-5aebaed2b0f2"
      },
      "outputs": [
        {
          "data": {
            "text/plain": [
              "'NEW CONTENT ADDED IN THE FILE. PREVIOUS CONTENT HAS BEEN OVERWRITTEN'"
            ]
          },
          "execution_count": 96,
          "metadata": {},
          "output_type": "execute_result"
        }
      ],
      "source": [
        "fileobj = open(\"test1.txt\", \"w\")\n",
        "\n",
        "fileobj.write(\"NEW CONTENT ADDED IN THE FILE. PREVIOUS CONTENT HAS BEEN OVERWRITTEN\") # overwrite the content in the file\n",
        "\n",
        "fileobj.close()\n",
        "\n",
        "fileobj = open('test1.txt')\n",
        "\n",
        "fileobj.read()"
      ]
    },
    {
      "cell_type": "code",
      "execution_count": null,
      "metadata": {
        "id": "mcGj-NJ-gbTd",
        "outputId": "885881d0-7397-47b8-9a1d-5683b9a4ab0a"
      },
      "outputs": [
        {
          "data": {
            "text/plain": [
              "['First Line\\n',\n",
              " 'Second Line\\n',\n",
              " 'Third Line\\n',\n",
              " 'Fourth Line\\n',\n",
              " 'Fifth Line\\n']"
            ]
          },
          "execution_count": 114,
          "metadata": {},
          "output_type": "execute_result"
        }
      ],
      "source": [
        "fileobj = open(\"test2.txt\", \"w\") # Create a new file\n",
        "\n",
        "fileobj.write(\"First Line\\n\")\n",
        "fileobj.write(\"Second Line\\n\")\n",
        "fileobj.write(\"Third Line\\n\")\n",
        "fileobj.write(\"Fourth Line\\n\")\n",
        "fileobj.write(\"Fifth Line\\n\")\n",
        "fileobj.close()\n",
        "\n",
        "fileobj = open('test2.txt')\n",
        "\n",
        "fileobj.readlines()"
      ]
    },
    {
      "cell_type": "markdown",
      "metadata": {
        "id": "wr-cEFW3gbTd"
      },
      "source": [
        "### Delete file"
      ]
    },
    {
      "cell_type": "code",
      "execution_count": null,
      "metadata": {
        "id": "OHlm74vagbTd"
      },
      "outputs": [],
      "source": [
        "os.remove(\"test3.txt\") # Delete file"
      ]
    },
    {
      "cell_type": "code",
      "execution_count": null,
      "metadata": {
        "id": "hL4tPFbsgbTe",
        "outputId": "8d294cfb-3a2e-4d0c-8448-a62427243628"
      },
      "outputs": [
        {
          "ename": "FileNotFoundError",
          "evalue": "[WinError 2] The system cannot find the file specified: 'test3.txt'",
          "output_type": "error",
          "traceback": [
            "\u001b[1;31m---------------------------------------------------------------------------\u001b[0m",
            "\u001b[1;31mFileNotFoundError\u001b[0m                         Traceback (most recent call last)",
            "\u001b[1;32m<ipython-input-116-fecc9f240170>\u001b[0m in \u001b[0;36m<module>\u001b[1;34m\u001b[0m\n\u001b[1;32m----> 1\u001b[1;33m \u001b[0mos\u001b[0m\u001b[1;33m.\u001b[0m\u001b[0mremove\u001b[0m\u001b[1;33m(\u001b[0m\u001b[1;34m\"test3.txt\"\u001b[0m\u001b[1;33m)\u001b[0m\u001b[1;33m\u001b[0m\u001b[1;33m\u001b[0m\u001b[0m\n\u001b[0m",
            "\u001b[1;31mFileNotFoundError\u001b[0m: [WinError 2] The system cannot find the file specified: 'test3.txt'"
          ]
        }
      ],
      "source": [
        "os.remove(\"test3.txt\")"
      ]
    },
    {
      "cell_type": "code",
      "execution_count": null,
      "metadata": {
        "id": "5tZwLPjZgbTe"
      },
      "outputs": [],
      "source": [
        "os.rmdir('folder1/')  # Delete folder"
      ]
    },
    {
      "cell_type": "code",
      "execution_count": null,
      "metadata": {
        "id": "piuHLwZDgbTf",
        "outputId": "88cd0357-44fd-4f86-9c11-3ae55e2d7e93"
      },
      "outputs": [
        {
          "ename": "FileNotFoundError",
          "evalue": "[WinError 2] The system cannot find the file specified: 'folder1/'",
          "output_type": "error",
          "traceback": [
            "\u001b[1;31m---------------------------------------------------------------------------\u001b[0m",
            "\u001b[1;31mFileNotFoundError\u001b[0m                         Traceback (most recent call last)",
            "\u001b[1;32m<ipython-input-118-e9e89c9edbf0>\u001b[0m in \u001b[0;36m<module>\u001b[1;34m\u001b[0m\n\u001b[1;32m----> 1\u001b[1;33m \u001b[0mos\u001b[0m\u001b[1;33m.\u001b[0m\u001b[0mrmdir\u001b[0m\u001b[1;33m(\u001b[0m\u001b[1;34m'folder1/'\u001b[0m\u001b[1;33m)\u001b[0m\u001b[1;33m\u001b[0m\u001b[1;33m\u001b[0m\u001b[0m\n\u001b[0m",
            "\u001b[1;31mFileNotFoundError\u001b[0m: [WinError 2] The system cannot find the file specified: 'folder1/'"
          ]
        }
      ],
      "source": [
        "os.rmdir('folder1/')"
      ]
    },
    {
      "cell_type": "markdown",
      "metadata": {
        "id": "sO3eGqy9gbTg"
      },
      "source": [
        "# Error & Exception Handling"
      ]
    },
    {
      "cell_type": "markdown",
      "metadata": {
        "id": "4YUJzAr9gbTg"
      },
      "source": [
        "- Python has many built-in exceptions (ArithmeticError, ZeroDivisionError, EOFError, IndexError, KeyError, SyntaxError, IndentationError, FileNotFoundError etc) that are raised when your program encounters an error.\n",
        "\n",
        "\n",
        "- When the exception occurs Python interpreter stops the current process and passes it to the calling process until it is handled. If exception is not handled the program will crash.\n",
        "\n",
        "\n",
        "- Exceptions in python can be handled using a __try__ statement. The __try__ block lets you test a block of code for errors.\n",
        "\n",
        "\n",
        "- The block of code which can raise an exception is placed inside the try clause. The code that will handle the exceptions is written in the __except__ clause.\n",
        "\n",
        "\n",
        "- The __finally__ code block will execute regardless of the result of the try and except blocks.\n",
        "\n",
        "\n",
        "- We can also use the __else__ keyword to define a block of code to be executed if no exceptions were raised.\n",
        "\n",
        "\n",
        "- Python also allows us to create our own exceptions that can be raised from the program using the __raise__ keyword and caught using the __except__ clause. We can define what kind of error to raise, and the text to print to the user."
      ]
    },
    {
      "cell_type": "markdown",
      "metadata": {
        "id": "b5xyRLFzgbTg"
      },
      "source": [
        "<img src = 'exception1.PNG'>\n",
        "<img src = 'exception2.PNG'>"
      ]
    },
    {
      "cell_type": "code",
      "execution_count": null,
      "metadata": {
        "id": "1Gj-0jyFgbTh",
        "outputId": "c35ca3c7-f4d4-42a1-c7da-80fb8e7c568b"
      },
      "outputs": [
        {
          "name": "stdout",
          "output_type": "stream",
          "text": [
            "division by zero Exception occured\n",
            "Run this block of code always\n"
          ]
        }
      ],
      "source": [
        "try:\n",
        "    print(100/0) # ZeroDivisionError will be encountered here. So the control will pass to except block\n",
        "\n",
        "except:\n",
        "    print(sys.exc_info()[1] , 'Exception occured') # This statement will be executed\n",
        "\n",
        "else:\n",
        "    print('No exception occurred') # This will be skipped as code block inside try encountered an exception\n",
        "\n",
        "finally:\n",
        "    print('Run this block of code always') # This will be always executed\n"
      ]
    },
    {
      "cell_type": "code",
      "execution_count": null,
      "metadata": {
        "id": "P4BNnJa4gbTh",
        "outputId": "689c70d0-f558-4393-b3d2-99aa9e52dcbc"
      },
      "outputs": [
        {
          "name": "stdout",
          "output_type": "stream",
          "text": [
            "Variable x is not defined\n"
          ]
        }
      ],
      "source": [
        "try:\n",
        "    print(x)  # NameError exception will be encountered as variable x is not defined\n",
        "\n",
        "except:\n",
        "    print('Variable x is not defined')"
      ]
    },
    {
      "cell_type": "code",
      "execution_count": null,
      "metadata": {
        "id": "XYcg4hwSgbTi",
        "outputId": "067d237a-6685-4be0-b2e5-11f45de65e45"
      },
      "outputs": [
        {
          "name": "stdout",
          "output_type": "stream",
          "text": [
            "BELOW EXCEPTION OCCURED\n",
            "[WinError 2] The system cannot find the file specified: 'test3.txt'\n",
            "\n",
            "Run this block of code always\n"
          ]
        }
      ],
      "source": [
        "try:\n",
        "    os.remove(\"test3.txt\") # FileNotFoundError will be encountered as \"test3.txt\" is not present in the directory\n",
        "\n",
        "except:                     # Below statement will be executed as exception occured.\n",
        "    print(\"BELOW EXCEPTION OCCURED\")\n",
        "    print(sys.exc_info()[1])\n",
        "\n",
        "else:\n",
        "    print('\\nNo exception occurred')\n",
        "\n",
        "finally:\n",
        "    print('\\nRun this block of code always')"
      ]
    },
    {
      "cell_type": "code",
      "execution_count": null,
      "metadata": {
        "id": "bGjtt7V7gbTi",
        "outputId": "cb2496fc-1cec-4122-9798-bf0598474e89"
      },
      "outputs": [
        {
          "name": "stdout",
          "output_type": "stream",
          "text": [
            "Enter first number :- 12\n",
            "Enter first number :- 13\n",
            "0.9230769230769231\n",
            "FileNotFoundError exception occurred\n"
          ]
        }
      ],
      "source": [
        "# Handling specific exceptions\n",
        "try:\n",
        "    x = int(input('Enter first number :- '))\n",
        "    y =  int(input('Enter first number :- '))  # If input entered is non-zero the control will move to next line\n",
        "    print(x/y)\n",
        "    os.remove(\"test3.txt\")\n",
        "\n",
        "except NameError:\n",
        "    print('NameError exception occurred')\n",
        "\n",
        "except FileNotFoundError:\n",
        "    print('FileNotFoundError exception occurred')\n",
        "\n",
        "except ZeroDivisionError:\n",
        "    print('ZeroDivisionError exception occurred')"
      ]
    },
    {
      "cell_type": "code",
      "execution_count": null,
      "metadata": {
        "id": "_jpKkToPgbTi",
        "outputId": "4cae3202-131a-4099-9c90-84e6e35027b3"
      },
      "outputs": [
        {
          "name": "stdout",
          "output_type": "stream",
          "text": [
            "Enter first number :- 10\n",
            "Enter first number :- 0\n",
            "ZeroDivisionError exception occurred\n"
          ]
        }
      ],
      "source": [
        "# Handling specific exceptions\n",
        "try:\n",
        "    x = int(input('Enter first number :- '))\n",
        "    y =  int(input('Enter first number :- ')) # If the input entered is zero the control will move to except block.\n",
        "    print(x/y)\n",
        "    os.remove(\"test3.txt\")\n",
        "\n",
        "except NameError:\n",
        "    print('NameError exception occurred')\n",
        "\n",
        "except FileNotFoundError:\n",
        "    print('FileNotFoundError exception occurred')\n",
        "\n",
        "except ZeroDivisionError:\n",
        "    print('ZeroDivisionError exception occurred')"
      ]
    },
    {
      "cell_type": "code",
      "execution_count": null,
      "metadata": {
        "id": "wFgt-CF1gbTj",
        "outputId": "58c57335-a9c5-4c62-e58c-24e120018a76"
      },
      "outputs": [
        {
          "name": "stdout",
          "output_type": "stream",
          "text": [
            "Enter first number :- 100\n",
            "<class 'ValueError'>\n"
          ]
        }
      ],
      "source": [
        "try:\n",
        "    x = int(input('Enter first number :- '))\n",
        "    if x > 50:\n",
        "        raise ValueError(x) # If value of x is greater than 50 ValueError exception will be encountered.\n",
        "except:\n",
        "    print(sys.exc_info()[0])"
      ]
    },
    {
      "cell_type": "markdown",
      "metadata": {
        "id": "uWrISWzVgbTj"
      },
      "source": [
        "### Built-in Exceptions"
      ]
    },
    {
      "cell_type": "code",
      "execution_count": null,
      "metadata": {
        "id": "B_vdvyP6gbTj",
        "outputId": "27ca49c4-4bab-4c8c-b829-54ab05944478"
      },
      "outputs": [
        {
          "name": "stdout",
          "output_type": "stream",
          "text": [
            "(<class 'OverflowError'>, OverflowError('math range error'), <traceback object at 0x000002B2B12EFB88>)\n"
          ]
        }
      ],
      "source": [
        "# OverflowError - This exception is raised when the result of a numeric calculation is too large\n",
        "\n",
        "try:\n",
        "    import math\n",
        "    print(math.exp(1000))\n",
        "except OverflowError:\n",
        "        print (sys.exc_info())\n",
        "else:\n",
        "    print (\"Success, no error!\")"
      ]
    },
    {
      "cell_type": "code",
      "execution_count": null,
      "metadata": {
        "id": "rIMBA2xtgbTk",
        "outputId": "edacd9dd-f0fc-4152-97cc-0210a9f2d34c"
      },
      "outputs": [
        {
          "name": "stdout",
          "output_type": "stream",
          "text": [
            "Enter first number :- 100\n",
            "Enter first number :- 0\n",
            "ZeroDivisionError exception occurred\n"
          ]
        }
      ],
      "source": [
        "# ZeroDivisionError - This exception is raised when the second operator in a division is zero\n",
        "\n",
        "try:\n",
        "    x = int(input('Enter first number :- '))\n",
        "    y =  int(input('Enter first number :- '))\n",
        "    print(x/y)\n",
        "\n",
        "except ZeroDivisionError:\n",
        "    print('ZeroDivisionError exception occurred')"
      ]
    },
    {
      "cell_type": "code",
      "execution_count": null,
      "metadata": {
        "id": "I9JKHNNJgbTk",
        "outputId": "accabed9-5bbf-4f22-fa19-6f58ac4859d3"
      },
      "outputs": [
        {
          "name": "stdout",
          "output_type": "stream",
          "text": [
            "NameError exception occurred\n"
          ]
        }
      ],
      "source": [
        "# NameError - This exception is raised when a variable does not exist\n",
        "\n",
        "try:\n",
        "    print(x1)\n",
        "\n",
        "except NameError:\n",
        "    print('NameError exception occurred')"
      ]
    },
    {
      "cell_type": "code",
      "execution_count": null,
      "metadata": {
        "id": "UrloOCPlgbTl",
        "outputId": "3fca13d6-b8f7-4c3f-ce25-da6b24ee91db"
      },
      "outputs": [
        {
          "name": "stdout",
          "output_type": "stream",
          "text": [
            "Assertion Exception Raised.\n"
          ]
        }
      ],
      "source": [
        "# AssertionError - This exception is raised when an assert statement fails\n",
        "\n",
        "try:\n",
        "    a = 50\n",
        "    b = \"Asif\"\n",
        "    assert a == b\n",
        "except AssertionError:\n",
        "        print (\"Assertion Exception Raised.\")"
      ]
    },
    {
      "cell_type": "code",
      "execution_count": null,
      "metadata": {
        "id": "4f4Of6FCgbTl",
        "outputId": "aff0c1de-5b62-428c-c1e0-793ddf6897a0"
      },
      "outputs": [
        {
          "name": "stdout",
          "output_type": "stream",
          "text": [
            "ModuleNotFoundError Exception Raised.\n"
          ]
        }
      ],
      "source": [
        "# ModuleNotFoundError - This exception is raised when an imported module does not exist\n",
        "\n",
        "try:\n",
        "    import MyModule\n",
        "\n",
        "except ModuleNotFoundError:\n",
        "        print (\"ModuleNotFoundError Exception Raised.\")"
      ]
    },
    {
      "cell_type": "code",
      "execution_count": null,
      "metadata": {
        "id": "DUPT-1pwgbTl",
        "outputId": "1881cf7e-963a-49bc-c117-67a148d2553a"
      },
      "outputs": [
        {
          "name": "stdout",
          "output_type": "stream",
          "text": [
            "KeyError Exception Raised.\n"
          ]
        }
      ],
      "source": [
        "# KeyError - This exception is raised when key does not exist in a dictionary\n",
        "\n",
        "try:\n",
        "    mydict = {1:'Asif', 2:'Basit', 3:'Michael'}\n",
        "    print (mydict[4])\n",
        "\n",
        "except KeyError:\n",
        "     print (\"KeyError Exception Raised.\")"
      ]
    },
    {
      "cell_type": "code",
      "execution_count": null,
      "metadata": {
        "id": "wKLOL00jgbTm",
        "outputId": "e3beac3f-fbaf-46e7-f62a-7ff3b0834941"
      },
      "outputs": [
        {
          "name": "stdout",
          "output_type": "stream",
          "text": [
            "IndexError Exception Raised.\n"
          ]
        }
      ],
      "source": [
        "# IndexError - This exception is raised when an index of a sequence does not exist.\n",
        "\n",
        "try:\n",
        "    mylist = [1,2,3,4,5,6]\n",
        "    print (mylist[10])\n",
        "\n",
        "except IndexError:\n",
        "     print (\"IndexError Exception Raised.\")"
      ]
    },
    {
      "cell_type": "code",
      "execution_count": null,
      "metadata": {
        "id": "kBios9QmgbTm",
        "outputId": "a5b84065-3961-46a4-c633-53c3a9c98922"
      },
      "outputs": [
        {
          "name": "stdout",
          "output_type": "stream",
          "text": [
            "TypeError Exception Raised.\n"
          ]
        }
      ],
      "source": [
        "# TypeError - This exception is raised when two different datatypes are combined\n",
        "\n",
        "try:\n",
        "    a = 50\n",
        "    b = \"Asif\"\n",
        "    c = a/b\n",
        "except TypeError:\n",
        "        print (\"TypeError Exception Raised.\")"
      ]
    },
    {
      "cell_type": "code",
      "execution_count": null,
      "metadata": {
        "id": "qzwefIr4gbTm",
        "outputId": "05a00214-1b70-47f8-e75f-b275fc35cacc"
      },
      "outputs": [
        {
          "name": "stdout",
          "output_type": "stream",
          "text": [
            "AttributeError Exception Raised.\n"
          ]
        }
      ],
      "source": [
        "# AttributeError: - This exception is raised when attribute reference or assignment fails\n",
        "\n",
        "try:\n",
        "    a = 10\n",
        "    b = a.upper()\n",
        "    print(b)\n",
        "except AttributeError:\n",
        "        print (\"AttributeError Exception Raised.\")"
      ]
    },
    {
      "cell_type": "code",
      "execution_count": null,
      "metadata": {
        "id": "EI6h_SEkgbTn"
      },
      "outputs": [],
      "source": [
        "try:\n",
        "    x = input('Enter first number :- ')\n",
        "\n",
        "\n",
        "except:\n",
        "    print('ZeroDivisionError exception occurred')"
      ]
    },
    {
      "cell_type": "markdown",
      "metadata": {
        "id": "v3D_YPDbgbTn"
      },
      "source": [
        "# END"
      ]
    },
    {
      "cell_type": "code",
      "execution_count": null,
      "metadata": {
        "id": "SRz1GzuXgbTn"
      },
      "outputs": [],
      "source": [
        "### Examples"
      ]
    },
    {
      "cell_type": "code",
      "execution_count": null,
      "metadata": {
        "id": "G7HA0oG2gbTo",
        "outputId": "40449242-299f-4987-b1e6-7285c926110a"
      },
      "outputs": [
        {
          "name": "stdout",
          "output_type": "stream",
          "text": [
            "1,2,3,5,7,11,13,17,19,"
          ]
        }
      ],
      "source": [
        "# Print all prime numbers betweem 1 - 20\n",
        "for i in range(1, 20):\n",
        "    flag = True\n",
        "    for j in range(2,i):\n",
        "        if i % j == 0:\n",
        "            flag = False\n",
        "            break\n",
        "    if flag :\n",
        "        print(i,end=',')"
      ]
    },
    {
      "cell_type": "code",
      "execution_count": null,
      "metadata": {
        "id": "ick6ZDkLgbTo",
        "outputId": "f7153363-892a-4c89-ec2f-1b1aa3e82053"
      },
      "outputs": [
        {
          "data": {
            "text/plain": [
              "(24, 6, 120)"
            ]
          },
          "execution_count": 6,
          "metadata": {},
          "output_type": "execute_result"
        }
      ],
      "source": [
        "# Calculate factorial using recursion\n",
        "def fact(n):\n",
        "    if n>0:\n",
        "        return n*fact(n-1)\n",
        "    else:\n",
        "        return 1\n",
        "\n",
        "fact(4) , fact(3) , fact(5)"
      ]
    },
    {
      "cell_type": "code",
      "execution_count": null,
      "metadata": {
        "id": "hOaXhn64gbTo",
        "outputId": "1761d065-0529-4ae9-bbcb-522add48d452"
      },
      "outputs": [
        {
          "data": {
            "text/plain": [
              "(24, 6, 120)"
            ]
          },
          "execution_count": 7,
          "metadata": {},
          "output_type": "execute_result"
        }
      ],
      "source": [
        "# Calculate factorial\n",
        "def fact(n):\n",
        "    fact1 = 1\n",
        "    for i in range(1,n+1):\n",
        "        fact1 *=i\n",
        "    return fact1\n",
        "\n",
        "\n",
        "fact(4) , fact(3) , fact(5)"
      ]
    },
    {
      "cell_type": "code",
      "execution_count": null,
      "metadata": {
        "id": "0M14VPtmgbTp",
        "outputId": "190a6219-3010-45f1-f55c-036f51c53904"
      },
      "outputs": [
        {
          "name": "stdout",
          "output_type": "stream",
          "text": [
            "Mutual Friends :- ['userid3', 'userid4']\n"
          ]
        },
        {
          "data": {
            "text/plain": [
              "{'userid3', 'userid4'}"
            ]
          },
          "execution_count": 8,
          "metadata": {},
          "output_type": "execute_result"
        }
      ],
      "source": [
        "# Intersection of two lists or common elements between two lists\n",
        "my_all_friends = ['userid1','userid2','userid3','userid4']\n",
        "profile_friends = ['userid3','userid4','userid5','userid6']\n",
        "\n",
        "mutual_friends = [i for i in my_all_friends if i in profile_friends]\n",
        "print('Mutual Friends :-',mutual_friends)\n",
        "\n",
        "# OR\n",
        "\n",
        "my_all_friends = ['userid1','userid2','userid3','userid4']\n",
        "profile_friends = ['userid3','userid4','userid5','userid6']\n",
        "\n",
        "my_all_friends = set(['userid1','userid2','userid3','userid4'])\n",
        "profile_friends =set(['userid3','userid4','userid5','userid6'])\n",
        "\n",
        "mutual_friends = my_all_friends & profile_friends\n",
        "mutual_friends"
      ]
    },
    {
      "cell_type": "code",
      "execution_count": null,
      "metadata": {
        "id": "wSZHlsLugbTp",
        "outputId": "237382cd-066d-4fa6-a219-ebaa5ec9edd8"
      },
      "outputs": [
        {
          "name": "stdout",
          "output_type": "stream",
          "text": [
            "Enter first number :-10\n",
            "Enter second number :-20\n",
            "Please choice the operation: \n",
            "\n",
            "                        1 : Addition\n",
            " \n",
            "                        2 : Subtraction\n",
            " \n",
            "                        3 : Multiplication\n",
            "\n",
            "                        4 : Division\n",
            "\n",
            "                        5 : Exit\n",
            "3\n",
            "200\n",
            "Please choice the operation: \n",
            "\n",
            "                        1 : Addition\n",
            " \n",
            "                        2 : Subtraction\n",
            " \n",
            "                        3 : Multiplication\n",
            "\n",
            "                        4 : Division\n",
            "\n",
            "                        5 : Exit\n",
            "1\n",
            "30\n",
            "Please choice the operation: \n",
            "\n",
            "                        1 : Addition\n",
            " \n",
            "                        2 : Subtraction\n",
            " \n",
            "                        3 : Multiplication\n",
            "\n",
            "                        4 : Division\n",
            "\n",
            "                        5 : Exit\n",
            "2\n",
            "-10\n",
            "Please choice the operation: \n",
            "\n",
            "                        1 : Addition\n",
            " \n",
            "                        2 : Subtraction\n",
            " \n",
            "                        3 : Multiplication\n",
            "\n",
            "                        4 : Division\n",
            "\n",
            "                        5 : Exit\n",
            "4\n",
            "0.5\n",
            "Please choice the operation: \n",
            "\n",
            "                        1 : Addition\n",
            " \n",
            "                        2 : Subtraction\n",
            " \n",
            "                        3 : Multiplication\n",
            "\n",
            "                        4 : Division\n",
            "\n",
            "                        5 : Exit\n",
            "5\n"
          ]
        }
      ],
      "source": [
        "# Switch Case in Python\n",
        "def mapper(choice,a,b):\n",
        "    operation_dict ={1: a+b,\n",
        "                     2: a-b ,\n",
        "                     3: a*b,\n",
        "                     4: a/b}\n",
        "    return operation_dict[choice]\n",
        "\n",
        "a = int(input('Enter first number :-'))\n",
        "b = int(input('Enter second number :-'))\n",
        "operation = 0\n",
        "while True:\n",
        "    operation = int(input('''Please choice the operation: \\n\n",
        "                        1 : Addition\\n\n",
        "                        2 : Subtraction\\n\n",
        "                        3 : Multiplication\\n\n",
        "                        4 : Division\\n\n",
        "                        5 : Exit\\n'''))\n",
        "    if operation == 5:\n",
        "        break\n",
        "    else:\n",
        "        print(mapper(operation,a,b))"
      ]
    },
    {
      "cell_type": "code",
      "execution_count": null,
      "metadata": {
        "id": "NvYbsx_VgbTq",
        "outputId": "7b04cf14-b4c3-4dbf-b9c9-2f7933c9afa2"
      },
      "outputs": [
        {
          "name": "stdout",
          "output_type": "stream",
          "text": [
            "['Asif', 'Basit', 'Arun', 'Sajad'] \n",
            " ['Asif', 'Basit', 'Arun', 'Sajad']\n",
            "['John', 'Basit', 'Arun', 'Sajad'] \n",
            " ['John', 'Basit', 'Arun', 'Sajad']\n"
          ]
        }
      ],
      "source": [
        "#### Shadow Copying\n",
        "l1 = ['Asif' , 'Basit' , 'Arun' , 'Sajad']\n",
        "l2 = l1\n",
        "print(l1,'\\n',l2)\n",
        "\n",
        "l1[0] = 'John'\n",
        "print(l1,'\\n',l2)"
      ]
    },
    {
      "cell_type": "code",
      "execution_count": null,
      "metadata": {
        "id": "zw7lL7hQgbTq",
        "outputId": "d78e1d48-b9fc-475d-e096-284687d410aa"
      },
      "outputs": [
        {
          "data": {
            "text/plain": [
              "['I',\n",
              " 'am',\n",
              " 'currently',\n",
              " 'enrolled',\n",
              " 'in',\n",
              " 'data',\n",
              " 'science',\n",
              " 'course',\n",
              " 'Conducted',\n",
              " 'UpGrad',\n",
              " 'IITB',\n",
              " 'Banglore',\n",
              " 'Karnataka']"
            ]
          },
          "execution_count": 16,
          "metadata": {},
          "output_type": "execute_result"
        }
      ],
      "source": [
        "# Split String at special character loc\n",
        "Iam=\"I,am!currently$ enrolled%in,data!science ^ course^Conducted  @UpGrad@IITB^Banglore^Karnataka\"\n",
        "spec_char = \"@[_!#$%^&*()<>?/|,}{~:]\"\n",
        "index_list = []\n",
        "for i in range(len(Iam)):\n",
        "    if Iam[i] in spec_char:\n",
        "        index_list.append(i)\n",
        "final_list = []\n",
        "\n",
        "for i in range(len(index_list)):\n",
        "    if (i < 1):\n",
        "        final_list.append(Iam[0:index_list[i]].strip())\n",
        "    else:\n",
        "        final_list.append(Iam[index_list[i-1]+1:index_list[i]].strip())\n",
        "final_list.append(Iam[index_list[i]+1:len(Iam)])\n",
        "final_list"
      ]
    },
    {
      "cell_type": "code",
      "execution_count": null,
      "metadata": {
        "id": "AZfmkYC2gbTq",
        "outputId": "9e07ea1f-58e3-4e4c-a651-e2b7009c4529"
      },
      "outputs": [
        {
          "name": "stdout",
          "output_type": "stream",
          "text": [
            "Enter String: boom\n",
            "NO\n"
          ]
        }
      ],
      "source": [
        "#Vowel Test\n",
        "vowels = \"AaEeIiOoUu\"\n",
        "input_str = input(\"Enter String: \")\n",
        "if (input_str[0] in vowels):\n",
        "    print(\"YES\")\n",
        "else:\n",
        "    print('NO')"
      ]
    },
    {
      "cell_type": "code",
      "execution_count": null,
      "metadata": {
        "id": "UCq44G5ngbTr",
        "outputId": "210235cf-6bfc-4b89-bb70-e23662bd2839"
      },
      "outputs": [
        {
          "name": "stdout",
          "output_type": "stream",
          "text": [
            "876534\n",
            "435678\n"
          ]
        }
      ],
      "source": [
        "# Reverse Number\n",
        "#take input of the number here\n",
        "n = int(input())\n",
        "\n",
        "#write code to reverse the number here\n",
        "r= 0\n",
        "while (n>0):\n",
        "    r = r*10 +n%10\n",
        "    n = n//10\n",
        "print(r)\n"
      ]
    },
    {
      "cell_type": "code",
      "execution_count": null,
      "metadata": {
        "id": "TAom7xaYgbTr",
        "outputId": "bb3cff38-e360-4da1-afbf-5c8a008f192e"
      },
      "outputs": [
        {
          "name": "stdout",
          "output_type": "stream",
          "text": [
            "153\n",
            "True\n"
          ]
        }
      ],
      "source": [
        "# Armstrong number Test\n",
        "n=int(input())\n",
        "sum = 0\n",
        "div=n\n",
        "while (div>0):\n",
        "    r= div%10\n",
        "    sum+=r**3\n",
        "    div = int(div/10)\n",
        "print(sum==n)"
      ]
    },
    {
      "cell_type": "code",
      "execution_count": null,
      "metadata": {
        "id": "BXdJbxrtgbTs",
        "outputId": "520c8038-7a46-4313-9626-7a9e332b6be5"
      },
      "outputs": [
        {
          "name": "stdout",
          "output_type": "stream",
          "text": [
            "10\n",
            "0\n",
            "1\n",
            "1\n",
            "2\n",
            "3\n",
            "5\n",
            "8\n",
            "13\n",
            "21\n",
            "34\n"
          ]
        }
      ],
      "source": [
        "# Fibonacci Series\n",
        "n=int(input())\n",
        "#write your code here\n",
        "prev = 0\n",
        "nxt =1\n",
        "if n > 0:\n",
        "    print(0)\n",
        "if n > 1:\n",
        "    print(1)\n",
        "if n > 2:\n",
        "    for i in range(3,n+1):\n",
        "        nxt=prev+nxt\n",
        "        print(nxt)\n",
        "        prev = nxt-prev"
      ]
    },
    {
      "cell_type": "code",
      "execution_count": null,
      "metadata": {
        "id": "OWHT-m2pgbTs",
        "outputId": "50264022-1473-4ecb-d465-9d451a122275"
      },
      "outputs": [
        {
          "name": "stdout",
          "output_type": "stream",
          "text": [
            "5\n",
            "10\n"
          ]
        }
      ],
      "source": [
        "# Sum of prime numbers from 2 to n\n",
        "n=int(input())\n",
        "sum= 0\n",
        "for i in range(2,n+1):\n",
        "    flag=True\n",
        "    for j in range(2,int(n/2)+1):\n",
        "        if i%j ==0 and i!=j:\n",
        "            flag=False\n",
        "            break\n",
        "    if flag:\n",
        "        sum+=i\n",
        "print(sum)"
      ]
    },
    {
      "cell_type": "code",
      "execution_count": null,
      "metadata": {
        "id": "5rEDhlQpgbTt",
        "outputId": "558e57db-efde-4261-b029-d102240d2ea1"
      },
      "outputs": [
        {
          "name": "stdout",
          "output_type": "stream",
          "text": [
            "6,5\n",
            "[1, 1, 1, 1, 1]\n",
            "[1, 0, 0, 0, 1]\n",
            "[1, 0, 0, 0, 1]\n",
            "[1, 0, 0, 0, 1]\n",
            "[1, 0, 0, 0, 1]\n",
            "[1, 1, 1, 1, 1]\n"
          ]
        }
      ],
      "source": [
        "# Fenced Matrix\n",
        "import ast\n",
        "mylist= ast.literal_eval(input())\n",
        "rows, cols = (mylist[0],mylist[1])\n",
        "dlist = [[0 for i in range(cols)] for j in range(rows)]\n",
        "for i in range(rows):\n",
        "    for j in range(cols):\n",
        "        if i ==0 or j==0 or i ==rows-1 or j == cols-1:\n",
        "            dlist[i][j]=1\n",
        "\n",
        "\n",
        "for i in range(rows):\n",
        "    print(dlist[i])"
      ]
    },
    {
      "cell_type": "code",
      "execution_count": null,
      "metadata": {
        "id": "w0OgYV4ZgbTt",
        "outputId": "e2f9011c-ad3c-4c7b-e3b9-f874141c3148"
      },
      "outputs": [
        {
          "name": "stdout",
          "output_type": "stream",
          "text": [
            "5\n",
            "[1, 4, 6, 4, 1]\n"
          ]
        }
      ],
      "source": [
        "# Pascal's Triangle\n",
        "from math import factorial\n",
        "n=int(input())\n",
        "print([factorial(i)//(factorial(k)*factorial(i-k)) for i in range(n)  if i == n-1 for k in range(i+1)])"
      ]
    },
    {
      "cell_type": "code",
      "execution_count": null,
      "metadata": {
        "id": "T3LOVizugbTv",
        "outputId": "05aea837-4fb2-4fb3-d901-b56c79d4f34e"
      },
      "outputs": [
        {
          "name": "stdout",
          "output_type": "stream",
          "text": [
            "Second Largest Number :-  9\n"
          ]
        }
      ],
      "source": [
        "# Second largest number\n",
        "mylist = [10,5,5,6,7,8,9,3,8,8,8,9,9,10,10]\n",
        "second_largest = list(sorted(set(mylist)))[-2]\n",
        "print('Second Largest Number :- ',second_largest)"
      ]
    },
    {
      "cell_type": "code",
      "execution_count": null,
      "metadata": {
        "id": "zNmZUsP-gbTw",
        "outputId": "58e50f96-1844-42d0-c994-e6c968384a67"
      },
      "outputs": [
        {
          "name": "stdout",
          "output_type": "stream",
          "text": [
            "DeEd\n",
            "True\n"
          ]
        }
      ],
      "source": [
        "# Palindrome\n",
        "s = input()\n",
        "\n",
        "print(s.lower() == s[::-1].lower())"
      ]
    },
    {
      "cell_type": "code",
      "execution_count": null,
      "metadata": {
        "id": "2nnleqhLgbTx",
        "outputId": "4c4b8a05-ac41-4ea8-f849-87eb684dd908"
      },
      "outputs": [
        {
          "name": "stdout",
          "output_type": "stream",
          "text": [
            "Hello everyone have a great day\n",
            "day great a have everyone Hello\n"
          ]
        }
      ],
      "source": [
        "# Reverse sentence\n",
        "\n",
        "sentence=input()\n",
        "list1 = sentence.split(' ')\n",
        "list1.reverse()\n",
        "print(' '.join(list1))"
      ]
    },
    {
      "cell_type": "code",
      "execution_count": null,
      "metadata": {
        "id": "2-poHRH_gbTx"
      },
      "outputs": [],
      "source": []
    },
    {
      "cell_type": "code",
      "execution_count": null,
      "metadata": {
        "id": "9PlXJlNHgbTy"
      },
      "outputs": [],
      "source": []
    },
    {
      "cell_type": "code",
      "execution_count": null,
      "metadata": {
        "id": "0mRiIBYvgbTy"
      },
      "outputs": [],
      "source": []
    },
    {
      "cell_type": "code",
      "execution_count": null,
      "metadata": {
        "id": "R_m5OiUmgbTy"
      },
      "outputs": [],
      "source": []
    }
  ],
  "metadata": {
    "kernelspec": {
      "display_name": "Python 3",
      "language": "python",
      "name": "python3"
    },
    "language_info": {
      "codemirror_mode": {
        "name": "ipython",
        "version": 3
      },
      "file_extension": ".py",
      "mimetype": "text/x-python",
      "name": "python",
      "nbconvert_exporter": "python",
      "pygments_lexer": "ipython3",
      "version": "3.8.5"
    },
    "colab": {
      "provenance": [],
      "include_colab_link": true
    }
  },
  "nbformat": 4,
  "nbformat_minor": 0
}